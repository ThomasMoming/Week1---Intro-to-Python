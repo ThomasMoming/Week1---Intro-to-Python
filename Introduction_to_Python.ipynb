{
  "cells": [
    {
      "cell_type": "markdown",
      "metadata": {
        "id": "view-in-github",
        "colab_type": "text"
      },
      "source": [
        "<a href=\"https://colab.research.google.com/github/ThomasMoming/Week1---Intro-to-Python/blob/New_branch/Introduction_to_Python.ipynb\" target=\"_parent\"><img src=\"https://colab.research.google.com/assets/colab-badge.svg\" alt=\"Open In Colab\"/></a>"
      ]
    },
    {
      "cell_type": "markdown",
      "metadata": {
        "id": "3RLWbzicyOkq"
      },
      "source": [
        "# PYTHON INTRODUCTION"
      ]
    },
    {
      "cell_type": "markdown",
      "metadata": {
        "id": "KW4zlFXUyOku"
      },
      "source": [
        "#                                                      Table Of Content\n",
        "1.introdution\n",
        "\n",
        "     1.1 What is Python\n",
        "     \n",
        "2.Data types\n",
        "\n",
        "     2.1 variables\n",
        "     2.2 Numbers\n",
        "     2.3 Strings\n",
        "     2.4 Lists\n",
        "     2.5 Dictionaries\n",
        "     2.6 Tuples\n",
        "     2.7 Sets\n",
        "   \n",
        "3.Comparison operators\n",
        "\n",
        "4.If-Else statement\n",
        "\n",
        "5.For Loop and While loop\n",
        "\n",
        "6.Functions\n",
        "\n",
        "7.Lambda functions\n",
        "\n",
        "     7.1 Map()\n",
        "     7.2 Filter()\n",
        "   \n",
        "8.File I/O\n",
        "\n",
        "9.Pandas liberary introduction\n",
        "\n",
        "10.Series\n",
        "\n",
        "     10.1 From ndarray\n",
        "     10.2 From dict\n",
        "     10.3 From scalar value\n",
        "     10.4 Series is ndarray-like\n",
        "     10.5 Series is dict-like\n",
        "     10.6 Vectorized operations and label alignment with series\n",
        "   \n",
        "11.Data frames\n",
        "\n",
        "     11.1 From dict of series or dicts\n",
        "     11.2 from dict of ndarrays/lists\n",
        "     11.3 from a list of dicts\n",
        "     11.4 from a list of tuples\n",
        "     11.5 Alternate constructors\n",
        "     11.6 Column selection, addition, deletion\n",
        "     11.7 Indexing/ selection\n",
        "     11.8 Data alignment\n",
        "     11.9 transposing"
      ]
    },
    {
      "cell_type": "markdown",
      "metadata": {
        "id": "_s8vd6dxyOkw"
      },
      "source": [
        "# 1. Introduction\n"
      ]
    },
    {
      "cell_type": "markdown",
      "metadata": {
        "id": "v2VMxdlcyOkw"
      },
      "source": [
        "## 1.1 What is python"
      ]
    },
    {
      "cell_type": "markdown",
      "metadata": {
        "id": "8Exauf5MyOkx"
      },
      "source": [
        "Guido Van Rossum developed the Python language in the late 1980s. In contrast to other popular languages such as C, C++, Java, and C#, Python strives to provide a simple but powerful syntax.It is open source general purpose language with great interactive environment.It provides all the three types of programming features Object Oriented, Procedural and Functional.It is used by many of the most highly productive professional programmers.Moreover, Python can also become a common language for production of web based analytics product. A few of the places that use Python extensively are Google, the New York Stock Exchange, Industrial Light,Magic etc.\n",
        "#### Important features of Python:\n",
        " -  Built-in high level data types: strings, lists, dictionaries, etc.\n",
        " -  The usual control structures: if, if-else, if-elif-else, while, plus a powerful collection iterator (for).\n",
        " -  Multiple levels of organizational structure: functions, classes, modules, and  packages. These assist in organizing code. An excellent and large example is the Python standard library.\n",
        " - Compile on the fly to byte code -- Source code is compiled to byte code without a separate compile step. Source code modules can also be \"pre-compiled\" to byte code files.\n",
        " - Object-oriented -- Python provides a consistent way to use objects: everything is an object. And, in Python it is easy to implement new object types (called classes in object-oriented programming).\n",
        " - Extensions in C and C++ -- Extension modules and extension types can be written by hand. There are also tools that help with this, for example, SWIG, sip, Pyrex"
      ]
    },
    {
      "cell_type": "markdown",
      "metadata": {
        "id": "NaPiQDs3yOky"
      },
      "source": [
        "# 2. Data types"
      ]
    },
    {
      "cell_type": "markdown",
      "metadata": {
        "id": "5-uDSw6jyOky"
      },
      "source": [
        "There are various data types in Python. Some of the important types are listed below."
      ]
    },
    {
      "cell_type": "markdown",
      "metadata": {
        "id": "2sUB9HS2yOky"
      },
      "source": [
        "## 2.1 Variables"
      ]
    },
    {
      "cell_type": "markdown",
      "metadata": {
        "id": "8F8pyh4XyOkz"
      },
      "source": [
        " - Python variables do not need explicit declaration to reserve memory space.\n",
        " - The declaration happens automatically when you assign a value to a variable.\n",
        " - The equal sign = is used to assign values to variables.\n",
        "  \n",
        "  Some examples are given as follows:"
      ]
    },
    {
      "cell_type": "code",
      "execution_count": 2,
      "metadata": {
        "id": "E8eBm4tQyOkz",
        "outputId": "b04781f4-37b2-4dd1-9987-bf0cf2c07db0",
        "colab": {
          "base_uri": "https://localhost:8080/"
        }
      },
      "outputs": [
        {
          "output_type": "stream",
          "name": "stdout",
          "text": [
            "200.3\n",
            "100\n",
            "Sara\n",
            "Hello\n",
            "Thomas\n",
            "100\n",
            "200.5\n",
            "my name is thomas \n"
          ]
        }
      ],
      "source": [
        "area = 200.30  #float type variable\n",
        "Distance = 100 #integer type variabe\n",
        "name = 'Sara' #string type variable\n",
        "x = \"Hello\"\n",
        "\n",
        "#print all values\n",
        "print(area)\n",
        "print(Distance)\n",
        "print(name)\n",
        "print(x)\n",
        "\n",
        "#---------------------------------------------\n",
        "\n",
        "my_Name = \"Thomas\" #string type\n",
        "height = 100 #int type\n",
        "weight = 200.50 #float type\n",
        "y = \"my name is thomas \"\n",
        "\n",
        "print(my_Name)\n",
        "print(height)\n",
        "print(weight)\n",
        "print(y)"
      ]
    },
    {
      "cell_type": "markdown",
      "metadata": {
        "id": "zpsVx_N_yOk2"
      },
      "source": [
        "## 2.2 Numbers"
      ]
    },
    {
      "cell_type": "markdown",
      "metadata": {
        "id": "dZuFsFyVyOk2"
      },
      "source": [
        " - This data type store numeric values\n",
        " - Numbers are immutable data types (Immutable data types means values cannot be changed after it is created)\n",
        "\n",
        "  Some examples are given as follows:"
      ]
    },
    {
      "cell_type": "code",
      "execution_count": null,
      "metadata": {
        "id": "wWSaGwfzyOk2",
        "outputId": "90ae5138-4029-4b13-fc7d-ab0e7ee0e6d6"
      },
      "outputs": [
        {
          "data": {
            "text/plain": [
              "5"
            ]
          },
          "execution_count": 6,
          "metadata": {},
          "output_type": "execute_result"
        }
      ],
      "source": [
        "5 #integer"
      ]
    },
    {
      "cell_type": "code",
      "execution_count": null,
      "metadata": {
        "id": "f_JTKqeFyOk2",
        "outputId": "5397f535-54b3-4cc8-80a3-1113fb981025"
      },
      "outputs": [
        {
          "data": {
            "text/plain": [
              "20"
            ]
          },
          "execution_count": 7,
          "metadata": {},
          "output_type": "execute_result"
        }
      ],
      "source": [
        "10+10 #integer"
      ]
    },
    {
      "cell_type": "code",
      "execution_count": null,
      "metadata": {
        "id": "8bx_9PUsyOk2",
        "outputId": "6e773513-f214-40f0-9b4a-c002727a9bdf"
      },
      "outputs": [
        {
          "data": {
            "text/plain": [
              "11.0"
            ]
          },
          "execution_count": 8,
          "metadata": {},
          "output_type": "execute_result"
        }
      ],
      "source": [
        "5.5+5.5 #float"
      ]
    },
    {
      "cell_type": "code",
      "execution_count": null,
      "metadata": {
        "id": "A2LEGhsVyOk3",
        "outputId": "cb7a4716-96e3-4278-cf21-cc2ed92a06eb"
      },
      "outputs": [
        {
          "data": {
            "text/plain": [
              "25"
            ]
          },
          "execution_count": 1,
          "metadata": {},
          "output_type": "execute_result"
        }
      ],
      "source": [
        "5**2 #exponent"
      ]
    },
    {
      "cell_type": "markdown",
      "metadata": {
        "id": "6v9gnHCcyOk3"
      },
      "source": [
        "## 2.3 Strings"
      ]
    },
    {
      "cell_type": "markdown",
      "metadata": {
        "id": "vGl89d8HyOk3"
      },
      "source": [
        " - Strings in Python are identified as a contiguous set of characters represented in the quotation marks.\n",
        " - Python allows either pair of single or double quotes.\n",
        " - Strings are immutable.\n",
        " - Python doesn't support Char data type.It will beas string of length one in python."
      ]
    },
    {
      "cell_type": "code",
      "execution_count": 3,
      "metadata": {
        "id": "8wLxfAHfyOk3",
        "outputId": "a903ac7f-42bc-4600-db72-4001005a2bdf",
        "colab": {
          "base_uri": "https://localhost:8080/"
        }
      },
      "outputs": [
        {
          "output_type": "stream",
          "name": "stdout",
          "text": [
            "Sara Artificial Intelligence\n",
            "Thomas Sun\n"
          ]
        }
      ],
      "source": [
        "Course=\"Artificial Intelligence\"\n",
        "name='Sara'\n",
        "print(name, Course)\n",
        "\n",
        "first_Name = \"Thomas\"\n",
        "last_Name = \"Sun\"\n",
        "print(first_Name, last_Name)"
      ]
    },
    {
      "cell_type": "markdown",
      "metadata": {
        "id": "eqef1cE5yOk5"
      },
      "source": [
        "### Access values in strings"
      ]
    },
    {
      "cell_type": "markdown",
      "metadata": {
        "id": "32M-NFv5yOk5"
      },
      "source": [
        " - we can access a specific character or range of characters from strings.\n",
        " - Subsets of strings can be taken using the slice operator [] and [:] with indexes starting from 0.\n",
        "\n",
        " Some examples are listed below:"
      ]
    },
    {
      "cell_type": "code",
      "execution_count": 5,
      "metadata": {
        "scrolled": true,
        "id": "Dj9IGB6FyOk5",
        "outputId": "34a281a8-be68-4356-89f2-1accd3bca825",
        "colab": {
          "base_uri": "https://localhost:8080/"
        }
      },
      "outputs": [
        {
          "output_type": "stream",
          "name": "stdout",
          "text": [
            "stringVariable[0]: H\n",
            "stringVariable[1:5]: ello\n",
            "stringTestVariable[0] M\n",
            "stringTestVariable[3] n\n",
            "stringTestVariable[0:10] My name is\n"
          ]
        }
      ],
      "source": [
        "stringVariable = 'Hello World'\n",
        "\n",
        "print(\"stringVariable[0]:\", stringVariable[0])\n",
        "print(\"stringVariable[1:5]:\", stringVariable[1:5])\n",
        "\n",
        "stringTestVariable = 'My name is Thomas'\n",
        "print(\"stringTestVariable[0]\", stringTestVariable[0])\n",
        "print(\"stringTestVariable[3]\", stringTestVariable[3])\n",
        "print(\"stringTestVariable[0:10]\", stringTestVariable[0:10])"
      ]
    },
    {
      "cell_type": "markdown",
      "metadata": {
        "id": "kY4lddAsyOk8"
      },
      "source": [
        "### Updating string"
      ]
    },
    {
      "cell_type": "markdown",
      "metadata": {
        "id": "MiuqdFMdyOk8"
      },
      "source": [
        " - Value of string can be changed or updated by assigning a new value to it.\n",
        " - New value must have same data type as previous value.\n",
        " - For this purpose '+' operator is used as follows:"
      ]
    },
    {
      "cell_type": "code",
      "execution_count": 7,
      "metadata": {
        "id": "iH-oj2WnyOk8",
        "outputId": "6bba0f17-10e7-4855-dad5-b0ed9f645e5c",
        "colab": {
          "base_uri": "https://localhost:8080/"
        }
      },
      "outputs": [
        {
          "output_type": "stream",
          "name": "stdout",
          "text": [
            "updated string: Hello Python\n",
            "stringTest_1: My name is Thomas\n"
          ]
        }
      ],
      "source": [
        "stringVariable =\"Hello World \"\n",
        "stringVariable = stringVariable[:6]+\"Python\"\n",
        "\n",
        "\n",
        "print(\"updated string:\",stringVariable)\n",
        "\n",
        "\n",
        "stringTest_1 = \"My name is Leo\"\n",
        "stringTest_1 = stringTest_1[:11]+\"Thomas\"\n",
        "print(\"stringTest_1:\",stringTest_1)"
      ]
    },
    {
      "cell_type": "markdown",
      "metadata": {
        "id": "aCwtHYHJyOlK"
      },
      "source": [
        "### Delete string"
      ]
    },
    {
      "cell_type": "markdown",
      "metadata": {
        "id": "qsK---xLyOlK"
      },
      "source": [
        " - we can delete the value of string by just deleteing its object.\n",
        " - 'del' keyword is used for this purpose\n",
        "\n",
        "  It would be cleared by using following example:"
      ]
    },
    {
      "cell_type": "code",
      "execution_count": 10,
      "metadata": {
        "id": "c-nfHs95yOlL",
        "colab": {
          "base_uri": "https://localhost:8080/",
          "height": 239
        },
        "outputId": "d73cd426-cef3-4dbe-fbc9-925b4422edbb"
      },
      "outputs": [
        {
          "output_type": "stream",
          "name": "stdout",
          "text": [
            "Hello World \n",
            "My name is Thomas\n",
            "My name is\n"
          ]
        },
        {
          "output_type": "error",
          "ename": "NameError",
          "evalue": "name 'stringTest_2' is not defined",
          "traceback": [
            "\u001b[0;31m---------------------------------------------------------------------------\u001b[0m",
            "\u001b[0;31mNameError\u001b[0m                                 Traceback (most recent call last)",
            "\u001b[0;32m<ipython-input-10-d76abca40736>\u001b[0m in \u001b[0;36m<cell line: 12>\u001b[0;34m()\u001b[0m\n\u001b[1;32m     10\u001b[0m \u001b[0mprint\u001b[0m\u001b[0;34m(\u001b[0m\u001b[0mstringTest_2\u001b[0m\u001b[0;34m)\u001b[0m\u001b[0;34m\u001b[0m\u001b[0;34m\u001b[0m\u001b[0m\n\u001b[1;32m     11\u001b[0m \u001b[0;32mdel\u001b[0m \u001b[0mstringTest_2\u001b[0m\u001b[0;34m\u001b[0m\u001b[0;34m\u001b[0m\u001b[0m\n\u001b[0;32m---> 12\u001b[0;31m \u001b[0mprint\u001b[0m\u001b[0;34m(\u001b[0m\u001b[0mstringTest_2\u001b[0m\u001b[0;34m)\u001b[0m\u001b[0;34m\u001b[0m\u001b[0;34m\u001b[0m\u001b[0m\n\u001b[0m",
            "\u001b[0;31mNameError\u001b[0m: name 'stringTest_2' is not defined"
          ]
        }
      ],
      "source": [
        "stringVariable =\"Hello World \"\n",
        "print(stringVariable)\n",
        "del stringVariable\n",
        "#print(stringVariable)\n",
        "\n",
        "\n",
        "stringTest_2 = \"My name is Thomas\"\n",
        "print(stringTest_2)\n",
        "stringTest_2 = stringTest_2[:10]+\"\"\n",
        "print(stringTest_2)\n",
        "del stringTest_2\n",
        "print(stringTest_2)"
      ]
    },
    {
      "cell_type": "markdown",
      "metadata": {
        "id": "--zQSMqnyOlM"
      },
      "source": [
        "### String special operators"
      ]
    },
    {
      "cell_type": "markdown",
      "metadata": {
        "id": "JTw5LIEDyOlM"
      },
      "source": [
        " - some special operators are used in Python to perform different opertions.\n",
        "   These are given below:"
      ]
    },
    {
      "cell_type": "markdown",
      "metadata": {
        "id": "ZDWY9NWayOlM"
      },
      "source": [
        "#### String Concatenation"
      ]
    },
    {
      "cell_type": "markdown",
      "metadata": {
        "id": "HmXTQtg_yOlM"
      },
      "source": [
        " - To concatenate the strings we used '+' operator.\n",
        "\n",
        "    Following are the examples of concatenation:"
      ]
    },
    {
      "cell_type": "code",
      "execution_count": 11,
      "metadata": {
        "id": "WAXp8WX0yOlM",
        "outputId": "ff3b14b7-838f-4978-995a-bdec000b6dc3",
        "colab": {
          "base_uri": "https://localhost:8080/"
        }
      },
      "outputs": [
        {
          "output_type": "stream",
          "name": "stdout",
          "text": [
            "machinelearning\n",
            "My name is Thomas\n"
          ]
        }
      ],
      "source": [
        "stringvalue1=\"machine\"\n",
        "stringvalue2=\"learning\"\n",
        "print(stringvalue1+stringvalue2)\n",
        "\n",
        "stringTest_3_1 = \"My name is\"\n",
        "stringTest_3_2 = \" Thomas\"\n",
        "print(stringTest_3_1+stringTest_3_2)"
      ]
    },
    {
      "cell_type": "markdown",
      "metadata": {
        "id": "AE6msJFZyOlN"
      },
      "source": [
        "#### Repitition"
      ]
    },
    {
      "cell_type": "markdown",
      "metadata": {
        "id": "rjLNa7_zyOlN"
      },
      "source": [
        " - '*' symbol is used for repitition.\n"
      ]
    },
    {
      "cell_type": "code",
      "execution_count": 12,
      "metadata": {
        "id": "t_TsnG11yOlN",
        "outputId": "6b24b7f4-ec0d-4ef6-e2cf-233cde684aeb",
        "colab": {
          "base_uri": "https://localhost:8080/"
        }
      },
      "outputs": [
        {
          "output_type": "stream",
          "name": "stdout",
          "text": [
            "AssignmentAssignment\n",
            "ThomasThomasThomas\n"
          ]
        }
      ],
      "source": [
        "stringvalue=\"Assignment\"\n",
        "print(stringvalue*2)\n",
        "\n",
        "stringTest_4 = \"Thomas\"\n",
        "print(stringTest_4*3)"
      ]
    },
    {
      "cell_type": "markdown",
      "metadata": {
        "id": "ed-Q8jjgyOlO"
      },
      "source": [
        "#### Use of [] symbol"
      ]
    },
    {
      "cell_type": "markdown",
      "metadata": {
        "id": "EEBLbGELyOlO"
      },
      "source": [
        " - '[]'symbol give the character of string at given index."
      ]
    },
    {
      "cell_type": "code",
      "execution_count": 16,
      "metadata": {
        "id": "QBhDsT2DyOlO",
        "outputId": "9bd66785-4729-45c2-e9d3-82c9a47f5a3c",
        "colab": {
          "base_uri": "https://localhost:8080/"
        }
      },
      "outputs": [
        {
          "output_type": "stream",
          "name": "stdout",
          "text": [
            "a\n",
            "T\n",
            "h\n",
            "o\n",
            "m\n",
            "a\n",
            "s\n"
          ]
        }
      ],
      "source": [
        "Stringvalue=\"Machine Learning\"\n",
        "print(Stringvalue[1])\n",
        "\n",
        "stringTest_5 = \"Thomas\"\n",
        "print(stringTest_5[0])\n",
        "print(stringTest_5[1])\n",
        "print(stringTest_5[2])\n",
        "print(stringTest_5[3])\n",
        "print(stringTest_5[4])\n",
        "print(stringTest_5[5])"
      ]
    },
    {
      "cell_type": "markdown",
      "metadata": {
        "id": "bRaaJ78ryOlP"
      },
      "source": [
        "#### Use of [:] symbol"
      ]
    },
    {
      "cell_type": "markdown",
      "metadata": {
        "id": "6RSaZEKWyOlP"
      },
      "source": [
        " - [:] is used to get substring from string."
      ]
    },
    {
      "cell_type": "code",
      "execution_count": 17,
      "metadata": {
        "id": "PizhfzMPyOlP",
        "colab": {
          "base_uri": "https://localhost:8080/"
        },
        "outputId": "9231181b-a9bd-4a71-f2aa-5858c0135d63"
      },
      "outputs": [
        {
          "output_type": "stream",
          "name": "stdout",
          "text": [
            "el\n",
            "ho\n",
            "Thoma\n"
          ]
        }
      ],
      "source": [
        "stringvalue=\"Hello\"\n",
        "print(stringvalue [1:3])\n",
        "\n",
        "\n",
        "print(stringTest_5 [1:3])\n",
        "print(stringTest_5 [0:5])"
      ]
    },
    {
      "cell_type": "markdown",
      "metadata": {
        "id": "ZCie1YcEyOlP"
      },
      "source": [
        "#### use of 'in'"
      ]
    },
    {
      "cell_type": "markdown",
      "metadata": {
        "id": "SRMzod_jyOlP"
      },
      "source": [
        " - 'in' is used to check the existance of character in string.\n",
        " - It returns TRUE if given character exist in string,otherwise FALSE."
      ]
    },
    {
      "cell_type": "code",
      "execution_count": 21,
      "metadata": {
        "id": "KZNyAeykyOlP",
        "outputId": "1d973b55-5b50-4662-e065-0b320c0405da",
        "colab": {
          "base_uri": "https://localhost:8080/"
        }
      },
      "outputs": [
        {
          "output_type": "stream",
          "name": "stdout",
          "text": [
            "True\n",
            "True\n",
            "False\n"
          ]
        }
      ],
      "source": [
        "Stringvalue=\"Hello\"\n",
        "print('H' in Stringvalue)\n",
        "\n",
        "print('T' in stringTest_5)\n",
        "print('t' in stringTest_5)"
      ]
    },
    {
      "cell_type": "markdown",
      "metadata": {
        "id": "HVyoI3btyOlQ"
      },
      "source": [
        "#### Use of \"not in\""
      ]
    },
    {
      "cell_type": "markdown",
      "metadata": {
        "id": "ie9L4KLsyOlQ"
      },
      "source": [
        " - 'not in' returns true if given character is not in string,otherwise false."
      ]
    },
    {
      "cell_type": "code",
      "execution_count": 22,
      "metadata": {
        "id": "dWQS-Q2VyOlQ",
        "outputId": "378d7463-bcff-4727-8965-cc18edae9f43",
        "colab": {
          "base_uri": "https://localhost:8080/"
        }
      },
      "outputs": [
        {
          "output_type": "stream",
          "name": "stdout",
          "text": [
            "True\n",
            "False\n",
            "True\n"
          ]
        }
      ],
      "source": [
        "Stringvalue=\"Hello\"\n",
        "print('G' not in Stringvalue)\n",
        "\n",
        "print('T' not in stringTest_5)\n",
        "print('t' not in stringTest_5)"
      ]
    },
    {
      "cell_type": "markdown",
      "metadata": {
        "id": "kFeZvcbuyOlR"
      },
      "source": [
        "### String formatting operator"
      ]
    },
    {
      "cell_type": "markdown",
      "metadata": {
        "id": "9qUmlcGGyOlR"
      },
      "source": [
        " - Python uses C-style string formatting to create new, formatted strings.\n",
        " - The \"%\" operator is used to format in print statement.\n",
        "\n",
        "See following examples:"
      ]
    },
    {
      "cell_type": "code",
      "execution_count": 23,
      "metadata": {
        "id": "zJWusS3QyOlR",
        "outputId": "cef4c1bb-1f43-4943-a10c-bb1bee99b59a",
        "colab": {
          "base_uri": "https://localhost:8080/"
        }
      },
      "outputs": [
        {
          "output_type": "stream",
          "name": "stdout",
          "text": [
            "My name is Sara and weight is 21 kg!\n",
            "My name is Thomas and 23 years old!\n"
          ]
        }
      ],
      "source": [
        "print(\"My name is %s and weight is %d kg!\" % (\"Sara\", 21))\n",
        "\n",
        "print(\"My name is %s and %d years old!\" % (\"Thomas\", 23))\n"
      ]
    },
    {
      "cell_type": "markdown",
      "metadata": {
        "id": "cUZC1emnyOlS"
      },
      "source": [
        "## 2.4 Lists"
      ]
    },
    {
      "cell_type": "markdown",
      "metadata": {
        "id": "td4qbX-wyOlS"
      },
      "source": [
        " - Multiple types of data can be stored in a list.\n",
        " - A list contains items separated by commas and enclosed within square brackets [].\n",
        " - Individual elements of a list can be changed\n",
        " - list indices start with 0 just like arrays.\n",
        "\n"
      ]
    },
    {
      "cell_type": "code",
      "execution_count": 24,
      "metadata": {
        "id": "1aorf0TnyOlS",
        "outputId": "96ecef0e-5411-4cb7-fa1e-71a5b35b305a",
        "colab": {
          "base_uri": "https://localhost:8080/"
        }
      },
      "outputs": [
        {
          "output_type": "stream",
          "name": "stdout",
          "text": [
            "['Mary', 2000]\n",
            "['Thomas', 3000, 100.03]\n"
          ]
        }
      ],
      "source": [
        "list1 = [ 'Mary', 2000 ]\n",
        "\n",
        "print(list1) # Prints complete list\n",
        "\n",
        "listTest_0 = ['Thomas' , 3000 , 100.03]\n",
        "\n",
        "print(listTest_0)\n",
        "\n"
      ]
    },
    {
      "cell_type": "markdown",
      "metadata": {
        "id": "qg3VSu0-yOlT"
      },
      "source": [
        "### Accessing values in list"
      ]
    },
    {
      "cell_type": "markdown",
      "metadata": {
        "id": "ba1xEH-EyOlU"
      },
      "source": [
        " - Square brackets are used to access the values of a list\n",
        " - We can access specific values or range of values from a list"
      ]
    },
    {
      "cell_type": "code",
      "execution_count": null,
      "metadata": {
        "id": "ZqFEZAgMyOlU",
        "outputId": "814c6a2b-ca56-4478-f471-96c4c5f674e0",
        "colab": {
          "base_uri": "https://localhost:8080/"
        }
      },
      "outputs": [
        {
          "output_type": "stream",
          "name": "stdout",
          "text": [
            "list1[0]:  Physics\n",
            "list2[1:5]:  [2, 3, 4, 5]\n"
          ]
        }
      ],
      "source": [
        "list1 = [ 'Physics' , 'Chemistry' , 1857, 3290]\n",
        "list2 = [1,2,3,4,5,6,7]\n",
        "\n",
        "print(\"list1[0]: \", list1[0])\n",
        "print(\"list2[1:5]: \", list2[1:5])"
      ]
    },
    {
      "cell_type": "markdown",
      "metadata": {
        "id": "Lof40-tKyOlU"
      },
      "source": [
        "### Updating list"
      ]
    },
    {
      "cell_type": "markdown",
      "metadata": {
        "id": "tWr_3OKlyOlU"
      },
      "source": [
        " - Value of string can be changed or updated by assigning a new value to it.\n",
        " - we can update single or multiple elements of a list by giving slice on left hand of the assignment operator.\n",
        " - we can also update list by using append() function."
      ]
    },
    {
      "cell_type": "code",
      "execution_count": null,
      "metadata": {
        "id": "Mhd3MxO7yOlU",
        "colab": {
          "base_uri": "https://localhost:8080/"
        },
        "outputId": "91d86da8-c52f-4b8f-fec5-948fa48f8011"
      },
      "outputs": [
        {
          "output_type": "stream",
          "name": "stdout",
          "text": [
            "['dell', 'samsung', 'Apple']\n",
            "['dell', 'samsung', 'Apple', 'acer']\n"
          ]
        }
      ],
      "source": [
        "list1=[\"dell\",\"Hp\",\"Apple\"]\n",
        "list1[1]=\"samsung\"\n",
        "print(list1)\n",
        "\n",
        "list1.append('acer')\n",
        "print(list1)"
      ]
    },
    {
      "cell_type": "markdown",
      "metadata": {
        "id": "QnQXtbcvyOlV"
      },
      "source": [
        "### Delete List Element"
      ]
    },
    {
      "cell_type": "markdown",
      "metadata": {
        "id": "ljz5hJNsyOlV"
      },
      "source": [
        "- we can delete the element of list by using del keyword or remove()function.\n",
        "- 'del' keyword is used when you know the position or index of element to be deleted.\n",
        "- remove() function can be used when you don't know the postion of element to be removed.\n",
        "\n",
        "  It would be cleared by using following example:"
      ]
    },
    {
      "cell_type": "code",
      "execution_count": null,
      "metadata": {
        "id": "Ird_FwvGyOlV",
        "outputId": "6c9dbdb8-8033-4f07-cc1c-5a7cc3c6f572",
        "colab": {
          "base_uri": "https://localhost:8080/"
        }
      },
      "outputs": [
        {
          "output_type": "stream",
          "name": "stdout",
          "text": [
            "['dell', 'Hp', 'Apple']\n",
            "After deleting the value \n",
            "['dell', 'Apple']\n"
          ]
        }
      ],
      "source": [
        "list1=[\"dell\",\"Hp\",\"Apple\"]\n",
        "print(list1) # Prints complete list\n",
        "del list1[1]\n",
        "print(\"After deleting the value \")\n",
        "print(list1)"
      ]
    },
    {
      "cell_type": "code",
      "execution_count": null,
      "metadata": {
        "id": "r1XKQfqByOlW",
        "colab": {
          "base_uri": "https://localhost:8080/"
        },
        "outputId": "7bb08bea-2063-464f-b62b-f52119c06b2e"
      },
      "outputs": [
        {
          "output_type": "stream",
          "name": "stdout",
          "text": [
            "['dell', 'Hp', 'Apple']\n",
            "After deleting the value \n",
            "['dell', 'Apple']\n"
          ]
        }
      ],
      "source": [
        "list1=[\"dell\",\"Hp\",\"Apple\"]\n",
        "print(list1) # Prints complete list\n",
        "\n",
        "list1.remove('Hp')\n",
        "print(\"After deleting the value \")\n",
        "print(list1)"
      ]
    },
    {
      "cell_type": "markdown",
      "metadata": {
        "id": "ieu1AEWuyOlW"
      },
      "source": [
        "## 2.5 Dictionaries"
      ]
    },
    {
      "cell_type": "markdown",
      "metadata": {
        "id": "ZIgIiR-LyOlW"
      },
      "source": [
        " - Dictionary is an unordered set of key: value pairs, with the requirement that the keys are unique (within one dictionary).\n",
        " - Each key is seperated by colon(:) from its value.\n",
        " - Each item is seperated with comma(,).\n",
        " - A pair of braces creates an empty dictionary: {}.\n",
        " - Python's dictionaries are kind of hash-table type.\n",
        " - A dictionary key can be almost any Python type, but are usually numbers or strings. Values, on the other hand, can be any       arbitrary Python object.\n",
        " - Dictionaries are enclosed by curly braces ({ }) and values can be assigned and accessed using square braces ([])\n",
        " - Dictionaries have no concept of order among elements. It is incorrect to say that the elements are \"out of order\"; they are simply unordered"
      ]
    },
    {
      "cell_type": "markdown",
      "metadata": {
        "id": "GiRscnkeyOlX"
      },
      "source": [
        "## Accessing value in dictionary"
      ]
    },
    {
      "cell_type": "markdown",
      "metadata": {
        "id": "QjNY2bGNyOlY"
      },
      "source": [
        "- Square brackets [] along with the key are used to access its value.\n",
        "\n"
      ]
    },
    {
      "cell_type": "code",
      "execution_count": 25,
      "metadata": {
        "id": "Ltum738yyOlY",
        "colab": {
          "base_uri": "https://localhost:8080/"
        },
        "outputId": "6de3bf15-7b20-4f3f-9edd-d0b498f6ab2e"
      },
      "outputs": [
        {
          "output_type": "stream",
          "name": "stdout",
          "text": [
            "Sara\n",
            "Thomas\n",
            "IAT\n",
            "2022\n"
          ]
        }
      ],
      "source": [
        "dict1 = {'Name':\"Sara\" , \"Department\" : \"SIAT\", \"Batch\":2023}\n",
        "print(dict1['Name'])\n",
        "\n",
        "dictTest1 = {'Name':\"Thomas\", 'Major':\"IAT\", 'Year':2022}\n",
        "print(dictTest1['Name'])\n",
        "print(dictTest1['Major'])\n",
        "print(dictTest1['Year'])"
      ]
    },
    {
      "cell_type": "markdown",
      "metadata": {
        "id": "1bRngBK_yOlZ"
      },
      "source": [
        "### Updating Dictionary"
      ]
    },
    {
      "cell_type": "markdown",
      "metadata": {
        "id": "2TUfYqiOyOlZ"
      },
      "source": [
        "- we can update values in dictionary\n",
        "- we can also add new values in dictionary\n",
        "\n",
        "Some examples are given below:"
      ]
    },
    {
      "cell_type": "code",
      "execution_count": null,
      "metadata": {
        "id": "U621T8fWyOlZ",
        "outputId": "2cbf0dfa-78e1-4c56-e7d6-33a7a553987f",
        "colab": {
          "base_uri": "https://localhost:8080/"
        }
      },
      "outputs": [
        {
          "output_type": "stream",
          "name": "stdout",
          "text": [
            "{'Name': 'Sara', 'Department': 'SIAT', 'Batch': 2023}\n",
            "{'Name': 'Sara', 'Department': 'SIAT', 'Batch': 'S23'}\n"
          ]
        }
      ],
      "source": [
        "dict1 = {'Name':\"Sara\" , \"Department\" : \"SIAT\", \"Batch\":2023}\n",
        "print(dict1)\n",
        "dict1['Batch']=\"S23\"\n",
        "print(dict1)\n"
      ]
    },
    {
      "cell_type": "markdown",
      "metadata": {
        "id": "4KbjWOYtyOla"
      },
      "source": [
        "### Delete Dictionary element"
      ]
    },
    {
      "cell_type": "markdown",
      "metadata": {
        "id": "iABNAFIQyOla"
      },
      "source": [
        "- we can delete elements of dictionary as well as complete content of dictionary.\n",
        "- To delete single element del keyword is used.\n",
        "- clear() function  is used to remove complete dictionary.\n",
        "\n",
        " Some examples are as follows:"
      ]
    },
    {
      "cell_type": "code",
      "execution_count": null,
      "metadata": {
        "id": "vtfiXDeOyOla",
        "colab": {
          "base_uri": "https://localhost:8080/"
        },
        "outputId": "e3c12ac3-bf29-49dc-a332-1400c0f27105"
      },
      "outputs": [
        {
          "output_type": "stream",
          "name": "stdout",
          "text": [
            "{'Name': 'Sara', 'Department': 'SIAT', 'Batch': 2023}\n",
            "{'Name': 'Sara', 'Department': 'SIAT'}\n"
          ]
        }
      ],
      "source": [
        "dict1 = {'Name':\"Sara\" , \"Department\" : \"SIAT\", \"Batch\":2023}\n",
        "print(dict1)\n",
        "\n",
        "del dict1['Batch']\n",
        "print(dict1)"
      ]
    },
    {
      "cell_type": "markdown",
      "source": [],
      "metadata": {
        "id": "3ZBE6BcyL-ru"
      }
    },
    {
      "cell_type": "code",
      "execution_count": null,
      "metadata": {
        "id": "1GP2uAamyOla",
        "outputId": "e2e74e00-f842-420d-9488-3682384b5ae2",
        "colab": {
          "base_uri": "https://localhost:8080/"
        }
      },
      "outputs": [
        {
          "output_type": "stream",
          "name": "stdout",
          "text": [
            "{}\n"
          ]
        }
      ],
      "source": [
        "dict1 = {'Name':\"Sara\" , \"Department\" : \"SIAT\", \"Batch\":2023}\n",
        "dict1.clear()\n",
        "print(dict1)\n"
      ]
    },
    {
      "cell_type": "markdown",
      "metadata": {
        "id": "y9Uo3ISAyOlb"
      },
      "source": [
        "## 2.6 Tuples"
      ]
    },
    {
      "cell_type": "markdown",
      "metadata": {
        "id": "4iDmCoWQyOlb"
      },
      "source": [
        " - A tuple is another sequence data type that is similar to the list.\n",
        " - A tuple consists of a number of values separated by commas. Unlike lists, however, tuples are enclosed within parenthesis.\n",
        " - The main difference between lists and tuples are − Lists are enclosed in brackets ( [ ] ) and their elements and size can be  changed, while tuples are enclosed in parentheses ( ( ) ) and cannot be updated. Tuples can be thought of as read-only lists.   \n",
        " - It can also have multiple data type values.\n",
        "\n",
        "  For example:"
      ]
    },
    {
      "cell_type": "markdown",
      "metadata": {
        "id": "zFrOCg-EyOld"
      },
      "source": [
        "### Accessing values in Tuples"
      ]
    },
    {
      "cell_type": "markdown",
      "metadata": {
        "id": "TznWXoYqyOle"
      },
      "source": [
        "- Square brackets [] along with the index are used to access its value.\n"
      ]
    },
    {
      "cell_type": "code",
      "execution_count": 27,
      "metadata": {
        "id": "Wz7DRYL0yOle",
        "colab": {
          "base_uri": "https://localhost:8080/"
        },
        "outputId": "4be588da-707a-42a7-e849-9a30ad301210"
      },
      "outputs": [
        {
          "output_type": "stream",
          "name": "stdout",
          "text": [
            "('simon', 'sara', '20', 'saira40')\n",
            "('sara', '20')\n",
            "('Thomas', 'Fanqi', 'Sun')\n",
            "ThomasSun\n",
            "('Fanqi', 'Sun')\n"
          ]
        }
      ],
      "source": [
        "tuple1 = ( 'simon','sara' , '20', 'saira40')\n",
        "\n",
        "print(tuple1)\n",
        "print(tuple1[1:3])\n",
        "\n",
        "test_0 = ('Thomas', 'Fanqi', 'Sun')\n",
        "print(test_0)\n",
        "print(test_0[0]+test_0[2])\n",
        "print(test_0[1:4])"
      ]
    },
    {
      "cell_type": "markdown",
      "metadata": {
        "id": "KG5EF_CpyOle"
      },
      "source": [
        "### Updating Tuples"
      ]
    },
    {
      "cell_type": "markdown",
      "metadata": {
        "id": "lBQXz4rTyOle"
      },
      "source": [
        "- Tuples are immutable means we cannot change the value of tuple.\n",
        "- It is read only.\n",
        "- we are able to take portions of tuples to make a new tuple."
      ]
    },
    {
      "cell_type": "code",
      "execution_count": 29,
      "metadata": {
        "id": "D0VuCX12yOle",
        "colab": {
          "base_uri": "https://localhost:8080/"
        },
        "outputId": "d06ccc55-f4be-490f-a385-138fb13ee4c4"
      },
      "outputs": [
        {
          "output_type": "stream",
          "name": "stdout",
          "text": [
            "('sun', 'mon', 'tue', 'wed', 'thur', 'fri', 'sat')\n",
            "(1, 2, 3, 4, 5, 6, 7)\n",
            "('sun', 'mon', 'tue', 'wed', 'thur', 'fri', 'sat', 1, 2, 3, 4, 5, 6, 7)\n",
            "(1, 2, 3, 4, 5, 6, 7, 'sun', 'mon', 'tue', 'wed', 'thur', 'fri', 'sat')\n"
          ]
        }
      ],
      "source": [
        "tuple1=('sun','mon','tue','wed','thur','fri' , 'sat')\n",
        "tuple2=(1,2,3,4,5,6,7)\n",
        "print(tuple1)\n",
        "print(tuple2)\n",
        "tuple3=(tuple1+tuple2)\n",
        "print(tuple3)\n",
        "tuple4= (tuple2 + tuple1)\n",
        "print(tuple4)"
      ]
    },
    {
      "cell_type": "markdown",
      "metadata": {
        "id": "G_5HMEUsyOlf"
      },
      "source": [
        "### Delete tuple elements"
      ]
    },
    {
      "cell_type": "markdown",
      "metadata": {
        "id": "2OuPrsgmyOlf"
      },
      "source": [
        "- we cannot delete single elements of tuple because they cannot be updated.\n",
        "- To delete entire elements del keyword is used.\n",
        "\n",
        " Some examples are as follows:"
      ]
    },
    {
      "cell_type": "code",
      "execution_count": null,
      "metadata": {
        "id": "m3HmoQn0yOlf",
        "colab": {
          "base_uri": "https://localhost:8080/",
          "height": 245
        },
        "outputId": "47620752-3b4a-4782-b05f-219be31aa4da"
      },
      "outputs": [
        {
          "output_type": "stream",
          "name": "stdout",
          "text": [
            "('sun', 'mon', 'tue', 'wed', 'thur', 'fri', 'sat')\n",
            "(1, 2, 3, 4, 5, 6, 7)\n"
          ]
        },
        {
          "output_type": "error",
          "ename": "NameError",
          "evalue": "ignored",
          "traceback": [
            "\u001b[0;31m---------------------------------------------------------------------------\u001b[0m",
            "\u001b[0;31mNameError\u001b[0m                                 Traceback (most recent call last)",
            "\u001b[0;32m<ipython-input-31-2db52bfc7eae>\u001b[0m in \u001b[0;36m<cell line: 6>\u001b[0;34m()\u001b[0m\n\u001b[1;32m      4\u001b[0m \u001b[0mprint\u001b[0m\u001b[0;34m(\u001b[0m\u001b[0mtuple2\u001b[0m\u001b[0;34m)\u001b[0m\u001b[0;34m\u001b[0m\u001b[0;34m\u001b[0m\u001b[0m\n\u001b[1;32m      5\u001b[0m \u001b[0;32mdel\u001b[0m\u001b[0;34m(\u001b[0m\u001b[0mtuple1\u001b[0m\u001b[0;34m)\u001b[0m\u001b[0;34m\u001b[0m\u001b[0;34m\u001b[0m\u001b[0m\n\u001b[0;32m----> 6\u001b[0;31m \u001b[0mprint\u001b[0m\u001b[0;34m(\u001b[0m\u001b[0mtuple1\u001b[0m\u001b[0;34m)\u001b[0m\u001b[0;34m\u001b[0m\u001b[0;34m\u001b[0m\u001b[0m\n\u001b[0m",
            "\u001b[0;31mNameError\u001b[0m: name 'tuple1' is not defined"
          ]
        }
      ],
      "source": [
        "tuple1=('sun','mon','tue','wed','thur','fri' , 'sat')\n",
        "tuple2=(1,2,3,4,5,6,7)\n",
        "print(tuple1)\n",
        "print(tuple2)\n",
        "del(tuple1)\n",
        "print(tuple1)"
      ]
    },
    {
      "cell_type": "markdown",
      "metadata": {
        "id": "UtlBviifyOlf"
      },
      "source": [
        "# 2.7 Sets"
      ]
    },
    {
      "cell_type": "markdown",
      "metadata": {
        "id": "CGfmVIIQyOlf"
      },
      "source": [
        " - A set is an unordered collection in which each value occurs at most once.\n",
        " - You can use curly braces to give an expression whose value is a set.\n",
        " - Python prints sets using curly braces.\n",
        " - Every value in a set is immutable but the set itself is immutable we can add o remove items from it.\n",
        " - Sets can be used to perform mathematical operations like union,intersection,etc\n",
        " - Empty set will be written as {}.\n",
        " - We can also make a set from a list using set() function.\n",
        " - Data type can be found using type() function.\n",
        " - add() is used to add single value, update() is used for adding multiple values.\n",
        " - update() function can take tuple,string,list or other set as argument.\n",
        " - discard() and remove() are used to delete specific item from list.\n",
        " - discard() will not raise an error if item doesn't exist.\n",
        " - remove() will raise an error if item doesn't exist in set.\n",
        " - The cardinality of a set S is the number of elements in the set.\n",
        " - In Python, the cardinality of a set is obtained using the function len(·)."
      ]
    },
    {
      "cell_type": "code",
      "execution_count": 31,
      "metadata": {
        "id": "tSGADHvTyOlf",
        "outputId": "e3a26148-addd-4e07-81df-43bf51c0a665",
        "colab": {
          "base_uri": "https://localhost:8080/"
        }
      },
      "outputs": [
        {
          "output_type": "stream",
          "name": "stdout",
          "text": [
            "<class 'list'>\n",
            "<class 'set'>\n",
            "{1, 2, 3}\n",
            "{1, 2, 3, 'D', 4, 5, 'Hello'}\n",
            "{1, 2, 3, 4, 5, 'Hello'}\n"
          ]
        }
      ],
      "source": [
        "#list\n",
        "list1=[1,2,3,4,5]\n",
        "\n",
        "print(type(list1))\n",
        "\n",
        "my_set=set(list1)\n",
        "\n",
        "print(type(my_set))\n",
        "\n",
        "#set of integers\n",
        "my_set={1,2,3}\n",
        "print(my_set)\n",
        "\n",
        "#set of mixed data types\n",
        "my_set={1, \"Hello\"}\n",
        "\n",
        "#adding a single value\n",
        "my_set.add(\"D\")\n",
        "\n",
        "#adding multiple values\n",
        "my_set.update(list1)\n",
        "print(my_set)\n",
        "\n",
        "\n",
        "my_set.discard('G') #it will not raise an error\n",
        "my_set.remove('D') #it will raise an error\n",
        "\n",
        "print(my_set)\n"
      ]
    },
    {
      "cell_type": "markdown",
      "source": [],
      "metadata": {
        "id": "gIZDQgBWPGnn"
      }
    },
    {
      "cell_type": "markdown",
      "metadata": {
        "id": "lJROmF7CyOlh"
      },
      "source": [
        "# 3.Comparison Operators"
      ]
    },
    {
      "cell_type": "markdown",
      "metadata": {
        "id": "l5lnkl1ZyOlh"
      },
      "source": [
        " - Comparison operators are used to compare values and return TRUE/FALSE according to the situation.\n",
        " - Python defines the following comparison operators:"
      ]
    },
    {
      "cell_type": "markdown",
      "metadata": {
        "id": "MA2F-JQ0yOli"
      },
      "source": [
        "### Less than operator  (<)"
      ]
    },
    {
      "cell_type": "code",
      "execution_count": 35,
      "metadata": {
        "id": "i1P_4GR6yOli",
        "colab": {
          "base_uri": "https://localhost:8080/"
        },
        "outputId": "202616cf-4bc2-4b6e-bddc-5ec4eb090505"
      },
      "outputs": [
        {
          "output_type": "execute_result",
          "data": {
            "text/plain": [
              "False"
            ]
          },
          "metadata": {},
          "execution_count": 35
        }
      ],
      "source": [
        "10<17\n",
        "11>15"
      ]
    },
    {
      "cell_type": "markdown",
      "metadata": {
        "id": "FYt5MhnvyOli"
      },
      "source": [
        "### Less than equal to operator (<=)"
      ]
    },
    {
      "cell_type": "code",
      "execution_count": null,
      "metadata": {
        "id": "WwttsZ6xyOli"
      },
      "outputs": [],
      "source": [
        "15<=10"
      ]
    },
    {
      "cell_type": "markdown",
      "metadata": {
        "id": "YnjQrPuJyOli"
      },
      "source": [
        "### Equal to operatoe (==)"
      ]
    },
    {
      "cell_type": "code",
      "execution_count": null,
      "metadata": {
        "id": "Zls3VKhNyOlj",
        "colab": {
          "base_uri": "https://localhost:8080/"
        },
        "outputId": "f1081f85-db81-4465-c343-535d157d7748"
      },
      "outputs": [
        {
          "output_type": "execute_result",
          "data": {
            "text/plain": [
              "True"
            ]
          },
          "metadata": {},
          "execution_count": 38
        }
      ],
      "source": [
        "16==16"
      ]
    },
    {
      "cell_type": "code",
      "execution_count": null,
      "metadata": {
        "id": "mbzpqO44yOlj",
        "colab": {
          "base_uri": "https://localhost:8080/"
        },
        "outputId": "4b81cfe1-46a2-40fb-dc8f-d604b01894f7"
      },
      "outputs": [
        {
          "output_type": "execute_result",
          "data": {
            "text/plain": [
              "False"
            ]
          },
          "metadata": {},
          "execution_count": 39
        }
      ],
      "source": [
        "\"Sara\"==\"sara\""
      ]
    },
    {
      "cell_type": "code",
      "execution_count": null,
      "metadata": {
        "id": "eQpj0Gz3yOlj",
        "colab": {
          "base_uri": "https://localhost:8080/"
        },
        "outputId": "5599c4ff-e455-4b39-ec9c-8071402772b0"
      },
      "outputs": [
        {
          "output_type": "execute_result",
          "data": {
            "text/plain": [
              "True"
            ]
          },
          "metadata": {},
          "execution_count": 40
        }
      ],
      "source": [
        "\"ALI\"==\"ALI\""
      ]
    },
    {
      "cell_type": "markdown",
      "metadata": {
        "id": "ujIEI1kvyOlk"
      },
      "source": [
        "### Not equal to operator (!=)"
      ]
    },
    {
      "cell_type": "code",
      "execution_count": 36,
      "metadata": {
        "id": "4WqW1oKJyOlk",
        "outputId": "8b71e6c4-d25c-4f1b-de11-5e7d2eaa708b",
        "colab": {
          "base_uri": "https://localhost:8080/"
        }
      },
      "outputs": [
        {
          "output_type": "execute_result",
          "data": {
            "text/plain": [
              "False"
            ]
          },
          "metadata": {},
          "execution_count": 36
        }
      ],
      "source": [
        "3!=3"
      ]
    },
    {
      "cell_type": "markdown",
      "metadata": {
        "id": "eXrhRobeyOlk"
      },
      "source": [
        "### OR Operator"
      ]
    },
    {
      "cell_type": "code",
      "execution_count": 39,
      "metadata": {
        "id": "rMaG0t_4yOll",
        "outputId": "52b56a73-f292-41dd-9141-59c1fc110ba5",
        "colab": {
          "base_uri": "https://localhost:8080/"
        }
      },
      "outputs": [
        {
          "output_type": "execute_result",
          "data": {
            "text/plain": [
              "False"
            ]
          },
          "metadata": {},
          "execution_count": 39
        }
      ],
      "source": [
        "(10!=10)or(10>17)"
      ]
    },
    {
      "cell_type": "markdown",
      "metadata": {
        "id": "iwG7TeMXyOll"
      },
      "source": [
        "### And operator"
      ]
    },
    {
      "cell_type": "code",
      "execution_count": 40,
      "metadata": {
        "id": "8YryjblByOll",
        "outputId": "ce106e25-b5e6-49d4-985a-d05a609d02e2",
        "colab": {
          "base_uri": "https://localhost:8080/"
        }
      },
      "outputs": [
        {
          "output_type": "execute_result",
          "data": {
            "text/plain": [
              "False"
            ]
          },
          "metadata": {},
          "execution_count": 40
        }
      ],
      "source": [
        "(10!=10)and (10<17)"
      ]
    },
    {
      "cell_type": "markdown",
      "metadata": {
        "id": "8a_cI4Z8yOll"
      },
      "source": [
        "# 4.If else statement"
      ]
    },
    {
      "cell_type": "markdown",
      "metadata": {
        "id": "R9qEq9jhyOll"
      },
      "source": [
        " - The if–else is used to make choices in Python code.\n",
        " - This is a compound statement.\n",
        " - The syntax is:\n",
        " - if c o n d i t i o n\n",
        "          action −1\n",
        "  else :\n",
        "          action −2\n",
        " - The indentation is required"
      ]
    },
    {
      "cell_type": "code",
      "execution_count": 41,
      "metadata": {
        "scrolled": true,
        "id": "WBSEtB9ayOll",
        "outputId": "056d462c-c8da-4eed-ac74-ffb74d538a2c",
        "colab": {
          "base_uri": "https://localhost:8080/"
        }
      },
      "outputs": [
        {
          "output_type": "stream",
          "name": "stdout",
          "text": [
            " Monday is Good \n"
          ]
        }
      ],
      "source": [
        "x = 3\n",
        "x = x - 4\n",
        "if x > 0:\n",
        "    print(\" sunday is wonderful\")\n",
        "else :\n",
        "    print(\" Monday is Good \")\n",
        "\n"
      ]
    },
    {
      "cell_type": "code",
      "source": [
        "if (25 % 3) % 2 == 0: # 25 % 3 = 8------------1\n",
        "  print(\"Even\")\n",
        "else:\n",
        "  print(\"Odd\")\n"
      ],
      "metadata": {
        "colab": {
          "base_uri": "https://localhost:8080/"
        },
        "id": "vNZbNRhIQKYn",
        "outputId": "9f5f7761-0561-4aa2-e8ba-e25a6527e97d"
      },
      "execution_count": 48,
      "outputs": [
        {
          "output_type": "stream",
          "name": "stdout",
          "text": [
            "Odd\n"
          ]
        }
      ]
    },
    {
      "cell_type": "markdown",
      "metadata": {
        "id": "tX-ELcXpyOlm"
      },
      "source": [
        "# 5.For and while loop"
      ]
    },
    {
      "cell_type": "markdown",
      "metadata": {
        "id": "vHrWxmv9yOlm"
      },
      "source": [
        "- Python has for and while loop for iteration,used when we want to perfrom a specific task repeatedly."
      ]
    },
    {
      "cell_type": "markdown",
      "metadata": {
        "id": "7Cclh2veyOlm"
      },
      "source": [
        "### For loop"
      ]
    },
    {
      "cell_type": "markdown",
      "metadata": {
        "id": "T91L9EFHyOlm"
      },
      "source": [
        "- The for statement is used to iterate over the elements of a sequence.\n",
        "- It's traditionally used when you have a piece of code which you want to repeat n number of time.\n",
        "- The syntax of a for loop is:\n",
        "\n",
        "    for item in list :\n",
        "      a c t i o n\n",
        "- As usual, the action consists of one or more statements, all at the same indentation level. These statements are also known as the body of the loop. The item is a variable name, and list is a list.\n",
        "- Execution of the for loop works by setting the variable successively to each item in the list, and then executing the body each time.\n",
        "\n",
        "  Here is a simple example:"
      ]
    },
    {
      "cell_type": "code",
      "execution_count": 49,
      "metadata": {
        "id": "Kpsb7A2YyOlm",
        "outputId": "3007149f-8249-4e3a-b828-163c1d6fe7a3",
        "colab": {
          "base_uri": "https://localhost:8080/"
        }
      },
      "outputs": [
        {
          "output_type": "stream",
          "name": "stdout",
          "text": [
            "2\n",
            "4\n",
            "6\n",
            "0\n",
            "8\n"
          ]
        }
      ],
      "source": [
        "for i in [2 , 4 , 6 , 0, 8]:\n",
        "    print(i)\n"
      ]
    },
    {
      "cell_type": "code",
      "execution_count": 50,
      "metadata": {
        "id": "Q4ZzlHcjyOlr",
        "outputId": "d03c06c9-45c0-460f-c333-021196a5fe6e",
        "colab": {
          "base_uri": "https://localhost:8080/"
        }
      },
      "outputs": [
        {
          "output_type": "stream",
          "name": "stdout",
          "text": [
            "1\n",
            "2\n",
            "3\n",
            "4\n",
            "5\n",
            "6\n",
            "7\n",
            "8\n",
            "9\n"
          ]
        }
      ],
      "source": [
        "for counter in range(1, 10):\n",
        "    print(counter)"
      ]
    },
    {
      "cell_type": "code",
      "execution_count": 51,
      "metadata": {
        "id": "DdTgxLwbyOls",
        "outputId": "bc0dd7af-7cf9-4625-9188-b74b6a94954d",
        "colab": {
          "base_uri": "https://localhost:8080/"
        }
      },
      "outputs": [
        {
          "output_type": "stream",
          "name": "stdout",
          "text": [
            "T\n",
            "h\n",
            "o\n",
            "m\n",
            "a\n",
            "s\n"
          ]
        }
      ],
      "source": [
        "word = \"Thomas\"\n",
        "for letter in word:\n",
        "    print(letter)"
      ]
    },
    {
      "cell_type": "markdown",
      "metadata": {
        "id": "xRVaJ8yhyOlt"
      },
      "source": [
        "### While loop"
      ]
    },
    {
      "cell_type": "code",
      "source": [
        "a=-4\n",
        "while a < 10:\n",
        "  a=a+1\n",
        "  print(a)\n"
      ],
      "metadata": {
        "colab": {
          "base_uri": "https://localhost:8080/"
        },
        "id": "WfmtJZKWQsmx",
        "outputId": "1befa66e-f9b8-46fe-a700-6041c6d4930f"
      },
      "execution_count": 52,
      "outputs": [
        {
          "output_type": "stream",
          "name": "stdout",
          "text": [
            "-3\n",
            "-2\n",
            "-1\n",
            "0\n",
            "1\n",
            "2\n",
            "3\n",
            "4\n",
            "5\n",
            "6\n",
            "7\n",
            "8\n",
            "9\n",
            "10\n"
          ]
        }
      ]
    },
    {
      "cell_type": "markdown",
      "metadata": {
        "id": "L1MwXDpdyOlv"
      },
      "source": [
        "# 6.Functions"
      ]
    },
    {
      "cell_type": "markdown",
      "metadata": {
        "id": "65xX9WZ9yOlv"
      },
      "source": [
        " - You use functions in programming to bundle a set of instructions that you want to use repeatedly or that, because of their  complexity, are better self-contained in a sub-program and called when needed.                                 \n",
        " - Function is a piece of code written to carry out a specified task.\n",
        " - There are three types of functions in Python:\n",
        " - Built-in functions, such as help() to ask for help, min() to get the minimum value, print() to print an object.\n",
        " - User-Defined Functions (UDFs), which are functions that users create to help them out.\n",
        " - Anonymous functions, which are also called lambda functions because they are not declared with the standard def keyword.\n",
        " - The syntax is:\n",
        "\n",
        "   def functionname(parameters)\n",
        "    \n",
        "   \"function_docstring\"\n",
        "   \n",
        "   function_suite\n",
        "   \n",
        "   return [expression]\n"
      ]
    },
    {
      "cell_type": "code",
      "execution_count": 54,
      "metadata": {
        "id": "6H6ReP86yOlw",
        "colab": {
          "base_uri": "https://localhost:8080/"
        },
        "outputId": "25fcc3fc-96b7-46f0-9e49-36a151c2cfcf"
      },
      "outputs": [
        {
          "output_type": "stream",
          "name": "stdout",
          "text": [
            "Mary\n",
            "My name is Thomas\n"
          ]
        }
      ],
      "source": [
        "def my_function(name):\n",
        "  #This prints a passed string into this function\n",
        "    print(name)\n",
        "    return;\n",
        "\n",
        "#Now you can call my_function\n",
        "my_function(\"Mary\")\n",
        "\n",
        "\n",
        "def my_NameFunction(name):\n",
        "  print(\"My name is \" + name)\n",
        "  return;\n",
        "\n",
        "my_NameFunction(\"Thomas\")"
      ]
    },
    {
      "cell_type": "markdown",
      "metadata": {
        "id": "oZC9oo-jyOlw"
      },
      "source": [
        "# 7.Lambda Functions"
      ]
    },
    {
      "cell_type": "markdown",
      "metadata": {
        "id": "MknoTpf-yOlw"
      },
      "source": [
        " - The creation of anonymous functions at runtime,using a construct called \"lambda\"\n",
        " - A lambda function is a small anonymous function.\n",
        " - A lambda function can take any number of arguments, but can only have one expression.\n",
        " - Lambda function does not include return statement,it always contains an expression which is returned.\n",
        " - You might want to use lambdas when you don’t want to use a function twice in a program.\n",
        "\n",
        "   some examples are given:"
      ]
    },
    {
      "cell_type": "code",
      "source": [
        "#Normal Function\n",
        "def f (x):\n",
        "  return x**2\n",
        "print(f(9))"
      ],
      "metadata": {
        "colab": {
          "base_uri": "https://localhost:8080/"
        },
        "id": "c-GXl-L-RdIC",
        "outputId": "8ab95022-601d-4896-ac89-eb06c0a856be"
      },
      "execution_count": 56,
      "outputs": [
        {
          "output_type": "stream",
          "name": "stdout",
          "text": [
            "81\n"
          ]
        }
      ]
    },
    {
      "cell_type": "code",
      "source": [
        "times3 = lambda var:var*3\n",
        "times3(10)\n",
        "\n",
        "#lamba expressions : another way to write a function in line"
      ],
      "metadata": {
        "colab": {
          "base_uri": "https://localhost:8080/"
        },
        "id": "pBOo5NroR3fG",
        "outputId": "b22beff1-17d8-4645-a4ce-34559ac92c84"
      },
      "execution_count": null,
      "outputs": [
        {
          "output_type": "execute_result",
          "data": {
            "text/plain": [
              "30"
            ]
          },
          "metadata": {},
          "execution_count": 54
        }
      ]
    },
    {
      "cell_type": "code",
      "execution_count": 57,
      "metadata": {
        "id": "KPDPCAjpyOlw",
        "outputId": "0f9ff221-64d6-4a71-9ada-f23e1b1e6d2c",
        "colab": {
          "base_uri": "https://localhost:8080/"
        }
      },
      "outputs": [
        {
          "output_type": "stream",
          "name": "stdout",
          "text": [
            "8\n"
          ]
        }
      ],
      "source": [
        "add = lambda x, y: x + y\n",
        "\n",
        "print(add(3, 5))"
      ]
    },
    {
      "cell_type": "markdown",
      "metadata": {
        "id": "WVp38V0nyOlx"
      },
      "source": [
        "## 7.1 Map()"
      ]
    },
    {
      "cell_type": "markdown",
      "metadata": {
        "id": "Z0LFGyJKyOlx"
      },
      "source": [
        " - Map() function is used with two arguments.Just like: r=map(func,seq)\n",
        " - The first argument func is function name and the second is a sequence(list etc)\n",
        " - Map functions expects a function object and any number of iterables like list, dictionary, etc.\n",
        " - It executes the function_object for each element in the sequence and returns a list of the elements modified by the function  object.\n",
        "\n",
        "   Example:\n",
        "\n"
      ]
    },
    {
      "cell_type": "code",
      "execution_count": null,
      "metadata": {
        "id": "5H7aW8b1yOlx",
        "outputId": "7bd94578-75bb-495c-f50c-561af8e402fe",
        "colab": {
          "base_uri": "https://localhost:8080/"
        }
      },
      "outputs": [
        {
          "output_type": "stream",
          "name": "stdout",
          "text": [
            "['It', 'is', 'raining', 'cats', 'and', 'dogs']\n"
          ]
        },
        {
          "output_type": "execute_result",
          "data": {
            "text/plain": [
              "[2, 2, 7, 4, 3, 4]"
            ]
          },
          "metadata": {},
          "execution_count": 56
        }
      ],
      "source": [
        "sentence = \"It is raining cats and dogs\"\n",
        "words = sentence.split()\n",
        "print(words)\n",
        "\n",
        "lengths= map(lambda word :len(word), words)\n",
        "\n",
        "list(lengths)"
      ]
    },
    {
      "cell_type": "markdown",
      "metadata": {
        "id": "oQ458z36yOly"
      },
      "source": [
        "## 7.2 Filter()"
      ]
    },
    {
      "cell_type": "markdown",
      "metadata": {
        "id": "DklokG5fyOly"
      },
      "source": [
        " - The filter() method filters the given iterable with the help of a function that tests each element in the iterable to be true or not.\n",
        " - The syntax of filter() method is:\n",
        "      filter(function, iterable)\n",
        " - The filter() method takes two parameters:\n",
        "\n",
        "      1)function - function that tests if elements of an iterable returns true or false If None, the function defaults to Identity function - which returns false if any elements are false\n",
        "      \n",
        "      2)iterable - iterable which is to be filtered, could be sets, lists, tuples, or containers of any iterators\n",
        " - The filter() method returns an iterator that passed the function check for each element in the iterable."
      ]
    },
    {
      "cell_type": "code",
      "execution_count": null,
      "metadata": {
        "id": "zEv6KZ6SyOly",
        "colab": {
          "base_uri": "https://localhost:8080/"
        },
        "outputId": "c0da59c2-8050-4496-8326-29429075d9d3"
      },
      "outputs": [
        {
          "output_type": "stream",
          "name": "stdout",
          "text": [
            "a\n",
            "e\n",
            "i\n",
            "o\n"
          ]
        }
      ],
      "source": [
        "# list of alphabets\n",
        "alphabets = ['a', 'b', 'd', 'e', 'i', 'j', 'o']\n",
        "\n",
        "# function that filters vowels\n",
        "def filterVowels(alphabet):\n",
        "    vowels = ['a', 'e', 'i', 'o', 'u']\n",
        "\n",
        "    if(alphabet in vowels):\n",
        "        return True\n",
        "    else:\n",
        "        return False\n",
        "\n",
        "for i in filter(filterVowels, alphabets):\n",
        "     print(i)\n"
      ]
    },
    {
      "cell_type": "code",
      "execution_count": null,
      "metadata": {
        "id": "BqRYKFNbyOly"
      },
      "outputs": [],
      "source": [
        "# random list\n",
        "randomList = [1, 'a', 0, False, True, '0']\n",
        "\n",
        "filteredList = filter(None, randomList)\n",
        "\n",
        "print('The filtered elements are:')\n",
        "for element in filteredList:\n",
        "    print(element)"
      ]
    },
    {
      "cell_type": "code",
      "execution_count": null,
      "metadata": {
        "id": "SxEi_36LyOly"
      },
      "outputs": [],
      "source": [
        "ages = [5, 12, 17, 18, 24, 32]\n",
        "\n",
        "def myFunc(x):\n",
        "  if x < 18:\n",
        "    return False\n",
        "  else:\n",
        "    return True\n",
        "\n",
        "adults = filter(myFunc, ages)\n",
        "\n",
        "for x in adults:\n",
        "  print(x)\n"
      ]
    },
    {
      "cell_type": "markdown",
      "metadata": {
        "id": "ZPuRsXogyOly"
      },
      "source": [
        "# 8.File I/O"
      ]
    },
    {
      "cell_type": "markdown",
      "metadata": {
        "id": "x0jKuKHqyOly"
      },
      "source": [
        " - In this section we will cover basic I/O functions."
      ]
    },
    {
      "cell_type": "markdown",
      "metadata": {
        "id": "5RPtaY-_yOly"
      },
      "source": [
        "## Reading input from keyboard"
      ]
    },
    {
      "cell_type": "markdown",
      "metadata": {
        "id": "8SDiWf1hyOlz"
      },
      "source": [
        " -  There are two functions in Python that you can use to read data from the user:raw_input and input\n",
        " -  You can store the results from them into a variable\n",
        " -  If the input function is called, the program flow will be stopped until the user has given an input and has ended the input  with the return key. The text of the optional parameter, i.e. the prompt, will be printed on the screen.\n",
        "\n",
        " Let's have a look at the following example:"
      ]
    },
    {
      "cell_type": "code",
      "execution_count": 60,
      "metadata": {
        "id": "njG09b1ayOlz",
        "outputId": "f1d73bc4-d8d0-4b43-8e99-0601f8783327",
        "colab": {
          "base_uri": "https://localhost:8080/"
        }
      },
      "outputs": [
        {
          "output_type": "stream",
          "name": "stdout",
          "text": [
            "What's your name? Thomas\n",
            "Nice to meet you Thomas!\n"
          ]
        }
      ],
      "source": [
        "name = input(\"What's your name? \")\n",
        "print(\"Nice to meet you \" + name + \"!\")"
      ]
    },
    {
      "cell_type": "code",
      "execution_count": 61,
      "metadata": {
        "id": "DCsRozsVyOlz",
        "outputId": "878e241e-731a-4b72-b045-ef2cb3dff6c8",
        "colab": {
          "base_uri": "https://localhost:8080/"
        }
      },
      "outputs": [
        {
          "output_type": "stream",
          "name": "stdout",
          "text": [
            "What's your age? 10\n",
            "your age is 10!\n"
          ]
        }
      ],
      "source": [
        "age = input(\"What's your age? \")\n",
        "print(\"your age is \" + age + \"!\")"
      ]
    },
    {
      "cell_type": "code",
      "execution_count": 63,
      "metadata": {
        "scrolled": true,
        "id": "xOk3tlxnyOlz",
        "outputId": "98af5e3e-5b0e-4c5d-dcde-f14be8352151",
        "colab": {
          "base_uri": "https://localhost:8080/"
        }
      },
      "outputs": [
        {
          "output_type": "stream",
          "name": "stdout",
          "text": [
            "enter your university....SFU\n",
            "SFU\n"
          ]
        }
      ],
      "source": [
        "string= input(\"enter your university....\")\n",
        "print(string)"
      ]
    },
    {
      "cell_type": "markdown",
      "metadata": {
        "id": "zRkWgckHyOlz"
      },
      "source": [
        "## I/O From or to text file"
      ]
    },
    {
      "cell_type": "markdown",
      "metadata": {
        "id": "oxmeYQrDyOlz"
      },
      "source": [
        " - In this scenario, we will read and write to a text file.\n",
        " - we can open files in different modes."
      ]
    },
    {
      "cell_type": "markdown",
      "metadata": {
        "id": "MzGL-uTvyOlz"
      },
      "source": [
        "## Read only mode"
      ]
    },
    {
      "cell_type": "markdown",
      "metadata": {
        "id": "keQohLS-yOlz"
      },
      "source": [
        " - r opens a file in read only mode.\n",
        " - The file pointer is placed at the beginning of the file.\n",
        " - This is the default mode."
      ]
    },
    {
      "cell_type": "code",
      "execution_count": 64,
      "metadata": {
        "id": "yHg4cgB0yOl0",
        "outputId": "ebf2a893-a9dd-44a8-804e-0c2f358c4ed4",
        "colab": {
          "base_uri": "https://localhost:8080/",
          "height": 202
        }
      },
      "outputs": [
        {
          "output_type": "error",
          "ename": "FileNotFoundError",
          "evalue": "[Errno 2] No such file or directory: 'hello.txt'",
          "traceback": [
            "\u001b[0;31m---------------------------------------------------------------------------\u001b[0m",
            "\u001b[0;31mFileNotFoundError\u001b[0m                         Traceback (most recent call last)",
            "\u001b[0;32m<ipython-input-64-6d90e1c5df03>\u001b[0m in \u001b[0;36m<cell line: 1>\u001b[0;34m()\u001b[0m\n\u001b[0;32m----> 1\u001b[0;31m \u001b[0mfile\u001b[0m \u001b[0;34m=\u001b[0m \u001b[0mopen\u001b[0m\u001b[0;34m(\u001b[0m\u001b[0;34m\"hello.txt\"\u001b[0m\u001b[0;34m,\u001b[0m \u001b[0;34m\"r\"\u001b[0m\u001b[0;34m)\u001b[0m\u001b[0;34m\u001b[0m\u001b[0;34m\u001b[0m\u001b[0m\n\u001b[0m\u001b[1;32m      2\u001b[0m \u001b[0mstr\u001b[0m\u001b[0;34m=\u001b[0m\u001b[0mfile\u001b[0m\u001b[0;34m.\u001b[0m\u001b[0mread\u001b[0m\u001b[0;34m(\u001b[0m\u001b[0;34m)\u001b[0m\u001b[0;34m;\u001b[0m\u001b[0;34m\u001b[0m\u001b[0;34m\u001b[0m\u001b[0m\n\u001b[1;32m      3\u001b[0m \u001b[0mprint\u001b[0m\u001b[0;34m(\u001b[0m\u001b[0mstr\u001b[0m\u001b[0;34m)\u001b[0m\u001b[0;34m\u001b[0m\u001b[0;34m\u001b[0m\u001b[0m\n\u001b[1;32m      4\u001b[0m \u001b[0mfile\u001b[0m\u001b[0;34m.\u001b[0m\u001b[0mclose\u001b[0m\u001b[0;34m(\u001b[0m\u001b[0;34m)\u001b[0m\u001b[0;34m\u001b[0m\u001b[0;34m\u001b[0m\u001b[0m\n",
            "\u001b[0;31mFileNotFoundError\u001b[0m: [Errno 2] No such file or directory: 'hello.txt'"
          ]
        }
      ],
      "source": [
        "\n",
        "file = open(\"hello.txt\", \"r\")\n",
        "str=file.read();\n",
        "print(str)\n",
        "file.close()"
      ]
    },
    {
      "cell_type": "markdown",
      "metadata": {
        "id": "aaldi51jyOl0"
      },
      "source": [
        "## Read and write mode"
      ]
    },
    {
      "cell_type": "markdown",
      "metadata": {
        "id": "cY4AUvQlyOl0"
      },
      "source": [
        " - r+ opens a file in read and write mode.\n",
        " - The file pointer placed at the beginning of the file"
      ]
    },
    {
      "cell_type": "code",
      "execution_count": null,
      "metadata": {
        "id": "ajwMxemAyOl0"
      },
      "outputs": [],
      "source": [
        "# Open a file\n",
        "file = open(\"hello.txt\", \"r+\")\n",
        "str = file.read(10);\n",
        "print \"Read String is : \", str\n",
        "# Close opend"
      ]
    },
    {
      "cell_type": "markdown",
      "metadata": {
        "id": "XE1AyUsRyOl0"
      },
      "source": [
        "## Write mode only"
      ]
    },
    {
      "cell_type": "markdown",
      "metadata": {
        "id": "MkuBNVJGyOl0"
      },
      "source": [
        " - w opens a file in write mode only.\n",
        " - Overwrites the file if the file exists. If the file does not exist, creates a new file for writing"
      ]
    },
    {
      "cell_type": "code",
      "execution_count": null,
      "metadata": {
        "id": "KGRhdassyOl0"
      },
      "outputs": [],
      "source": [
        "file = open('write.txt','w')\n",
        "file.write(\"This is the write command\")\n",
        "file.write(\"It allows us to write in a particular file\")\n",
        "file = open('write.txt','r')\n",
        "str=file.read()\n",
        "print(str)\n",
        "file.close()\n",
        "\n",
        "# write in\n",
        "with open(\"write.txt\", 'w') as file:\n",
        "    file.write(\"This is the write command\")\n",
        "    file.write(\"It allows us to write in a particular file\")\n",
        "\n",
        "# print out\n",
        "with open(\"write.txt\", 'r') as file:\n",
        "    content = file.read()\n",
        "    print(content)\n"
      ]
    },
    {
      "cell_type": "markdown",
      "metadata": {
        "id": "UNmsy8MwyOl0"
      },
      "source": [
        "## Append mode"
      ]
    },
    {
      "cell_type": "markdown",
      "metadata": {
        "id": "A9Trygn4yOl1"
      },
      "source": [
        " - a opens a file in append mode.\n",
        " - The file pointer is at the end of the file if the file exists.\n",
        " - That is, the file is in the append mode. If the file does not exist, it creates a new file for writing.\n"
      ]
    },
    {
      "cell_type": "code",
      "execution_count": 65,
      "metadata": {
        "id": "d6E4BHyTyOl1",
        "outputId": "98cfa843-58b2-42d1-fd45-cb9c54c84406",
        "colab": {
          "base_uri": "https://localhost:8080/"
        }
      },
      "outputs": [
        {
          "output_type": "stream",
          "name": "stdout",
          "text": [
            "This will add this line\n"
          ]
        }
      ],
      "source": [
        "file = open('write.txt','a')\n",
        "file.write(\"This will add this line\")\n",
        "file = open('write.txt','r')\n",
        "str=file.read()\n",
        "print(str)\n",
        "file.close()"
      ]
    },
    {
      "cell_type": "markdown",
      "metadata": {
        "id": "aTFsMWYhyOl1"
      },
      "source": [
        "## Append and read mode"
      ]
    },
    {
      "cell_type": "markdown",
      "metadata": {
        "id": "ngY7ZsNVyOl1"
      },
      "source": [
        " - a+ opens a file in append and read mode.\n",
        " - The file pointer is at the end of the file if the file exists. The file opens in the append mode. If the file does not exist,    it creates a  new file for reading and writing."
      ]
    },
    {
      "cell_type": "code",
      "execution_count": null,
      "metadata": {
        "id": "DprDg-hKyOl1"
      },
      "outputs": [],
      "source": [
        "file = open('hello.txt','a+')\n",
        "file.write(\"MSCS From comsats university\")\n",
        "file.close()\n",
        "file = open('hello.txt','r')\n",
        "str=file.read()\n",
        "print(str)\n",
        "file.close()"
      ]
    },
    {
      "cell_type": "markdown",
      "metadata": {
        "id": "l3Y11euJyOl1"
      },
      "source": [
        "## File Position"
      ]
    },
    {
      "cell_type": "markdown",
      "metadata": {
        "id": "3PeRgKfOyOl1"
      },
      "source": [
        " - tells() method tells the current position within the file.\n",
        " - seek() method changes the current file method.\n",
        " - Following is the syntax for seek() method:    fileObject.seek(offset[, whence])"
      ]
    },
    {
      "cell_type": "code",
      "execution_count": 66,
      "metadata": {
        "scrolled": true,
        "id": "ONseEgUhyOl2",
        "outputId": "eb47eb7c-d315-4fd7-b032-422e323ec6ac",
        "colab": {
          "base_uri": "https://localhost:8080/",
          "height": 221
        }
      },
      "outputs": [
        {
          "output_type": "error",
          "ename": "FileNotFoundError",
          "evalue": "[Errno 2] No such file or directory: 'hello.txt'",
          "traceback": [
            "\u001b[0;31m---------------------------------------------------------------------------\u001b[0m",
            "\u001b[0;31mFileNotFoundError\u001b[0m                         Traceback (most recent call last)",
            "\u001b[0;32m<ipython-input-66-05fe4238c783>\u001b[0m in \u001b[0;36m<cell line: 1>\u001b[0;34m()\u001b[0m\n\u001b[0;32m----> 1\u001b[0;31m \u001b[0mf\u001b[0m \u001b[0;34m=\u001b[0m \u001b[0mopen\u001b[0m\u001b[0;34m(\u001b[0m\u001b[0;34m'hello.txt'\u001b[0m\u001b[0;34m,\u001b[0m\u001b[0;34m\"r+\"\u001b[0m\u001b[0;34m)\u001b[0m\u001b[0;34m\u001b[0m\u001b[0;34m\u001b[0m\u001b[0m\n\u001b[0m\u001b[1;32m      2\u001b[0m \u001b[0mstr\u001b[0m\u001b[0;34m=\u001b[0m\u001b[0mf\u001b[0m\u001b[0;34m.\u001b[0m\u001b[0mread\u001b[0m\u001b[0;34m(\u001b[0m\u001b[0;36m20\u001b[0m\u001b[0;34m)\u001b[0m\u001b[0;34m;\u001b[0m\u001b[0;34m\u001b[0m\u001b[0;34m\u001b[0m\u001b[0m\n\u001b[1;32m      3\u001b[0m \u001b[0mprint\u001b[0m\u001b[0;34m(\u001b[0m\u001b[0;34m\"read string is :\"\u001b[0m\u001b[0;34m,\u001b[0m\u001b[0mstr\u001b[0m\u001b[0;34m)\u001b[0m\u001b[0;34m\u001b[0m\u001b[0;34m\u001b[0m\u001b[0m\n\u001b[1;32m      4\u001b[0m \u001b[0;34m\u001b[0m\u001b[0m\n\u001b[1;32m      5\u001b[0m \u001b[0mposition\u001b[0m\u001b[0;34m=\u001b[0m\u001b[0mf\u001b[0m\u001b[0;34m.\u001b[0m\u001b[0mtell\u001b[0m\u001b[0;34m(\u001b[0m\u001b[0;34m)\u001b[0m\u001b[0;34m;\u001b[0m\u001b[0;34m\u001b[0m\u001b[0;34m\u001b[0m\u001b[0m\n",
            "\u001b[0;31mFileNotFoundError\u001b[0m: [Errno 2] No such file or directory: 'hello.txt'"
          ]
        }
      ],
      "source": [
        "f = open('hello.txt',\"r+\")\n",
        "str=f.read(20);\n",
        "print(\"read string is :\",str)\n",
        "\n",
        "position=f.tell();\n",
        "print(\"current file position is :\",position)\n",
        "\n",
        "position=f.seek(5);\n",
        "str=f.read(10);\n",
        "print(\"again read string is :\",str)\n",
        "f.close()"
      ]
    },
    {
      "cell_type": "markdown",
      "metadata": {
        "id": "Tc7pA461yOl2"
      },
      "source": [
        "# 9.Pandas Introduction"
      ]
    },
    {
      "cell_type": "markdown",
      "metadata": {
        "id": "-Ua5TNpkyOl2"
      },
      "source": [
        "Pandas is an open-source Python Library providing high-performance data manipulation and analysis tool using its powerful data structures. The name Pandas is derived from the word Panel Data – an Econometrics from Multidimensional data. In 2008, developer Wes McKinney started developing pandas when in need of high performance, flexible tool for analysis of data.\n",
        "\n",
        "Prior to Pandas, Python was majorly used for data munging and preparation. It had very less contribution towards data analysis. Pandas solved this problem. Using Pandas, we can accomplish five typical steps in the processing and analysis of data, regardless of the origin of data — load, prepare, manipulate, model, and analyze.\n",
        "\n",
        "Python with Pandas is used in a wide range of fields including academic and commercial domains including finance, economics, Statistics, analytics, etc.\n",
        "\n",
        "#### Key Features of Pandas\n",
        "\n",
        "-  Fast and efficient DataFrame object with default and customized indexing.\n",
        "-  Tools for loading data into in-memory data objects from different file formats.\n",
        "-  Data alignment and integrated handling of missing data.\n",
        "-  Reshaping and pivoting of date sets.\n",
        "- Label-based slicing, indexing and subsetting of large data sets.\n",
        "- Columns from a data structure can be deleted or inserted.\n",
        "- Group by data for aggregation and transformations.\n",
        "- High performance merging and joining of data.\n",
        "- Time Series functionality.\n",
        "\n",
        "Pandas deals with the following three data structures:\n",
        "- Series\n",
        "- DataFrame\n",
        "- Panel\n",
        "\n",
        "These data structures are built on top of Numpy array, which means they are fast.\n"
      ]
    },
    {
      "cell_type": "markdown",
      "metadata": {
        "id": "7UhOYctbyOl2"
      },
      "source": [
        "# 10.Series"
      ]
    },
    {
      "cell_type": "markdown",
      "metadata": {
        "id": "F2ejGx40yOl3"
      },
      "source": [
        "- The Series is a one-dimensional array that can store various data types, including mix data types.\n",
        "- The row labels in a Series are called the index.\n",
        "- Any list, tuple and dictionary can be converted in to Series using ‘series’ method\n",
        "- Basic method to create a series: s = pd.Series(data, index = index)\n",
        "- Series is size immutable."
      ]
    },
    {
      "cell_type": "code",
      "execution_count": 70,
      "metadata": {
        "id": "zfjalz43yOl3",
        "outputId": "26e2269b-7cec-4bff-f644-0ced1045244c",
        "colab": {
          "base_uri": "https://localhost:8080/",
          "height": 241
        }
      },
      "outputs": [
        {
          "output_type": "execute_result",
          "data": {
            "text/plain": [
              "0        My\n",
              "1      Name\n",
              "2        Is\n",
              "3         4\n",
              "4    Thomas\n",
              "dtype: object"
            ],
            "text/html": [
              "<div>\n",
              "<style scoped>\n",
              "    .dataframe tbody tr th:only-of-type {\n",
              "        vertical-align: middle;\n",
              "    }\n",
              "\n",
              "    .dataframe tbody tr th {\n",
              "        vertical-align: top;\n",
              "    }\n",
              "\n",
              "    .dataframe thead th {\n",
              "        text-align: right;\n",
              "    }\n",
              "</style>\n",
              "<table border=\"1\" class=\"dataframe\">\n",
              "  <thead>\n",
              "    <tr style=\"text-align: right;\">\n",
              "      <th></th>\n",
              "      <th>0</th>\n",
              "    </tr>\n",
              "  </thead>\n",
              "  <tbody>\n",
              "    <tr>\n",
              "      <th>0</th>\n",
              "      <td>My</td>\n",
              "    </tr>\n",
              "    <tr>\n",
              "      <th>1</th>\n",
              "      <td>Name</td>\n",
              "    </tr>\n",
              "    <tr>\n",
              "      <th>2</th>\n",
              "      <td>Is</td>\n",
              "    </tr>\n",
              "    <tr>\n",
              "      <th>3</th>\n",
              "      <td>4</td>\n",
              "    </tr>\n",
              "    <tr>\n",
              "      <th>4</th>\n",
              "      <td>Thomas</td>\n",
              "    </tr>\n",
              "  </tbody>\n",
              "</table>\n",
              "</div><br><label><b>dtype:</b> object</label>"
            ]
          },
          "metadata": {},
          "execution_count": 70
        }
      ],
      "source": [
        "import pandas as pd\n",
        "s = pd.Series([1, 'Lahore', 2, 3, 'Happy Eating!'])\n",
        "s\n",
        "\n",
        "a = pd.Series(['My','Name','Is',4,'Thomas'])\n",
        "a"
      ]
    },
    {
      "cell_type": "markdown",
      "metadata": {
        "id": "dI6uBvULyOl3"
      },
      "source": [
        "## 10.1 Series creation from ndarray"
      ]
    },
    {
      "cell_type": "markdown",
      "metadata": {
        "id": "01S-Ny2HyOl3"
      },
      "source": [
        "- Index must be of same length as data. If no index is passed, it will automatically be [0, ..., len(data) - 1]"
      ]
    },
    {
      "cell_type": "code",
      "execution_count": 72,
      "metadata": {
        "id": "cBjhyRc8yOl3",
        "outputId": "a4b76f7c-9f28-42d6-f599-a9bf5fa8fb7e",
        "colab": {
          "base_uri": "https://localhost:8080/",
          "height": 322
        }
      },
      "outputs": [
        {
          "output_type": "stream",
          "name": "stdout",
          "text": [
            "<class 'pandas.core.series.Series'>\n"
          ]
        },
        {
          "output_type": "execute_result",
          "data": {
            "text/plain": [
              "0     1\n",
              "1     2\n",
              "2     4\n",
              "3     8\n",
              "4    16\n",
              "5    32\n",
              "6    64\n",
              "dtype: int64"
            ],
            "text/html": [
              "<div>\n",
              "<style scoped>\n",
              "    .dataframe tbody tr th:only-of-type {\n",
              "        vertical-align: middle;\n",
              "    }\n",
              "\n",
              "    .dataframe tbody tr th {\n",
              "        vertical-align: top;\n",
              "    }\n",
              "\n",
              "    .dataframe thead th {\n",
              "        text-align: right;\n",
              "    }\n",
              "</style>\n",
              "<table border=\"1\" class=\"dataframe\">\n",
              "  <thead>\n",
              "    <tr style=\"text-align: right;\">\n",
              "      <th></th>\n",
              "      <th>0</th>\n",
              "    </tr>\n",
              "  </thead>\n",
              "  <tbody>\n",
              "    <tr>\n",
              "      <th>0</th>\n",
              "      <td>1</td>\n",
              "    </tr>\n",
              "    <tr>\n",
              "      <th>1</th>\n",
              "      <td>2</td>\n",
              "    </tr>\n",
              "    <tr>\n",
              "      <th>2</th>\n",
              "      <td>4</td>\n",
              "    </tr>\n",
              "    <tr>\n",
              "      <th>3</th>\n",
              "      <td>8</td>\n",
              "    </tr>\n",
              "    <tr>\n",
              "      <th>4</th>\n",
              "      <td>16</td>\n",
              "    </tr>\n",
              "    <tr>\n",
              "      <th>5</th>\n",
              "      <td>32</td>\n",
              "    </tr>\n",
              "    <tr>\n",
              "      <th>6</th>\n",
              "      <td>64</td>\n",
              "    </tr>\n",
              "  </tbody>\n",
              "</table>\n",
              "</div><br><label><b>dtype:</b> int64</label>"
            ]
          },
          "metadata": {},
          "execution_count": 72
        }
      ],
      "source": [
        "s = pd.Series([1,2,4,8,16,32,64])\n",
        "print(type(s))\n",
        "s"
      ]
    },
    {
      "cell_type": "code",
      "execution_count": 76,
      "metadata": {
        "id": "R3ZkJ1GmyOl3",
        "outputId": "56455ddb-d1b5-4c99-f57e-bc6347529a66",
        "colab": {
          "base_uri": "https://localhost:8080/"
        }
      },
      "outputs": [
        {
          "output_type": "stream",
          "name": "stdout",
          "text": [
            "a    0.650026\n",
            "b   -0.041574\n",
            "c   -0.274611\n",
            "d    0.190775\n",
            "e    0.792016\n",
            "dtype: float64\n",
            "a    32.501282\n",
            "b    -2.078675\n",
            "c   -13.730543\n",
            "d     9.538744\n",
            "e    39.600787\n",
            "dtype: float64\n",
            "Index(['a', 'b', 'c', 'd', 'e'], dtype='object')\n"
          ]
        }
      ],
      "source": [
        "import numpy as np\n",
        "s = pd.Series(np.random.randn(5), index=['a', 'b', 'c', 'd', 'e'])\n",
        "print(s)\n",
        "print(s*50)\n",
        "print(s.index)"
      ]
    },
    {
      "cell_type": "markdown",
      "metadata": {
        "id": "eMXtyavDyOl4"
      },
      "source": [
        "## 10.2 Series creation from dict"
      ]
    },
    {
      "cell_type": "markdown",
      "metadata": {
        "id": "hjoIsJ2IyOl4"
      },
      "source": [
        "- If Data is a dictionary, if index is passed the values in data corresponding to the labels in the index will be pulled out, otherwise an index will be constructed from the sorted keys of the dict."
      ]
    },
    {
      "cell_type": "code",
      "execution_count": 79,
      "metadata": {
        "id": "4xrcGFoTyOl4",
        "outputId": "3638818c-0c83-4dbe-b874-8c203aca5249",
        "colab": {
          "base_uri": "https://localhost:8080/",
          "height": 178
        }
      },
      "outputs": [
        {
          "output_type": "execute_result",
          "data": {
            "text/plain": [
              "A    100.0\n",
              "B    200.0\n",
              "C    300.0\n",
              "dtype: float64"
            ],
            "text/html": [
              "<div>\n",
              "<style scoped>\n",
              "    .dataframe tbody tr th:only-of-type {\n",
              "        vertical-align: middle;\n",
              "    }\n",
              "\n",
              "    .dataframe tbody tr th {\n",
              "        vertical-align: top;\n",
              "    }\n",
              "\n",
              "    .dataframe thead th {\n",
              "        text-align: right;\n",
              "    }\n",
              "</style>\n",
              "<table border=\"1\" class=\"dataframe\">\n",
              "  <thead>\n",
              "    <tr style=\"text-align: right;\">\n",
              "      <th></th>\n",
              "      <th>0</th>\n",
              "    </tr>\n",
              "  </thead>\n",
              "  <tbody>\n",
              "    <tr>\n",
              "      <th>A</th>\n",
              "      <td>100.0</td>\n",
              "    </tr>\n",
              "    <tr>\n",
              "      <th>B</th>\n",
              "      <td>200.0</td>\n",
              "    </tr>\n",
              "    <tr>\n",
              "      <th>C</th>\n",
              "      <td>300.0</td>\n",
              "    </tr>\n",
              "  </tbody>\n",
              "</table>\n",
              "</div><br><label><b>dtype:</b> float64</label>"
            ]
          },
          "metadata": {},
          "execution_count": 79
        }
      ],
      "source": [
        "d = {'A': 100., 'B': 200., 'C': 300.}\n",
        "pd.Series(d)"
      ]
    },
    {
      "cell_type": "code",
      "execution_count": 80,
      "metadata": {
        "id": "NkCxdZA_yOl4",
        "outputId": "32466f53-5374-4ed1-eaca-09aa8d076630",
        "colab": {
          "base_uri": "https://localhost:8080/",
          "height": 178
        }
      },
      "outputs": [
        {
          "output_type": "execute_result",
          "data": {
            "text/plain": [
              "abc    ABC\n",
              "def    DEF\n",
              "xyz    XYZ\n",
              "dtype: object"
            ],
            "text/html": [
              "<div>\n",
              "<style scoped>\n",
              "    .dataframe tbody tr th:only-of-type {\n",
              "        vertical-align: middle;\n",
              "    }\n",
              "\n",
              "    .dataframe tbody tr th {\n",
              "        vertical-align: top;\n",
              "    }\n",
              "\n",
              "    .dataframe thead th {\n",
              "        text-align: right;\n",
              "    }\n",
              "</style>\n",
              "<table border=\"1\" class=\"dataframe\">\n",
              "  <thead>\n",
              "    <tr style=\"text-align: right;\">\n",
              "      <th></th>\n",
              "      <th>0</th>\n",
              "    </tr>\n",
              "  </thead>\n",
              "  <tbody>\n",
              "    <tr>\n",
              "      <th>abc</th>\n",
              "      <td>ABC</td>\n",
              "    </tr>\n",
              "    <tr>\n",
              "      <th>def</th>\n",
              "      <td>DEF</td>\n",
              "    </tr>\n",
              "    <tr>\n",
              "      <th>xyz</th>\n",
              "      <td>XYZ</td>\n",
              "    </tr>\n",
              "  </tbody>\n",
              "</table>\n",
              "</div><br><label><b>dtype:</b> object</label>"
            ]
          },
          "metadata": {},
          "execution_count": 80
        }
      ],
      "source": [
        "data = {'abc': 'ABC', 'def': 'DEF', 'xyz': 'XYZ'}\n",
        "pd.Series(data)"
      ]
    },
    {
      "cell_type": "markdown",
      "metadata": {
        "id": "H2MRRj99yOl4"
      },
      "source": [
        "## 10.3 Series creation from a scalar value"
      ]
    },
    {
      "cell_type": "markdown",
      "metadata": {
        "id": "KsGGOv8WyOl4"
      },
      "source": [
        "- Index must be provided. The value will be repeated to match the length of the index"
      ]
    },
    {
      "cell_type": "code",
      "execution_count": null,
      "metadata": {
        "id": "b6Nk_rYGyOl4",
        "outputId": "9d7b590d-b585-4a3d-808b-fed9ce69ee9e"
      },
      "outputs": [
        {
          "data": {
            "text/plain": [
              "a    5\n",
              "b    5\n",
              "c    5\n",
              "dtype: int64"
            ]
          },
          "execution_count": 6,
          "metadata": {},
          "output_type": "execute_result"
        }
      ],
      "source": [
        "pd.Series(5, index = ['a', 'b', 'c'])"
      ]
    },
    {
      "cell_type": "code",
      "execution_count": 81,
      "metadata": {
        "id": "e6o_vTGqyOl5",
        "outputId": "64ad6603-4933-4bb7-9d23-0fef413aba0c",
        "colab": {
          "base_uri": "https://localhost:8080/",
          "height": 210
        }
      },
      "outputs": [
        {
          "output_type": "execute_result",
          "data": {
            "text/plain": [
              "a    3\n",
              "b    3\n",
              "c    3\n",
              "d    3\n",
              "dtype: int64"
            ],
            "text/html": [
              "<div>\n",
              "<style scoped>\n",
              "    .dataframe tbody tr th:only-of-type {\n",
              "        vertical-align: middle;\n",
              "    }\n",
              "\n",
              "    .dataframe tbody tr th {\n",
              "        vertical-align: top;\n",
              "    }\n",
              "\n",
              "    .dataframe thead th {\n",
              "        text-align: right;\n",
              "    }\n",
              "</style>\n",
              "<table border=\"1\" class=\"dataframe\">\n",
              "  <thead>\n",
              "    <tr style=\"text-align: right;\">\n",
              "      <th></th>\n",
              "      <th>0</th>\n",
              "    </tr>\n",
              "  </thead>\n",
              "  <tbody>\n",
              "    <tr>\n",
              "      <th>a</th>\n",
              "      <td>3</td>\n",
              "    </tr>\n",
              "    <tr>\n",
              "      <th>b</th>\n",
              "      <td>3</td>\n",
              "    </tr>\n",
              "    <tr>\n",
              "      <th>c</th>\n",
              "      <td>3</td>\n",
              "    </tr>\n",
              "    <tr>\n",
              "      <th>d</th>\n",
              "      <td>3</td>\n",
              "    </tr>\n",
              "  </tbody>\n",
              "</table>\n",
              "</div><br><label><b>dtype:</b> int64</label>"
            ]
          },
          "metadata": {},
          "execution_count": 81
        }
      ],
      "source": [
        " x = pd.Series(3, index=['a', 'b', 'c', 'd'])\n",
        "x"
      ]
    },
    {
      "cell_type": "markdown",
      "metadata": {
        "id": "0friS_53yOl5"
      },
      "source": [
        "## 10.4 Series is ndarray-like"
      ]
    },
    {
      "cell_type": "markdown",
      "metadata": {
        "id": "Brz5h-cpyOl5"
      },
      "source": [
        "- Series acts similar to a numpy array, and is valid arguments to most numpy functions.\n",
        "- Slicing also slices the index\n",
        "- Short Intro, back to this later\n"
      ]
    },
    {
      "cell_type": "code",
      "execution_count": null,
      "metadata": {
        "id": "IqC55bSIyOl5",
        "outputId": "f48584a4-43aa-4577-9246-f36a75397ee9"
      },
      "outputs": [
        {
          "name": "stdout",
          "output_type": "stream",
          "text": [
            "a    0.045078\n",
            "b    0.391752\n",
            "c   -0.065646\n",
            "d   -0.468091\n",
            "e    0.070352\n",
            "dtype: float64\n"
          ]
        }
      ],
      "source": [
        "s = pd.Series(np.random.randn(5), index=['a', 'b', 'c', 'd', 'e'])\n",
        "print(s)"
      ]
    },
    {
      "cell_type": "code",
      "execution_count": 85,
      "metadata": {
        "id": "nSsIdb_YyOl5",
        "outputId": "aa40796b-5158-42bd-d49e-360c786c0dbf",
        "colab": {
          "base_uri": "https://localhost:8080/"
        }
      },
      "outputs": [
        {
          "output_type": "stream",
          "name": "stdout",
          "text": [
            "c   -1.195019\n",
            "b   -0.369879\n",
            "e   -1.022874\n",
            "dtype: float64\n"
          ]
        }
      ],
      "source": [
        "s = pd.Series(np.random.randn(5), index=['a', 'b', 'c', 'd', 'e'])\n",
        "print(s.iloc[[2, 1, 4]])"
      ]
    },
    {
      "cell_type": "code",
      "execution_count": 93,
      "metadata": {
        "id": "53e1vgcQyOl6",
        "outputId": "37804266-dd42-45ad-ce19-804cdbf3dd1d",
        "colab": {
          "base_uri": "https://localhost:8080/",
          "height": 189
        }
      },
      "outputs": [
        {
          "output_type": "stream",
          "name": "stdout",
          "text": [
            "a   -0.995213\n",
            "b    0.636824\n",
            "c   -0.142383\n",
            "dtype: float64\n"
          ]
        },
        {
          "output_type": "execute_result",
          "data": {
            "text/plain": [
              "B    0.141136\n",
              "dtype: float64"
            ],
            "text/html": [
              "<div>\n",
              "<style scoped>\n",
              "    .dataframe tbody tr th:only-of-type {\n",
              "        vertical-align: middle;\n",
              "    }\n",
              "\n",
              "    .dataframe tbody tr th {\n",
              "        vertical-align: top;\n",
              "    }\n",
              "\n",
              "    .dataframe thead th {\n",
              "        text-align: right;\n",
              "    }\n",
              "</style>\n",
              "<table border=\"1\" class=\"dataframe\">\n",
              "  <thead>\n",
              "    <tr style=\"text-align: right;\">\n",
              "      <th></th>\n",
              "      <th>0</th>\n",
              "    </tr>\n",
              "  </thead>\n",
              "  <tbody>\n",
              "    <tr>\n",
              "      <th>B</th>\n",
              "      <td>0.141136</td>\n",
              "    </tr>\n",
              "  </tbody>\n",
              "</table>\n",
              "</div><br><label><b>dtype:</b> float64</label>"
            ]
          },
          "metadata": {},
          "execution_count": 93
        }
      ],
      "source": [
        "s = pd.Series(np.random.randn(5), index=['a', 'b', 'c', 'd', 'e'])\n",
        "q = pd.Series(np.random.randn(3), index=['A', 'B', 'C'])\n",
        "print(s[:3])\n",
        "q\n",
        "(q[1:2])"
      ]
    },
    {
      "cell_type": "code",
      "execution_count": 97,
      "metadata": {
        "id": "TqGKKQbqyOl6",
        "outputId": "aebb3974-cfe3-4683-e30b-21ded43e145f",
        "colab": {
          "base_uri": "https://localhost:8080/",
          "height": 345
        }
      },
      "outputs": [
        {
          "output_type": "stream",
          "name": "stdout",
          "text": [
            "d    1.772457\n",
            "c    2.651042\n",
            "b    1.323979\n",
            "dtype: float64\n"
          ]
        },
        {
          "output_type": "stream",
          "name": "stderr",
          "text": [
            "<ipython-input-97-8a45b5c842b4>:2: FutureWarning: Series.__getitem__ treating keys as positions is deprecated. In a future version, integer keys will always be treated as labels (consistent with DataFrame behavior). To access a value by position, use `ser.iloc[pos]`\n",
            "  print(s[[3,2,1]])\n",
            "<ipython-input-97-8a45b5c842b4>:3: FutureWarning: Series.__getitem__ treating keys as positions is deprecated. In a future version, integer keys will always be treated as labels (consistent with DataFrame behavior). To access a value by position, use `ser.iloc[pos]`\n",
            "  q[[2,1,0]]\n"
          ]
        },
        {
          "output_type": "execute_result",
          "data": {
            "text/plain": [
              "C    1.921160\n",
              "B    0.141136\n",
              "A    0.103188\n",
              "dtype: float64"
            ],
            "text/html": [
              "<div>\n",
              "<style scoped>\n",
              "    .dataframe tbody tr th:only-of-type {\n",
              "        vertical-align: middle;\n",
              "    }\n",
              "\n",
              "    .dataframe tbody tr th {\n",
              "        vertical-align: top;\n",
              "    }\n",
              "\n",
              "    .dataframe thead th {\n",
              "        text-align: right;\n",
              "    }\n",
              "</style>\n",
              "<table border=\"1\" class=\"dataframe\">\n",
              "  <thead>\n",
              "    <tr style=\"text-align: right;\">\n",
              "      <th></th>\n",
              "      <th>0</th>\n",
              "    </tr>\n",
              "  </thead>\n",
              "  <tbody>\n",
              "    <tr>\n",
              "      <th>C</th>\n",
              "      <td>1.921160</td>\n",
              "    </tr>\n",
              "    <tr>\n",
              "      <th>B</th>\n",
              "      <td>0.141136</td>\n",
              "    </tr>\n",
              "    <tr>\n",
              "      <th>A</th>\n",
              "      <td>0.103188</td>\n",
              "    </tr>\n",
              "  </tbody>\n",
              "</table>\n",
              "</div><br><label><b>dtype:</b> float64</label>"
            ]
          },
          "metadata": {},
          "execution_count": 97
        }
      ],
      "source": [
        "s = pd.Series(np.random.randn(5), index=['a', 'b', 'c', 'd', 'e'])\n",
        "print(s[[3,2,1]])\n",
        "q[[2,1,0]]"
      ]
    },
    {
      "cell_type": "code",
      "execution_count": 88,
      "metadata": {
        "id": "3wxQHxy6yOl6",
        "outputId": "31ea4f6a-0f85-4a81-ea30-5280938834c8",
        "colab": {
          "base_uri": "https://localhost:8080/",
          "height": 241
        }
      },
      "outputs": [
        {
          "output_type": "execute_result",
          "data": {
            "text/plain": [
              "a     0.408392\n",
              "b    26.640834\n",
              "c     0.424737\n",
              "d     0.935013\n",
              "e     1.506302\n",
              "dtype: float64"
            ],
            "text/html": [
              "<div>\n",
              "<style scoped>\n",
              "    .dataframe tbody tr th:only-of-type {\n",
              "        vertical-align: middle;\n",
              "    }\n",
              "\n",
              "    .dataframe tbody tr th {\n",
              "        vertical-align: top;\n",
              "    }\n",
              "\n",
              "    .dataframe thead th {\n",
              "        text-align: right;\n",
              "    }\n",
              "</style>\n",
              "<table border=\"1\" class=\"dataframe\">\n",
              "  <thead>\n",
              "    <tr style=\"text-align: right;\">\n",
              "      <th></th>\n",
              "      <th>0</th>\n",
              "    </tr>\n",
              "  </thead>\n",
              "  <tbody>\n",
              "    <tr>\n",
              "      <th>a</th>\n",
              "      <td>0.408392</td>\n",
              "    </tr>\n",
              "    <tr>\n",
              "      <th>b</th>\n",
              "      <td>26.640834</td>\n",
              "    </tr>\n",
              "    <tr>\n",
              "      <th>c</th>\n",
              "      <td>0.424737</td>\n",
              "    </tr>\n",
              "    <tr>\n",
              "      <th>d</th>\n",
              "      <td>0.935013</td>\n",
              "    </tr>\n",
              "    <tr>\n",
              "      <th>e</th>\n",
              "      <td>1.506302</td>\n",
              "    </tr>\n",
              "  </tbody>\n",
              "</table>\n",
              "</div><br><label><b>dtype:</b> float64</label>"
            ]
          },
          "metadata": {},
          "execution_count": 88
        }
      ],
      "source": [
        "s = pd.Series(np.random.randn(5), index=['a', 'b', 'c', 'd', 'e'])\n",
        "np.exp(s)"
      ]
    },
    {
      "cell_type": "code",
      "execution_count": 99,
      "metadata": {
        "id": "5iUQfdUhyOl6",
        "outputId": "78f2861b-ce5d-4171-ddc2-ab6d5aef31f0",
        "colab": {
          "base_uri": "https://localhost:8080/"
        }
      },
      "outputs": [
        {
          "output_type": "execute_result",
          "data": {
            "text/plain": [
              "0.10318825574730536"
            ]
          },
          "metadata": {},
          "execution_count": 99
        }
      ],
      "source": [
        "s = pd.Series(np.random.randn(5), index=['a', 'b', 'c', 'd', 'e'])\n",
        "s['b']\n",
        "q['A']"
      ]
    },
    {
      "cell_type": "code",
      "execution_count": 100,
      "metadata": {
        "id": "UDDwezMayOl6",
        "outputId": "05ebff3f-8b9a-48b2-d63f-5c5bffa154c1",
        "colab": {
          "base_uri": "https://localhost:8080/",
          "height": 178
        }
      },
      "outputs": [
        {
          "output_type": "execute_result",
          "data": {
            "text/plain": [
              "A    10.000000\n",
              "B     0.141136\n",
              "C     1.921160\n",
              "dtype: float64"
            ],
            "text/html": [
              "<div>\n",
              "<style scoped>\n",
              "    .dataframe tbody tr th:only-of-type {\n",
              "        vertical-align: middle;\n",
              "    }\n",
              "\n",
              "    .dataframe tbody tr th {\n",
              "        vertical-align: top;\n",
              "    }\n",
              "\n",
              "    .dataframe thead th {\n",
              "        text-align: right;\n",
              "    }\n",
              "</style>\n",
              "<table border=\"1\" class=\"dataframe\">\n",
              "  <thead>\n",
              "    <tr style=\"text-align: right;\">\n",
              "      <th></th>\n",
              "      <th>0</th>\n",
              "    </tr>\n",
              "  </thead>\n",
              "  <tbody>\n",
              "    <tr>\n",
              "      <th>A</th>\n",
              "      <td>10.000000</td>\n",
              "    </tr>\n",
              "    <tr>\n",
              "      <th>B</th>\n",
              "      <td>0.141136</td>\n",
              "    </tr>\n",
              "    <tr>\n",
              "      <th>C</th>\n",
              "      <td>1.921160</td>\n",
              "    </tr>\n",
              "  </tbody>\n",
              "</table>\n",
              "</div><br><label><b>dtype:</b> float64</label>"
            ]
          },
          "metadata": {},
          "execution_count": 100
        }
      ],
      "source": [
        "s = pd.Series(np.random.randn(5), index=['a', 'b', 'c', 'd', 'e'])\n",
        "s['b']=12.\n",
        "s\n",
        "q['A']=10.\n",
        "q"
      ]
    },
    {
      "cell_type": "code",
      "execution_count": 101,
      "metadata": {
        "id": "k_XnicdVyOl7",
        "outputId": "0cf1418f-9ff3-4f70-dfbd-6aade49f2aa8",
        "colab": {
          "base_uri": "https://localhost:8080/"
        }
      },
      "outputs": [
        {
          "output_type": "execute_result",
          "data": {
            "text/plain": [
              "False"
            ]
          },
          "metadata": {},
          "execution_count": 101
        }
      ],
      "source": [
        "s = pd.Series(np.random.randn(5), index=['a', 'b', 'c', 'd', 'e'])\n",
        "'e' in s\n",
        "'D' in q"
      ]
    },
    {
      "cell_type": "code",
      "execution_count": null,
      "metadata": {
        "id": "uMCSf_Y2yOl7",
        "outputId": "fe949d5a-0b4b-47d6-8aa3-56bfc443168d"
      },
      "outputs": [
        {
          "data": {
            "text/plain": [
              "False"
            ]
          },
          "execution_count": 15,
          "metadata": {},
          "output_type": "execute_result"
        }
      ],
      "source": [
        "s = pd.Series(np.random.randn(5), index=['a', 'b', 'c', 'd', 'e'])\n",
        "'f' in s"
      ]
    },
    {
      "cell_type": "markdown",
      "metadata": {
        "id": "FFBYK173yOl7"
      },
      "source": [
        "## 10.5 Series is dict-like"
      ]
    },
    {
      "cell_type": "markdown",
      "metadata": {
        "id": "D63HP5uryOl7"
      },
      "source": [
        "- A Series is like a xed-size dict in that you can get and set values by index label\n"
      ]
    },
    {
      "cell_type": "code",
      "execution_count": 102,
      "metadata": {
        "id": "vaoksIR6yOl7",
        "outputId": "8ae0ca8b-d3ad-4b13-bf88-2e47b9481e80",
        "colab": {
          "base_uri": "https://localhost:8080/"
        }
      },
      "outputs": [
        {
          "output_type": "execute_result",
          "data": {
            "text/plain": [
              "{0: 1, 1: 2, 2: 3, 3: 4}"
            ]
          },
          "metadata": {},
          "execution_count": 102
        }
      ],
      "source": [
        "s = pd.Series([1, 2, 3, 4])\n",
        "s.to_dict()"
      ]
    },
    {
      "cell_type": "markdown",
      "metadata": {
        "id": "180ETyUjyOl8"
      },
      "source": [
        "## 10.6 Vectorized operations and label alignment with Series"
      ]
    },
    {
      "cell_type": "markdown",
      "metadata": {
        "id": "KCB-XKkvyOl8"
      },
      "source": [
        "- When doing data analysis,as with the row NumPy arrays looping through series value by value is usually not necessary.\n",
        "- Series can also be passed into most NumPy method expecting an ndarray.\n",
        "- NumPy and Pandas generalize arithmetic operations so that we can easily and quickly perform the same operation on many array elements. For example:"
      ]
    },
    {
      "cell_type": "code",
      "execution_count": 103,
      "metadata": {
        "id": "yb9MTS7uyOl8",
        "outputId": "bd179577-98b0-4e57-e6a1-0f87033c8592",
        "colab": {
          "base_uri": "https://localhost:8080/"
        }
      },
      "outputs": [
        {
          "output_type": "execute_result",
          "data": {
            "text/plain": [
              "array([ 4,  6, 10, 14, 22, 26])"
            ]
          },
          "metadata": {},
          "execution_count": 103
        }
      ],
      "source": [
        "import numpy as np\n",
        "x = np.array([2, 3, 5, 7, 11, 13])\n",
        "x * 2"
      ]
    },
    {
      "cell_type": "code",
      "execution_count": 105,
      "metadata": {
        "id": "T0XjCey7yOl8",
        "outputId": "0690c8fe-713d-489c-9846-08209120c352",
        "colab": {
          "base_uri": "https://localhost:8080/"
        }
      },
      "outputs": [
        {
          "output_type": "execute_result",
          "data": {
            "text/plain": [
              "['Leo', 'Thomas', 'Via', 'Sky']"
            ]
          },
          "metadata": {},
          "execution_count": 105
        }
      ],
      "source": [
        "data = ['saima', 'aisha', 'faiza', 'saira']\n",
        "[s.capitalize() for s in data]\n",
        "\n",
        "data = ['leo', 'thomas', 'via', 'sky']\n",
        "[q.capitalize() for q in data]"
      ]
    },
    {
      "cell_type": "markdown",
      "metadata": {
        "id": "bpxpEP8EyOl8"
      },
      "source": [
        "# 11.Data Frames"
      ]
    },
    {
      "cell_type": "markdown",
      "metadata": {
        "id": "8BXIK4ggyOl8"
      },
      "source": [
        "- A DataFrame is a two dimensional object that can have columns with potential different types. Different kind of inputs include dictionaries, lists, series, and even another DataFrame.\n",
        "- It is the most commonly used pandas object.\n",
        "- You can create a series from:\n",
        "    - Dict of 1D ndarrays, lists, dicts, or Series\n",
        "    - 2-D numpy array\n",
        "    - A list of dictionaries\n",
        "    - A Series\n",
        "    - Another Dataframe\n",
        "  \n",
        "- index/ columns is a list of the row/ column labels. If you pass an index and/ or columns, you are guarenteeing the index and /or column of the df.\n",
        "- If you do not pass anything in, the input will be constructed by \"common sense\" rules"
      ]
    },
    {
      "cell_type": "code",
      "execution_count": 108,
      "metadata": {
        "id": "1J32JzcfyOl8",
        "outputId": "d6b119aa-4fc1-4bea-9aa3-36099ed8fc6e",
        "colab": {
          "base_uri": "https://localhost:8080/"
        }
      },
      "outputs": [
        {
          "output_type": "execute_result",
          "data": {
            "text/plain": [
              "DatetimeIndex(['2024-09-14', '2024-09-15', '2024-09-16'], dtype='datetime64[ns]', freq='D')"
            ]
          },
          "metadata": {},
          "execution_count": 108
        }
      ],
      "source": [
        "dates = pd.date_range('20130101',periods=6)\n",
        "dates\n",
        "\n",
        "date_0 = pd.date_range('20240914',periods=3)\n",
        "date_0"
      ]
    },
    {
      "cell_type": "markdown",
      "metadata": {
        "id": "4p-RjZzryOl9"
      },
      "source": [
        "## 11.1 Dataframe creation from dict of series or dicts"
      ]
    },
    {
      "cell_type": "markdown",
      "metadata": {
        "id": "TwildvJwyOl9"
      },
      "source": [
        " - The index of the resulting DataFrame will be the union of the indices of the various Series. If there are any nested dicts, these will be converted to Series.\n",
        " - If no columns are passed, the columns will be the sorted list of dict keys."
      ]
    },
    {
      "cell_type": "code",
      "execution_count": 109,
      "metadata": {
        "id": "jMeigrnSyOl9",
        "outputId": "2996c218-11a8-4fcb-b79c-adb7ddd99c96",
        "colab": {
          "base_uri": "https://localhost:8080/",
          "height": 892
        }
      },
      "outputs": [
        {
          "output_type": "stream",
          "name": "stdout",
          "text": [
            "   one  two\n",
            "a  1.0    0\n",
            "b  2.0    1\n",
            "c  3.0    2\n",
            "d  NaN    3\n"
          ]
        },
        {
          "output_type": "execute_result",
          "data": {
            "text/plain": [
              "   First_C  Second_C\n",
              "a        1       0.0\n",
              "b        2       1.0\n",
              "c        3       2.0\n",
              "d        4       3.0\n",
              "e        5       NaN"
            ],
            "text/html": [
              "\n",
              "  <div id=\"df-d8471afc-b50c-4f87-a59f-e2737beef2bc\" class=\"colab-df-container\">\n",
              "    <div>\n",
              "<style scoped>\n",
              "    .dataframe tbody tr th:only-of-type {\n",
              "        vertical-align: middle;\n",
              "    }\n",
              "\n",
              "    .dataframe tbody tr th {\n",
              "        vertical-align: top;\n",
              "    }\n",
              "\n",
              "    .dataframe thead th {\n",
              "        text-align: right;\n",
              "    }\n",
              "</style>\n",
              "<table border=\"1\" class=\"dataframe\">\n",
              "  <thead>\n",
              "    <tr style=\"text-align: right;\">\n",
              "      <th></th>\n",
              "      <th>First_C</th>\n",
              "      <th>Second_C</th>\n",
              "    </tr>\n",
              "  </thead>\n",
              "  <tbody>\n",
              "    <tr>\n",
              "      <th>a</th>\n",
              "      <td>1</td>\n",
              "      <td>0.0</td>\n",
              "    </tr>\n",
              "    <tr>\n",
              "      <th>b</th>\n",
              "      <td>2</td>\n",
              "      <td>1.0</td>\n",
              "    </tr>\n",
              "    <tr>\n",
              "      <th>c</th>\n",
              "      <td>3</td>\n",
              "      <td>2.0</td>\n",
              "    </tr>\n",
              "    <tr>\n",
              "      <th>d</th>\n",
              "      <td>4</td>\n",
              "      <td>3.0</td>\n",
              "    </tr>\n",
              "    <tr>\n",
              "      <th>e</th>\n",
              "      <td>5</td>\n",
              "      <td>NaN</td>\n",
              "    </tr>\n",
              "  </tbody>\n",
              "</table>\n",
              "</div>\n",
              "    <div class=\"colab-df-buttons\">\n",
              "\n",
              "  <div class=\"colab-df-container\">\n",
              "    <button class=\"colab-df-convert\" onclick=\"convertToInteractive('df-d8471afc-b50c-4f87-a59f-e2737beef2bc')\"\n",
              "            title=\"Convert this dataframe to an interactive table.\"\n",
              "            style=\"display:none;\">\n",
              "\n",
              "  <svg xmlns=\"http://www.w3.org/2000/svg\" height=\"24px\" viewBox=\"0 -960 960 960\">\n",
              "    <path d=\"M120-120v-720h720v720H120Zm60-500h600v-160H180v160Zm220 220h160v-160H400v160Zm0 220h160v-160H400v160ZM180-400h160v-160H180v160Zm440 0h160v-160H620v160ZM180-180h160v-160H180v160Zm440 0h160v-160H620v160Z\"/>\n",
              "  </svg>\n",
              "    </button>\n",
              "\n",
              "  <style>\n",
              "    .colab-df-container {\n",
              "      display:flex;\n",
              "      gap: 12px;\n",
              "    }\n",
              "\n",
              "    .colab-df-convert {\n",
              "      background-color: #E8F0FE;\n",
              "      border: none;\n",
              "      border-radius: 50%;\n",
              "      cursor: pointer;\n",
              "      display: none;\n",
              "      fill: #1967D2;\n",
              "      height: 32px;\n",
              "      padding: 0 0 0 0;\n",
              "      width: 32px;\n",
              "    }\n",
              "\n",
              "    .colab-df-convert:hover {\n",
              "      background-color: #E2EBFA;\n",
              "      box-shadow: 0px 1px 2px rgba(60, 64, 67, 0.3), 0px 1px 3px 1px rgba(60, 64, 67, 0.15);\n",
              "      fill: #174EA6;\n",
              "    }\n",
              "\n",
              "    .colab-df-buttons div {\n",
              "      margin-bottom: 4px;\n",
              "    }\n",
              "\n",
              "    [theme=dark] .colab-df-convert {\n",
              "      background-color: #3B4455;\n",
              "      fill: #D2E3FC;\n",
              "    }\n",
              "\n",
              "    [theme=dark] .colab-df-convert:hover {\n",
              "      background-color: #434B5C;\n",
              "      box-shadow: 0px 1px 3px 1px rgba(0, 0, 0, 0.15);\n",
              "      filter: drop-shadow(0px 1px 2px rgba(0, 0, 0, 0.3));\n",
              "      fill: #FFFFFF;\n",
              "    }\n",
              "  </style>\n",
              "\n",
              "    <script>\n",
              "      const buttonEl =\n",
              "        document.querySelector('#df-d8471afc-b50c-4f87-a59f-e2737beef2bc button.colab-df-convert');\n",
              "      buttonEl.style.display =\n",
              "        google.colab.kernel.accessAllowed ? 'block' : 'none';\n",
              "\n",
              "      async function convertToInteractive(key) {\n",
              "        const element = document.querySelector('#df-d8471afc-b50c-4f87-a59f-e2737beef2bc');\n",
              "        const dataTable =\n",
              "          await google.colab.kernel.invokeFunction('convertToInteractive',\n",
              "                                                    [key], {});\n",
              "        if (!dataTable) return;\n",
              "\n",
              "        const docLinkHtml = 'Like what you see? Visit the ' +\n",
              "          '<a target=\"_blank\" href=https://colab.research.google.com/notebooks/data_table.ipynb>data table notebook</a>'\n",
              "          + ' to learn more about interactive tables.';\n",
              "        element.innerHTML = '';\n",
              "        dataTable['output_type'] = 'display_data';\n",
              "        await google.colab.output.renderOutput(dataTable, element);\n",
              "        const docLink = document.createElement('div');\n",
              "        docLink.innerHTML = docLinkHtml;\n",
              "        element.appendChild(docLink);\n",
              "      }\n",
              "    </script>\n",
              "  </div>\n",
              "\n",
              "\n",
              "<div id=\"df-60808746-994d-4c77-9be2-d47d700addc6\">\n",
              "  <button class=\"colab-df-quickchart\" onclick=\"quickchart('df-60808746-994d-4c77-9be2-d47d700addc6')\"\n",
              "            title=\"Suggest charts\"\n",
              "            style=\"display:none;\">\n",
              "\n",
              "<svg xmlns=\"http://www.w3.org/2000/svg\" height=\"24px\"viewBox=\"0 0 24 24\"\n",
              "     width=\"24px\">\n",
              "    <g>\n",
              "        <path d=\"M19 3H5c-1.1 0-2 .9-2 2v14c0 1.1.9 2 2 2h14c1.1 0 2-.9 2-2V5c0-1.1-.9-2-2-2zM9 17H7v-7h2v7zm4 0h-2V7h2v10zm4 0h-2v-4h2v4z\"/>\n",
              "    </g>\n",
              "</svg>\n",
              "  </button>\n",
              "\n",
              "<style>\n",
              "  .colab-df-quickchart {\n",
              "      --bg-color: #E8F0FE;\n",
              "      --fill-color: #1967D2;\n",
              "      --hover-bg-color: #E2EBFA;\n",
              "      --hover-fill-color: #174EA6;\n",
              "      --disabled-fill-color: #AAA;\n",
              "      --disabled-bg-color: #DDD;\n",
              "  }\n",
              "\n",
              "  [theme=dark] .colab-df-quickchart {\n",
              "      --bg-color: #3B4455;\n",
              "      --fill-color: #D2E3FC;\n",
              "      --hover-bg-color: #434B5C;\n",
              "      --hover-fill-color: #FFFFFF;\n",
              "      --disabled-bg-color: #3B4455;\n",
              "      --disabled-fill-color: #666;\n",
              "  }\n",
              "\n",
              "  .colab-df-quickchart {\n",
              "    background-color: var(--bg-color);\n",
              "    border: none;\n",
              "    border-radius: 50%;\n",
              "    cursor: pointer;\n",
              "    display: none;\n",
              "    fill: var(--fill-color);\n",
              "    height: 32px;\n",
              "    padding: 0;\n",
              "    width: 32px;\n",
              "  }\n",
              "\n",
              "  .colab-df-quickchart:hover {\n",
              "    background-color: var(--hover-bg-color);\n",
              "    box-shadow: 0 1px 2px rgba(60, 64, 67, 0.3), 0 1px 3px 1px rgba(60, 64, 67, 0.15);\n",
              "    fill: var(--button-hover-fill-color);\n",
              "  }\n",
              "\n",
              "  .colab-df-quickchart-complete:disabled,\n",
              "  .colab-df-quickchart-complete:disabled:hover {\n",
              "    background-color: var(--disabled-bg-color);\n",
              "    fill: var(--disabled-fill-color);\n",
              "    box-shadow: none;\n",
              "  }\n",
              "\n",
              "  .colab-df-spinner {\n",
              "    border: 2px solid var(--fill-color);\n",
              "    border-color: transparent;\n",
              "    border-bottom-color: var(--fill-color);\n",
              "    animation:\n",
              "      spin 1s steps(1) infinite;\n",
              "  }\n",
              "\n",
              "  @keyframes spin {\n",
              "    0% {\n",
              "      border-color: transparent;\n",
              "      border-bottom-color: var(--fill-color);\n",
              "      border-left-color: var(--fill-color);\n",
              "    }\n",
              "    20% {\n",
              "      border-color: transparent;\n",
              "      border-left-color: var(--fill-color);\n",
              "      border-top-color: var(--fill-color);\n",
              "    }\n",
              "    30% {\n",
              "      border-color: transparent;\n",
              "      border-left-color: var(--fill-color);\n",
              "      border-top-color: var(--fill-color);\n",
              "      border-right-color: var(--fill-color);\n",
              "    }\n",
              "    40% {\n",
              "      border-color: transparent;\n",
              "      border-right-color: var(--fill-color);\n",
              "      border-top-color: var(--fill-color);\n",
              "    }\n",
              "    60% {\n",
              "      border-color: transparent;\n",
              "      border-right-color: var(--fill-color);\n",
              "    }\n",
              "    80% {\n",
              "      border-color: transparent;\n",
              "      border-right-color: var(--fill-color);\n",
              "      border-bottom-color: var(--fill-color);\n",
              "    }\n",
              "    90% {\n",
              "      border-color: transparent;\n",
              "      border-bottom-color: var(--fill-color);\n",
              "    }\n",
              "  }\n",
              "</style>\n",
              "\n",
              "  <script>\n",
              "    async function quickchart(key) {\n",
              "      const quickchartButtonEl =\n",
              "        document.querySelector('#' + key + ' button');\n",
              "      quickchartButtonEl.disabled = true;  // To prevent multiple clicks.\n",
              "      quickchartButtonEl.classList.add('colab-df-spinner');\n",
              "      try {\n",
              "        const charts = await google.colab.kernel.invokeFunction(\n",
              "            'suggestCharts', [key], {});\n",
              "      } catch (error) {\n",
              "        console.error('Error during call to suggestCharts:', error);\n",
              "      }\n",
              "      quickchartButtonEl.classList.remove('colab-df-spinner');\n",
              "      quickchartButtonEl.classList.add('colab-df-quickchart-complete');\n",
              "    }\n",
              "    (() => {\n",
              "      let quickchartButtonEl =\n",
              "        document.querySelector('#df-60808746-994d-4c77-9be2-d47d700addc6 button');\n",
              "      quickchartButtonEl.style.display =\n",
              "        google.colab.kernel.accessAllowed ? 'block' : 'none';\n",
              "    })();\n",
              "  </script>\n",
              "</div>\n",
              "\n",
              "  <div id=\"id_cd696eb8-9d6d-4c6e-813f-1339e6d84a32\">\n",
              "    <style>\n",
              "      .colab-df-generate {\n",
              "        background-color: #E8F0FE;\n",
              "        border: none;\n",
              "        border-radius: 50%;\n",
              "        cursor: pointer;\n",
              "        display: none;\n",
              "        fill: #1967D2;\n",
              "        height: 32px;\n",
              "        padding: 0 0 0 0;\n",
              "        width: 32px;\n",
              "      }\n",
              "\n",
              "      .colab-df-generate:hover {\n",
              "        background-color: #E2EBFA;\n",
              "        box-shadow: 0px 1px 2px rgba(60, 64, 67, 0.3), 0px 1px 3px 1px rgba(60, 64, 67, 0.15);\n",
              "        fill: #174EA6;\n",
              "      }\n",
              "\n",
              "      [theme=dark] .colab-df-generate {\n",
              "        background-color: #3B4455;\n",
              "        fill: #D2E3FC;\n",
              "      }\n",
              "\n",
              "      [theme=dark] .colab-df-generate:hover {\n",
              "        background-color: #434B5C;\n",
              "        box-shadow: 0px 1px 3px 1px rgba(0, 0, 0, 0.15);\n",
              "        filter: drop-shadow(0px 1px 2px rgba(0, 0, 0, 0.3));\n",
              "        fill: #FFFFFF;\n",
              "      }\n",
              "    </style>\n",
              "    <button class=\"colab-df-generate\" onclick=\"generateWithVariable('af')\"\n",
              "            title=\"Generate code using this dataframe.\"\n",
              "            style=\"display:none;\">\n",
              "\n",
              "  <svg xmlns=\"http://www.w3.org/2000/svg\" height=\"24px\"viewBox=\"0 0 24 24\"\n",
              "       width=\"24px\">\n",
              "    <path d=\"M7,19H8.4L18.45,9,17,7.55,7,17.6ZM5,21V16.75L18.45,3.32a2,2,0,0,1,2.83,0l1.4,1.43a1.91,1.91,0,0,1,.58,1.4,1.91,1.91,0,0,1-.58,1.4L9.25,21ZM18.45,9,17,7.55Zm-12,3A5.31,5.31,0,0,0,4.9,8.1,5.31,5.31,0,0,0,1,6.5,5.31,5.31,0,0,0,4.9,4.9,5.31,5.31,0,0,0,6.5,1,5.31,5.31,0,0,0,8.1,4.9,5.31,5.31,0,0,0,12,6.5,5.46,5.46,0,0,0,6.5,12Z\"/>\n",
              "  </svg>\n",
              "    </button>\n",
              "    <script>\n",
              "      (() => {\n",
              "      const buttonEl =\n",
              "        document.querySelector('#id_cd696eb8-9d6d-4c6e-813f-1339e6d84a32 button.colab-df-generate');\n",
              "      buttonEl.style.display =\n",
              "        google.colab.kernel.accessAllowed ? 'block' : 'none';\n",
              "\n",
              "      buttonEl.onclick = () => {\n",
              "        google.colab.notebook.generateWithVariable('af');\n",
              "      }\n",
              "      })();\n",
              "    </script>\n",
              "  </div>\n",
              "\n",
              "    </div>\n",
              "  </div>\n"
            ],
            "application/vnd.google.colaboratory.intrinsic+json": {
              "type": "dataframe",
              "variable_name": "af",
              "summary": "{\n  \"name\": \"af\",\n  \"rows\": 5,\n  \"fields\": [\n    {\n      \"column\": \"First_C\",\n      \"properties\": {\n        \"dtype\": \"number\",\n        \"std\": 1,\n        \"min\": 1,\n        \"max\": 5,\n        \"num_unique_values\": 5,\n        \"samples\": [\n          2,\n          5,\n          3\n        ],\n        \"semantic_type\": \"\",\n        \"description\": \"\"\n      }\n    },\n    {\n      \"column\": \"Second_C\",\n      \"properties\": {\n        \"dtype\": \"number\",\n        \"std\": 1.2909944487358056,\n        \"min\": 0.0,\n        \"max\": 3.0,\n        \"num_unique_values\": 4,\n        \"samples\": [\n          1.0,\n          3.0,\n          0.0\n        ],\n        \"semantic_type\": \"\",\n        \"description\": \"\"\n      }\n    }\n  ]\n}"
            }
          },
          "metadata": {},
          "execution_count": 109
        },
        {
          "output_type": "display_data",
          "data": {
            "text/plain": [
              "<google.colab._quickchart_helpers.SectionTitle at 0x7d435305f2b0>"
            ],
            "text/html": [
              "<h4 class=\"colab-quickchart-section-title\">Distributions</h4>\n",
              "<style>\n",
              "  .colab-quickchart-section-title {\n",
              "      clear: both;\n",
              "  }\n",
              "</style>"
            ]
          },
          "metadata": {}
        },
        {
          "output_type": "display_data",
          "data": {
            "text/plain": [
              "from matplotlib import pyplot as plt\n",
              "af['First_C'].plot(kind='hist', bins=20, title='First_C')\n",
              "plt.gca().spines[['top', 'right',]].set_visible(False)"
            ],
            "text/html": [
              "      <div class=\"colab-quickchart-chart-with-code\" id=\"chart-905dc776-59ed-4cf8-a5d6-2c41a774cf18\">\n",
              "        <img style=\"width: 180px;\" src=\"data:image/png;base64,iVBORw0KGgoAAAANSUhEUgAAAioAAAGrCAYAAADuNLxTAAAAOXRFWHRTb2Z0d2FyZQBNYXRwbG90\n",
              "bGliIHZlcnNpb24zLjcuMSwgaHR0cHM6Ly9tYXRwbG90bGliLm9yZy/bCgiHAAAACXBIWXMAAA9h\n",
              "AAAPYQGoP6dpAAAgJklEQVR4nO3de3CU5f2/8feS6CqFJIpEMoQlzZGTSQxNhgYPqGOrfhUoMFbb\n",
              "KBFz8DTUQQtFpIqths5oK4UqQRgsMlUroGRQcEaNiopCPFAIliRA2ICBWBEWKgSyuX9/MOTHNgSz\n",
              "cR/23nC9ZnaGbG6efO4uj1zdfdh1GWOMAAAALNQj3AMAAAB0hFABAADWIlQAAIC1CBUAAGAtQgUA\n",
              "AFiLUAEAANYiVAAAgLUIFQAAYC1CBQAAWItQAQAA1iJUADjK6/WqV69e2r59e7hHARCBCBUAITNq\n",
              "1Cide+656tWrV9utoKBAhw4dUnJycpePm5SUpIULFwb1ezZt2qRbbrlFCQkJ6tWrl5KSknTrrbfq\n",
              "s88+6/IcAM48QgVASE2dOlWHDh1qu73//vunXX/06NGQz/Duu+8qLy9PF198sdatW6eDBw/qiy++\n",
              "0LXXXqtXXnkl5D8PgHMIFQCOqq+vl8vlUl1dnSTp+eefV2Jiov72t78pKSlJffr0kSTNmzdPKSkp\n",
              "6t27ty6++GIVFhZKkq6//np5vV7dd9996tWrl4YOHfq9P7O0tFQTJkzQnDlzlJSUJJfLpbi4OE2a\n",
              "NEllZWWO7RVA6EWHewAAZ589e/Zo48aN2rx5s3r06KHa2lpNnTpV69ev17Bhw3To0KG2l2hWr16t\n",
              "pKQkPfzwwyoqKvreY9fW1qqmpkbz5s1zehsAzgCeUQEQUk8++aTi4uLabi+88MIp1z399NPq1auX\n",
              "evbsqejoaBljVF1dLZ/Pp169eumKK67o0s9vamqSJCUmJnZ5DwDsQagACKkHH3xQ+/fvb7vddttt\n",
              "7dbEx8erZ8+ebV//+Mc/1ksvvaTFixfL4/EoNzdXL774Ypd+fnx8vCRp165dXdsAAKsQKgDOuB49\n",
              "2v+nZ8yYMVqzZo3+85//6Le//a1+/etfq6ampsP1HUlLS1N6enqHz+QAiCyECoCw27p1q9544w0d\n",
              "OnRI0dHRio2NlSRFRUVJkvr166etW7d2+njl5eV65ZVXNGXKFO3cuVPGGPl8Pi1ZskQzZsxwZA8A\n",
              "nEGoAAi7o0eP6vHHH1f//v0VExOjBx54QEuWLFFKSook6fe//71WrlypuLg4ZWZmfu/xRo0apU8+\n",
              "+US7d+9WXl6eevfurczMTK1Zs0YTJkxwejsAQshljDHhHgIAAOBUeEYFAABYi/dRARBxhg4dqp07\n",
              "d57ye7t37267xgVA5OOlHwAAYC1e+gEAANYiVAAAgLUIFQAAYK1uESpz5swJ9wgAAMAB3SJUOrr6\n",
              "HwAARLZuESoAAKB7IlQAAIC1CBUAAGAtQgUAAFiLUAEAANYiVAAAgLUIFQAAYC1CBQAAWItQAQAA\n",
              "1iJUAACAtQgVAABgLUIFAABYy9FQmTx5spKSkuRyufTFF190uG7RokVKS0tTSkqKiouLdezYMSfH\n",
              "AgAAEcLRUJkwYYI++OADDRw4sMM1O3bs0MyZM7V27VrV1dVp7969WrBggZNjAQCACOFoqFxxxRVK\n",
              "TEw87Zply5Zp9OjR6tevn1wul+666y69+OKLHa5vbm6Wz+cLuPn9/lCPDgAALBAd7gG8Xm/AMy5J\n",
              "SUnyer0dri8rK9OsWbMC7hsxYoQjsyX97nVHjitJ9bP/z7Fj4//jMYx8Tj2GPH5nDo/hmdFd/3eO\n",
              "uItpp0+frgMHDgTc8vLywj0WAABwQNifUfF4PNq2bVvb1/X19fJ4PB2ud7vdcrvdAfdFRUU5Nh8A\n",
              "AAifsD+jMn78eFVUVGjPnj0yxmj+/Pm65ZZbwj0WAACwgKOhUlpaqsTERO3atUs///nPlZqaKkkq\n",
              "KipSRUWFJCk5OVmzZs3SyJEjlZqaqr59+6q0tNTJsQAAQIRw9KWf8vLyU96/cOHCgK+Li4tVXFzs\n",
              "5CgAACAChf2lHwAAgI4QKgAAwFqECgAAsBahAgAArEWoAAAAaxEqAADAWoQKAACwFqECAACsRagA\n",
              "AABrESoAAMBahAoAALAWoQIAAKxFqAAAAGsRKgAAwFqECgAAsBahAgAArEWoAAAAaxEqAADAWoQK\n",
              "AACwFqECAACsRagAAABrESoAAMBahAoAALAWoQIAAKxFqAAAAGsRKgAAwFqECgAAsBahAgAArEWo\n",
              "AAAAaxEqAADAWoQKAACwFqECAACsRagAAABrESoAAMBahAoAALAWoQIAAKxFqAAAAGsRKgAAwFqE\n",
              "CgAAsBahAgAArEWoAAAAaxEqAADAWoQKAACwFqECAACsRagAAABrESoAAMBahAoAALAWoQIAAKxF\n",
              "qAAAAGsRKgAAwFqECgAAsBahAgAArEWoAAAAaxEqAADAWoQKAACwFqECAACsRagAAABrESoAAMBa\n",
              "hAoAALAWoQIAAKxFqAAAAGs5Giq1tbXKz89Xenq6cnNzVV1d3W5Na2urpkyZoiFDhigzM1NXXXWV\n",
              "6urqnBwLAABECEdDpbS0VCUlJaqpqdG0adNUWFjYbk1FRYU+/PBDbdy4Uf/61790zTXX6KGHHnJy\n",
              "LAAAECEcC5WmpiZVVVWpoKBAkjR+/Hg1NDS0e7bE5XKpublZR44ckTFGPp9PiYmJTo0FAAAiSLRT\n",
              "B25oaFBCQoKio4//CJfLJY/HI6/Xq9TU1LZ1N910kyorK9WvXz/17t1b/fv313vvvdfhcZubm9Xc\n",
              "3Bxwn9/vd2YTAAAgrMJ+MW1VVZU2b96s3bt366uvvtI111yju+66q8P1ZWVlio2NDbitX7/+DE4M\n",
              "AADOFMdCZcCAAWpsbFRLS4skyRgjr9crj8cTsG7JkiW6+uqrFRcXpx49emjixImqrKzs8LjTp0/X\n",
              "gQMHAm55eXlObQMAAISRY6ESHx+vnJwcLV26VJK0fPlyJSYmBrzsI0nJycl65513dPToUUnSqlWr\n",
              "NGzYsA6P63a7FRMTE3CLiopyahsAACCMHLtGRZLKy8tVWFioJ554QjExMVq8eLEkqaioSKNHj9bo\n",
              "0aN177336ssvv1RWVpbOOecc9evXT/Pnz3dyLAAAECEcDZWMjAytW7eu3f0LFy5s+7Xb7dZzzz3n\n",
              "5BgAACBChf1iWgAAgI4QKgAAwFqECgAAsBahAgAArEWoAAAAaxEqAADAWoQKAACwFqECAACsRagA\n",
              "AABrESoAAMBahAoAALAWoQIAAKxFqAAAAGsRKgAAwFqECgAAsBahAgAArEWoAAAAaxEqAADAWoQK\n",
              "AACwFqECAACsRagAAABrESoAAMBahAoAALAWoQIAAKxFqAAAAGsRKgAAwFqECgAAsBahAgAArEWo\n",
              "AAAAaxEqAADAWoQKAACwFqECAACsRagAAABrESoAAMBahAoAALAWoQIAAKxFqAAAAGsRKgAAwFqE\n",
              "CgAAsBahAgAArEWoAAAAaxEqAADAWoQKAACwFqECAACsRagAAABrESoAAMBahAoAALAWoQIAAKxF\n",
              "qAAAAGsRKgAAwFqECgAAsBahAgAArEWoAAAAaxEqAADAWoQKAACwFqECAACsRagAAABrESoAAMBa\n",
              "hAoAALAWoQIAAKxFqAAAAGsRKgAAwFqOhkptba3y8/OVnp6u3NxcVVdXn3Ldpk2bNGrUKA0ePFiD\n",
              "Bw/WihUrnBwLAABEiGgnD15aWqqSkhIVFhZq2bJlKiws1IYNGwLWfPfddxozZoyWLFmiyy67TH6/\n",
              "X/v27XNyLAAAECEce0alqalJVVVVKigokCSNHz9eDQ0NqqurC1j3j3/8QyNGjNBll10mSYqKilLf\n",
              "vn07PG5zc7N8Pl/Aze/3O7UNAAAQRo6FSkNDgxISEhQdffxJG5fLJY/HI6/XG7Buy5YtcrvduvHG\n",
              "G5Wdna3bb79dX3/9dYfHLSsrU2xsbMBt/fr1Tm0DAACEUdCh8uabb4Z0gJaWFr311lsqLy/X559/\n",
              "rv79++vuu+/ucP306dN14MCBgFteXl5IZwIAAHYIOlQee+wxZWRkaM6cOfL5fB2uGzBggBobG9XS\n",
              "0iJJMsbI6/XK4/EErPN4PLrqqqvUv39/uVwuFRQU6OOPP+7wuG63WzExMQG3qKioYLcBAAAiQNCh\n",
              "8uGHH+qll17S5s2blZ6ernvuuUdbtmxpty4+Pl45OTlaunSpJGn58uVKTExUampqwLqbb75ZGzZs\n",
              "aIueN954Q1lZWV3ZCwAA6Ga6dI3KpZdequeee05r1qzRqlWrlJmZqWuvvVabNm0KWFdeXq7y8nKl\n",
              "p6dr9uzZWrx4sSSpqKhIFRUVko4/o/LQQw8pPz9fmZmZeueddzR//vwfuC0AANAddOmfJ7/11lua\n",
              "O3euNm3apHvvvVd33nmn3n33Xf3iF78I+Fc9GRkZWrduXbvfv3DhwoCvb7vtNt12221dGQUAAHRj\n",
              "QYfK4MGDddFFF2ny5MkaN25c2/UhEyZM0KJFi0I+IAAAOHsFHSpLly7V8OHDT/m91atX/+CBAAAA\n",
              "Tgj6GpVPP/004J1jv/nmGz333HMhHQoAAEDqQqg888wzuvDCC9u+7tOnj5555pmQDgUAACB1IVSM\n",
              "Me3u4y3sAQCAE4IOlYSEBP3zn/9s+/rll19WQkJCSIcCAACQunAx7dNPP60xY8Zo6tSpkqSePXtq\n",
              "5cqVIR8MAAAg6FAZNGiQtmzZoq1bt0o6/l4pvIU9AABwQpfe8M3lcikuLk4tLS3avXu3JLX7DB8A\n",
              "AIAfKuhQef755zV58mSdc8456tHj+CUuLpdLTU1NIR8OAACc3YIOlT/84Q/asGGDMjIynJgHAACg\n",
              "TdD/6ueiiy4iUgAAwBkRdKiMHTtWTz/9tJqamuTz+dpuAAAAoRb0Sz8zZsyQJE2ZMkUul0vGGLlc\n",
              "Lt70DQAAhFzQodLa2urEHAAAAO0E/dKPdPyDCV944QVJ0v79+9XY2BjSoQAAAKQufijhpEmT9Oij\n",
              "j0o6/unJv/rVr0I9FwAAQPChsmDBAn388ceKiYmRJKWkpOjrr78O+WAAAABBh4rb7db5558fcF90\n",
              "dJfe4BYAAOC0gg6Vvn37qqamRi6XS9Lxd6rl7fMBAIATuvTpybfeeqv+/e9/a8CAAYqJidGqVauc\n",
              "mA0AAJzlgg6V1NRUffLJJ9q6dauMMXx6MgAAcEzQoeL1eiVJP/rRjySJT08GAACOCTpUhg8f3vaO\n",
              "tEeOHNF3332nPn368OnJAAAg5IIOlf/9p8grVqzQxo0bQzYQAADACV16Z9qTjRs3Tq+//nooZgEA\n",
              "AAgQ9DMqJ39Sst/v1yeffMKnJwMAAEcEHSpxcXFt16hERUUpLS1Nf/3rX52YDQAAnOX49GQAAGCt\n",
              "H3yNCgAAgFOCfkalR48ebW+ffzJjjFwul/x+f0gGAwAACDpUHnvsMR0+fFh33323JGn+/Pk6//zz\n",
              "df/994d6NgAAcJYLOlReffVVffrpp21f//GPf9Tw4cM1Y8aMkA4GAAAQ9DUqBw8eDHgX2qamJh08\n",
              "eDCkQwEAAEhdeEblgQceUFZWlm644QZJ0po1a/Too4+Gei4AAIDgQ6W0tFQjR45UZWWlJGnKlCka\n",
              "OnRoyAcDAAAIOlQkqU+fPrrkkks0atQotbS06OjRozr33HNDPRsAADjLBX2NyrJlyzRixAjdcccd\n",
              "kqTq6mqNHTs21HMBAAAEHyplZWX67LPPFBcXJ0nKysrSzp07Qz0XAABA8KESFRWlPn36BNzHyz4A\n",
              "AMAJQYdK7969tXfv3rZ3p3377bd14YUXhnwwAACAoC+m/dOf/qTrr79e27dv12WXXaYdO3bo9ddf\n",
              "d2I2AABwlgsqVFpbW+X3+1VZWamPPvpIxhjl5+e3Xa8CAAAQSkGFSo8ePVRSUqKNGzfq+uuvd2om\n",
              "AAAASV24RiUtLU11dXVOzAIAABAg6GtU9u3bp+zsbOXn56tXr15t969YsSKkgwEAAHQ6VEpKSrRg\n",
              "wQJNnDhRo0eP1gUXXODkXAAAAJ0PlaqqKknSxIkTlZOTo88++8yxoQAAAKQuXKMiScaYUM8BAADQ\n",
              "TqefUTl8+LA2bdokY4yOHDnS9usTMjMzHRkQAACcvYIKldGjR7d9ffKvXS6Xtm/fHtrJAADAWa/T\n",
              "oVJfX+/gGAAAAO116RoVAACAM4FQAQAA1iJUAACAtQgVAABgLUIFAABYi1ABAADWIlQAAIC1CBUA\n",
              "AGAtQgUAAFjL0VCpra1Vfn6+0tPTlZubq+rq6g7XGmN09dVXKy4uzsmRAABABHE0VEpLS1VSUqKa\n",
              "mhpNmzZNhYWFHa79y1/+opSUFCfHAQAAEcaxUGlqalJVVZUKCgokSePHj1dDQ4Pq6urara2urtZr\n",
              "r72m3/3ud9973ObmZvl8voCb3+8P+fwAACD8HAuVhoYGJSQkKDr6+OceulwueTweeb3egHXHjh1T\n",
              "cXGxysvLFRUV9b3HLSsrU2xsbMBt/fr1juwBAACEV9gvpp01a5bGjRunwYMHd2r99OnTdeDAgYBb\n",
              "Xl6ew1MCAIBwiHbqwAMGDFBjY6NaWloUHR0tY4y8Xq88Hk/Auvfee09er1fz5s1TS0uLfD6fkpKS\n",
              "tGHDBvXt27fdcd1ut9xud8B9nXkmBgAARB7HnlGJj49XTk6Oli5dKklavny5EhMTlZqaGrBu7dq1\n",
              "2rlzp+rr6/XBBx8oJiZG9fX1p4wUAABwdnH0pZ/y8nKVl5crPT1ds2fP1uLFiyVJRUVFqqiocPJH\n",
              "AwCAbsCxl34kKSMjQ+vWrWt3/8KFC0+5PikpSfv373dyJAAAEEHCfjEtAABARwgVAABgLUIFAABY\n",
              "i1ABAADWIlQAAIC1CBUAAGAtQgUAAFiLUAEAANYiVAAAgLUIFQAAYC1CBQAAWItQAQAA1iJUAACA\n",
              "tQgVAABgLUIFAABYi1ABAADWIlQAAIC1CBUAAGAtQgUAAFiLUAEAANYiVAAAgLUIFQAAYC1CBQAA\n",
              "WItQAQAA1iJUAACAtQgVAABgLUIFAABYi1ABAADWIlQAAIC1CBUAAGAtQgUAAFiLUAEAANYiVAAA\n",
              "gLUIFQAAYC1CBQAAWItQAQAA1iJUAACAtQgVAABgLUIFAABYi1ABAADWIlQAAIC1CBUAAGAtQgUA\n",
              "AFiLUAEAANYiVAAAgLUIFQAAYC1CBQAAWItQAQAA1iJUAACAtQgVAABgLUIFAABYi1ABAADWIlQA\n",
              "AIC1CBUAAGAtQgUAAFiLUAEAANYiVAAAgLUIFQAAYC1CBQAAWItQAQAA1iJUAACAtQgVAABgLUdD\n",
              "pba2Vvn5+UpPT1dubq6qq6vbrXnnnXeUl5enIUOGaOjQoZo6dapaW1udHAsAAEQIR0OltLRUJSUl\n",
              "qqmp0bRp01RYWNhuzQUXXKCXXnpJW7Zs0aeffqqPPvpIS5YscXIsAAAQIRwLlaamJlVVVamgoECS\n",
              "NH78eDU0NKiuri5g3aWXXqrk5GRJ0nnnnafs7GzV19d3eNzm5mb5fL6Am9/vd2obAAAgjBwLlYaG\n",
              "BiUkJCg6OlqS5HK55PF45PV6O/w9e/bs0bJly3TjjTd2uKasrEyxsbEBt/Xr14d8fgAAEH7WXEzr\n",
              "8/l00003aerUqfrJT37S4brp06frwIEDAbe8vLwzOCkAADhTop068IABA9TY2KiWlhZFR0fLGCOv\n",
              "1yuPx9Nu7cGDB3XddddpzJgxmjJlymmP63a75Xa7A+6LiooK6ewAAMAOjj2jEh8fr5ycHC1dulSS\n",
              "tHz5ciUmJio1NTVg3aFDh3Tdddfpuuuu08MPP+zUOAAAIAI5+tJPeXm5ysvLlZ6ertmzZ2vx4sWS\n",
              "pKKiIlVUVEiS5syZo/Xr12vFihXKzs5Wdna2Hn/8cSfHAgAAEcKxl34kKSMjQ+vWrWt3/8KFC9t+\n",
              "PWPGDM2YMcPJMQAAQISy5mJaAACA/0WoAAAAaxEqAADAWoQKAACwFqECAACsRagAAABrESoAAMBa\n",
              "hAoAALAWoQIAAKxFqAAAAGsRKgAAwFqECgAAsBahAgAArEWoAAAAaxEqAADAWoQKAACwFqECAACs\n",
              "RagAAABrESoAAMBahAoAALAWoQIAAKxFqAAAAGsRKgAAwFqECgAAsBahAgAArEWoAAAAaxEqAADA\n",
              "WoQKAACwFqECAACsRagAAABrESoAAMBahAoAALAWoQIAAKxFqAAAAGsRKgAAwFqECgAAsBahAgAA\n",
              "rEWoAAAAaxEqAADAWoQKAACwFqECAACsRagAAABrESoAAMBahAoAALAWoQIAAKxFqAAAAGsRKgAA\n",
              "wFqECgAAsBahAgAArEWoAAAAaxEqAADAWoQKAACwFqECAACsRagAAABrESoAAMBahAoAALAWoQIA\n",
              "AKxFqAAAAGsRKgAAwFqECgAAsBahAgAArOVoqNTW1io/P1/p6enKzc1VdXX1KdctWrRIaWlpSklJ\n",
              "UXFxsY4dO+bkWAAAIEI4GiqlpaUqKSlRTU2Npk2bpsLCwnZrduzYoZkzZ2rt2rWqq6vT3r17tWDB\n",
              "AifHAgAAEcKxUGlqalJVVZUKCgokSePHj1dDQ4Pq6uoC1i1btkyjR49Wv3795HK5dNddd+nFF1/s\n",
              "8LjNzc3y+XwBN7/f79Q2AABAGEU7deCGhgYlJCQoOvr4j3C5XPJ4PPJ6vUpNTW1b5/V6NXDgwLav\n",
              "k5KS5PV6OzxuWVmZZs2aFXDfoEGDNGXKlJDO7/f7lbB+vfLy8hQVFRXSY0vSlClvh/yYwfL7/Vrv\n",
              "4B7Drbs/ht398ZOcfQzD/fhJPIY/FI9hoHEOHNPv9+unP/2jY/sbOHCgfvOb35x2jWOh4pTp06e3\n",
              "ixK32y232x3Sn+Pz+RQbG6s333xTMTExIT22Lbr7Htlf5Ovue+zu+5O6/x7Zn/McC5UBAwaosbFR\n",
              "LS0tio6OljFGXq9XHo8nYJ3H49G2bdvavq6vr2+35mRORAkAALCTY9eoxMfHKycnR0uXLpUkLV++\n",
              "XImJiQEv+0jHr12pqKjQnj17ZIzR/Pnzdcsttzg1FgAAiCCO/quf8vJylZeXKz09XbNnz9bixYsl\n",
              "SUVFRaqoqJAkJScna9asWRo5cqRSU1PVt29flZaWOjkWAACIEI5eo5KRkaF169a1u3/hwoUBXxcX\n",
              "F6u4uNjJUYLmdrv1yCOPdOuXmbr7Htlf5Ovue+zu+5O6/x7Zn/NcxhgTtp8OAABwGryFPgAAsBah\n",
              "AgAArEWoAAAAaxEqAADAWmd9qEyePFlJSUlyuVz64osvOlwXqZ/w3Jn9vfvuuzr//POVnZ3ddjt8\n",
              "+PCZHbSLjhw5orFjxyo9PV1ZWVm69tpr232e1AmrVq3SoEGDlJaWpnHjxsnn853haYPX2f3V19cr\n",
              "Kioq4DE8+Y0Ubfezn/1MmZmZys7O1uWXX67PP//8lOsi9TzszP4i+Tw8YfHixXK5XHrttddO+f1I\n",
              "PAf/1+n2GMnnYVJSkjIyMtrmfvnll0+5LiznoDnLvffee6ahocEMHDjQfP7556dcs337dpOQkGAa\n",
              "GxtNa2uruemmm8y8efPO7KBd1Jn9VVZWmqysrDM6V6gcPnzYvP7666a1tdUYY8zcuXPNlVde2W7d\n",
              "wYMHTXx8vPnyyy+NMcbce++95sEHHzyTo3ZJZ/e3Y8cOExsbe2aHC6Fvv/227dcrVqwwmZmZ7dZE\n",
              "8nnYmf1F8nlozPE/gz/96U/NiBEjzKuvvtru+5F6Dp7s+/YYyefh6f6OOCFc5+BZ/4zKFVdcocTE\n",
              "xNOuCfYTnm3Smf1FsvPOO0833HCDXC6XJGnEiBGqr69vt2716tW69NJLNWjQIEnSPffcExGPYWf3\n",
              "F+ni4uLafn3gwIG2/Z4sks/DzuwvkrW2tqqoqEhz587t8P02IvUcPKEze+zuwnUORtyHEoZDsJ/w\n",
              "HIm2bdumnJwcRUVF6Y477tA999wT7pG6ZM6cORozZky7+0/1GJ78WVSRoqP9SdJ///tf5ebmyu/3\n",
              "a+zYsZoxY0bYP801GLfffrsqKyslSW+88Ua770f6efh9+5Mi9zz885//rJEjR2r48OEdron0c7Az\n",
              "e5Qi+zy8/fbbZYxRXl6eZs+erb59+wZ8P1znoP1/OuC4nJwc7dq1S7Gxsdq1a5duuOEGXXTRRbr5\n",
              "5pvDPVpQnnjiCdXV1entt8P/0e9OON3+EhIStHv3bsXHx2vfvn365S9/qaeeekpTp04Nw6Rds2TJ\n",
              "EknS3//+d02bNq3Dv8wj1fftL1LPw82bN2v58uV6//33wz2KYzq7x0g+D99//315PB4dO3ZMDz/8\n",
              "sCZOnGjNOXjWv/TTGR6PRzt37mz7+vs+4TnSxMTEKDY2VpKUmJioW2+9VWvXrg3zVMF58skntWLF\n",
              "Cq1evVo9e/Zs9/1TPYYJCQkR8f/kpO/fn9vtVnx8vCTpwgsv1KRJkyLuMTxh4sSJqqys1DfffBNw\n",
              "f3c5DzvaX6Seh2vXrlV9fb3S0tKUlJSkjz/+WCUlJXr22WcD1kXyOdjZPUbyeXjiXDrnnHN0//33\n",
              "n3LusJ2Djl8FEyFOdyHRtm3b2l1ANHfu3DM74A90uv199dVXxu/3G2OM8fl8Jj8/3yxatOgMTvfD\n",
              "PPXUUyYnJ8fs27evwzU+n8/07ds34EK+Bx544EyN+IN0Zn979+41R48eNcYYc+TIETNhwgQzc+bM\n",
              "MzXiD/Ltt9+a3bt3t3396quvmv79+7ddQHxCpJ6Hnd1fpJ+HJ1x55ZWnvNA0ks/B/9XRHiP1PDx0\n",
              "6FDABd9PPfWUufzyy9utC9c5eNaHSklJienfv7+Jiooy8fHxJiUlxRhjzJ133mlWrlzZtm7BggUm\n",
              "OTnZJCcnm0mTJrX9YbRdZ/Y3d+5cM2TIEJOZmWmGDBliHnnkkXb/EbVVQ0ODkWSSk5NNVlaWycrK\n",
              "Mnl5ecYYY2bOnGmeffbZtrUrV640GRkZJiUlxYwZM8bs378/XGN3Wmf3t3z5cjN06NC2x/C+++4z\n",
              "R44cCefonVZfX29yc3PNsGHDTGZmprnmmmvaoro7nIed3V8kn4cnO/kv8e5wDp5KR3uM1PNw27Zt\n",
              "Jjs721xyySVm2LBhZvTo0WbHjh3GGDvOQT6UEAAAWItrVAAAgLUIFQAAYC1CBQAAWItQAQAA1iJU\n",
              "AACAtQgVAABgLUIFAABYi1ABAADWIlQAAIC1CBUAAGCt/weB6LvHQ4u+JgAAAABJRU5ErkJggg==\n",
              "\">\n",
              "      </div>\n",
              "      <script type=\"text/javascript\">\n",
              "        (() => {\n",
              "          const chartElement = document.getElementById(\"chart-905dc776-59ed-4cf8-a5d6-2c41a774cf18\");\n",
              "          async function getCodeForChartHandler(event) {\n",
              "            const chartCodeResponse =  await google.colab.kernel.invokeFunction(\n",
              "                'getCodeForChart', [\"chart-905dc776-59ed-4cf8-a5d6-2c41a774cf18\"], {});\n",
              "            const responseJson = chartCodeResponse.data['application/json'];\n",
              "            await google.colab.notebook.addCell(responseJson.code, 'code');\n",
              "          }\n",
              "          chartElement.onclick = getCodeForChartHandler;\n",
              "        })();\n",
              "      </script>\n",
              "      <style>\n",
              "        .colab-quickchart-chart-with-code  {\n",
              "            display: block;\n",
              "            float: left;\n",
              "            border: 1px solid transparent;\n",
              "        }\n",
              "\n",
              "        .colab-quickchart-chart-with-code:hover {\n",
              "            cursor: pointer;\n",
              "            border: 1px solid #aaa;\n",
              "        }\n",
              "      </style>"
            ]
          },
          "metadata": {}
        },
        {
          "output_type": "display_data",
          "data": {
            "text/plain": [
              "from matplotlib import pyplot as plt\n",
              "af['Second_C'].plot(kind='hist', bins=20, title='Second_C')\n",
              "plt.gca().spines[['top', 'right',]].set_visible(False)"
            ],
            "text/html": [
              "      <div class=\"colab-quickchart-chart-with-code\" id=\"chart-908c96ed-5e2a-496d-97b1-eb925db2cc10\">\n",
              "        <img style=\"width: 180px;\" src=\"data:image/png;base64,iVBORw0KGgoAAAANSUhEUgAAAioAAAGrCAYAAADuNLxTAAAAOXRFWHRTb2Z0d2FyZQBNYXRwbG90\n",
              "bGliIHZlcnNpb24zLjcuMSwgaHR0cHM6Ly9tYXRwbG90bGliLm9yZy/bCgiHAAAACXBIWXMAAA9h\n",
              "AAAPYQGoP6dpAAAhcklEQVR4nO3dfVSUdf7/8dcINZkGKspKwkiCoFaAGKxfutnUas1v3qx2Z2m6\n",
              "pmC2a3us1ax1N9027Jzacuu4onZojZO1qRVrWseSWivzJjXNmxQFBw0lM0ULMYbP7w9P82u+iA3G\n",
              "5XyQ5+OcOYcZPly85zrX4TzPzMVcLmOMEQAAgIVahHoAAACA+hAqAADAWoQKAACwFqECAACsRagA\n",
              "AABrESoAAMBahAoAALAWoQIAAKxFqAAAAGsRKgAAwFqECoDzTnFxsVwul0pLS0M9CoCfiVAB8JNK\n",
              "Sko0fPhwXXrppWrdurUuvfRSDRgwQOXl5aEerVGUlpZq7Nix8ng8atWqleLi4jRo0CCtXLky1KMB\n",
              "zR6hAuAnDRgwQJdccok+//xzHT9+XBs3btQdd9whl8sV6tF+tu3btys9PV3ffvutVqxYocrKSu3Y\n",
              "sUMjR47Uq6++GurxgGaPUAFwRl9//bV27Nih8ePHq127dpKkX/ziFxo1apQ6duwoSVqzZo2uv/56\n",
              "RUVFqXPnzpo2bZpqamr829i3b5/uvvtuxcbGKiIiQmlpadqwYYMk6cSJE5oyZYouu+wytW3bVtde\n",
              "e63WrFnj/9kXX3xRsbGxysvLU3x8vCIjI3XbbbepsrLSv2b37t3q16+fIiIi1L17dxUVFQX9/B54\n",
              "4AFdccUVWrhwoZKTkxUWFqZWrVrptttuU15e3s/adwB+PkIFwBlFRUXpyiuvVE5OjvLz87V582bV\n",
              "1tb6v//FF1+oX79+Gj9+vA4ePKj//ve/Kiws1JNPPilJqqqqUt++fXXhhRdq06ZNOnLkiF5++WVF\n",
              "RUVJkv74xz9q2bJlWrFihQ4ePKghQ4bohhtu0L59+/y/48CBA9qxY4e2b9+uHTt2aNOmTXr66acl\n",
              "ST6fTwMHDpTH41F5eblWrFihefPmBfXcqqqqtHLlSo0cObKxdheAxmYA4CccOnTITJs2zWRkZBi3\n",
              "223atm1rHnzwQXPixAnz+9//3tx5550B6wsKCkxCQoIxxpjXXnvNtGvXzpw4caLOdn0+n2nZsqV5\n",
              "4403Ah5PSUkxubm5xhhj8vPzjdvtNidPnvR//6GHHjL9+/c3xhjz4YcfmhYtWpgjR474v19YWGgk\n",
              "mZKSkjM+r3379hlJZtmyZcHvDADnVHioQwmA/aKiojRjxgzNmDFD1dXVWr58uUaNGqXWrVtr165d\n",
              "KioqUps2bfzra2tr/a+6lJSUKD4+Xm63u852Dx06pKqqKiUkJAQ8npiYKK/X67/fvn17XXDBBf77\n",
              "rVq10rFjxySdelupbdu2ioyM9H//sssuC+p5tWvXTmFhYQGv3gCwC2/9AGgQt9vtf3tmw4YN6tix\n",
              "o+666y4dOXLEf6usrNTx48clSfHx8SotLdXJkyfrbKt9+/a66KKLtHv37oDHd+/eLY/HE9Q8sbGx\n",
              "+uabb3T06FH/Y8H+W3LLli3Vt29fFRQUBLUewLlHqAA4o2+++UYPP/ywNm/erOrqavl8Pr333nsq\n",
              "KirSddddpwkTJmjRokV67bXXdPLkSfl8PhUXF+vtt9+WJN1yyy1q27atJkyYoEOHDskYo23btmnv\n",
              "3r1q0aKFxowZoz//+c/as2ePTp48qWeeeUbFxcW6++67g5rvl7/8pbp27apJkybp22+/1f79+/X4\n",
              "448H/fyeffZZbdmyRSNGjNDOnTvl8/lUVVWl119/XePHjz+rfQag8RAqAM7owgsv1KFDh3Tbbbep\n",
              "ffv2ioqK0gMPPKApU6bowQcfVEZGhv8E1k6dOikqKkq33nqr9u7dK+nUqxYrV67U8ePHdeWVVyoy\n",
              "MlJ33323Dh8+LEl66qmndNNNN6lPnz6Kjo7W4sWLtWLFCsXFxQU1X3h4uP7zn/+opKREMTExuuGG\n",
              "G3TvvfcG/fx69OihDRs2yO12q2/fvoqIiFBSUpJefPFFDR8+vOE7DECjchljTKiHAAAAOB1eUQEA\n",
              "ANYiVACc126++Wa1bt36tLctW7aEejwAP4G3fgAAgLV4RQUAAFiLUAEAANYiVAAAgLXOi1CZNWtW\n",
              "qEcAAAAOOC9C5YcPlgIAAOeX8yJUAADA+YlQAQAA1iJUAACAtQgVAABgLUIFAABYi1ABAADWIlQA\n",
              "AIC1CBUAAGAtQgUAAFiLUAEAANYiVAAAgLUIFQAAYC1HQ2XixImKj4+Xy+XSpk2b6l33wgsvqGvX\n",
              "rkpISNC4ceP0/fffOzkWAABoIhwNlVtvvVUffvihOnfuXO+akpISTZs2TatWrVJxcbEOHjyouXPn\n",
              "OjkWAABoIhwNleuuu06xsbFnXLNo0SINGjRIHTt2lMvl0vjx47Vw4cJ611dXV6uysjLg5vP5Gnt0\n",
              "AABggfBQD+D1egNecYmPj5fX6613fW5urqZPnx7wWO/evR2ZLf7htxzZriSVzvxfx7aNc8Op44Nj\n",
              "A/XhbxLO5Hz9m9TkTqadOnWqjh49GnDLzMwM9VgAAMABIX9FxePxaPfu3f77paWl8ng89a53u91y\n",
              "u90Bj4WFhTk2HwAACJ2Qv6IybNgwFRYW6sCBAzLGaM6cObrzzjtDPRYAALCAo6GSk5Oj2NhY7du3\n",
              "T7/+9a+VmJgoSRo7dqwKCwslSV26dNH06dN19dVXKzExUR06dFBOTo6TYwEAgCbC0bd+8vLyTvv4\n",
              "/PnzA+6PGzdO48aNc3IUAADQBIX8rR8AAID6ECoAAMBahAoAALAWoQIAAKxFqAAAAGsRKgAAwFqE\n",
              "CgAAsBahAgAArEWoAAAAaxEqAADAWoQKAACwFqECAACsRagAAABrESoAAMBahAoAALAWoQIAAKxF\n",
              "qAAAAGsRKgAAwFqECgAAsBahAgAArEWoAAAAaxEqAADAWoQKAACwFqECAACsRagAAABrESoAAMBa\n",
              "hAoAALAWoQIAAKxFqAAAAGsRKgAAwFqECgAAsBahAgAArEWoAAAAaxEqAADAWoQKAACwFqECAACs\n",
              "RagAAABrESoAAMBahAoAALAWoQIAAKxFqAAAAGsRKgAAwFqECgAAsBahAgAArEWoAAAAaxEqAADA\n",
              "WoQKAACwFqECAACsRagAAABrESoAAMBahAoAALAWoQIAAKxFqAAAAGsRKgAAwFqECgAAsBahAgAA\n",
              "rEWoAAAAaxEqAADAWoQKAACwFqECAACsRagAAABrORoqu3btUlZWlpKSkpSRkaGtW7fWWVNbW6tJ\n",
              "kyapR48eSklJUZ8+fVRcXOzkWAAAoIlwNFRycnKUnZ2tnTt3asqUKRo9enSdNYWFhfroo4/02Wef\n",
              "afPmzerXr58eeeQRJ8cCAABNhGOhUlFRofXr12vEiBGSpGHDhqmsrKzOqyUul0vV1dU6ceKEjDGq\n",
              "rKxUbGysU2MBAIAmJNypDZeVlSkmJkbh4ad+hcvlksfjkdfrVWJion/dwIEDVVRUpI4dO+qSSy5R\n",
              "p06d9MEHH9S73erqalVXVwc85vP5nHkSAAAgpEJ+Mu369ev1+eefa//+/fryyy/Vr18/jR8/vt71\n",
              "ubm5ioyMDLitXbv2HE4MAADOFcdCJS4uTuXl5aqpqZEkGWPk9Xrl8XgC1i1YsEB9+/ZVmzZt1KJF\n",
              "C40aNUpFRUX1bnfq1Kk6evRowC0zM9OppwEAAELIsVCJjo5Wenq6CgoKJEmLFy9WbGxswNs+ktSl\n",
              "SxetXLlSJ0+elCQtXbpUV1xxRb3bdbvdioiICLiFhYU59TQAAEAIOXaOiiTl5eVp9OjReuKJJxQR\n",
              "EaH8/HxJ0tixYzVo0CANGjRI999/v7Zv367U1FRdcMEF6tixo+bMmePkWAAAoIlwNFSSk5O1evXq\n",
              "Oo/Pnz/f/7Xb7da8efOcHAMAADRRIT+ZFgAAoD6ECgAAsBahAgAArEWoAAAAaxEqAADAWoQKAACw\n",
              "FqECAACsRagAAABrESoAAMBahAoAALAWoQIAAKxFqAAAAGsRKgAAwFqECgAAsBahAgAArEWoAAAA\n",
              "axEqAADAWoQKAACwFqECAACsRagAAABrESoAAMBahAoAALAWoQIAAKxFqAAAAGsRKgAAwFqECgAA\n",
              "sBahAgAArEWoAAAAaxEqAADAWoQKAACwFqECAACsRagAAABrESoAAMBahAoAALAWoQIAAKxFqAAA\n",
              "AGsRKgAAwFqECgAAsBahAgAArEWoAAAAaxEqAADAWoQKAACwFqECAACsRagAAABrESoAAMBahAoA\n",
              "ALAWoQIAAKxFqAAAAGsRKgAAwFqECgAAsBahAgAArEWoAAAAaxEqAADAWoQKAACwFqECAACsRagA\n",
              "AABrESoAAMBahAoAALAWoQIAAKxFqAAAAGsRKgAAwFqECgAAsJajobJr1y5lZWUpKSlJGRkZ2rp1\n",
              "62nXbdmyRddff726d++u7t27a8mSJU6OBQAAmohwJzeek5Oj7OxsjR49WosWLdLo0aO1bt26gDXf\n",
              "ffedBg8erAULFuiaa66Rz+fT4cOHnRwLAAA0EY69olJRUaH169drxIgRkqRhw4aprKxMxcXFAete\n",
              "fvll9e7dW9dcc40kKSwsTB06dKh3u9XV1aqsrAy4+Xw+p54GAAAIIcdCpaysTDExMQoPP/Wijcvl\n",
              "ksfjkdfrDVi3bds2ud1u3XLLLUpLS9M999yjr776qt7t5ubmKjIyMuC2du1ap54GAAAIoQaHyjvv\n",
              "vNOoA9TU1Ojdd99VXl6eNm7cqE6dOum+++6rd/3UqVN19OjRgFtmZmajzgQAAOzQ4FCZMWOGkpOT\n",
              "NWvWLFVWVta7Li4uTuXl5aqpqZEkGWPk9Xrl8XgC1nk8HvXp00edOnWSy+XSiBEj9Mknn9S7Xbfb\n",
              "rYiIiIBbWFhYQ58GAABoAhocKh999JFeeeUVff7550pKStKECRO0bdu2Ouuio6OVnp6ugoICSdLi\n",
              "xYsVGxurxMTEgHW333671q1b54+eZcuWKTU19WyeCwAAOM+c1TkqPXv21Lx58/T2229r6dKlSklJ\n",
              "0Y033qgtW7YErMvLy1NeXp6SkpI0c+ZM5efnS5LGjh2rwsJCSadeUXnkkUeUlZWllJQUrVy5UnPm\n",
              "zPmZTwsAAJwPzurfk999910999xz2rJli+6//37de++9ev/99/Wb3/wm4L96kpOTtXr16jo/P3/+\n",
              "/ID7I0eO1MiRI89mFAAAcB5rcKh0795d7du318SJEzV06FD/+SG33nqrXnjhhUYfEAAANF8NDpWC\n",
              "ggL16tXrtN9bvnz5zx4IAADgBw0+R+XTTz8N+OTYr7/+WvPmzWvUoQAAAKSzCJXZs2erXbt2/vtR\n",
              "UVGaPXt2ow4FAAAgnUWoGGPqPMZH2AMAACc0OFRiYmL073//23//1VdfVUxMTKMOBQAAIJ3FybTP\n",
              "PvusBg8erMmTJ0uSLr74Yr355puNPhgAAECDQ6Vbt27atm2bvvjiC0mnPiuFj7AHAABOOKsPfHO5\n",
              "XGrTpo1qamq0f/9+SapzDR8AAICfq8Gh8uKLL2rixIm64IIL1KLFqVNcXC6XKioqGn04AADQvDU4\n",
              "VP76179q3bp1Sk5OdmIeAAAAvwb/10/79u2JFAAAcE40OFSGDBmiZ599VhUVFaqsrPTfAAAAGluD\n",
              "3/p59NFHJUmTJk2Sy+WSMUYul4sPfQMAAI2uwaFSW1vrxBwAAAB1NPitH+nUhQlfeuklSdKRI0dU\n",
              "Xl7eqEMBAABIZ3lRwjFjxuixxx6TdOrqyXfddVdjzwUAANDwUJk7d64++eQTRURESJISEhL01Vdf\n",
              "NfpgAAAADQ4Vt9utli1bBjwWHn5WH3ALAABwRg0OlQ4dOmjnzp1yuVySTn1SLR+fDwAAnHBWV08e\n",
              "Pny4duzYobi4OEVERGjp0qVOzAYAAJq5BodKYmKi1qxZoy+++ELGGK6eDAAAHNPgUPF6vZKkVq1a\n",
              "SRJXTwYAAI5pcKj06tXL/4m0J06c0HfffaeoqCiungwAABpdg0Pl//4r8pIlS/TZZ5812kAAAAA/\n",
              "OKtPpv2xoUOH6q233mqMWQAAAAI0+BWVH18p2efzac2aNVw9GQAAOKLBodKmTRv/OSphYWHq2rWr\n",
              "/vGPfzgxGwAAaOa4ejIAALDWzz5HBQAAwCkNfkWlRYsW/o/P/zFjjFwul3w+X6MMBgAA0OBQmTFj\n",
              "hqqqqnTfffdJkubMmaOWLVvqD3/4Q2PPBgAAmrkGh8rrr7+uTz/91H//8ccfV69evfToo4826mAA\n",
              "AAANPkfl2LFjAZ9CW1FRoWPHjjXqUAAAANJZvKLy4IMPKjU1VQMGDJAkvf3223rssccaey4AAICG\n",
              "h0pOTo6uvvpqFRUVSZImTZqkyy+/vNEHAwAAaHCoSFJUVJSuvPJKXX/99aqpqdHJkyd14YUXNvZs\n",
              "AACgmWvwOSqLFi1S79699dvf/laStHXrVg0ZMqSx5wIAAGh4qOTm5mrDhg1q06aNJCk1NVV79+5t\n",
              "7LkAAAAaHiphYWGKiooKeIy3fQAAgBMaHCqXXHKJDh486P902vfee0/t2rVr9MEAAAAafDLtk08+\n",
              "qZtvvll79uzRNddco5KSEr311ltOzAYAAJq5BoVKbW2tfD6fioqK9PHHH8sYo6ysLP/5KgAAAI2p\n",
              "QaHSokULZWdn67PPPtPNN9/s1EwAAACSzuIcla5du6q4uNiJWQAAAAI0+ByVw4cPKy0tTVlZWWrd\n",
              "urX/8SVLljTqYAAAAEGHSnZ2tubOnatRo0Zp0KBBatu2rZNzAQAABB8q69evlySNGjVK6enp2rBh\n",
              "g2NDAQAASGdxjookGWMaew4AAIA6gn5FpaqqSlu2bJExRidOnPB//YOUlBRHBgQAAM1Xg0Jl0KBB\n",
              "/vs//trlcmnPnj2NOxkAAGj2gg6V0tJSB8cAAACo66zOUQEAADgXCBUAAGAtQgUAAFiLUAEAANYi\n",
              "VAAAgLUIFQAAYC1CBQAAWItQAQAA1iJUAACAtRwNlV27dikrK0tJSUnKyMjQ1q1b611rjFHfvn3V\n",
              "pk0bJ0cCAABNiKOhkpOTo+zsbO3cuVNTpkzR6NGj6137zDPPKCEhwclxAABAE+NYqFRUVGj9+vUa\n",
              "MWKEJGnYsGEqKytTcXFxnbVbt27VG2+8oYcffvgnt1tdXa3KysqAm8/na/T5AQBA6DkWKmVlZYqJ\n",
              "iVF4+KnrHrpcLnk8Hnm93oB133//vcaNG6e8vDyFhYX95HZzc3MVGRkZcFu7dq0jzwEAAIRWyE+m\n",
              "nT59uoYOHaru3bsHtX7q1Kk6evRowC0zM9PhKQEAQCiEO7XhuLg4lZeXq6amRuHh4TLGyOv1yuPx\n",
              "BKz74IMP5PV69fzzz6umpkaVlZWKj4/XunXr1KFDhzrbdbvdcrvdAY8F80oMAABoehx7RSU6Olrp\n",
              "6ekqKCiQJC1evFixsbFKTEwMWLdq1Srt3btXpaWl+vDDDxUREaHS0tLTRgoAAGheHH3rJy8vT3l5\n",
              "eUpKStLMmTOVn58vSRo7dqwKCwud/NUAAOA84NhbP5KUnJys1atX13l8/vz5p10fHx+vI0eOODkS\n",
              "AABoQkJ+Mi0AAEB9CBUAAGAtQgUAAFiLUAEAANYiVAAAgLUIFQAAYC1CBQAAWItQAQAA1iJUAACA\n",
              "tQgVAABgLUIFAABYi1ABAADWIlQAAIC1CBUAAGAtQgUAAFiLUAEAANYiVAAAgLUIFQAAYC1CBQAA\n",
              "WItQAQAA1iJUAACAtQgVAABgLUIFAABYi1ABAADWIlQAAIC1CBUAAGAtQgUAAFiLUAEAANYiVAAA\n",
              "gLUIFQAAYC1CBQAAWItQAQAA1iJUAACAtQgVAABgLUIFAABYi1ABAADWIlQAAIC1CBUAAGAtQgUA\n",
              "AFiLUAEAANYiVAAAgLUIFQAAYC1CBQAAWItQAQAA1iJUAACAtQgVAABgLUIFAABYi1ABAADWIlQA\n",
              "AIC1CBUAAGAtQgUAAFiLUAEAANYiVAAAgLUIFQAAYC1CBQAAWItQAQAA1iJUAACAtQgVAABgLUIF\n",
              "AABYi1ABAADWIlQAAIC1CBUAAGAtR0Nl165dysrKUlJSkjIyMrR169Y6a1auXKnMzEz16NFDl19+\n",
              "uSZPnqza2lonxwIAAE2Eo6GSk5Oj7Oxs7dy5U1OmTNHo0aPrrGnbtq1eeeUVbdu2TZ9++qk+/vhj\n",
              "LViwwMmxAABAE+FYqFRUVGj9+vUaMWKEJGnYsGEqKytTcXFxwLqePXuqS5cukqSLLrpIaWlpKi0t\n",
              "rXe71dXVqqysDLj5fD6nngYAAAghx0KlrKxMMTExCg8PlyS5XC55PB55vd56f+bAgQNatGiRbrnl\n",
              "lnrX5ObmKjIyMuC2du3aRp8fAACEnjUn01ZWVmrgwIGaPHmyrrrqqnrXTZ06VUePHg24ZWZmnsNJ\n",
              "AQDAuRLu1Ibj4uJUXl6umpoahYeHyxgjr9crj8dTZ+2xY8fUv39/DR48WJMmTTrjdt1ut9xud8Bj\n",
              "YWFhjTo7AACwg2OvqERHRys9PV0FBQWSpMWLFys2NlaJiYkB644fP67+/furf//++tOf/uTUOAAA\n",
              "oAly9K2fvLw85eXlKSkpSTNnzlR+fr4kaezYsSosLJQkzZo1S2vXrtWSJUuUlpamtLQ0/e1vf3Ny\n",
              "LAAA0EQ49taPJCUnJ2v16tV1Hp8/f77/60cffVSPPvqok2MAAIAmypqTaQEAAP4vQgUAAFiLUAEA\n",
              "ANYiVAAAgLUIFQAAYC1CBQAAWItQAQAA1iJUAACAtQgVAABgLUIFAABYi1ABAADWIlQAAIC1CBUA\n",
              "AGAtQgUAAFiLUAEAANYiVAAAgLUIFQAAYC1CBQAAWItQAQAA1iJUAACAtQgVAABgLUIFAABYi1AB\n",
              "AADWIlQAAIC1CBUAAGAtQgUAAFiLUAEAANYiVAAAgLUIFQAAYC1CBQAAWItQAQAA1iJUAACAtQgV\n",
              "AABgLUIFAABYi1ABAADWIlQAAIC1CBUAAGAtQgUAAFiLUAEAANYiVAAAgLUIFQAAYC1CBQAAWItQ\n",
              "AQAA1iJUAACAtQgVAABgLUIFAABYi1ABAADWIlQAAIC1CBUAAGAtQgUAAFiLUAEAANYiVAAAgLUI\n",
              "FQAAYC1CBQAAWItQAQAA1iJUAACAtQgVAABgLUIFAABYi1ABAADWIlQAAIC1CBUAAGAtR0Nl165d\n",
              "ysrKUlJSkjIyMrR169bTrnvhhRfUtWtXJSQkaNy4cfr++++dHAsAADQRjoZKTk6OsrOztXPnTk2Z\n",
              "MkWjR4+us6akpETTpk3TqlWrVFxcrIMHD2ru3LlOjgUAAJoIx0KloqJC69ev14gRIyRJw4YNU1lZ\n",
              "mYqLiwPWLVq0SIMGDVLHjh3lcrk0fvx4LVy4sN7tVldXq7KyMuDm8/mcehoAACCEwp3acFlZmWJi\n",
              "YhQefupXuFwueTweeb1eJSYm+td5vV517tzZfz8+Pl5er7fe7ebm5mr69OkBj3Xr1k2TJk1q1Pl9\n",
              "Pp9i1q5VZmamwsLCGnXbkjRp0nuNvs1Q8vl8Wuvg/rLR0LP8uZ/aV+fbsfFzNMfj6kzOdMz93H3V\n",
              "nI678/W4Otu/SWfi8/n0P//zuGP7qnPnznrggQfOuMaxUHHK1KlT60SJ2+2W2+1u1N9TWVmpyMhI\n",
              "vfPOO4qIiGjUbZ+P2F/BY18Fj30VPPZV8NhXwbNhXzkWKnFxcSovL1dNTY3Cw8NljJHX65XH4wlY\n",
              "5/F4tHv3bv/90tLSOmt+zIkoAQAAdnLsHJXo6Gilp6eroKBAkrR48WLFxsYGvO0jnTp3pbCwUAcO\n",
              "HJAxRnPmzNGdd97p1FgAAKAJcfS/fvLy8pSXl6ekpCTNnDlT+fn5kqSxY8eqsLBQktSlSxdNnz5d\n",
              "V199tRITE9WhQwfl5OQ4ORYAAGgiHD1HJTk5WatXr67z+Pz58wPujxs3TuPGjXNylAZzu936y1/+\n",
              "wttMQWJ/BY99FTz2VfDYV8FjXwXPhn3lMsaYkP12AACAM+Aj9AEAgLUIFQAAYC1CBQAAWItQAQAA\n",
              "1mr2ocIVnoMXzL56//331bJlS6WlpflvVVVVIZg2tCZOnKj4+Hi5XC5t2rSp3nUcV8HtK46rU06c\n",
              "OKEhQ4YoKSlJqampuvHGG+tcP+0HS5cuVbdu3dS1a1cNHTpUlZWV53ja0Ap2X5WWliosLCzg2Prx\n",
              "h5A2FzfddJNSUlKUlpama6+9Vhs3bjztupD8zTLNXJ8+fUx+fr4xxpjXXnvNXHXVVXXW7Nmzx8TE\n",
              "xJjy8nJTW1trBg4caJ5//vlzPGnoBbOvioqKTGpq6rkdzEIffPCBKSsrM507dzYbN2487RqOq1OC\n",
              "2VccV6dUVVWZt956y9TW1hpjjHnuuefMr371qzrrjh07ZqKjo8327duNMcbcf//95qGHHjqXo4Zc\n",
              "sPuqpKTEREZGntvhLPTNN9/4v16yZIlJSUmpsyZUf7Oa9SsqTl3h+XwU7L7CKdddd51iY2PPuIbj\n",
              "6pRg9hVOueiiizRgwAC5XC5JUu/evVVaWlpn3fLly9WzZ09169ZNkjRhwoRmd2wFu69wSps2bfxf\n",
              "Hz161L/ffixUf7Oadaic6QrPP9bQKzyfj4LdV5K0e/dupaenKyMjQ7Nnzz7XozYZHFcNw3FV16xZ\n",
              "szR48OA6j5/u2Prh2mvNVX37SpK+/fZbZWRkKD09XTNmzJDP5zvH09nhnnvuUVxcnKZNm6aXXnqp\n",
              "zvdD9TeryV09GXZLT0/Xvn37FBkZqX379mnAgAFq3769br/99lCPhiaM46quJ554QsXFxXrvvfdC\n",
              "PYr1zrSvYmJitH//fkVHR+vw4cO644479PTTT2vy5MkhmDS0FixYIEn617/+pSlTpmjZsmUhnuiU\n",
              "Zv2Kyo+v8CzpjFd43rt3r//+T13h+XwU7L6KiIhQZGSkJCk2NlbDhw/XqlWrzvm8TQHHVfA4rgI9\n",
              "9dRTWrJkiZYvX66LL764zvdPd2z9+BXR5uSn9pXb7VZ0dLQkqV27dhozZkyzPrYkadSoUSoqKtLX\n",
              "X38d8Hio/mY161DhCs/BC3ZflZeXq7a2VpJ07NgxLV26VD179jzn8zYFHFfB47j6//7+979r4cKF\n",
              "WrFiRcB5BT/Wv39/bdiwQTt27JAkzZ49u1keW8Hsq4qKCv9/rlRXV2vJkiXN7tg6cuSIvvzyS//9\n",
              "N954Q1FRUWrXrl3AupD9zXL8dF3L7dixw/Tu3dt07drV9OrVy2zevNkYY8y9995r3nzzTf+6uXPn\n",
              "mi5dupguXbqYMWPGmJMnT4Zq5JAJZl8999xzpkePHiYlJcX06NHD/OUvf/Gfdd+cZGdnm06dOpmw\n",
              "sDATHR1tEhISjDEcV6cTzL7iuDqlrKzMSDJdunQxqampJjU11WRmZhpjjJk2bZr55z//6V/75ptv\n",
              "muTkZJOQkGAGDx5sjhw5EqqxQyLYfbV48WJz+eWX+4+t3/3ud+bEiROhHP2cKy0tNRkZGeaKK64w\n",
              "KSkppl+/fv7/wLPhbxYXJQQAANZq1m/9AAAAuxEqAADAWoQKAACwFqECAACsRagAAABrESoAAMBa\n",
              "hAoAALAWoQIAAKxFqAAAAGsRKgAAwFr/D0CEthX9p9zhAAAAAElFTkSuQmCC\n",
              "\">\n",
              "      </div>\n",
              "      <script type=\"text/javascript\">\n",
              "        (() => {\n",
              "          const chartElement = document.getElementById(\"chart-908c96ed-5e2a-496d-97b1-eb925db2cc10\");\n",
              "          async function getCodeForChartHandler(event) {\n",
              "            const chartCodeResponse =  await google.colab.kernel.invokeFunction(\n",
              "                'getCodeForChart', [\"chart-908c96ed-5e2a-496d-97b1-eb925db2cc10\"], {});\n",
              "            const responseJson = chartCodeResponse.data['application/json'];\n",
              "            await google.colab.notebook.addCell(responseJson.code, 'code');\n",
              "          }\n",
              "          chartElement.onclick = getCodeForChartHandler;\n",
              "        })();\n",
              "      </script>\n",
              "      <style>\n",
              "        .colab-quickchart-chart-with-code  {\n",
              "            display: block;\n",
              "            float: left;\n",
              "            border: 1px solid transparent;\n",
              "        }\n",
              "\n",
              "        .colab-quickchart-chart-with-code:hover {\n",
              "            cursor: pointer;\n",
              "            border: 1px solid #aaa;\n",
              "        }\n",
              "      </style>"
            ]
          },
          "metadata": {}
        },
        {
          "output_type": "display_data",
          "data": {
            "text/plain": [
              "<google.colab._quickchart_helpers.SectionTitle at 0x7d435305efe0>"
            ],
            "text/html": [
              "<h4 class=\"colab-quickchart-section-title\">2-d distributions</h4>\n",
              "<style>\n",
              "  .colab-quickchart-section-title {\n",
              "      clear: both;\n",
              "  }\n",
              "</style>"
            ]
          },
          "metadata": {}
        },
        {
          "output_type": "display_data",
          "data": {
            "text/plain": [
              "from matplotlib import pyplot as plt\n",
              "af.plot(kind='scatter', x='First_C', y='Second_C', s=32, alpha=.8)\n",
              "plt.gca().spines[['top', 'right',]].set_visible(False)"
            ],
            "text/html": [
              "      <div class=\"colab-quickchart-chart-with-code\" id=\"chart-b37b38ae-204c-48da-b3b3-a0d151a7b36b\">\n",
              "        <img style=\"width: 180px;\" src=\"data:image/png;base64,iVBORw0KGgoAAAANSUhEUgAAAisAAAGlCAYAAAA7/LYdAAAAOXRFWHRTb2Z0d2FyZQBNYXRwbG90\n",
              "bGliIHZlcnNpb24zLjcuMSwgaHR0cHM6Ly9tYXRwbG90bGliLm9yZy/bCgiHAAAACXBIWXMAAA9h\n",
              "AAAPYQGoP6dpAAAkSUlEQVR4nO3df1BVdf7H8dflXrigCGrCYkvA8kNdM/lRGugWNa1ZzqautqWN\n",
              "lRmoZevOUlPjttbatwlrismxNXUyq7XYGjUzS9tqtKU1tVK2ybLEvCIGarrya+HCvZzvH07UXcAA\n",
              "7+V+lOdj5sx47/10eHsGT8+599x7bZZlWQIAADBUSLAHAAAAOBNiBQAAGI1YAQAARiNWAACA0YgV\n",
              "AABgNGIFAAAYjVgBAABGI1YAAIDRzptYWbJkSbBHAAAAAXDexMqhQ4eCPQIAAAiA8yZWAADA+YlY\n",
              "AQAARiNWAACA0YgVAABgNGIFAAAYjVgBAABGI1YAAIDRiBUAAGA0YgUAABiNWAEAAEYjVgAAQIca\n",
              "m736rs6txmZv0GZwBO0nAwAAYx2vdWvNDpe2fH5UDc1eRYTadf2IOM3ISdSgSGePzhLwZ1auvfZa\n",
              "jRw5UhkZGbriiiu0Z8+edtetWrVKaWlpSklJUX5+vpqbmwM9GgAAaMfxWrd+X7xHL+8sV73bI0eI\n",
              "TfVuj9bsPKR7Xtmj7+rcPTpPwGPltdde02effabS0lIVFBRo5syZbdYcPHhQCxcuVElJicrKynT0\n",
              "6FGtXLky0KMBAIB2rNnhUtmxWsVEOjWgb5j6Oh0a0DdMMZFOlR2r1ZqPDvXoPAGPlf79+7f+ubq6\n",
              "Wjabrc2atWvXauLEiYqLi5PNZtPcuXNVXFzc4T7dbrdqamp8Nq83eK+lAQBwvmhs9mrL50cV7rDL\n",
              "YffNBIc9RE6HXZv3VvXoNSw9cs3Kbbfdpq1bt0qS3n777TaPl5eXKzExsfV2UlKSysvLO9xfYWGh\n",
              "Fi1a5HNfdna2n6YFAKD3qnN71NDsVZij/ecznI4QNTR5Vef2KDzU3iMz9ci7gV566SUdPnxYjz76\n",
              "qB544IGz3t+CBQtUXV3ts40ePdoPkwIA0LtFOh2KCLWrydPS7uNuT4siwuyKdPbce3R69K3Lt99+\n",
              "u7Zu3aoTJ0743J+QkKBDh354/cvlcikhIaHD/TidTkVFRflsdnvP1B0AAOez8FC7rhvxMzV6vPJ4\n",
              "fYPF422R2+PV9RfH9dizKlKAY+XUqVP69ttvW29v2LBBF1xwgQYOHOizburUqdq4caOqqqpkWZaW\n",
              "L1+uadOmBXI0AADQgVtzkpQa20/H69w6Wd+kerdHJ+ubdLzOrbTYfpqRk/jTO/GjgD6HU11drd/9\n",
              "7ndqaGhQSEiIYmJitGnTJtlsNuXl5WnixImaOHGikpOTtWjRIo0dO1aSdNVVV2nOnDmBHA0AAHRg\n",
              "UKRTz9ySqTUfHdLmvVVqaPIqMtyh310cH5TPWbFZlmX16E8MkIKCAhUVFQV7DAAAziuNzacvpo10\n",
              "Onr0pZ8f4xNsAQBAh8JD7UGLlO/x3UAAAMBoxAoAADAasQIAAIxGrAAAAKMRKwAAwGjECgAAMBqx\n",
              "AgAAjEasAAAAoxErAADAaMQKAAAwGrECAACMRqwAAACjESsAAMBoxAoAADAasQIAAIxGrAAAAKMR\n",
              "KwAAwGjECgAAMBqxAgAAjEasAAAAoxErAADAaMQKAAAwGrECAACMRqwAAACjESsAAMBoxAoAADAa\n",
              "sQIAAIxGrAAAAKMRKwAAwGjECgAAMBqxAgAAjEasAAAAoxErAADAaMQKAAAwGrECAACMRqwAAACj\n",
              "ESsAAMBoxAoAADAasQIAAIxGrAAAAKMRKwAAwGjECgAAMBqxAgAAjEasAAAAoxErAADAaMQKAAAw\n",
              "WkBjpbGxUZMnT9aQIUOUnp6ucePGqaysrM06l8slu92ujIyM1u3AgQOBHA0AAJwjHIH+AbNnz9b1\n",
              "118vm82mZ555Rnl5edq2bVubdf369VNpaWmgxwEAAOeYgD6zEh4ergkTJshms0mSsrOz5XK5znq/\n",
              "brdbNTU1PpvX6z3r/QIAAPP06DUrS5Ys0aRJk9p9rL6+XqNGjVJWVpYeeeSRM8ZHYWGhoqOjfbZd\n",
              "u3YFamwAABBEPRYrjz32mMrKylRYWNjmscGDB+vIkSP6+OOP9d5776mkpERPPfVUh/tasGCBqqur\n",
              "fbbRo0cHcnwAABAkPRIrTz75pNavX6/NmzerT58+bR53Op2KjY2VJA0cOFCzZs1SSUlJh/tzOp2K\n",
              "iory2ex2e8DmBwAAwRPwWCkqKlJxcbHeffdd9e/fv901x44dU3Nzs6TT16OsX79emZmZgR4NAACc\n",
              "AwIaKxUVFbr33nt16tQpXX311crIyNDll18uSXrooYe0fPlySdKHH36ozMxMpaenKysrS3FxcXrw\n",
              "wQcDORoAADhH2CzLsoI9hD8UFBSoqKgo2GMAAAA/4xNsAQCA0YgVAABgNGIFAAAYjVgBAABGI1YA\n",
              "AIDRiBUAAGA0YgUAABiNWAEAAEYjVgAAgNGIFQAAYDRiBQAAGI1YAQAARiNWAACA0YgVAABgNGIF\n",
              "AAAYjVgBAABGI1YAAIDRiBUAAGA0YgUAABiNWAEAAEYjVgAAgNGIFQAAYDRiBQAAGI1YAQAARiNW\n",
              "AACA0YgVAABgNGIFAAAYjVgBAABGI1YAAIDRiBUAAGA0YgUAABiNWAEAAEYjVgAAgNGIFQAAYDRi\n",
              "BQAAGI1YAQAARiNWAACA0YgVAABgNGIFAAAYjVgBAABGI1YAAIDRiBUAAGA0YgUAABiNWAEAAEYj\n",
              "VgAAgNGIFQA4TzQ2e/VdnVuNzd5gjwL4lSPYAwAAzs7xWrfW7HBpy+dH1dDsVUSoXdePiNOMnEQN\n",
              "inQGezzgrAX0mZXGxkZNnjxZQ4YMUXp6usaNG6eysrJ2127atEnDhg1TWlqapkyZopqamkCOBgDn\n",
              "heO1bv2+eI9e3lmuerdHjhCb6t0erdl5SPe8skff1bmDPSJw1gL+MtDs2bP11Vdf6d///rcmTZqk\n",
              "vLy8Nmvq6up05513asOGDdq/f78uvPBC/d///V+gRwOAc96aHS6VHatVTKRTA/qGqa/ToQF9wxQT\n",
              "6VTZsVqt+ehQsEcEzlpAYyU8PFwTJkyQzWaTJGVnZ8vlcrVZt3nzZmVmZmrYsGGSpLvvvlvFxcUd\n",
              "7tftdqumpsZn83p5jRZA79LY7NWWz48q3GGXw+57OnfYQ+R02LV5bxXXsOCc16MX2C5ZskSTJk1q\n",
              "c395ebkSExNbbyclJamyslIej6fd/RQWFio6Otpn27VrV8DmBgAT1bk9amj2KszR/qnc6QhRQ5NX\n",
              "de72z6XAuaLHYuWxxx5TWVmZCgsLz3pfCxYsUHV1tc82evRoP0wJAOeOSKdDEaF2NXla2n3c7WlR\n",
              "RJhdkU7eS4FzW4/EypNPPqn169dr8+bN6tOnT5vHExISdOjQD6+rulwuDR48WA5H+//AnE6noqKi\n",
              "fDa73R6w+QHAROGhdl034mdq9Hjl8foGi8fbIrfHq+svjlN4KOdHnNsCHitFRUUqLi7Wu+++q/79\n",
              "+7e75rrrrtPu3bu1b98+SdKyZcs0bdq0QI8GAOe8W3OSlBrbT8fr3DpZ36R6t0cn65t0vM6ttNh+\n",
              "mpGT+NM7AQwX0OcGKyoqdO+99yo5OVlXX321pNPPiuzcuVMPPfSQLrzwQs2dO1f9+vXTc889p8mT\n",
              "J8vj8WjEiBF68cUXAzkaAJwXBkU69cwtmVrz0SFt3lulhiavIsMd+t3F8XzOCs4bNsuyrGAP4Q8F\n",
              "BQUqKioK9hgAEDSNzacvpo10OnjpB+cVrroCgPNEeKidSMF5ie8GAgAARiNWAACA0YgVAABgNGIF\n",
              "AAAYjVgBAABGI1YAAIDRiBUAAGA0YgUAABiNWAEAAEYjVgAAgNGIFQAAYDRiBQAAGI1YAQAARiNW\n",
              "AACA0YgVAABgNGIFAAAYjVgBAABGI1YAAIDRiBUAAGA0YgUAABiNWAEAAEYjVgAAgNGIFQAAYDRi\n",
              "BQAAGI1YAQAARutSrCxevFhLly5tc//SpUv1xBNP+G0oAACA73UpVtauXav8/Pw29+fl5emVV17x\n",
              "21AAAADf61KsWJal8PDwNvdHRETIsiy/DQUAAPC9LsXKqVOn2o2SlpYW1dbW+m0oAACA73UpVnJz\n",
              "c/Xoo4+2ub+wsFC5ubl+GwoAAOB7jq4sfvzxx5Wbm6u33npLOTk5kqQdO3bo1KlT+uCDDwIyIAAA\n",
              "6N269MxKTEyMdu/erdmzZ6upqUlNTU3Kz8/X7t27FRsbG6gZAQBAL9alZ1YkKTw8XLNmzdKsWbM6\n",
              "XHPrrbfqb3/721kNBgAAIAXoQ+H27t0biN0CAIBeiE+wBQAARiNWAACA0YgVAABgtIDEit1uD8Ru\n",
              "AQBAL9SldwOVl5ef8fGEhARJ0scff9z9iQAAAH6kS7Fy6aWXymazSZJOnDih0NBQSVJzc7MuuOAC\n",
              "HTt2zP8TAgCAXq1LsXL8+HFJ0gMPPKDU1FTdeeedkqTnn39eBw4c8P90AACg1+vWNSvvvPOO8vPz\n",
              "FRISopCQEOXl5WnLli3+ng0AAKB7sdLU1KSvvvqq9fbXX38tt9vtt6EAAAC+1+WP25ekxYsXa+zY\n",
              "sUpPT5ckffbZZ3r++ef9OhgAAIDUzViZOHGivvjiC+3cuVOSlJOTo0GDBvl1MAAAAKmbsSJJsbGx\n",
              "uuGGG/w5CwAAQBvdumZly5YtGjZsmMLCwmS32xUSEtLhB8HNnz9fSUlJstlsKi0tbXfNtm3bFBER\n",
              "oYyMjNatoaGhO6MBAIDzTLeeWZk/f76WLl2qnJycn/y02htvvFH333+/fvWrX51x3dChQzuMGQAA\n",
              "0Ht1K1aioqI0fvz4Tq298soru/Mjzsjtdrd595HX6/X7zwEAAMHXrZeBfvOb32jDhg1+HeTAgQPK\n",
              "ysrSqFGjtGzZsjOuLSwsVHR0tM+2a9cuv84DAADMYLMsy+rqfzRgwABVV1crIiJCTqdTlmXJZrPp\n",
              "5MmTHf43SUlJ2rBhgzIyMto8VlNTI8uyFB0drYqKCk2YMEF//vOfddNNN7W7r/aeWVm4cKGWLFnS\n",
              "1b8KAAAwXLdeBvL3tSVRUVGtf46Pj9f06dNVUlLSYaw4nU45nU6f+/imZwAAzk/dehkoMTFRMTEx\n",
              "OnLkiI4cOaKYmBglJiZ2e4jKykq1tLRIkmpra7Vp0yZlZmZ2e38AAOD80a1Y2b59u1JSUjRv3jzN\n",
              "mzdPqamp+uijj9pdO2fOHMXHx6uiokLjx49XamqqJCkvL08bN26UJK1bt06XXHKJ0tPTlZ2drXHj\n",
              "xumOO+7o5l8JAACcT7p1zUp2draeeuopjR07VtLpeCkoKNCOHTv8PmBnFRQUqKioKGg/HwAABEa3\n",
              "nllpaGhoDRVJGjNmjBobG/02FAAAwPe6FSuRkZF67733Wm+///776tu3r9+GAgAA+F633g20ZMkS\n",
              "TZ06tfUdOC0tLVq/fr1fBwMAAJC6GSuXXXaZysrK9NVXX0k6/VH5oaGhfh0MAABA6ubLQG+++abq\n",
              "6+s1YsQIjRgxQnV1dXrrrbf8PRsAAED3YmXhwoXq379/6+3+/ftr4cKF/poJAACgVbdi5X/ZbDa+\n",
              "SBAAAAREt2KlX79+2r59e+vtf/3rX+rXr5/fhgIAAPhety6wfeKJJ/Tb3/5Ww4YNkyTt379fr7/+\n",
              "ul8HAwAAkLoZKzk5Ofryyy9bP2J/zJgxPtewAAAA+Eu3r1n55ptvdOLECU2YMEHS6S8jBAAA8Ldu\n",
              "xcqyZcs0a9Ys/eUvf5EknThxQrfccos/5wIAAJDUzVhZuXKlduzYoaioKElSSkqKjh8/7tfBAAAA\n",
              "pG7GitPpVEREhM99Dke3Ln8BAAA4o27FSkxMjL7++mvZbDZJ0gsvvKCEhAS/DgYAACB1891ATz/9\n",
              "tKZPn659+/bpoosuUlRUlDZt2uTv2QAAALoXK6mpqdq5c6f27t2rN998U5dccol+8Ytf+Hs2AACA\n",
              "rr0M9Otf/1qlpaWSpKqqKuXm5qqkpET333+/Hn/88UDMBwAAerkuxcqRI0eUkZEhSXrllVeUm5ur\n",
              "zZs3a/v27Xr55ZcDMR8AAOjluhQrP34H0Pbt21s/EG7AgAG8GwgAAAREl2IlJCREFRUVqqur0wcf\n",
              "fKDc3NzWx/773//6fTgAAIAuPR3ypz/9SZmZmXI4HLr66qs1ZMgQSaefZUlKSgrEfAAAoJfrUqxM\n",
              "mTJFY8aM0dGjRzVy5MjW+5OSkrRy5Uq/DwcAANDlC03i4uIUFxfnc9+FF17ot4EAAAB+rNvfugwA\n",
              "ANATiBUAAGA0YgUAABiNWAEAAEYjVgAAgNGIFQAAYDRiBQAAGI1YAQAARiNWAACA0YgVAABgNGIF\n",
              "AAAYjVgBAABGI1YAAIDRiBUAAGA0YgUAABiNWAEAAEYjVgAAgNGIFQAAYDRiBQAAGI1YAQAARiNW\n",
              "AACA0YgVIAgam736rs6txmZvsEcBAOM5gj0A0Jscr3VrzQ6Xtnx+VA3NXkWE2nX9iDjNyEnUoEhn\n",
              "sMcDACMF/JmV+fPnKykpSTabTaWlpR2uW7VqldLS0pSSkqL8/Hw1NzcHejSgRx2vdev3xXv08s5y\n",
              "1bs9coTYVO/2aM3OQ7rnlT36rs4d7BEBwEgBj5Ubb7xRH374oRITEztcc/DgQS1cuFAlJSUqKyvT\n",
              "0aNHtXLlykCPBvSoNTtcKjtWq5hIpwb0DVNfp0MD+oYpJtKpsmO1WvPRoWCPCABGCnisXHnllYqP\n",
              "jz/jmrVr12rixImKi4uTzWbT3LlzVVxc3OF6t9utmpoan83r5bV/mKux2astnx9VuMMuh933n53D\n",
              "HiKnw67Ne6u4hgUA2mHEBbbl5eU+z7wkJSWpvLy8w/WFhYWKjo722Xbt2tUTowLdUuf2qKHZqzBH\n",
              "+//knI4QNTR5Vef29PBkAGA+I2KlqxYsWKDq6mqfbfTo0cEeC+hQpNOhiFC7mjwt7T7u9rQoIsyu\n",
              "SCfXvAPA/zIiVhISEnTo0A+v17tcLiUkJHS43ul0Kioqymez2+09MSrQLeGhdl034mdq9Hjl8foG\n",
              "i8fbIrfHq+svjlN4KL/HAPC/jIiVqVOnauPGjaqqqpJlWVq+fLmmTZsW7LEAv7o1J0mpsf10vM6t\n",
              "k/VNqnd7dLK+Scfr3EqL7acZOR1fhA4AvVnAY2XOnDmKj49XRUWFxo8fr9TUVElSXl6eNm7cKElK\n",
              "Tk7WokWLNHbsWKWmpiomJkZz5swJ9GhAjxoU6dQzt2RqxuWJigx3yNNiKTLcoRmXJ2rpLZl8zgoA\n",
              "dMBmWZYV7CH8oaCgQEVFRcEeA+iUxubTF9NGOh289AMAP4Gr+YAgCA+1EykA0ElGXLMCAADQEWIF\n",
              "AAAYjVgBAABGI1YAAIDRiBUAAGA0YgUAABiNWAEAAEYjVgAAgNGIFQAAYDRiBQAAGI1YAQAARiNW\n",
              "AACA0YgVAABgNGIFAAAYjVgBAABGI1YAAIDRiBUAAGA0YgUAABiNWAEAAEYjVgAAgNGIFQAAYDRi\n",
              "BQAAGI1YAQAARiNWAACA0YgVAABgNGIFAAAYjVgBAABGI1YAAIDRiBUAAGA0YgUAABiNWAEAAEYj\n",
              "VgAAgNGIFQAAYDRiBQAAGI1YAQAARiNWAACA0YgVAABgNGIFAAAYjVgBAABGI1YAAIDRiBUAAGA0\n",
              "YgUAABiNWAEAAEYjVgAAgNGIFQAAYDRiBQAAGC3gsbJ//36NGTNGQ4YM0ahRo7R37942a7Zt26aI\n",
              "iAhlZGS0bg0NDYEeDQAAnAMcgf4Bc+bM0ezZszVz5kytXbtWM2fO1Mcff9xm3dChQ1VaWhrocQAA\n",
              "wDkmoM+sHDt2TJ988olmzJghSZo6daoOHz6ssrKys9qv2+1WTU2Nz+b1ev0xMgAAMExAY+Xw4cMa\n",
              "PHiwHI7TT+DYbDYlJCSovLy8zdoDBw4oKytLo0aN0rJly86438LCQkVHR/tsu3btCsjfAQAABJcR\n",
              "F9hmZWWpoqJCu3fv1uuvv67ly5frtdde63D9ggULVF1d7bONHj26BycGAAA9JaCxctFFF6myslIe\n",
              "j0eSZFmWysvLlZCQ4LMuKipK0dHRkqT4+HhNnz5dJSUlHe7X6XQqKirKZ7Pb7YH7iwAAgKAJaKzE\n",
              "xsYqKytLa9askSStW7dO8fHxSk1N9VlXWVmplpYWSVJtba02bdqkzMzMQI4GAADOEQF/GWjFihVa\n",
              "sWKFhgwZosWLF2v16tWSpLy8PG3cuFHS6Yi55JJLlJ6eruzsbI0bN0533HFHoEcDAADnAJtlWVaw\n",
              "h/CHgoICFRUVBXsMAADgZ0ZcYAsAANARYgUAABiNWAEAAEYjVgAAgNGIFQAAYDRiBQAAGI1YAQAA\n",
              "RiNWAACA0YgVAABgNGIFAAAYjVgBAABGI1YAAIDRiBUAAGA0YgUAABiNWAEAAEYjVgAAgNGIFQAA\n",
              "YDRiBQAAGI1YAQAARiNWAACA0YgVAABgNGIFAAAYjVgBAABGI1YAAIDRiBUAAGA0YgUAABiNWAEA\n",
              "AEYjVgAAgNGIFQAAYDRiBQAAGI1YAQAARiNWAACA0YgVAABgNGIFAAAYjVgBAABGI1YAAIDRiBUA\n",
              "AGA0YgUAABiNWAEAAEYjVgAAgNGIFQAAYDRiBQAAGI1YAQAARiNWAACA0YgVAABgNGLlDBqbvfqu\n",
              "zq3GZm+wRwEAoNdyBHsAEx2vdWvNDpe2fH5UDc1eRYTadf2IOM3ISdSgSGewxwMAoFcJ+DMr+/fv\n",
              "15gxYzRkyBCNGjVKe/fubXfdqlWrlJaWppSUFOXn56u5uTnQo7XreK1bvy/eo5d3lqve7ZEjxKZ6\n",
              "t0drdh7SPa/s0Xd17qDMBQBAbxXwWJkzZ45mz56tr7/+Wg888IBmzpzZZs3Bgwe1cOFClZSUqKys\n",
              "TEePHtXKlSsDPVq71uxwqexYrWIinRrQN0x9nQ4N6BummEinyo7Vas1Hh4IyFwAAvVVAY+XYsWP6\n",
              "5JNPNGPGDEnS1KlTdfjwYZWVlfmsW7t2rSZOnKi4uDjZbDbNnTtXxcXFHe7X7XarpqbGZ/N6z/66\n",
              "ksZmr7Z8flThDrscdt9D47CHyOmwa/PeKq5hAQCgBwU0Vg4fPqzBgwfL4Th9aYzNZlNCQoLKy8t9\n",
              "1pWXlysxMbH1dlJSUps1P1ZYWKjo6GifbdeuXWc9b53bo4Zmr8Ic7R8WpyNEDU1e1bk9Z/2zAABA\n",
              "55yT7wZasGCBqqurfbbRo0ef9X4jnQ5FhNrV5Glp93G3p0URYXZFOrkuGQCAnhLQWLnoootUWVkp\n",
              "j+f0MxGWZam8vFwJCQk+6xISEnTo0A/XgrhcrjZrfszpdCoqKspns9vtZz1veKhd1434mRo9Xnm8\n",
              "vsHi8bbI7fHq+ovjFB569j8LAAB0TkBjJTY2VllZWVqzZo0kad26dYqPj1dqaqrPuqlTp2rjxo2q\n",
              "qqqSZVlavny5pk2bFsjROnRrTpJSY/vpeJ1bJ+ubVO/26GR9k47XuZUW208zchJ/eicAAMBvAv4y\n",
              "0IoVK7RixQoNGTJEixcv1urVqyVJeXl52rhxoyQpOTlZixYt0tixY5WamqqYmBjNmTMn0KO1a1Ck\n",
              "U8/ckqkZlycqMtwhT4ulyHCHZlyeqKW3ZPI5KwAA9DCbZVlWsIfwh4KCAhUVFfl1n43Npy+mjXQ6\n",
              "eOkHAIAg4UrRMwgPtRMpAAAE2Tn5biAAANB7ECsAAMBoxAoAADAasQIAAIxGrAAAAKMRKwAAwGjE\n",
              "CgAAMBqxAgAAjEasAAAAoxErAADAaOfNdwNNmTJFSUlJft2n1+vVrl27NHr0aNntfOz+mXCsuobj\n",
              "1Xkcq87jWHUex6rzAn2sEhMT9Yc//OGMa86bWAmEmpoaRUdHq7q6WlFRUcEex2gcq67heHUex6rz\n",
              "OFadx7HqPBOOFS8DAQAAoxErAADAaMQKAAAwGrFyBk6nUw8//LCcTmewRzEex6prOF6dx7HqPI5V\n",
              "53GsOs+EY8UFtgAAwGg8swIAAIxGrAAAAKMRKwAAwGjEiqT58+crKSlJNptNpaWlHa5btWqV0tLS\n",
              "lJKSovz8fDU3N/fckIbozLHatm2bIiIilJGR0bo1NDT07KAGaGxs1OTJkzVkyBClp6dr3LhxKisr\n",
              "a3ftpk2bNGzYMKWlpWnKlCmqqanp4WmDq7PHyuVyyW63+/xuHThwIAgTB9e1116rkSNHKiMjQ1dc\n",
              "cYX27NnT7jrOWZ07VpyzfK1evVo2m00bNmxo9/GgnK8sWB988IF1+PBhKzEx0dqzZ0+7a7755htr\n",
              "8ODBVmVlpdXS0mLdcMMN1jPPPNOzgxqgM8dq69atVnp6eo/OZaKGhgbrrbfeslpaWizLsqylS5da\n",
              "ubm5bdbV1tZasbGx1pdffmlZlmXNmzfPuu+++3py1KDr7LE6ePCgFR0d3bPDGeg///lP65/Xr19v\n",
              "jRw5ss0azlmndeZYcc76wcGDB62cnBwrOzvbev3119s8HqzzFc+sSLryyisVHx9/xjVr167VxIkT\n",
              "FRcXJ5vNprlz56q4uLiHJjRHZ44VTgsPD9eECRNks9kkSdnZ2XK5XG3Wbd68WZmZmRo2bJgk6e67\n",
              "7+51v1udPVY4rX///q1/rq6ubj1uP8Y567TOHCuc1tLSory8PC1durTDtykH63zlCPhPOE+Ul5cr\n",
              "MTGx9XZSUpLKy8uDOJHZDhw4oKysLNntdt1xxx26++67gz1S0C1ZskSTJk1qc397v1uVlZXyeDxy\n",
              "OHrnP9GOjpUk1dfXa9SoUfJ6vZo8ebIefPDBXvlFdLfddpu2bt0qSXr77bfbPM456wc/dawkzlmS\n",
              "VFRUpLFjx+rSSy/tcE2wzle980yIgMrKylJFRYWio6NVUVGhCRMmaNCgQbrpppuCPVrQPPbYYyor\n",
              "K9P7778f7FGMd6ZjNXjwYB05ckSxsbE6efKkbr75Zj311FO6//77gzBpcL300kuSpBdffFEPPPBA\n",
              "h/8Txk8fK85Z0ueff65169bpn//8Z7BHaRcvA3VSQkKCDh061Hrb5XIpISEhiBOZKyoqStHR0ZKk\n",
              "+Ph4TZ8+XSUlJUGeKniefPJJrV+/Xps3b1afPn3aPN7e79bgwYN75bMqP3WsnE6nYmNjJUkDBw7U\n",
              "rFmzevXvliTdfvvt2rp1q06cOOFzP+estjo6VpyzpJKSErlcLqWlpSkpKUk7duzQ7Nmz9eyzz/qs\n",
              "C9b5iljppKlTp2rjxo2qqqqSZVlavny5pk2bFuyxjFRZWamWlhZJUm1trTZt2qTMzMwgTxUcRUVF\n",
              "Ki4u1rvvvuvz2vmPXXfdddq9e7f27dsnSVq2bFmv/N3qzLE6duxY6zta3G631q9f3+t+t06dOqVv\n",
              "v/229faGDRt0wQUXaODAgT7rOGd1/lhxzpLuuusuVVZWyuVyyeVyKTs7WytXrtRdd93lsy5o56uA\n",
              "X8J7Dpg9e7b185//3LLb7VZsbKyVkpJiWZZl3XnnndYbb7zRum7lypVWcnKylZycbM2aNctqamoK\n",
              "1shB05ljtXTpUmv48OHWyJEjreHDh1sPP/xw67s8epPDhw9bkqzk5GQrPT3dSk9Pt0aPHm1ZlmUt\n",
              "XLjQevbZZ1vXvvHGG9bQoUOtlJQUa9KkSdapU6eCNXZQdPZYrVu3zrr44otbf7fuueceq7GxMZij\n",
              "9ziXy2WNGjXKGjFihDVy5EjrmmuuaX1nHucsX509Vpyz2srNzW19N5AJ5yu+GwgAABiNl4EAAIDR\n",
              "iBUAAGA0YgUAABiNWAEAAEYjVgAETFJSkoYOHdr65XDJycn64x//2OX9PP3006qqqurU2r/+9a8a\n",
              "MWKEfvnLXyorK0vTp0/vtZ/cCpwvet+nTgHoUa+++qoyMjJ+ct2ZPq776aef1lVXXaW4uLgz7uPh\n",
              "hx/WP/7xD23ZsqX1O6zef/99VVVV9foPRAPOZcQKgB7zwgsvaMOGDdqwYYO2bdumefPmKTs7W59+\n",
              "+qkefPBBVVdXq6ioSGFhYfJ6vXruuef0zjvv6Ntvv9XNN9+siIgIvfDCC+3GT319vZ544gl9+umn\n",
              "Pl+2ec011/Tg3xBAIBArAALq+8iQTn/c+Y99+eWXWrZsmVatWiVJio6O1r59+zR48GA1NzfL7Xbr\n",
              "8ssv1/PPP/+Tz9Ds3btXYWFhGj58eMD+LgCCg2tWAATUq6++qtLSUpWWlmrAgAE+jyUnJys3N7f1\n",
              "9jXXXKNbb71VS5Ys0cGDBxUZGdnT4wIwELECIGj+N0bWrVunxYsXq7m5WRMmTNDf//73Tu9r+PDh\n",
              "ampq0hdffOHvMQEEGbECwAgej0cHDhzQZZddpvvuu0833nijdu3aJen0t+JWV1ef8b+PjIzUfffd\n",
              "p/z8fB05cqT1/q1bt7buB8C5iWtWABjB6/Vq1qxZOnnypBwOh2JiYrR69WpJ0vz585Wfn68+ffp0\n",
              "eIGtJD3yyCMaNGiQxo8fL6/XK5vNpoyMDD3++OM9+DcB4G98kSEAADAaLwMBAACj8TIQgHPKI488\n",
              "ovXr17e5f926dUpJSQnCRAACjZeBAACA0XgZCAAAGI1YAQAARiNWAACA0YgVAABgNGIFAAAYjVgB\n",
              "AABGI1YAAIDR/h8KU3iFbkobzQAAAABJRU5ErkJggg==\n",
              "\">\n",
              "      </div>\n",
              "      <script type=\"text/javascript\">\n",
              "        (() => {\n",
              "          const chartElement = document.getElementById(\"chart-b37b38ae-204c-48da-b3b3-a0d151a7b36b\");\n",
              "          async function getCodeForChartHandler(event) {\n",
              "            const chartCodeResponse =  await google.colab.kernel.invokeFunction(\n",
              "                'getCodeForChart', [\"chart-b37b38ae-204c-48da-b3b3-a0d151a7b36b\"], {});\n",
              "            const responseJson = chartCodeResponse.data['application/json'];\n",
              "            await google.colab.notebook.addCell(responseJson.code, 'code');\n",
              "          }\n",
              "          chartElement.onclick = getCodeForChartHandler;\n",
              "        })();\n",
              "      </script>\n",
              "      <style>\n",
              "        .colab-quickchart-chart-with-code  {\n",
              "            display: block;\n",
              "            float: left;\n",
              "            border: 1px solid transparent;\n",
              "        }\n",
              "\n",
              "        .colab-quickchart-chart-with-code:hover {\n",
              "            cursor: pointer;\n",
              "            border: 1px solid #aaa;\n",
              "        }\n",
              "      </style>"
            ]
          },
          "metadata": {}
        },
        {
          "output_type": "display_data",
          "data": {
            "text/plain": [
              "<google.colab._quickchart_helpers.SectionTitle at 0x7d435305c400>"
            ],
            "text/html": [
              "<h4 class=\"colab-quickchart-section-title\">Time series</h4>\n",
              "<style>\n",
              "  .colab-quickchart-section-title {\n",
              "      clear: both;\n",
              "  }\n",
              "</style>"
            ]
          },
          "metadata": {}
        },
        {
          "output_type": "display_data",
          "data": {
            "text/plain": [
              "from matplotlib import pyplot as plt\n",
              "import seaborn as sns\n",
              "def _plot_series(series, series_name, series_index=0):\n",
              "  palette = list(sns.palettes.mpl_palette('Dark2'))\n",
              "  xs = series['First_C']\n",
              "  ys = series['Second_C']\n",
              "  \n",
              "  plt.plot(xs, ys, label=series_name, color=palette[series_index % len(palette)])\n",
              "\n",
              "fig, ax = plt.subplots(figsize=(10, 5.2), layout='constrained')\n",
              "df_sorted = af.sort_values('First_C', ascending=True)\n",
              "_plot_series(df_sorted, '')\n",
              "sns.despine(fig=fig, ax=ax)\n",
              "plt.xlabel('First_C')\n",
              "_ = plt.ylabel('Second_C')"
            ],
            "text/html": [
              "      <div class=\"colab-quickchart-chart-with-code\" id=\"chart-9ebb862b-b86f-4cb1-891d-af2eb996e95a\">\n",
              "        <img style=\"width: 180px;\" src=\"data:image/png;base64,iVBORw0KGgoAAAANSUhEUgAAA/MAAAITCAYAAABLz0yVAAAAOXRFWHRTb2Z0d2FyZQBNYXRwbG90\n",
              "bGliIHZlcnNpb24zLjcuMSwgaHR0cHM6Ly9tYXRwbG90bGliLm9yZy/bCgiHAAAACXBIWXMAAA9h\n",
              "AAAPYQGoP6dpAABbH0lEQVR4nO39d3RVh4Gv/T8qIEQTvSMEiI7QES70LuLEk2An7snEvWATY1vk\n",
              "l6zcvGTGc+8v9swNwtiOsR3XNCcZ43gcpyKawWDcVADRRBO9I5okVPb7h4jeEGNMkTg60vNZi7XQ\n",
              "1uboK69tcR6OzlFUEAQBkiRJkiQpYkSHe4AkSZIkSbowxrwkSZIkSRHGmJckSZIkKcIY85IkSZIk\n",
              "RRhjXpIkSZKkCGPMS5IkSZIUYYx5SZIkSZIijDEvSZIkSVKEqTcxP2fOnHBPkCRJkiTpsqg3Mb9t\n",
              "27ZwT5AkSZIk6bKoNzEvSZIkSVJDYcxLkiRJkhRhjHlJkiRJkiKMMS9JkiRJUoQx5iVJkiRJijDG\n",
              "vCRJkiRJEcaYlyRJkiQpwhjzkiRJkiRFGGNekiRJkqQIY8xLkiRJkhRhjHlJkiRJkiKMMS9JkiRJ\n",
              "UoQx5iVJkiRJijDGvCRJkiRJEcaYlyRJkiQpwhjzkiRJkiRFGGNekiRJkqQIU+sx/6UvfYkhQ4YQ\n",
              "CoUYM2YM2dnZZz3v5Zdfpk+fPvTu3Zv77ruPsrKy2p4mSZIkSVJEqvWY/93vfkdeXh45OTlkZGRw\n",
              "5513fuacLVu2MHPmTJYuXUpBQQF79+7lxRdfrO1pkiRJkqQG4EDx8XBPqHG1HvOtWrWq/n1RURFR\n",
              "UVGfOefNN99kypQpdOrUiaioKKZOncobb7zxubdZWlrK0aNHz/hVUVFRG/MlSZIkSRFq14kifrji\n",
              "ba7+3RN8sGdzuOfUqNjL8UFuv/12Fi1aBMCf/vSnz7y/sLCQHj16VL+dlJREYWHh597eE088weOP\n",
              "P37GseHDh9fQWkmSJElSJNtz8ijP5i3i1+s/5FRl1QO/8wvXMrxTrzAvqzmXJeZ//vOfA/D666/z\n",
              "/e9//6xBfyF+8IMfkJGRccaxmTNnXtJtSpIkSZIi296TR/lp3mJ+teFDSivKARjWsScz0tIZ2bl3\n",
              "mNfVrMsS8393xx13MHXqVA4ePEjbtm2rjycmJrJp06bqt7du3UpiYuLn3k5cXBxxcXFnHIuJian5\n",
              "wZIkSZKkOm/fyWM8t2oxv1i/sjrir+6YxIxQVcSf7eneka5WY/7IkSOcPHmSLl26APD222/Ttm1b\n",
              "2rRpc8Z5N9xwA6NHj+bf//3f6dixI88//zy33nprbU6TJEmSJEW4/cXHmLtqCT9ft5KSiqqfiHZl\n",
              "hx7MSEtndOfkehnxf1erMV9UVMRNN91EcXEx0dHRtG/fnnfffZeoqCjuvfdepkyZwpQpU+jVqxeP\n",
              "P/44o0aNAmD8+PE88MADtTlNkiRJkhShDhQfZ+7q93h97YrqiB/aPpEZaemM7dKnXkf830UFQRCE\n",
              "e0RNyMjIIDMzM9wzJEmSJEm15FDJCeaueo/X1i2nuLwq4kPtujMjLZ3xXfs2iIj/u8v6nHlJkiRJ\n",
              "ki7U4ZITPL96Ka+uXc7J8lMApLbrRkYonYnd+jWoiP87Y16SJEmSVCcdLj3Ji6uX8kr++5w4HfEp\n",
              "bbsyIy2dSd36N8iI/ztjXpIkSZJUpxwpPcnP1izj5fz3OV5WCsDgNl3ISEtncvcBDTri/86YlyRJ\n",
              "kiTVCUWlxfwsfxkvr1nGsdMRP7BNZzJC6VyTONCI/wfGvCRJkiQprI6eKuGlNct4KX8ZR0+VANC/\n",
              "dScyQul8ucdAoqOiw7yw7jHmJUmSJElhcexUCS/nv8/P1iyl6HTE92vVkcfS0rm2xyAj/hyMeUmS\n",
              "JEnSZXW8rJRX8t/nhdVLKTpVDEDfVh14LJTOvyQNNuLPgzEvSZIkSbosjpeV8tra5Ty/eilHSk8C\n",
              "kJzQnsdC6Xw1KYWYaCP+fBnzkiRJkqRadaKslNfWruD51e9x+HTE905oz6Opk5jSc4gRfxGMeUmS\n",
              "JElSrThZdorX161g7qr3OFR6AoCeLdvxaGgS1/dMNeIvgTEvSZIkSapRxeWn+Pm6D5i76j0OlBwH\n",
              "IKlFWx4NTeT6XiFio2PCvDDyGfOSJEmSpBpRXF7GL9d/wHOrlrC/uCrie7RowyOpE/lG7zQjvgYZ\n",
              "85IkSZKkS1JcXsav1q/kuVVL2Fd8DIDE5m2YnjqBG5KH0siIr3HGvCRJkiTpopSUl/HrDR/y07zF\n",
              "7D0d8d2at2J66kRuSr7CiK9FxrwkSZIk6YKUVpTzxoaPeDZvEXtOHgWga7NWPJw6gZuTr6BxjKlZ\n",
              "2/wvLEmSJEk6L6UV5fx248c8k7uI3SeLAOjcNIHpqRO4pc+VRvxl5H9pSZIkSdI5naoo53cbP+Hp\n",
              "vIXsOlEV8Z2atuThIRO4te9VxBnxl53/xSVJkiRJZ1VWWcHvNn7CM3kL2XH8CAAdm7bkOynjua3v\n",
              "VTSJbRTegQ2YMS9JkiRJOkNZZQVvFnzK07kL2X78MAAd4lswbch4vtX3aiO+DjDmJUmSJEkAlFdW\n",
              "MG9TNk/nLmTbsUMAtI9vzrSU8Xyr3zDijfg6w5iXJEmSpAauvLKC32/K4anchWw7dhCAdk2a81DK\n",
              "OL7dfxjxsY3DvFD/zJiXJEmSpAaqvLKCtzfnMid3IVuOHgCgbZNmPDh4HLf3H07TRkZ8XWXMS5Ik\n",
              "SVIDU1FZyf9syeWpnAVsPh3xbeKaMTVlLHf2H2HERwBjXpIkSZIaiIrKSv6wNY+nchZQULQfgFZx\n",
              "TZk6eCx3DRhBs0ZxYV6o82XMS5IkSVI9VxlU8u6WVczOWcDGon0AJDSOr4r4gSNpbsRHHGNekiRJ\n",
              "kuqpyqCSP21dzeycBaw/sheAhMZNuH/QGO4eOIoWjZuEeaEuljEvSZIkSfVMZVDJn7etYXbOAtYd\n",
              "3gNAy8ZNuG/QaO4ZOJqWRnzEM+YlSZIkqZ4IgoC/FK4hMzuLtacjvkWjOO4bNIZ7Bo4iIS4+zAtV\n",
              "U4x5SZIkSYpwQRDwt8J8MnOyWHNoNwDNG8Vxz8BR3DdoNK3imoZ5oWqaMS9JkiRJESoIArK2ryUz\n",
              "ZwGrDu4EoFls46qIHzyG1kZ8vWXMS5IkSVKECYKAhTvWk5mTRe6BHUBVxN81cCQPDBpD6ybNwrxQ\n",
              "tc2YlyRJkqQIEQQBi3ZuIDM7i5wD2wFoGtuYOweMYOrgsbQx4hsMY16SJEmS6rggCFiyayOzsueT\n",
              "vb8q4uNjG3FH/xE8mDKWtk2ah3mhLjdjXpIkSZLqqCAIWLqrgFnZ8/lkfyEATWIacUf/4TyYMo52\n",
              "8UZ8Q2XMS5IkSVIdEwQBy3YXkJmdxUf7tgEQFxPL7f2H8+DgcXRo2iLMCxVuxrwkSZIk1SHv795E\n",
              "ZvZ8Vu7dClRF/L/2G8ZDKePo2LRleMepzjDmJUmSJKkOWLFnM7Oy5/PBni1AVcR/s+/VTBsynk5G\n",
              "vP6JMS9JkiRJYbRyzxZmZc9n+Z7NADSOjuG2vlfznSHj6dwsIczrVFcZ85IkSZIUBh/t3cqs7CyW\n",
              "7S4AoFF0DLf1vYrvpIynS/NW4R2nOs+YlyRJkqTL6JN925iVncV7uzYCVRF/S58reXjIBLoa8TpP\n",
              "xrwkSZIkXQaf7i9kVnYWS3ZuACA2Kpqb+1zJ9NQJdGveOszrFGmMeUmSJEmqRdn7t5OZncWinesB\n",
              "iImK5qbkoUxPnUhiizZhXqdIZcxLkiRJUi3IPbCDzOwsFuxYB1RF/I3JaUxPnUiPFm3DvE6RzpiX\n",
              "JEmSpBq06sBOMnOymL99LQDRUVHc0Lsq4nu2bBfmdaovjHlJkiRJqgFrDu4iMyeLvxbmA1UR//Ve\n",
              "IR5JnUSvBCNeNcuYlyRJkqRLkH9oN5nZWfylcA1QFfHX9Uzl0dAkeie0D/M61VfGvCRJkiRdhLWH\n",
              "9jA7J4s/bVsNQBRRXNcrlUdTJ5LcqkOY16m+M+YlSZIk6QKsP7yX2TlZvLt1FVAV8VN6DuHR0CT6\n",
              "GPG6TIx5SZIkSToPG47s5amcBfxhyyoCAgC+llQV8f1adwzzOjU0xrwkSZIknUPBkX3Mzl3AO5vz\n",
              "qiP+X5JSeCw0if6tO4V5nRoqY16SJEmSzmJz0X5m5yzgf7bkUhlURfxXegzisVA6A9t0DvM6NXTG\n",
              "vCRJkiT9g81FB5iTu4Dfb86pjvhrEgeSEUpnUNsuYV4nVTHmJUmSJAnYevQgc3IX8NamHCqCSgC+\n",
              "1H0AGWnpDG7bNczrpDMZ85IkSZIatG3HDvJ07kLeLMiujvj07v3JCKUzpF23MK+Tzs6YlyRJktQg\n",
              "FR47xJzchbxZ8Gl1xE/s1o+MUDqh9t3DvE46N2NekiRJUoOy/dghns5bxH9v/ITy0xE/vmtfMtLS\n",
              "Gdo+MczrpPNjzEuSJElqEHYeP8LTuQv5XcEnlFVWADCuSx8y0tK5okOPMK+TLowxL0mSJKle23X8\n",
              "CM/kLeI3Gz+ujvgxXZLJCKVzVcek8I6TLpIxL0mSJKle2nWiiJ/mLeKNDR9x6nTEj+rcm4xQOsM6\n",
              "9QzzOunSGPOSJEmS6pU9J4/ybN4ifr3+w+qIH9GpFxlp6Yzo1CvM66SaYcxLkiRJqhf2njzKT/MW\n",
              "86sNH1JaUQ7AsI5JZKRNZlTn3mFeJ9UsY16SJElSRNt38hjPrVrML9avrI74qzr0YMbpiI+Kigrv\n",
              "QKkWGPOSJEmSItL+4mPMXbWEn69bSUlFGQBXtE9kRtpkxnRJNuJVr9VqzJeUlHDrrbeSn59PfHw8\n",
              "HTp0YO7cuSQnJ59x3tatW+nduzcpKSnVx+bNm0fv3n4rjCRJkqQzHSw5znOr3uPn61ZQXF4V8Wnt\n",
              "uzMjbTLjuvQx4tUg1Poj8/fffz9f+cpXiIqK4tlnn+Xee+9l8eLFnzmvRYsW5OTk1PYcSZIkSRHq\n",
              "UMkJ5q56j9fWLa+O+NR23ZiRNpkJXfsa8WpQajXmmzRpwrXXXlv99vDhw/nJT35Smx9SkiRJUj1z\n",
              "uOQEz69eyqtrl3Oy/BRQFfEZoXQmdutnxKtBuqzPmZ8zZw7XXXfdWd934sQJrrrqKioqKrj++uv5\n",
              "4Q9/SExMzFnPLS0tpbS09IxjFRUVNb5XkiRJUvgcLj3Ji6uX8kr++5w4HfEpbbuSEZpEevcBRrwa\n",
              "tMsW8z/+8Y8pKChgwYIFn3lf586d2blzJx06dODQoUPccsstzJo1i+9973tnva0nnniCxx9//Ixj\n",
              "w4cPr5XdkiRJki6vI6Un+dmaZbyc/z7Hy6oexBvcpgsZaelMNuIlAKKCIAhq+4P85Cc/4Te/+Q1Z\n",
              "WVm0atXqC89/4403+PWvf80f/vCHs77/bI/Mz5w5kzlz5tTEXEmSJElhUFRazEv5y3hpzTKOnY74\n",
              "gW06kxFK55rEgUa89A9q/ZH5zMxM3njjjXOG/L59+2jdujWNGjWitLSUt956i7S0tM+9zbi4OOLi\n",
              "4s449nnfki9JkiSpbjt6qoSX85fxszXLOHqqBID+rTuREUrnyz0GEh0VHeaFUt1TqzG/Y8cOZsyY\n",
              "Qa9evZgwYQJQFeIrV67kRz/6EV26dGHq1KksW7aMH/3oR8TExFBeXs7EiRP54Q9/WJvTJEmSJIXZ\n",
              "sVMlvJL/Pi+uWUrR6Yjv16ojj6Wlc22PQUa8dA6X5dvsL4eMjAwyMzPDPUOSJEnSFzheVsqr+ct5\n",
              "Yc1SjpSeBKBvqw48FkrnX5IGG/HSebisr2YvSZIkqeE6UVbKq2tX8MLq9zh8OuKTE9rzWCidryal\n",
              "EBNtxEvny5iXJEmSVKtOlJXy2toVPP8PEd87oT2Ppk5iSs8hRrx0EYx5SZIkSbXiZNkpXl+3grmr\n",
              "3uNQ6QkAerZsx6OhSVzfM9WIly6BMS9JkiSpRhWXn+Ln6z5g7qr3OFByHIAeLdryWGgi1/cKERvt\n",
              "T6KSLpUxL0mSJKlGFJeX8cv1H/DcqiXsL/57xLfhkdSJfKN3mhEv1SBjXpIkSdIlKS4v41frV/Lc\n",
              "qiXsKz4GQPfmrXkkdSI3JA+lkREv1ThjXpIkSdJFKSkv49cbPuSneYvZezriuzVvxfTUidyUfIUR\n",
              "L9UiY16SJEnSBSmtKOeNDR/xbN4i9pw8CkDXZq14OHUCNydfQeMYM0Oqbf5fJkmSJOm8lFaU89uN\n",
              "H/NM7iJ2nywCoHPTBKanTuDmPlcSZ8RLl43/t0mSJEk6p1MV5fxu4yc8nbeQXSeqIr5T05Y8PGQC\n",
              "t/a9yoiXwsD/6yRJkiSdVVllBb/b+AnP5C1kx/EjAHRs2pLvpIzntr5X0SS2UXgHSg2YMS9JkiTp\n",
              "DGWVFbxZ8ClP5y5k+/HDAHSIb8G0IeP5Vt+rjXipDjDmJUmSJAFQXlnBvE3ZPJ27kG3HDgHQPr45\n",
              "01LG861+w4g34qU6w5iXJEmSGrjyygp+vymHp3IXsu3YQQDaNWnOQynj+Hb/YcTHNg7zQkn/zJiX\n",
              "JEmSGqiKykp+vzmHObkL2XL0AABtmzTjwcHjuL3/cJo2MuKlusqYlyRJkhqYispK/mdLLk/lLGDz\n",
              "6YhvE9eMqSljuaP/cJo1igvzQklfxJiXJEmSGoiKykr+sDWPp3IWUFC0H4BWcU2ZOngsdw0YYcRL\n",
              "EcSYlyRJkuq5yqCSd7es4qncBWw4sg+AhMbxVRE/cCTNjXgp4hjzkiRJUj1VGVTyp62rmZ2zgPVH\n",
              "9gKQ0LgJ9w8aw90DR9GicZMwL5R0sYx5SZIkqZ6pDCr587Y1zM5ZwLrDewBo2bgJ9w0azT0DR9PS\n",
              "iJcinjEvSZIk1RNBEPCXwqqIzz+0G4AWjeK4d9Bo7h04moS4+DAvlFRTjHlJkiQpwgVBwN8K88nM\n",
              "yWLN6Yhv3iiOewaO4r5Bo2kV1zTMCyXVNGNekiRJilBBEJC1fS2ZOQtYdXAnAM1iG1dF/OAxtDbi\n",
              "pXrLmJckSZIiTBAELNyxnsycLHIP7ACgaWxj7h44kgcGjaF1k2ZhXiipthnzkiRJUoQIgoBFOzeQ\n",
              "mZ1FzoHtQFXE3zlgBFMHj6WNES81GMa8JEmSVMcFQcCSXRuZlT2f7P1VER8f24g7+o/gwZSxtG3S\n",
              "PMwLJV1uxrwkSZJURwVBwNJdBczKns8n+wsBaBLTiDv6D+fBlHG0izfipYbKmJckSZLqmCAIeH/3\n",
              "JmZlz+ejfdsAiIuJ5fb+w3lw8Dg6NG0R5oWSws2YlyRJkuqQ93dvIjN7Piv3bgWqIv5f+w3joZRx\n",
              "dGzaMrzjJNUZxrwkSZJUB6zYs5lZ2fP5YM8WoCriv9n3aqYNGU8nI17SPzHmJUmSpDBauWcLs7Ln\n",
              "s3zPZgAaR8dwW9+r+c6Q8XRulhDmdZLqKmNekiRJCoOP9m5lVnYWy3YXANAoOobb+l7Fd1LG06V5\n",
              "q/COk1TnGfOSJEnSZfTJvm3Mys7ivV0bgaqIv6XPlTw8ZAJdjXhJ58mYlyRJki6DT/cXMis7iyU7\n",
              "NwAQGxXNzX2uZHrqBLo1bx3mdZIijTEvSZIk1aKc/duZlZ3Fop3rAYiJiuam5KFMT51IYos2YV4n\n",
              "KVIZ85IkSVItyDuwg1nZWSzYsQ6oivgbk9OYnjqRHi3ahnmdpEhnzEuSJEk1aNWBnWTmZDF/+1oA\n",
              "oqOiuKF3VcT3bNkuzOsk1RfGvCRJklQD1hzcRWZOFn8tzAeqIv7rvUI8kjqJXglGvKSaZcxLkiRJ\n",
              "lyD/0G4ys7P4S+EaoCrir+uZyqOhSfROaB/mdZLqK2NekiRJughrD+1hdk4Wf9q2GoAoopjSawiP\n",
              "pU4iuVWHMK+TVN8Z85IkSdIFWH94L7Nzsnh36yqgKuK/1jOFR0OT6NuqY5jXSWoojHlJkiTpPGw8\n",
              "so/ZOVn8YcsqAgIAvpqUwmOhdPq1NuIlXV7GvCRJknQOBUf2MTt3Ae9szquO+Gt7DOaxUDoD2nQK\n",
              "8zpJDZUxL0mSJJ3F5qL9zM5ZwP9syaUyqIr4LycOIiNtEgPbdAnzOkkNnTEvSZIk/YPNRQeYk7uA\n",
              "32/OqY74axIHkhFKZ1BbI15S3WDMS5IkScDWoweZk7uAtzblUBFUAjC5+wAyQumktOsa5nWSdCZj\n",
              "XpIkSQ3atmMHeTp3IW8WZFdH/KRu/clISye1Xbcwr5OkszPmJUmS1CBtP3aIObkLebPgU8pPR/yE\n",
              "rv3ISEsnrX33MK+TpHMz5iVJktSg7Dh+mKdzF/G7jR9XR/y4rn3JCKVzRYfEMK+TpPNjzEuSJKlB\n",
              "2Hn8CM/kLeK3Gz+mrLICgLFd+jAjLZ0rOvQI8zpJujDGvCRJkuq1XSeKeDZvEW9s+Kg64kd3TmZG\n",
              "WjpXdUwK7zhJukjGvCRJkuql3SeKeDZvMW9s+JBTpyN+ZKdezEibzLBOPcO8TpIujTEvSZKkemXP\n",
              "yaP8NG8xv97wIaUV5QAM79STGWmTGdGpV5jXSVLNMOYlSZJUL+w9eZTnVi3hl+tXVkf8sI5JZKRN\n",
              "ZlTn3mFeJ0k1y5iXJElSRNtffIznVi3h5+s+qI74qzr0YMbpiI+KigrzQkmqeca8JEmSItKB4uPM\n",
              "XbWE19d9QElFGQBXtE9kRtpkxnRJNuIl1WvGvCRJkiLKwZLjzF31Hq+vW0FxeVXEp7Xvzoy0yYzr\n",
              "0seIl9QgGPOSJEmKCIdKTvD86vd4be0KTpafAiC1XTdmpE1mQte+RrykBsWYlyRJUp12uOQEL6xZ\n",
              "yqv5yznxDxGfEUpnYrd+RrykBsmYlyRJUp10uPQkP1u9lFfWLud4WSkAKW27khGaRHr3AUa8pAbN\n",
              "mJckSVKdcqT0JD9bs4xX8t/n2OmIH9SmMxmhdL6UONCIlySMeUmSJNURRaXFvJS/jJfz3+foqRIA\n",
              "BrTuREZaOl9OHGTES9I/MOYlSZIUVkdPlfBy/jJeWrOMotMR369VRzLS0vlKj0FER0WHeaEk1T3G\n",
              "vCRJksLi2KkSXsl/nxfXLD0j4h8LTeLapMFGvCSdQ63GfElJCbfeeiv5+fnEx8fToUMH5s6dS3Jy\n",
              "8mfOfffdd/nud79LRUUFKSkpvPbaa7Rs2bI250mSJCkMjpeV8mr+cl5Ys5QjpScB6JPQgcdCk/hq\n",
              "zxQjXpLOQ61/pbz//vtZv349ubm5XHfdddx7772fOef48ePcc889vP3222zcuJEuXbrwv//3/67t\n",
              "aZIkSbqMTpSV8mzeYkb893/yn5/+lSOlJ0lOaM+z424l6/pHmdIr1ZCXpPNUq4/MN2nShGuvvbb6\n",
              "7eHDh/OTn/zkM+f9+c9/Ji0tjf79+wPw0EMP8aUvfYn/+3//71lvt7S0lNLS0jOOVVRU1OBySZIk\n",
              "1ZSTZad4bd0Knl/1HodKTwDQq2U7Hg1N4rqeqcREG/CSdKEu63Pm58yZw3XXXfeZ44WFhfTo0aP6\n",
              "7aSkJHbv3k15eTmxsZ+d+MQTT/D444+fcWz48OE1P1iSJEkX7WTZKX6+7gPmrl7CwZKqiE9q0ZZH\n",
              "Q5O4vlcqsdExYV4oSZHrssX8j3/8YwoKCliwYMEl39YPfvADMjIyzjg2c+bMS75dSZIkXbri8lP8\n",
              "Yt1Knlu1hAMlxwHo0aItj6ZO5Ou9Q0a8JNWAyxLzP/nJT3jrrbfIysqiadOmn3l/YmIi8+fPr357\n",
              "69atdO7c+ayPygPExcURFxd3xrGYGP9SkCRJCqfi8jJ+tX4lP121mP3FVRGf2LwNj4QmckPvNCNe\n",
              "kmpQrcd8ZmYmb7zxBllZWbRq1eqs53z5y19m2rRprFu3jv79+/Pcc89x66231vY0SZIk1YCS8jJ+\n",
              "teFDnstbzN7iYwB0b96a6akTuTF5KI2MeEmqcbUa8zt27GDGjBn06tWLCRMmAFWPqq9cuZIf/ehH\n",
              "dOnShalTp9KiRQteeuklrr/+esrLyxk8eDCvv/56bU6TJEnSJSopL+ONDR/x7KrF7D15FICuzVox\n",
              "PXUiNyUPpXHMZX15JklqUKKCIAjCPaImZGRkkJmZGe4ZkiRJ9V5pRTm/2fARz+QtYs/piO/SLIHp\n",
              "QyZyc58rjHhJugz8SitJkqTzcqqinN9u/Jhn8hax60QRAJ2bJvBw6gRu6XMlcUa8JF02fsWVJEnS\n",
              "OZ2qKOd3BZ/wTO4idp44AkCnpi35zpAJ3Nb3KiNeksLAr7ySJEk6q7LKCv674BOezl3IjuNHAOjY\n",
              "tCXfSRnPbX2voklso/AOlKQGzJiXJEnSGcoqK5hX8ClP5y6i8PghADrEt2DakPF8q+/VRrwk1QHG\n",
              "vCRJkgAor6zgrU3ZzMldyLZjVRHfPr4501LG861+w4g34iWpzjDmJUmSGrjyygre3pzDUzkL2Xrs\n",
              "IADtmjTnoZRxfLv/MOJjG4d5oSTpnxnzkiRJDVRFZSVvb8nlqZwFbDl6AIC2TZrx4OBx3N5/OE0b\n",
              "GfGSVFcZ85IkSQ1MRWUl72zJ46ncBWwq2g9A67imPJgyjjv6D6dZo7gwL5QkfRFjXpIkqYGoqKzk\n",
              "D1vzeCpnAQWnI75VXFOmDh7LXQNGGPGSFEGMeUmSpHquMqjk3S2reCp3ARuO7AMgoXF8VcQPHElz\n",
              "I16SIo4xL0mSVE9VBpX8aetqZucsYP2RvQAkNG7C/YPGcPfAUbRo3CTMCyVJF8uYlyRJqmcqg0r+\n",
              "vG0Ns3MWsO7wHgBaNm7CfYNGc8/A0bQ04iUp4hnzkiRJ9UQQBPylsCri8w/tBqBFozjuGTSa+waO\n",
              "JiEuPswLJUk1xZiXJEmKcEEQ8LfCfDJzslhzOuKbN4rjnoGjuG/QaFrFNQ3zQklSTTPmJUmSIlQQ\n",
              "BGRtX0tmzgJWHdwJQLPYxtw9cBT3Dx5DayNekuotY16SJCnCBEHAwh3ryczJIvfADgCaxjbmrgEj\n",
              "eWDwGNo0aRbmhZKk2mbMS5IkRYggCFi0cwOZ2VnkHNgOQHxsI+7sP5KpKWNo26R5mBdKki4XY16S\n",
              "JKmOC4KAJbs2kpmdxaf7CwFoEtOIOwaM4MHBY2kXb8RLUkNjzEuSJNVRQRCwdFcBmTlZfLxvG3A6\n",
              "4vsPZ2rKWNrHtwjzQklSuBjzkiRJdUwQBLy/exOZOVl8uHcrAHExsdzefzgPDh5Hh6ZGvCQ1dMa8\n",
              "JElSHbJ89yZmZWexcu8WoCri/7XfMB5KGUfHpi3DvE6SVFcY85IkSXXAB3s2Mys7ixV7NgNVEf/N\n",
              "vlczbch4OhnxkqR/YsxLkiSF0Yd7tzIrez7v794EQOPoGG7rezXfGTKezs0SwrxOklRXGfOSJElh\n",
              "8PHebczKmc/SXQUANIqO4ba+V/GdlPF0ad4qvOMkSXWeMS9JknQZfbJvG5nZWSzZtRGoivhb+lzJ\n",
              "w0Mm0NWIlySdJ2NekiTpMvh0fyGzsrNYsnMDALFR0dzc50qmp06gW/PWYV4nSYo0xrwkSVItytm/\n",
              "nVnZWSzauR6AmKhobkoeyvTUiSS2aBPmdZKkSGXMS5Ik1YK8AzuYlZ3Fgh3rgKqIvzE5jempE+nR\n",
              "om2Y10mSIp0xL0mSVINWHdhJZk4W87evBSA6KoobeldFfM+W7cK8TpJUXxjzkiRJNWDNwV1k5mTx\n",
              "18J8oCriv94rxCOpk+iVYMRLkmqWMS9JknQJ8g/tJjM7i78UrgEgiiiu75XKo6FJ9E5oH+Z1kqT6\n",
              "ypiXJEm6CGsP7WF2ThZ/2rYaqIr4Kb2G8FjqJJJbdQjzOklSfWfMS5IkXYD1h/cyOyeLd7euAqoi\n",
              "/ms9U3g0NIm+rTqGeZ0kqaEw5iVJks7DxiP7mJ2TxR+2rCIgAOCrSVUR3791pzCvkyQ1NMa8JEnS\n",
              "ORQc2cfs3AW8szmvOuKv7TGYx0LpDGhjxEuSwsOYlyRJOovNRfuZnbOA/9mSS2VQFfFfThxERtok\n",
              "BrbpEuZ1kqSGzpiXJEn6B5uLDjAndwG/35xTHfHXJA7ksdAkBrftGuZ1kiRVMeYlSZKArUcPMid3\n",
              "AW9tyqEiqARgcvcBZITSSWlnxEuS6hZjXpIkNWjbjh3k6dyFvFmQXR3xk7r1JyMtndR23cK8TpKk\n",
              "szPmJUlSg7T92CHm5C7kzYJPKT8d8RO69iMjLZ209t3DvE6SpHMz5iVJUoOy4/hhns5dxO82flwd\n",
              "8eO69iUjlM4VHRLDvE6SpPNjzEuSpAZh5/EjPJO3iN9u/JiyygoAxnbpw4y0dK7o0CPM6yRJujDG\n",
              "vCRJqtd2nSji2bxFvLHho+qIH905mRlp6VzVMSm84yRJukgXFPNPPvkkzZo14+GHHz7j+DPPPENx\n",
              "cTHf+973anScJEnSxdp9oohn8xbzxoYPOXU64kd26sWMtMkM69QzzOskSbo0FxTzb775JsuWLfvM\n",
              "8XvvvZcRI0YY85IkKez2nDzKT/MW8+sNH1JaUQ7A8E49mZE2mRGdeoV5nSRJNeOCYj4IApo0afKZ\n",
              "4/Hx8QRBUGOjJEmSLtTek0d5btUSfrl+ZXXED+uYREbaZEZ17h3mdZIk1awLivkjR44QBAFRUVFn\n",
              "HK+srOTYsWM1OkySJOl87C8+xnOrlvDzdR9UR/xVHXow43TE//P9FkmS6oMLivlx48bxf/7P/2Hm\n",
              "zJlnHH/iiScYN25cjQ6TJEk6lwPFx5m7agmvr/uAkooyAK5on8iMtMmM6ZJsxEuS6rULivn//M//\n",
              "ZNy4cfzxj39kxIgRAHzwwQccOXKEJUuW1MpASZKkf3Sw5DhzV73H6+tWUFxeFfFp7bszI20y47r0\n",
              "MeIlSQ3CBcV8+/bt+fTTT/n1r3/NJ598AsB9993HbbfdRnx8fK0MlCRJAjhUcoLnV7/Ha2tXcLL8\n",
              "FACp7boxI20yE7r2NeIlSQ3KBf+c+SZNmnD33Xdz9913f+453/72t/nFL35xScMkSZIADpec4IU1\n",
              "S3k1fzknTkf8kLZdmZE2mYnd+hnxkqQG6YJj/nysWbOmNm5WkiQ1IIdLT/Kz1Ut5Ze1yjpeVAjC4\n",
              "TRdmpKWT3n2AES9JatBqJeYlSZIu1pHSk/xszTJeyX+fY6cjflCbzmSE0vlS4kAjXpIkjHlJklRH\n",
              "FJUW81L+Ml7Of5+jp0oAGNC6Exlp6VyTOJDoqOgwL5Qkqe4w5iVJUlgdPVXCy/nLeGnNMopOR3y/\n",
              "Vh3JSEvnKz0GGfGSJJ1FrcR8TExMbdysJEmqR46dKuGV/Pd5cc0yik4VA1UR/1hoEtcmDTbiJUk6\n",
              "hwuK+cLCwnO+PzExEYCPPvro4hdJkqR67XhZKa/mL+eFNUs5UnoSgD4JHXgsNImv9kwx4iVJOg8X\n",
              "FPNXXHFF9YvOHDx4kEaNGgFQVlZG27Zt2bdvX80vlCRJ9cKJslJeXbuCF1a/x+HTEZ+c0J5HQ5P4\n",
              "WtIQYqKNeEmSztcFxfz+/fsB+P73v09ycjL33HMPAK+88gqbNm2q+XWSJCninSw7xWvrVvD8qvc4\n",
              "VHoCgF4t2/FoaBLX9Uw14iVJughRQRAEF/qHQqEQOTk5ZxxLS0sjOzu7pnZdsIyMDDIzM8P28SVJ\n",
              "0plOlp3i5+s+YO7qJRwsqYr4pBZteTQ0iet7pRIb7WvsSJJ0sS7qBfBOnTrF+vXr6devHwAbNmyg\n",
              "tLS0RodJkqTIVFx+il+sW8lzq5ZwoOQ4AD1atOXR1Il8vXfIiJckqQZcVMw/+eSTjBo1itTUVADy\n",
              "8vJ45ZVXanSYJEmKLMXlZfxq/Up+umox+4urIj6xeRseCU3kht5pRrwkSTXoomJ+ypQp5Ofns3Ll\n",
              "SgBGjBhBu3btanSYJEmKDCXlZfxqw4c8l7eYvcXHAOjevDXTUydyY/JQGhnxkiTVuIv+OfMdOnTg\n",
              "a1/7Wk1ukSRJEaSkvIw3NnzEs6sWs/fkUQC6NmvF9NSJ3JQ8lMYxF303Q5IkfYGLevnYv/zlL/Tv\n",
              "35/GjRsTExNDdHQ0MTFn/1f36dOnk5SURFRU1GdeNO/vFi9eTHx8PKFQqPpXcXHxxUyTJEm1rLSi\n",
              "nNfXrmD0vP/LzJXvsPfkUbo0S+DJEV9n6Q3f5Vv9rjbkJUmqZRf1N+306dN55plnGDFixOdG/N/d\n",
              "eOONfO9732P06NHnPK9fv36fG/uSJCn8TlWU89uNH/NM3iJ2nSgCoHPTBB5OncAtfa4kzoCXJOmy\n",
              "uai/dVu2bMk111xzXueOHTv2Yj7EOZWWln7m1fMrKipq/ONIkqSqiP9dwSc8k7uInSeOANCxaUse\n",
              "HjKB2/peZcRLkhQGF/W371e/+lXefvttrr/++hobsmnTJoYOHUpMTAx33XUXDz300Oee+8QTT/D4\n",
              "44+fcWz48OE1tkWSJEFZZQX/XfAJT+cuZMfxIwB0jG/BtCHj+Wbfq2kS2yi8AyVJasCigiAILvQP\n",
              "tW7dmqKiIuLj44mLiyMIAqKiojh06NDn/pmkpCTefvttQqHQZ9539OhRgiAgISGBHTt2cO211/L/\n",
              "/D//DzfffPNZb+tsj8zPnDmTOXPmXOinIkmS/klZZQXzCj7l6dxFFB6v+ru9Q3wLHkoZx7f6DSPe\n",
              "iJckKewu6pH5mn5ue8uWLat/361bN2677TaWLl36uTEfFxdHXFzcGce+6Ln7kiTp3MorK3hrUzZz\n",
              "chey7VhVxLePb85DKeP4137DjXhJkuqQi4r5Hj16cPLkyeqoD4VCNG3a9KJH7N69m44dOxIdHc2x\n",
              "Y8d49913ueeeey769iRJ0vkrr6zg7c05PJWzkK3HDgLQrklzHkwZy+39hxMf2zjMCyVJ0j+7qJhf\n",
              "vnw5N9xwA506dQJg7969zJs3jxEjRnzm3AceeIA//vGP7Nmzh2uuuYYWLVpQUFDAvffey5QpU5gy\n",
              "ZQrz5s1j7ty5xMbGUl5ezk033cRdd911aZ+ZJEk6p4rKSt7ekstTOQvYcvQAAG2bNOPBweO4vf9w\n",
              "mjYy4iVJqqsu6jnzw4cPZ9asWYwaNQqoivuMjAw++OCDGh94vjIyMsjMzAzbx5ckKVJUVFbyzpY8\n",
              "nspdwKai/QC0jmvKgynjuKP/cJo1ivuCW5AkSeF2UY/MFxcXV4c8wMiRIykpKamxUZIkqeZVVFby\n",
              "7tZVPJWzgI1F+wBoFdeUqYPHcteAEUa8JEkR5KJivnnz5mRlZZGeng7AggULaNasWY0OkyRJNaMy\n",
              "qOSPW1czOyeLDUeqIj6hcXxVxA8cSXMjXpKkiHNRMT9nzhxuuOGG6leQr6ys5K233qrRYZIk6dJU\n",
              "BpX8adsaZmdnsf7IXgASGjfh/kFjuHvgKFo0bhLmhZIk6WJdVMxfeeWVFBQUsH79egD69etHo0b+\n",
              "uBpJkuqCyqCSv2zLZ3ZOFmsP7wGgZeMm3DdoNPcMHE1LI16SpIh3UTH/hz/8gTFjxjB48GAADh8+\n",
              "zPLly/mXf/mXGh0nSZLOXxAE/KVwDbNzFpB/aDcALRrFcc+g0dw3cDQJcfFhXihJkmrKRcX8zJkz\n",
              "q3/GPECrVq2YOXOmMS9JUhgEQcDfCvPJzMlizemIb94ojnsGjuK+QaNpFdc0zAslSVJNu6iY/2dR\n",
              "UVFUVFTUxE1JkqTzFAQBWdvXkpmzgFUHdwLQLLYxdw8cxf2Dx9DaiJckqd66qJhv0aIFy5cvZ+TI\n",
              "kQC8//77tGjRokaHSZKkswuCgIU71pOZk0XugR0ANI1tzF0DRvLA4DG0aeJPmJEkqb67qJj/r//6\n",
              "L77+9a/Tv39/ADZu3Mjvf//7Gh0mSZLOFAQBi3ZuIDM7i5wD2wGIj23Enf1HMjVlDG2bNA/zQkmS\n",
              "dLlcVMyPGDGCtWvXsmLFCgBGjhxJq1atanKXJEk6LQgCluzaSGZ2Fp/uLwSgSUwj7hgwggcHj6Vd\n",
              "vBEvSVJDc9HPmd+8eTMHDx7k29/+NkeOHGH37t107ty5JrdJktSgBUHA0l0FZOZk8fG+bUBVxN/e\n",
              "fxgPpoyjfbxPcZMkqaG6qJh/7rnneOGFFzh+/Djf/va3OXjwIPfeey+LFi2q6X2SJDU4QRDw/u5N\n",
              "ZOZk8eHerQDExcTy7X7DeChlPB2aGvGSJDV0FxXzL774Ih988EH1C+D17t2b/fv31+gwSZIaouW7\n",
              "NzErO4uVe7cAVRH/rb5XM23IeDo2bRnmdZIkqa64qJiPi4sjPj7+zBuKrZGfcidJUoP0wZ7NzMrO\n",
              "YsWezQA0jo7hm/2uZlrKeDo3SwjzOkmSVNdcVIG3b9+eDRs2EBUVBcBrr71GYmJijQ6TJKkh+HDv\n",
              "VmZlz+f93ZuAqoi/7fQj8V2MeEmS9DkuKuafeuopbrvtNtatW0f37t1p2bIl7777bk1vkySp3vp4\n",
              "7zZm5cxn6a4CABpFx3Bb36v4Tsp4ujRvFd5xkiSpzruomE9OTmblypWsWbOGP/zhD6SkpNCzZ8+a\n",
              "3iZJUr3zyb5CMrPns2TXRqAq4m/pcyUPD5lAVyNekiSdpwuK+fT0dH7yk58QCoXYs2cP48aNY9iw\n",
              "YfziF78gPz+f73//+7W1U5KkiJa9fzuzsuezeOcGAGKjorm5z5VMT51At+atw7xOkiRFmguK+Z07\n",
              "dxIKhQD49a9/zbhx4/j973/P4cOHGTdunDEvSdI/ydm/ncycLBbuWA9ATFQ0NyUPZXrqRBJbtAnz\n",
              "OkmSFKkuKOb/8RXsly9fzrXXXgtA69atfTV7SZL+Qd6BHWTmZJG1fR1QFfE3JqcxPXUiPVq0DfM6\n",
              "SZIU6S6owKOjo9mxYwetWrViyZIlPPnkk9XvO3nyZI2PkyQp0qw6sJPZOVn8bftaAKKjorihd1XE\n",
              "92zZLszrJElSfXFBMf+//tf/Ii0tjdjYWCZMmEDfvn2Bqkfpk5KSamOfJEkRYc3BXWTmZPHXwnyg\n",
              "KuK/3ivEI6mT6JVgxEuSpJp1QTH/jW98g5EjR7J3716GDBlSfTwpKYkXX3yxxsdJklTX5R/aTWZ2\n",
              "Fn8pXANAFFFc3yuVR0OT6J3QPszrJElSfXXBT3Tv1KkTnTp1OuNYly5damyQJEmRYO2hPczOyeJP\n",
              "21YDVRE/pdcQHkudRHKrDmFeJ0mS6jtftU6SpAuw/vBeZudk8e7WVUBVxH+tZwqPhibRt1XHMK+T\n",
              "JEkNhTEvSdJ52HhkH7NzsvjDllUEBAB8Nakq4vu37vQFf1qSJKlmGfOSJJ1DwZF9zM5dwDub86oj\n",
              "/toeg3kslM6ANka8JEkKD2NekqSz2Fy0n9k5C/ifLblUBlUR/+XEQWSkTWJgG18rRpIkhZcxL0nS\n",
              "P9hcdIA5uQv4/eac6oi/JnEgj4UmMbht1zCvkyRJqmLMS5IEbD16kDm5C3hrUw4VQSUAk7sPICOU\n",
              "Tko7I16SJNUtxrwkqUHbduwgT+cu5M2C7OqIn9StPxlp6aS26xbmdZIkSWdnzEuSGqTtxw4xJ3ch\n",
              "bxZ8SvnpiJ/QtR8Zaemkte8e5nWSJEnnZsxLkhqUHccP83TuIn638ePqiB/XtS8ZoXSu6JAY5nWS\n",
              "JEnnx5iXJDUIO48f4Zm8Rfx248eUVVYAMLZLH2akpXNFhx5hXidJknRhjHlJUr2260QRz+Yt4o0N\n",
              "H1VH/OjOycxIS+eqjknhHSdJknSRjHlJUr20+0QRz+Yt5o0NH3LqdMSP7NSLGWmTGdapZ5jXSZIk\n",
              "XRpjXpJUr+w5eZSf5i3m1xs+pLSiHIDhnXoyI20yIzr1CvM6SZKkmmHMS5LqhX0nj/HTVYv55fqV\n",
              "1RE/rGMSGWmTGdW5d3jHSZIk1TBjXpIU0fYXH+O5VUv4+boPqiP+qg49mHE64qOiosK8UJIkqeYZ\n",
              "85KkiHSg+DhzVy3h9XUfUFJRBsAV7ROZkTaZMV2SjXhJklSvGfOSpIhysOQ4c1e9x+vrVlBcXhXx\n",
              "ae27MyNtMuO69DHiJUlSg2DMS5IiwqGSEzy/+j1eW7uCk+WnAEht140ZaZOZ0LWvES9JkhoUY16S\n",
              "VKcdLjnBC2uW8mr+ck6cjvghbbsyI20yE7v1M+IlSVKDZMxLkuqkw6Un+dnqpbyydjnHy0oBGNym\n",
              "CzPS0knvPsCIlyRJDZoxL0mqU46UnuRna5bxSv77HDsd8YPadCYjlM6XEgca8ZIkSRjzkqQ6oqi0\n",
              "mJfyl/Fy/vscPVUCwIDWnchIS+eaxIFER0WHeaEkSVLdYcxLksLq6KkSXs5fxktrllF0OuL7tepI\n",
              "Rlo6X+kxyIiXJEk6C2NekhQWx06V8Er++7y4ZhlFp4qBqoh/LDSJa5MGG/GSJEnnYMxLki6r42Wl\n",
              "vJq/nBfWLOVI6UkA+iR04LHQJL7aM8WIlyRJOg/GvCTpsjhRVsqra1fwwur3OHw64pMT2vNoaBJf\n",
              "SxpCTLQRL0mSdL6MeUlSrTpZdorX1q3g+VXvcaj0BAC9Wrbj0dAkruuZasRLkiRdBGNeklQristP\n",
              "8fraD5i7egkHS6oiPqlFWx4NTeL6XqnERseEeaEkSVLkMuYlSTWquPwUv1i3kudWLeFAyXEAerRo\n",
              "y6OpE/l675ARL0mSVAOMeUlSjSguL+NX66sifl/xMQASm7fhkdBEbuidZsRLkiTVIGNeknRJSsrL\n",
              "+NWGD3kubzF7T0d89+atmZ46kRuTh9LIiJckSapxxrwk6aKUlJfxxoaPeHbVYvaePApA12atmJ46\n",
              "kZuSh9I4xr9iJEmSaov3tCRJF6S0opzfbPiIZ/IWsed0xHdplsD0IRO5uc8VRrwkSdJl4D0uSdJ5\n",
              "OVVRzm83fswzeYvYdaIIgM5NE3g4dQK39LmSOCNekiTpsvGelyTpnE5VlPO7gk94JncRO08cAaBj\n",
              "05Y8PGQCt/W9yoiXJEkKA++BSZLOqqyygv8u+ISncxey4/gRADrGt2DakPF8s+/VNIltFN6BkiRJ\n",
              "DZgxL0k6Q1llBfMKPuXp3EUUHj8EQIf4FjyUMo5v9RtGvBEvSZIUdsa8JAmA8soK3tqUzZzchWw7\n",
              "VhXx7eOb81DKOP6133AjXpIkqQ4x5iWpgSuvrODtzTk8lbOQrccOAtC2STMeShnH7f2HEx/bOMwL\n",
              "JUmS9M+ia/sDTJ8+naSkJKKiosjJyfnc815++WX69OlD7969ue+++ygrK6vtaZLUoFVUVjJvUzYT\n",
              "fj+bR5f+N1uPHaRNXDN+eOVXWHHj93lg8FhDXpIkqY6q9Zi/8cYbWbZsGT169Pjcc7Zs2cLMmTNZ\n",
              "unQpBQUF7N27lxdffLG2p0lSg1RRWcnvN+Uw8e3ZPPLeb9ly9ACt45rygyu+zIqbvseDKeNo2siI\n",
              "lyRJqstq/dvsx44d+4XnvPnmm0yZMoVOnToBMHXqVH784x8zbdq02p4nSQ1GRWUl725dxVM5C9hY\n",
              "tA+AVnFNmTp4DHcOGEnzRnFhXihJkqTzVSeeM19YWHjGI/dJSUkUFhZ+7vmlpaWUlpaecayioqLW\n",
              "9klSJKsMKvnj1tXMzsliw5GqiE9oHM8Dg8dw14CRtGjcJMwLJUmSdKHqRMxfqCeeeILHH3/8jGPD\n",
              "hw8P0xpJqpsqg0r+tG0Ns7OzWH9kLwAJjZtw36Ax3DNwlBEvSZIUwepEzCcmJrJp06bqt7du3Upi\n",
              "YuLnnv+DH/yAjIyMM47NnDmz1vZJUiSpDCr5y7Z8ZudksfbwHgBaNm7CfYNGc8/A0bQ04iVJkiJe\n",
              "nYj5G264gdGjR/Pv//7vdOzYkeeff55bb731c8+Pi4sjLu7M53bGxMTU9kxJqtOCIOCvhflk5mSR\n",
              "f2g3AC0axXHPoNHcN3A0CXHxYV4oSZKkmlLrMf/AAw/wxz/+kT179nDNNdfQokULCgoKuPfee5ky\n",
              "ZQpTpkyhV69ePP7444waNQqA8ePH88ADD9T2NEmqF4IgYP72tWRmZ7H60C4AmjeK456Bo7hv0Gha\n",
              "xTUN80JJkiTVtKggCIJwj6gJGRkZZGZmhnuGJF02QRCwYMc6MrOzyDu4E4BmsY25e+Ao7h88htZG\n",
              "vCRJUr1VJ77NXpJ0/oIgYOGO9WTmZJF7YAcATWMbc9eAkTwweAxtmjQL80JJkiTVNmNekiJEEAQs\n",
              "3rmBzJwssvdvByA+thF39h/J1JQxtG3SPMwLJUmSdLkY85JUxwVBwJJdG8nMzuLT/YUANIlpxB0D\n",
              "RvDg4LG0izfiJUmSGhpjXpLqqCAIWLqrgMycLD7etw2oivjb+w/jwZRxtI9vEeaFkiRJChdjXpLq\n",
              "mCAIeH/3JjJzsvhw71YA4mJi+Xa/YTyUMp4OTY14SZKkhs6Yl6Q6ZPnuTczKzmLl3i1AVcR/q+/V\n",
              "TBsyno5NW4Z5nSRJkuoKY16S6oAP9mxmVnYWK/ZsBqBxdAzf7Hc101LG07lZQpjXSZIkqa4x5iUp\n",
              "jD7cu5VZ2fN5f/cmoCrib+t7FdOGTKCLES9JkqTPYcxLUhh8vHcbs3Lms3RXAQCNomO4tc+VPDxk\n",
              "Al2atwrvOEmSJNV5xrwkXUaf7CskM3s+S3ZtBCA2Kppb+lzJw6kT6Na8dZjXSZIkKVIY85J0GWTv\n",
              "386s7Pks3rkBqIr4m/pcwfQhE+jeok2Y10mSJCnSGPOSVIty9m8nMyeLhTvWAxATFc2NyUN5JHUi\n",
              "iUa8JEmSLpIxL0m1IO/ADjJzssjavg6oivgbeqcxPXUiSS3bhnmdJEmSIp0xL0k1aPXBnWRmZ/G3\n",
              "7WsBiI6K4hu90ngkNJGeLduFeZ0kSZLqC2NekmpA/qFdzMrO4q+F+UBVxH+9V4hHUifSK6F9mNdJ\n",
              "kiSpvjHmJekS5B/azeycLP68bQ0AUURxfa9UHg1NorcRL0mSpFpizEvSRVh3eA+zcxbwx62rgKqI\n",
              "n9JrCI+lTiK5VYcwr5MkSVJ9Z8xL0gXYcGQvs7MX8O7WVQQERBHF13qm8GhoEn1bdQz3PEmSJDUQ\n",
              "xrwknYeNR/bxVM4C3tmSR0AAwFeTqiK+f+tOYV4nSZKkhsaYl6Rz2FS0n9k5C/ifzbnVEX9tj8E8\n",
              "FkpnQBsjXpIkSeFhzEvSWWwu2s9TuQt5e3MOlUFVxH85cRAZaZMY2KZLmNdJkiSpoTPmJekfbC46\n",
              "wNO5C3lrc3Z1xF+TOJDHQpMY3LZrmNdJkiRJVYx5SQK2Hj3InNwFvLUph4qgEoDJ3QeQEUonpZ0R\n",
              "L0mSpLrFmJfUoG07dpCncxfyZkF2dcRP6tafjLR0Utt1C/M6SZIk6eyMeUkN0vZjh5iTu5A3Cz6l\n",
              "/HTET+jaj4y0dNLadw/zOkmSJOncjHlJDcqO44d5OncRv9v4cXXEj+val4xQOld0SAzzOkmSJOn8\n",
              "GPOSGoSdx4/wTN4ifrvxY8oqKwAY26UPGaF0ruzYI8zrJEmSpAtjzEuq13adKOLZvEW8seGj6ogf\n",
              "3TmZjLR0ru6YFN5xkiRJ0kUy5iXVS7tPFPFs3mLe2PAhp05H/MhOvchIS2d4p15hXidJkiRdGmNe\n",
              "Ur2y5+RRfpq3mF9v+JDSinIAhnXsyYy0dEZ27h3mdZIkSVLNMOYl1Qv7Th7jp6sW88v1K6sj/uqO\n",
              "ScwIVUV8VFRUeAdKkiRJNciYlxTR9hcf47lVS/j5ug+qI/7KDj2YkZbO6M7JRrwkSZLqJWNeUkQ6\n",
              "UHycuauW8Pq6DyipKANgaPtEZqSlM7ZLHyNekiRJ9ZoxLymiHCw5ztxV7/H6uhUUl1dFfKhdd2ak\n",
              "pTO+a18jXpIkSQ2CMS8pIhwqOcHzq9/jtbUrOFl+CoDUdt2YkTaZCUa8JEmSGhhjXlKddrjkBC+s\n",
              "Wcqr+cs5cTrih7Ttyoy0yUzs1s+IlyRJUoNkzEuqkw6XnuRnq5fyytrlHC8rBWBwmy7MSEsnvfsA\n",
              "I16SJEkNmjEvqU4pKi3mZ/nLeHnNMo6djvhBbTqTEUrnS4kDjXhJkiQJY15SHXH0VAkvrVnGS/nL\n",
              "OHqqBIABrTuRkZbONYkDiY6KDvNCSZIkqe4w5iWF1bFTJbyc/z4/W7OUotMR369VRzLS0vlKj0FG\n",
              "vCRJknQWxryksDh2qoRX1y7nhdVLKTpVDFRF/GOhSVybNNiIlyRJks7BmJd0WR0vK+XV/OW8sGYp\n",
              "R0pPAtAnoQOPhSbx1Z4pRrwkSZJ0Hox5SZfFibJSXl27ghdWv8fh0xHfO6E9j4Um8bWkIcREG/GS\n",
              "JEnS+TLmJdWqk2WneG3dCp5f9R6HSk8A0KtlOx4NTeK6nqlGvCRJknQRjHlJtaK4/BSvr/2AuauX\n",
              "cLCkKuKTWrTl0dAkru+VSmx0TJgXSpIkSZHLmJdUo4rLT/GLdSt5btUSDpQcB6BHi7Y8mjqRr/cO\n",
              "GfGSJElSDTDmJdWI4vIyfrW+KuL3FR8DILF5Gx4JTeQbvdNoZMRLkiRJNcaYl3RJSsrL+NWGD3ku\n",
              "bzF7T0d89+atmZ46kRuThxrxkiRJUi0w5iVdlJLyMt7Y8BHPrlrM3pNHAejarBXTUydyU/JQGsf4\n",
              "5UWSJEmqLd7blnRBSivK+c2Gj3gmbxF7Tkd8l2YJTB8ykZv7XGHES5IkSZeB97olnZdTFeX8duPH\n",
              "PJO3iF0nigDo3DSBh1MncEufK4kz4iVJkqTLxnvfks7pVEU5vyv4hGdyF7HzxBEAOjZtycNDJnBb\n",
              "36uMeEmSJCkMvBcu6azKKiv479MRv/34YQA6xrdg2pDxfLPv1TSJbRTmhZIkSVLDZcxLOkNZZQXz\n",
              "Cj7l6dxFFB4/BECH+BY8lDKOb/UbRrwRL0mSJIWdMS8JgPLKCt7alM2c3EVsO3YQgHZNmjNtyDj+\n",
              "td8w4mMbh3mhJEmSpL8z5qUGrryygrc35/BUzkK2no74tk2a8VDKOG7vP9yIlyRJkuogY15qoCoq\n",
              "K3l7Sy5zchaw+egBANrENePBlLHc0X8ETRsZ8ZIkSVJdZcxLDUxFZSXvbMnjqdwFbCraD0DruKZM\n",
              "HTyWOweMoFmjuDAvlCRJkvRFjHmpgagMKvnDllU8lbOAjUX7AGgV15Spg8dw54CRNDfiJUmSpIhh\n",
              "zEv1XGVQyR+3rmZ2ThYbjlRFfELjeB4YPIa7BoykReMmYV4oSZIk6UIZ81I9VRlU8qdta5idncX6\n",
              "I3sBSGjchPsGjeHugaNoacRLkiRJEcuYl+qZyqCSv2zLZ3ZOFmsP7wGgZeMm3DtwNPcMHEVCXHyY\n",
              "F0qSJEm6VMa8VE8EQcBfC/PJzMki/9BuAFo0iuOeQaO5b+BoI16SJEmqR4x5KcIFQcD87WvJzM5i\n",
              "9aFdADRvFMc9A0dx76DRtI5rGuaFkiRJkmparcf8xo0bueOOOzhw4AAJCQm89tprDBo06IxzFi9e\n",
              "zFe+8hX69etXfWzFihXEx/tIovR5giBgwY51ZGZnkXdwJwDNYhtz98BR3D9oNK2bNAvzQkmSJEm1\n",
              "pdZj/oEHHuD+++/nzjvv5M033+TOO+/ko48++sx5/fr1Iycnp7bnSBEvCAIW7lhPZk4WuQd2ANA0\n",
              "tjF3DRjJA4PH0MaIlyRJkuq9Wo35ffv28fHHH/O3v/0NgBtuuIHvfOc7FBQUkJycXJsfWqp3giBg\n",
              "8c4NZOZkkb1/OwDxsY24s/9IpqaMoW2T5mFeKEmSJOlyqdWY3759O507dyY2turDREVFkZiYSGFh\n",
              "4WdiftOmTQwdOpSYmBjuuusuHnrooc+93dLSUkpLS884VlFRUfOfgFQHBEHAe7s2Mis7i0/3FwLQ\n",
              "JKYRdwwYwYODx9Iu3oiXJEmSGpo68QJ4Q4cOZceOHSQkJLBjxw6uvfZa2rVrx80333zW85944gke\n",
              "f/zxM44NHz78ckyVLpsgCFi2u4BZ2Vl8vG8bAHExsdzRfzgPpoyjfXyLMC+UJEmSFC5RQRAEtXXj\n",
              "+/btIzk5mUOHDhEbG0sQBHTu3Jlly5ad89vsn3jiCXbt2sUzzzxz1vef7ZH5mTNnMmfOnBrdL4VD\n",
              "EAQs372JWTlZfLh3K1AV8d/uN4yHUsbToakRL0mSJDV0tfrIfIcOHRg6dCi//OUvufPOO5k3bx7d\n",
              "unX7TMjv3r2bjh07Eh0dzbFjx3j33Xe55557Pvd24+LiiIuLO+NYTExMrXwO0uW0fPcmZmVnsXLv\n",
              "FqAq4r/V92qmDRlPx6Ytw7xOkiRJUl1R699m/8ILL3DnnXfy4x//mJYtW/Lqq68CcO+99zJlyhSm\n",
              "TJnCvHnzmDt3LrGxsZSXl3PTTTdx11131fY0qc74YM9mZmVnsWLPZgAaR8fwzX5XMy1lPJ2bJYR5\n",
              "nSRJkqS6pla/zf5yysjIIDMzM9wzpAvy4d6tzMqez/u7NwFVEX9b36uYNmQCXYx4SZIkSZ+jTrwA\n",
              "ntTQfLx3G7Ny5rN0VwEAjaJjuLXPlTw8ZAJdmrcK7zhJkiRJdZ4xL11Gn+wrJDN7Pkt2bQQgNiqa\n",
              "W/pcycOpE+jWvHWY10mSJEmKFMa8dBlk79/OrOz5LN65AaiK+Jv6XMH0IRPo3qJNmNdJkiRJijTG\n",
              "vFSLcg/sYFb2fBbuWA9ATFQ0NyYP5ZHUiSQa8ZIkSZIukjEv1YK8AzvIzMkia/s6oCrib+idxvTU\n",
              "iSS1bBvmdZIkSZIinTEv1aDVB3eSmZ3F37avBSA6Kopv9ErjkdBEerZsF+Z1kiRJkuoLY16qAfmH\n",
              "djErO4u/FuYDVRF/fa8Qj6ZOpFdC+zCvkyRJklTfGPPSJVh7aA+ZOfP587Y1AEQRxXW9UnksNIne\n",
              "RrwkSZKkWmLMSxdh3eE9zM5ZwB+3rgKqIn5KzyE8GppEn1YdwrxOkiRJUn1nzEsXYMORvczOXsC7\n",
              "W1cREBBFFF9NSuHR0CT6te4Y7nmSJEmSGghjXjoPG4/s46mcBbyzJY+AAIB/SUrhsdAk+rfuFOZ1\n",
              "kiRJkhoaY146h01F+5mds4D/2ZxbHfFf6TGIx0LpDGzTOczrJEmSJDVUxrx0FpuL9vNU7kLe3pxD\n",
              "ZVAV8dckDiQjlM6gtl3CvE6SJElSQ2fMS/9gy9EDzMlZyFubs6sj/kvdB5CRls7gtl3DvE6SJEmS\n",
              "qhjzErD16EGezl3IvE3ZVASVAKR3709GKJ0h7bqFeZ0kSZIkncmYV4NWeOwQc3IX8mbBp9URP7Fb\n",
              "PzJC6YTadw/zOkmSJEk6O2NeDdL2Y4d4Om8R/73xE8pPR/z4rn3JSEtnaPvEMK+TJEmSpHMz5tWg\n",
              "7Dx+hKdzF/LbjR9XR/y4Ln3ISEvnig49wrxOkiRJks6PMa8GYdfxIzyTt4jfbPyYssoKAMZ0SWZG\n",
              "aDJXdjTiJUmSJEUWY1712q4TRfw0bxFvbPiIU6cjflTn3sxIm8zVHZPCO06SJEmSLpIxr3ppz8mj\n",
              "PJu3iF+v/7A64kd06sWMtHSGd+oV5nWSJEmSdGmMedUre08e5ad5i/nVhg8prSgHYFjHnsxIS2dk\n",
              "595hXidJkiRJNcOYV72w7+Qxnlu1mF+sX1kd8Vd3TGJGqCrio6KiwjtQkiRJkmqQMa+Itr/4GHNX\n",
              "LeHn61ZSUlEGwJUdejAjLZ3RnZONeEmSJEn1kjGviHSg+DhzV7/H62tXVEf80PaJzEhLZ2yXPka8\n",
              "JEmSpHrNmFdEOVRygrmr3uO1dcspLq+K+FC77sxIS2d8175GvCRJkqQGwZhXRDhccoLnVy/l1bXL\n",
              "OVl+CoDUdt3ICKUzsVs/I16SJElSg2LMq047XHqSF1cv5ZX89zlxOuKHtO1KRlo6k7r1N+IlSZIk\n",
              "NUjGvOqkI6Un+dmaZbyc/z7Hy0oBGNymCxlp6UzuPsCIlyRJktSgGfOqU4pKi/lZ/jJeXrOMY6cj\n",
              "fmCbzmSE0rkmcaARL0mSJEkY86ojjp4q4aU1y3gpfxlHT5UA0L91JzJC6Xy5x0Cio6LDvFCSJEmS\n",
              "6g5jXmF17FQJL+e/z8/WLKXodMT3a9WRx9LSubbHICNekiRJks7CmFdYHDtVwqtrl/PC6qUUnSoG\n",
              "oG+rDjwWSudfkgYb8ZIkSZJ0Dsa8LqvjZaW8tnY5z69eypHSkwAkJ7TnsVA6X01KISbaiJckSZKk\n",
              "L2LM67I4UVbKa2tX8Pzq9zh8OuJ7J7Tn0dRJTOk5xIiXJEmSpAtgzKtWnSw7xevrVjB31XscKj0B\n",
              "QM+W7Xg0NInre6Ya8ZIkSZJ0EYx51Yri8lP8fN0HzF31HgdKjgOQ1KItj4Ymcn2vELHRMWFeKEmS\n",
              "JEmRy5hXjSouL+OX6z/guVVL2F9cFfE9WrThkdSJfKN3mhEvSZIkSTXAmFeNKC4v41frV/LcqiXs\n",
              "Kz4GQGLzNkxPncANyUNpZMRLkiRJUo0x5nVJSsrL+PWGD/lp3mL2no74bs1bMT11IjclX2HES5Ik\n",
              "SVItMOZ1UUorynljw0c8m7eIPSePAtC1WSseTp3AzclX0DjGS0uSJEmSaovFpQtSWlHObzd+zDO5\n",
              "i9h9sgiAzk0TmJ46gVv6XGnES5IkSdJlYHnpvJyqKOd3Gz/h6byF7Drx/0X8w6cjPs6IlyRJkqTL\n",
              "xgLTOZVVVvC7jZ/wTN5Cdhw/AkDHpi15eMgEbut7lREvSZIkSWFgiemsyioreLPgU57OXcj244cB\n",
              "6BjfgmlDxvPNvlfTJLZRmBdKkiRJUsNlzOsM5ZUVzNuUzdO5C9l27BAAHeJb8FDKOL7VbxjxRrwk\n",
              "SZIkhZ0xL6Aq4n+/KYenchey7dhBANo1ac60IeP4137DiI9tHOaFkiRJkqS/M+YbuPLKCt7enMuc\n",
              "3IVsOXoAgLZNmvFQyjhu7z/ciJckSZKkOsiYb6AqKiv5ny25PJWzgM2nI75NXDMeTBnLHf1H0LSR\n",
              "ES9JkiRJdZUx38BUVFbyh615PJWzgIKi/QC0jmvK1MFjuXPACJo1igvzQkmSJEnSFzHmG4jKoJI/\n",
              "bFnFUzkL2Fi0D4BWcU2ZOngMdw4YSXMjXpIkSZIihjFfz1UGlfxx62pm52Sx4UhVxCc0jueBwWO4\n",
              "a8BIWjRuEuaFkiRJkqQLZczXU5VBJX/atobZ2VmsP7IXgITGTbhv0BjuHjiKlka8JEmSJEUsY76e\n",
              "qQwq+cu2fGbnZLH28B4AWjSK475BY7hn4CgS4uLDvFCSJEmSdKmM+XoiCAL+WlgV8WsO7QageaM4\n",
              "7hk4ivsGjaZVXNMwL5QkSZIk1RRjPsIFQcD87WvJzM5i9aFdADSLbVwV8YPH0NqIlyRJkqR6x5iP\n",
              "UEEQsGDHOjKzs8g7uBOoivi7Bo7kgUFjaN2kWZgXSpIkSZJqizEfYYIgYOGO9WTmZJF7YAcATWMb\n",
              "c+eAEUwdPJY2RrwkSZIk1XvGfIQIgoDFOzeQmZNF9v7tAMTHNuKO/iN4MGUsbZs0D/NCSZIkSdLl\n",
              "YszXcUEQ8N6ujWRmZ/HJ/kIAmsQ04o7+w3kwZRzt4o14SZIkSWpojPk6KggClu0uIDM7i4/2bQMg\n",
              "LiaW2/sP58HB4+jQtEWYF0qSJEmSwsWYr4Pe372JzOz5rNy7FaiK+H/tN4yHUsbRsWnL8I6TJEmS\n",
              "JIWdMV+HrNizmVnZ8/lgzxagKuK/1fdqHhoynk5GvCRJkiTpNGO+Dli5ZwuzsuezfM9mABpHx/DN\n",
              "flczLWU8nZslhHmdJEmSJKmuqfWY37hxI3fccQcHDhwgISGB1157jUGDBn3mvJdffpknn3ySyspK\n",
              "Jk6cyHPPPUejRo1qe15YfbR3K7Oys1i2uwCoivjb+l7FtCET6GLES5IkSZI+R3Rtf4AHHniA+++/\n",
              "nw0bNvD973+fO++88zPnbNmyhZkzZ7J06VIKCgrYu3cvL774Ym1PC5tP9m3jm399ma//6XmW7S6g\n",
              "UXQM3+43jGU3/P/4/4+43pCXJEmSJJ1TrT4yv2/fPj7++GP+9re/AXDDDTfwne98h4KCApKTk6vP\n",
              "e/PNN5kyZQqdOnUCYOrUqfz4xz9m2rRpZ73d0tJSSktLzzhWUVFRS59Fzdl5/AjfW/4WS3ZuACA2\n",
              "Kppb+lzJw6kT6Na8dZjXSZIkSZIiRa0+Mr99+3Y6d+5MbGzVvxlERUWRmJhIYWHhGecVFhbSo0eP\n",
              "6reTkpI+c84/euKJJ0hISDjj14cfflg7n0QNSoiLJ+/ADmKjormt71UsveG7/OeobxjykiRJkqQL\n",
              "EpEvgPeDH/yAjIyMM47NnDkzTGvOX/NGccwZewu9E9rRo0XbcM+RJEmSJEWoWo357t27s3v3bsrL\n",
              "y4mNjSUIAgoLC0lMTDzjvMTERDZt2lT99tatWz9zzj+Ki4sjLi7ujGMxMTE1O76WTOzWL9wTJEmS\n",
              "JEkRrla/zb5Dhw4MHTqUX/7ylwDMmzePbt26nfF8eah6Lv0777zDnj17CIKA559/nltvvbU2p0mS\n",
              "JEmSFLFq/dXsX3jhBV544QX69u3Lk08+yauvvgrAvffeyzvvvANAr169ePzxxxk1ahTJycm0b9+e\n",
              "Bx54oLanSZIkSZIUkaKCIAjCPaImZGRkkJmZGe4ZkiRJkiTVulp/ZF6SJEmSJNUsY16SJEmSpAhj\n",
              "zEuSJEmSFGGMeUmSJEmSIowxL0mSJElShDHmJUmSJEmKMMa8JEmSJEkRxpiXJEmSJCnCGPOSJEmS\n",
              "JEUYY16SJEmSpAhjzEuSJEmSFGGMeUmSJEmSIowxL0mSJElShDHmJUmSJEmKMMa8JEmSJEkRxpiX\n",
              "JEmSJCnCRAVBEIR7RE34xje+QVJSUrhnfKGKigo+/PBDrr76amJiYsI9RxHG60eXwutHl8prSJfC\n",
              "60eXwutHlyISr58ePXrwyCOPnPOcehPzkeLo0aMkJCRQVFREy5Ytwz1HEcbrR5fC60eXymtIl8Lr\n",
              "R5fC60eXor5eP36bvSRJkiRJEcaYlyRJkiQpwhjzkiRJkiRFGGP+MouLi+Pf/u3fiIuLC/cURSCv\n",
              "H10Krx9dKq8hXQqvH10Krx9divp6/fgCeJIkSZIkRRgfmZckSZIkKcIY85IkSZIkRRhjXpIkSZKk\n",
              "CGPM14Lp06eTlJREVFQUOTk5n3veyy+/TJ8+fejduzf33XcfZWVll2+k6rTzuYYWL15MfHw8oVCo\n",
              "+ldxcfHlHao6p6SkhOuvv56+ffuSmprK5MmTKSgoOOu57777Lv3796dPnz584xvf4OjRo5d5reqi\n",
              "872Gtm7dSkxMzBlfgzZt2hSGxaprvvSlLzFkyBBCoRBjxowhOzv7rOd5P0hncz7Xj/eB9EVeffVV\n",
              "oqKiePvtt8/6/npzHyhQjVuyZEmwffv2oEePHkF2dvZZz9m8eXPQuXPnYPfu3UFlZWXwta99LXj2\n",
              "2Wcv71DVWedzDS1atChITU29rLtU9xUXFwd//OMfg8rKyiAIguCZZ54Jxo0b95nzjh07FnTo0CFY\n",
              "u3ZtEARBMG3atOC73/3u5ZyqOup8r6EtW7YECQkJl3ecIsLhw4erf//WW28FQ4YM+cw53g/S5zmf\n",
              "68f7QDqXLVu2BCNGjAiGDx8e/P73v//M++vTfSAfma8FY8eOpVu3buc8580332TKlCl06tSJqKgo\n",
              "pk6dyhtvvHGZFqquO59rSDqbJk2acO211xIVFQXA8OHD2bp162fO+/Of/0xaWhr9+/cH4KGHHvJr\n",
              "kIDzv4akz9OqVavq3xcVFVVfS//I+0H6POdz/Uifp7KyknvvvZdnnnnmc38MXX26DxQb7gENVWFh\n",
              "IT169Kh+OykpicLCwjAuUiTatGkTQ4cOJSYmhrvuuouHHnoo3JNUx8yZM4frrrvuM8fP9jVo9+7d\n",
              "lJeXExvrXw36/3zeNQRw4sQJrrrqKioqKrj++uv54Q9/SExMzGVeqLro9ttvZ9GiRQD86U9/+sz7\n",
              "vR+kc/mi6we8D6Szy8zMZNSoUVxxxRWfe059ug8UWWslVRs6dCg7duwgISGBHTt2cO2119KuXTtu\n",
              "vvnmcE9THfHjH/+YgoICFixYEO4pilDnuoY6d+7Mzp076dChA4cOHeKWW25h1qxZfO973wvDUtU1\n",
              "P//5zwF4/fXX+f73v/+5QSadzRddP94H0tmsXr2aefPm8d5774V7ymXjt9mHSWJiItu2bat+e+vW\n",
              "rSQmJoZxkSJNy5YtSUhIAKBbt27cdtttLF26NMyrVFf85Cc/4a233uLPf/4zTZs2/cz7z/Y1qHPn\n",
              "zhH3L9KqPV90DcXFxdGhQwcA2rRpw9133+3XIH3GHXfcwaJFizh48OAZx70fpPPxedeP94F0NkuX\n",
              "LmXr1q306dOHpKQkPvjgA+6//37mzp17xnn16T6QMR8mN9xwA++88w579uwhCAKef/55br311nDP\n",
              "UgTZvXs3lZWVABw7dox3332XtLS0MK9SXZCZmckbb7zB/Pnzz3ju4T/68pe/zKeffsq6desAeO65\n",
              "5/wapGrncw3t27ev+tXHS0tLeeutt/waJI4cOcKuXbuq33777bdp27Ytbdq0OeM87wfpbM73+vE+\n",
              "kM7mwQcfZPfu3WzdupWtW7cyfPhwXnzxRR588MEzzqtP94GM+VrwwAMP0K1bN3bs2ME111xDcnIy\n",
              "APfeey/vvPMOAL169eLxxx9n1KhRJCcn0759ex544IFwzlYdcj7X0Lx580hJSSE1NZXhw4czefJk\n",
              "7rrrrnDOVh2wY8cOZsyYwZEjR5gwYQKhUIhhw4YB8KMf/Yjnn38egBYtWvDSSy9x/fXXk5yczI4d\n",
              "O5g5c2Y4p6uOON9raNmyZaSlpZGamsrQoUPp1KkTP/zhD8M5XXVAUVER119/ffXfT88++yzvvvsu\n",
              "UVFR3g/SFzrf68f7QLpQ9fU+UFQQBEG4R0iSJEmSpPPnI/OSJEmSJEUYY16SJEmSpAhjzEuSJEmS\n",
              "FGGMeUmSJEmSIowxL0lSA5CUlES/fv0IhUKEQiF69erFY489dsG389RTT7Fnz57zOvenP/0pgwcP\n",
              "ZsCAAQwdOpTbbruNwsLCC/6YkiTps2LDPUCSJF0ev/3tbwmFQl94Xnl5ObGxZ7+L8NRTTzF+/Hg6\n",
              "dep0ztv4t3/7N/72t7/xl7/8hW7dugGwYMEC9uzZQ2Ji4gVvlyRJZzLmJUlqgF577TXefvtt3n77\n",
              "bRYvXsy0adMYPnw4n3zyCT/84Q8pKioiMzOTxo0bU1FRwUsvvcRf//pXdu3axS233EJ8fDyvvfba\n",
              "Wf9x4MSJE/zXf/0Xn3zySXXIA0yaNOkyfoaSJNVvxrwkSQ3E3yMc4I477jjjfWvXruW5557j5Zdf\n",
              "BiAhIYF169bRuXNnysrKKC0tZdiwYbzyyitf+Aj/mjVraNy4MQMHDqy1z0WSpIbO58xLktRA/Pa3\n",
              "vyUnJ4ecnBxat259xvt69erFuHHjqt+eNGkS3/72t5kzZw5btmyhefPml3uuJEk6B2NekiR9Jtbn\n",
              "zZvHk08+SVlZGddeey2/+c1vzvu2Bg4cyKlTp8jPz6/pmZIk6TRjXpIknaG8vJxNmzZx5ZVX8t3v\n",
              "fpcbb7yRDz/8EICWLVtSVFR0zj/fvHlzvvvd73Lfffexc+fO6uOLFi2qvh1JknRpfM68JEk6Q0VF\n",
              "BXfffTeHDh0iNjaW9u3b8+qrrwIwffp07rvvPpo2bfq5L4AH8B//8R+0a9eOa665hoqKCqKiogiF\n",
              "Qvznf/7nZfxMJEmqv6KCIAjCPUKSJEmSJJ0/v81ekiRJkqQI47fZS5Kki/If//EfvPXWW585Pm/e\n",
              "PHr37h2GRZIkNRx+m70kSZIkSRHGb7OXJEmSJCnCGPOSJEmSJEUYY16SJEmSpAhjzEuSJEmSFGGM\n",
              "eUmSJEmSIowxL0mSJElShDHmJUmSJEmKMP8vBgViC2IrZ9QAAAAASUVORK5CYII=\n",
              "\">\n",
              "      </div>\n",
              "      <script type=\"text/javascript\">\n",
              "        (() => {\n",
              "          const chartElement = document.getElementById(\"chart-9ebb862b-b86f-4cb1-891d-af2eb996e95a\");\n",
              "          async function getCodeForChartHandler(event) {\n",
              "            const chartCodeResponse =  await google.colab.kernel.invokeFunction(\n",
              "                'getCodeForChart', [\"chart-9ebb862b-b86f-4cb1-891d-af2eb996e95a\"], {});\n",
              "            const responseJson = chartCodeResponse.data['application/json'];\n",
              "            await google.colab.notebook.addCell(responseJson.code, 'code');\n",
              "          }\n",
              "          chartElement.onclick = getCodeForChartHandler;\n",
              "        })();\n",
              "      </script>\n",
              "      <style>\n",
              "        .colab-quickchart-chart-with-code  {\n",
              "            display: block;\n",
              "            float: left;\n",
              "            border: 1px solid transparent;\n",
              "        }\n",
              "\n",
              "        .colab-quickchart-chart-with-code:hover {\n",
              "            cursor: pointer;\n",
              "            border: 1px solid #aaa;\n",
              "        }\n",
              "      </style>"
            ]
          },
          "metadata": {}
        },
        {
          "output_type": "display_data",
          "data": {
            "text/plain": [
              "from matplotlib import pyplot as plt\n",
              "import seaborn as sns\n",
              "def _plot_series(series, series_name, series_index=0):\n",
              "  palette = list(sns.palettes.mpl_palette('Dark2'))\n",
              "  counted = (series['First_C']\n",
              "                .value_counts()\n",
              "              .reset_index(name='counts')\n",
              "              .rename({'index': 'First_C'}, axis=1)\n",
              "              .sort_values('First_C', ascending=True))\n",
              "  xs = counted['First_C']\n",
              "  ys = counted['counts']\n",
              "  plt.plot(xs, ys, label=series_name, color=palette[series_index % len(palette)])\n",
              "\n",
              "fig, ax = plt.subplots(figsize=(10, 5.2), layout='constrained')\n",
              "df_sorted = af.sort_values('First_C', ascending=True)\n",
              "_plot_series(df_sorted, '')\n",
              "sns.despine(fig=fig, ax=ax)\n",
              "plt.xlabel('First_C')\n",
              "_ = plt.ylabel('count()')"
            ],
            "text/html": [
              "      <div class=\"colab-quickchart-chart-with-code\" id=\"chart-60fcec4c-b3e5-4b52-b96a-460afe30d389\">\n",
              "        <img style=\"width: 180px;\" src=\"data:image/png;base64,iVBORw0KGgoAAAANSUhEUgAAA/MAAAITCAYAAABLz0yVAAAAOXRFWHRTb2Z0d2FyZQBNYXRwbG90\n",
              "bGliIHZlcnNpb24zLjcuMSwgaHR0cHM6Ly9tYXRwbG90bGliLm9yZy/bCgiHAAAACXBIWXMAAA9h\n",
              "AAAPYQGoP6dpAAAkxklEQVR4nO3dfZDV5X3//9cBdOMdq6kIdjbLljsV71ZUomJFa1LQRrzBRjM1\n",
              "igbExIxWarGOoYnpVE0mIVJSizbUxGSKZoQ4jDG9M0ZRmqGKpK1oI4Z1QUFro4uhigt7fn9ksr/s\n",
              "lxt3013OXvB4zJwZzjkXZ99nrlk+PPec89lKtVqtBgAAACjGgFoPAAAAAPSMmAcAAIDCiHkAAAAo\n",
              "jJgHAACAwoh5AAAAKIyYBwAAgMKIeQAAACiMmAcAAIDC7PExP2/evFqPAAAAAL1qj4/5l19+udYj\n",
              "AAAAQK/a42MeAAAA9jRiHgAAAAoj5gEAAKAwYh4AAAAKI+YBAACgMGIeAAAACiPmAQAAoDBiHgAA\n",
              "AAoj5gEAAKAwYh4AAAAKI+YBAACgMGIeAAAACiPmAQAAoDBiHgAAAAoj5gEAAKAwYh4AAAAKI+YB\n",
              "AACgMGIeAAAACiPmAQAAoDBiHgAAAAoj5gEAAKAwYh4AAAAKI+YBAACgMGIeAAAACiPmAQAAoDBi\n",
              "HgAAAAoj5gEAAKAwYh4AAAAKI+YBAACgMGIeAAAACiPmAQAAoDBiHgAAAAoj5gEAAKAwYh4AAAAK\n",
              "I+YBAACgMGIeAAAACiPmAQAAoDBiHgAAAAoj5gEAAKAwYh4AAAAKI+YBAACgMGIeAAAACiPmAQAA\n",
              "oDBiHgAAAAoj5gEAAKAwYh4AAAAKI+YBAACgMGIeAAAACiPmAQAAoDBiHgAAAAoj5gEAAKAwYh4A\n",
              "AAAKI+YBAACgMGIeAAAACiPmAQAAoDBiHgAAAAoj5gEAAKAwYh4AAAAKI+YBAACgMGIeAAAACtOn\n",
              "MX/dddelqakplUolq1at2um6hQsXZvTo0Rk5cmRmzJiR9vb2LvdXq9X83u/9Xg4++OC+HBcAAACK\n",
              "0Kcxf/HFF+fJJ5/M8OHDd7pm7dq1mTNnTpYtW5Y1a9bktddeyz333NNlzde+9rWMHDmyL0cFAACA\n",
              "YvRpzJ9xxhlpaGjY5ZoHH3wwU6ZMybBhw1KpVHLNNddk0aJFnfc/99xzeeihh/Jnf/ZnfTkqAAAA\n",
              "FGNQrQdobW3t8sp9U1NTWltbkyTt7e2ZMWNGFi5cmIEDB77vY23ZsiVbtmzpctu2bdt6d2AAAACo\n",
              "sX59Arxbb701F110UY466qhurb/99ttTX1/f5bJixYo+nhIAAAB2r5rHfGNjY15++eXO6y0tLWls\n",
              "bEySPP7445k/f36amppy+umnZ9OmTWlqasp///d/7/Cxbr755rS1tXW5jB8/frc8DwAAANhdav42\n",
              "+6lTp+b000/PF77whQwdOjQLFizIpZdemiRZtmxZ57qWlpY0NzenpaVlp49VV1eXurq6Lrd15+35\n",
              "AAAAUJI+fWV+5syZaWhoyPr16zNp0qSMGjUqSTJ9+vQsXbo0STJixIjceuutmTBhQkaNGpUhQ4Zk\n",
              "5syZfTkWAAAAFK1SrVartR6iL82aNStz586t9RgAAADQa2r+mXkAAACgZ8Q8AAAAFEbMAwAAQGHE\n",
              "PAAAABRGzAMAAEBhxDwAAAAURswDAABAYcQ8AAAAFEbMAwAAQGHEPAAAABRGzAMAAEBhxDwAAAAU\n",
              "RswDAABAYcQ8AAAAFEbMAwAAQGHEPAAAABRGzAMAAEBhxDwAAAAURswDAABAYcQ8AAAAFEbMAwAA\n",
              "QGHEPAAAABRGzAMAAEBhxDwAAAAURswDAABAYcQ8AAAAFEbMAwAAQGHEPAAAABRGzAMAAEBhxDwA\n",
              "AAAURswDAABAYcQ8AAAAFEbMAwAAQGHEPAAAABRGzAMAAEBhxDwAAAAURswDAABAYcQ8AAAAFEbM\n",
              "AwAAQGHEPAAAABRGzAMAAEBhxDwAAAAURswDAABAYcQ8AAAAFEbMAwAAQGHEPAAAABRGzAMAAEBh\n",
              "xDwAAAAURswDAABAYcQ8AAAAFEbMAwAAQGHEPAAAABRGzAMAAEBhxDwAAAAURswDAABAYcQ8AAAA\n",
              "FEbMAwAAQGHEPAAAABRGzAMAAEBhxDwAAAAURswDAABAYcQ8AAAAFEbMAwAAQGHEPAAAABRGzAMA\n",
              "AEBhxDwAAAAURswDAABAYcQ8AAAAFEbMAwAAQGHEPAAAABRGzAMAAEBhxDwAAAAURswDAABAYcQ8\n",
              "AAAAFEbMAwAAQGHEPAAAABRGzAMAAEBhxDwAAAAURswDAABAYfo05q+77ro0NTWlUqlk1apVO123\n",
              "cOHCjB49OiNHjsyMGTPS3t6eJPnhD3+Y8ePHZ+zYsTn66KMze/bsdHR09OXIAAAA0O/1acxffPHF\n",
              "efLJJzN8+PCdrlm7dm3mzJmTZcuWZc2aNXnttddyzz33JEkOOeSQ3H///Vm9enWeeeaZLF++PPfd\n",
              "d19fjgwAAAD9Xp/G/BlnnJGGhoZdrnnwwQczZcqUDBs2LJVKJddcc00WLVqUJDnhhBMyYsSIJMkH\n",
              "PvCBNDc3p6WlZaePtWXLlmzatKnLZdu2bb32fAAAAKA/qPln5ltbW7u8ct/U1JTW1tbt1m3cuDEP\n",
              "PvhgPvaxj+30sW6//fbU19d3uaxYsaJP5gYAAIBaqXnMd8emTZty3nnnZfbs2TnppJN2uu7mm29O\n",
              "W1tbl8v48eN346QAAADQ9wbVeoDGxsa89NJLnddbWlrS2NjYef3tt9/O5MmTc/7552fWrFm7fKy6\n",
              "urrU1dV1uW3gwIG9OzAAAADUWM1fmZ86dWqWLl2ajRs3plqtZsGCBbn00kuTJL/4xS8yefLkTJ48\n",
              "OZ/73OdqPCkAAAD0D30a8zNnzkxDQ0PWr1+fSZMmZdSoUUmS6dOnZ+nSpUmSESNG5NZbb82ECRMy\n",
              "atSoDBkyJDNnzkySzJs3LytWrMiSJUvS3Nyc5ubm/OVf/mVfjgwAAAD9XqVarVZrPURfmjVrVubO\n",
              "nVvrMQAAAKDX1Pxt9gAAAEDPiHkAAAAojJgHAACAwoh5AAAAKIyYBwAAgMKIeQAAACiMmAcAAIDC\n",
              "iHkAAAAojJgHAACAwoh5AAAAKIyYBwAAgMKIeQAAACiMmAcAAIDCiHkAAAAojJgHAACAwoh5AAAA\n",
              "KIyYBwAAgMKIeQAAACiMmAcAAIDCiHkAAAAojJgHAACAwoh5AAAAKIyYBwAAgMKIeQAAACiMmAcA\n",
              "AIDCiHkAAAAojJgHAACAwoh5AAAAKIyYBwAAgMKIeQAAACiMmAcAAIDCiHkAAAAojJgHAACAwoh5\n",
              "AAAAKIyYBwAAgMKIeQAAACiMmAcAAIDCiHkAAAAojJgHAACAwoh5AAAAKIyYBwAAgMKIeQAAACiM\n",
              "mAcAAIDCiHkAAAAojJgHAACAwoh5AAAAKIyYBwAAgMKIeQAAACiMmAcAAIDCiHkAAAAojJgHAACA\n",
              "woh5AAAAKIyYBwAAgMKIeQAAACiMmAcAAIDCiHkAAAAojJgHAACAwoh5AAAAKIyYBwAAgMKIeQAA\n",
              "ACiMmAcAAIDCiHkAAAAojJgHAACAwoh5AAAAKMyg3+QvrV69OuvXr89+++2XY489NgcffHAvjwUA\n",
              "AADsTLdj/u23385XvvKV/O3f/m3233//DB06NO+++25eeumljB8/PjfddFPOPvvsvpwVAAAASA9i\n",
              "/qyzzsrll1+eZ599NkOHDu28vaOjI8uWLcuCBQuyZs2azJw5s08GBQAAAH6p2zH/1FNPpa6ubrvb\n",
              "BwwYkIkTJ2bixInZsmVLrw4HAAAAbK/bJ8DbUcj/JmsAAACA/5tux/zHPvaxLF++fIf3vfXWW/nq\n",
              "V7+au+++u9cGAwAAAHas22+zv+2223LzzTdn9erVOfnkkztPgPfCCy/klVdeybXXXpurrrqqL2cF\n",
              "AAAA0oOYP+644/L9738/69aty+OPP57169dn//33zx/90R/l9NNPz6BBv9FvuQMAAAB6qMcF/uab\n",
              "b+ayyy7rctu///u/57jjjuu1oQAAAICd6/Zn5n9l2rRp3boNAAAA6BvdfmX+9ddfz8aNG/POO+/k\n",
              "P/7jP1KtVpMkbW1t2bx5c58NCAAAAHTV7ZhftGhR7rzzzrz66quZMmVK5+319fWZPXt2nwwHAAAA\n",
              "bK/bMX/99dfn+uuvz1/8xV9kzpw5fTkTAAAAsAs9PgHenDlz0tHRkY0bN2br1q2dtzc2NvbqYAAA\n",
              "AMCO9fgEeN/61rdy8MEH59hjj82JJ56YE088MSeddNIO11533XVpampKpVLJqlWrdvqYCxcuzOjR\n",
              "ozNy5MjMmDEj7e3t3boPAAAA9kaV6q/OZNdNI0eOzCOPPJIjjjjifdc+8cQTGTFiRE4//fQ89NBD\n",
              "aW5u3m7N2rVrM2HChKxcuTJDhw7N+eefn0mTJuXaa6/d5X3dNWvWrMydO7cnT3G3q1areWerH1IA\n",
              "AAD0pf0G7ZNKpVLrMXpFj99mf+ihh3Yr5JPkjDPOeN81Dz74YKZMmZJhw4YlSa655prcdtttufba\n",
              "a3d5345s2bIlW7Zs6XLbtm3bujVrLb2ztT1jvvPntR4DAABgj/bTy76Y/ffZt9Zj9Ioev83+ggsu\n",
              "yJ133pnXX389mzZt6rz8plpbWzN8+PDO601NTWltbX3f+3bk9ttvT319fZfLihUrfuPZAAAAoD/q\n",
              "8Svzt9xyS5Jfvn29UqmkWq2mUqn0i1fAb7755syaNavLbSWceX+/Qfvkp5d9sdZjAAAA7NH2G7RP\n",
              "rUfoNT2O+Y6Ojl4doLGxMS+99FLn9ZaWls4z4+/qvh2pq6tLXV1dl9sGDhzYq/P2hUqlsse81QMA\n",
              "AIC+1+O32fe2qVOnZunSpdm4cWOq1WoWLFiQSy+99H3vAwAAgL1Vj2N+wIABGThw4HaXHZk5c2Ya\n",
              "Ghqyfv36TJo0KaNGjUqSTJ8+PUuXLk2SjBgxIrfeemsmTJiQUaNGZciQIZk5c+b73gcAAAB7qx7/\n",
              "arrNmzd3/vmdd97Jfffdl23btuVP//RPe3243lDCr6YDAACAnujxK/MHHHBA5+XQQw/NrFmz8uCD\n",
              "D/bFbAAAAMAO/J8/M//CCy/kjTfe6I1ZAAAAgG7o8dnsDznkkFQqlSTJ1q1bkyTz58/v3akAAACA\n",
              "nepxzK9ater//8uDBmXYsGFF/Po3AAAA2FP0OOaHDx+e//3f/+2M+kMOOST7779/b88FAAAA7ESP\n",
              "Y3758uWZOnVqhg0bliR57bXXsnjx4px66qm9PhwAAACwvR7H/K/OXj9hwoQkv4z7G264IT/+8Y97\n",
              "fTgAAABgez0+m/0777zTGfJJctppp+Xdd9/t1aEAAACAnetxzB944IH5l3/5l87rjz76aA444IBe\n",
              "HQoAAADYuR6/zf6v/uqvctFFF3Wewb6joyNLlizp9cEAAACAHetxzL/66qt5+umn89prryVJhg4d\n",
              "mhUrVvT6YAAAAMCO9fht9nPmzMmQIUNyzDHH5Jhjjsmhhx6aOXPm9MVsAAAAwA70OOb/X5VKJdu2\n",
              "beuNWQAAAIBu6HHMH3TQQVm+fHnn9aeeeioHHXRQrw4FAAAA7FyPPzP/5S9/ORdeeGGOPPLIJMmL\n",
              "L76Y733ve70+GAAAALBjPY75U089Nc8//3z+9V//Nckvf8/8wQcf3NtzAQAAADvR45hPkkMOOSTn\n",
              "nntub88CAAAAdMP/+QR4AAAAwO4l5gEAAKAwYh4AAAAKI+YBAACgMGIeAAAACiPmAQAAoDBiHgAA\n",
              "AAoj5gEAAKAwYh4AAAAKI+YBAACgMGIeAAAACiPmAQAAoDBiHgAAAAoj5gEAAKAwYh4AAAAKI+YB\n",
              "AACgMGIeAAAACiPmAQAAoDBiHgAAAAoj5gEAAKAwYh4AAAAKI+YBAACgMGIeAAAACiPmAQAAoDBi\n",
              "HgAAAAoj5gEAAKAwYh4AAAAKI+YBAACgMGIeAAAACiPmAQAAoDBiHgAAAAoj5gEAAKAwYh4AAAAK\n",
              "I+YBAACgMGIeAAAACiPmAQAAoDBiHgAAAAoj5gEAAKAwYh4AAAAKI+YBAACgMGIeAAAACiPmAQAA\n",
              "oDBiHgAAAAoj5gEAAKAwYh4AAAAKI+YBAACgMGIeAAAACiPmAQAAoDBiHgAAAAoj5gEAAKAwYh4A\n",
              "AAAKI+YBAACgMGIeAAAACiPmAQAAoDBiHgAAAAoj5gEAAKAwYh4AAAAKI+YBAACgMGIeAAAACiPm\n",
              "AQAAoDBiHgAAAArTpzH/4osv5rTTTsuYMWNy8skn57nnnttuTUdHR2688cYcc8wxOfLII/OpT30q\n",
              "7733Xuf9X/rSlzJ27Ng0NzfnlFNOyYoVK/pyZAAAAOj3+jTmZ86cmauvvjo//elPc9NNN2XatGnb\n",
              "rVm4cGFWrlyZlStX5vnnn8+AAQMyb968JMmqVaty1113ZcWKFVm1alU++9nP5rOf/WxfjgwAAAD9\n",
              "Xp/F/Ouvv56nn346l112WZJk6tSpWbduXdasWdNl3U9+8pN85CMfyb777ptKpZJzzjkn3/72t5Mk\n",
              "lUol7e3t2bx5c5LkrbfeSkNDw06/5pYtW7Jp06Yul23btvXRMwQAAIDa6LOYX7duXQ4//PAMGjQo\n",
              "yS/DvLGxMa2trV3WnXjiiVm6dGk2bdqU9vb2fPe7301LS0uS5Pjjj88NN9yQ3/md30lDQ0O+9rWv\n",
              "Zf78+Tv9mrfffnvq6+u7XLwtHwAAgD1NzU+AN23atEyePDkTJ07MxIkTM2bMmM4fAKxduzZLlizJ\n",
              "mjVrsn79+txwww255JJLdvpYN998c9ra2rpcxo8fv7ueCgAAAOwWfRbzH/rQh7Jhw4Zs3bo1SVKt\n",
              "VtPa2prGxsYu6yqVSr7whS/k2WefzfLlyzN27NgcffTRSZLFixfn2GOPzW//9m8nSa688so89dRT\n",
              "XU6Q9+vq6uoyePDgLpeBAwf21VMEAACAmuizmD/ssMMybty4fOc730nyyzBvaGjIqFGjuqx79913\n",
              "8+abbyZJ3njjjdxxxx2ZPXt2kmTEiBF56qmn8otf/CJJ8vDDD2fMmDHZd999+2psAAAA6PcG9eWD\n",
              "33333Zk2bVpuu+22DB48OPfee2+SZPr06ZkyZUqmTJmStra2nHnmmRkwYEA6Ojpy/fXX57zzzkuS\n",
              "XHjhhfm3f/u3nHTSSamrq8sBBxyQv//7v+/LkQEAAKDfq1Sr1Wqth+hLs2bNyty5c2s9BgAAAPSa\n",
              "mp8ADwAAAOgZMQ8AAACFEfMAAABQGDEPAAAAhRHzAAAAUBgxDwAAAIUR8wAAAFAYMQ8AAACFEfMA\n",
              "AABQGDEPAAAAhRHzAAAAUBgxDwAAAIUR8wAAAFAYMQ8AAACFEfMAAABQGDEPAAAAhRHzAAAAUBgx\n",
              "DwAAAIUR8wAAAFAYMQ8AAACFEfMAAABQGDEPAAAAhRHzAAAAUBgxDwAAAIUR8wAAAFAYMQ8AAACF\n",
              "EfMAAABQGDEPAAAAhRHzAAAAUBgxDwAAAIUR8wAAAFAYMQ8AAACFEfMAAABQGDEPAAAAhRHzAAAA\n",
              "UBgxDwAAAIUR8wAAAFAYMQ8AAACFEfMAAABQGDEPAAAAhRHzAAAAUBgxDwAAAIUR8wAAAFAYMQ8A\n",
              "AACFEfMAAABQGDEPAAAAhRHzAAAAUBgxDwAAAIUR8wAAAFAYMQ8AAACFEfMAAABQGDEPAAAAhRHz\n",
              "AAAAUBgxDwAAAIUR8wAAAFAYMQ8AAACFEfMAAABQGDEPAAAAhRHzAAAAUBgxDwAAAIUR8wAAAFAY\n",
              "MQ8AAACFEfMAAABQGDEPAAAAhRHzAAAAUBgxDwAAAIUR8wAAAFAYMQ8AAACFEfMAAABQGDEPAAAA\n",
              "hRHzAAAAUBgxDwAAAIUR8wAAAFAYMQ8AAACFEfMAAABQGDEPAAAAhRHzAAAAUBgxDwAAAIXp05h/\n",
              "8cUXc9ppp2XMmDE5+eST89xzz223pqOjIzfeeGOOOeaYHHnkkfnUpz6V9957r/P+1tbWnHfeeTni\n",
              "iCMyduzYzJ8/vy9HBgAAgH6vT2N+5syZufrqq/PTn/40N910U6ZNm7bdmoULF2blypVZuXJlnn/+\n",
              "+QwYMCDz5s1LklSr1Vx44YW5/PLL81//9V9ZvXp1Pv7xj/flyAAAANDv9VnMv/7663n66adz2WWX\n",
              "JUmmTp2adevWZc2aNV3W/eQnP8lHPvKR7LvvvqlUKjnnnHPy7W9/O0ny6KOPpq6uLn/4h3/YuX7o\n",
              "0KF9NTIAAAAUoc9ift26dTn88MMzaNCgJEmlUkljY2NaW1u7rDvxxBOzdOnSbNq0Ke3t7fnud7+b\n",
              "lpaWJMnq1aszZMiQXHrppTnhhBNy4YUX5mc/+9lOv+aWLVuyadOmLpdt27b11VMEAACAmqj5CfCm\n",
              "TZuWyZMnZ+LEiZk4cWLGjBnT+QOArVu35oc//GHmzJmTZ599NpMmTdrl2+xvv/321NfXd7msWLFi\n",
              "dz0VAAAA2C36LOY/9KEPZcOGDdm6dWuSX37+vbW1NY2NjV3WVSqVfOELX8izzz6b5cuXZ+zYsTn6\n",
              "6KOTJI2NjTnhhBM6r3/yk5/MypUr097evsOvefPNN6etra3LZfz48X31FAEAAKAm+izmDzvssIwb\n",
              "Ny7f+c53kiSLFy9OQ0NDRo0a1WXdu+++mzfffDNJ8sYbb+SOO+7I7NmzkyTnnHNO1q9fn1deeSVJ\n",
              "8sgjj+Soo47KPvvss8OvWVdXl8GDB3e5DBw4sK+eIgAAANTEoL588LvvvjvTpk3LbbfdlsGDB+fe\n",
              "e+9NkkyfPj1TpkzJlClT0tbWljPPPDMDBgxIR0dHrr/++px33nlJkgMOOCALFizIH/zBH6Raraa+\n",
              "vj73339/X44MAAAA/V6lWq1Waz1EX5o1a1bmzp1b6zEAAACg19T8BHgAAABAz4h5AAAAKIyYBwAA\n",
              "gMKIeQAAACiMmAcAAIDCiHkAAAAojJgHAACAwoh5AAAAKIyYBwAAgMKIeQAAACiMmAcAAIDCiHkA\n",
              "AAAojJgHAACAwoh5AAAAKIyYBwAAgMKIeQAAACiMmAcAAIDCiHkAAAAojJgHAACAwoh5AAAAKIyY\n",
              "BwAAgMKIeQAAACiMmAcAAIDCiHkAAAAojJgHAACAwoh5AAAAKIyYBwAAgMKIeQAAACiMmAcAAIDC\n",
              "iHkAAAAojJgHAACAwoh5AAAAKIyYBwAAgMKIeQAAACiMmAcAAIDCiHkAAAAojJgHAACAwoh5AAAA\n",
              "KIyYBwAAgMKIeQAAACiMmAcAAIDCiHkAAAAojJgHAACAwoh5AAAAKIyYBwAAgMKIeQAAACiMmAcA\n",
              "AIDCiHkAAAAojJgHAACAwoh5AAAAKIyYBwAAgMKIeQAAACiMmAcAAIDCiHkAAAAojJgHAACAwoh5\n",
              "AAAAKIyYBwAAgMKIeQAAACiMmAcAAIDCiHkAAAAoTKVarVZrPURfuuiii9LU1FTrMd7Xtm3bsmLF\n",
              "iowfPz4DBw6s9Tjsgr0qi/0qh70qi/0qh70qi/0qh70qS2n7NXz48Fx//fW7XLPHx3wpNm3alPr6\n",
              "+rS1tWXw4MG1HoddsFdlsV/lsFdlsV/lsFdlsV/lsFdl2RP3y9vsAQAAoDBiHgAAAAoj5gEAAKAw\n",
              "Yr6fqKury+c///nU1dXVehTeh70qi/0qh70qi/0qh70qi/0qh70qy564X06ABwAAAIXxyjwAAAAU\n",
              "RswDAABAYcQ8AAAAFEbM70bXXXddmpqaUqlUsmrVqp2uW7hwYUaPHp2RI0dmxowZaW9v331D0qk7\n",
              "+/WjH/0o++23X5qbmzsv77zzzu4dlLz77ru54IILMmbMmBx//PH56Ec/mjVr1uxw7cMPP5wjjzwy\n",
              "o0ePzkUXXZRNmzbt5mn3bt3dq5aWlgwcOLDL99ZLL71Ug4n5/d///Rx33HFpbm7O7/7u7+bZZ5/d\n",
              "4TrHrtrrzl45bvUv9957byqVSh566KEd3u+Y1b/sar8ct/qPpqamHHHEEZ378MADD+xw3R5x3Kqy\n",
              "2zz++OPVdevWVYcPH1599tlnd7jmZz/7WfXwww+vbtiwodrR0VE977zzql//+td376BUq9Xu7ddj\n",
              "jz1WPf7443frXGzvnXfeqX7/+9+vdnR0VKvVanX+/PnViRMnbrfu7bffrh522GHV559/vlqtVqvX\n",
              "Xntt9cYbb9ydo+71urtXa9eurdbX1+/e4dihN998s/PPS5YsqR533HHbrXHs6h+6s1eOW/3H2rVr\n",
              "q6eeemr1lFNOqX7ve9/b7n7HrP7l/fbLcav/2NX/3X9lTzlueWV+NzrjjDPS0NCwyzUPPvhgpkyZ\n",
              "kmHDhqVSqeSaa67JokWLdtOE/Lru7Bf9wwc+8IGce+65qVQqSZJTTjklLS0t2637wQ9+kBNOOCFH\n",
              "HnlkkuQzn/mM76/drLt7Rf9x8MEHd/65ra2tc+9+nWNX/9CdvaJ/6OjoyPTp0zN//vyd/posx6z+\n",
              "ozv7RVn2lOPWoFoPQFetra0ZPnx45/Wmpqa0trbWcCLez0svvZRx48Zl4MCBufLKK/OZz3ym1iPt\n",
              "9ebNm5fzzz9/u9t39P21YcOGbN26NYMG+eewFna2V0myefPmnHzyydm2bVsuuOCC3HLLLRk4cOBu\n",
              "npAkufzyy/PYY48lSR555JHt7nfs6j/eb68Sx63+YO7cuZkwYUJOPPHEna5xzOo/urNfieNWf3L5\n",
              "5ZenWq1m/PjxueOOOzJkyJAu9+8pxy3/EsD/wbhx47J+/frU19dn/fr1Offcc3PooYfm4x//eK1H\n",
              "22vddtttWbNmTR599NFaj8L72NVeHX744XnllVdy2GGH5ec//3kuueSSfPWrX83s2bNrMCn33Xdf\n",
              "kuRb3/pWbrrppp1GIrX3fnvluFV7//mf/5nFixfniSeeqPUodEN398txq/944okn0tjYmPb29nzu\n",
              "c5/LFVdcsccet7zNvp9pbGzMyy+/3Hm9paUljY2NNZyIXRk8eHDq6+uTJA0NDfnEJz6RZcuW1Xiq\n",
              "vddXvvKVLFmyJD/4wQ+y//77b3f/jr6/Dj/8cK9w1MD77VVdXV0OO+ywJMkHP/jBXHXVVb63+oEr\n",
              "rrgijz32WP7nf/6ny+2OXf3PzvbKcav2li1blpaWlowePTpNTU358Y9/nKuvvjp/8zd/02WdY1b/\n",
              "0N39ctzqP351/Nlnn33yx3/8xzvchz3luCXm+5mpU6dm6dKl2bhxY6rVahYsWJBLL7201mOxExs2\n",
              "bEhHR0eS5O23387DDz+cE044ocZT7Z3mzp2bRYsW5Z//+Z+7fG70102ePDkrV67MCy+8kCS56667\n",
              "fH/VQHf26vXXX+88q+yWLVuyZMkS31s18NZbb+XVV1/tvP7QQw/lt37rt/LBD36wyzrHrtrr7l45\n",
              "btXepz/96WzYsCEtLS1paWnJKaecknvuuSef/vSnu6xzzOofurtfjlv9w+bNm/PWW291Xl+0aNEO\n",
              "92FPOW6J+d1o5syZaWhoyPr16zNp0qSMGjUqSTJ9+vQsXbo0STJixIjceuutmTBhQkaNGpUhQ4Zk\n",
              "5syZtRx7r9Wd/Vq8eHGOPfbYHH/88TnllFPy0Y9+NFdeeWUtx94rrV+/Pn/yJ3+St956K2eddVaa\n",
              "m5vz4Q9/OEny53/+51mwYEGS5KCDDso3vvGNXHDBBRk1alTWr1+fOXPm1HL0vU539+rJJ5/MCSec\n",
              "kOOPPz7jxo3LsGHDcsstt9Ry9L1SW1tbLrjggs5/577+9a/n4YcfTqVScezqZ7q7V45b/ZtjVlkc\n",
              "t/qf1157LWeddVaOO+64HHvssXn88cc7P360Jx63KtVqtVrrIQAAAIDu88o8AAAAFEbMAwAAQGHE\n",
              "PAAAABRGzAMAAEBhxDwA7IWamppyxBFHpLm5Oc3NzRkxYkRuuOGGHj/OnXfemY0bN3Zr7V//9V/n\n",
              "mGOOyVFHHZVx48blE5/4RFpbW3v8NQGAZFCtBwAAauOBBx5Ic3Pz+67bunVrBg3a8X8Z7rzzzpx5\n",
              "5pkZNmzYLh/j85//fP7pn/4p//AP/5CGhoYkyaOPPpqNGzemsbGxx7MDwN5OzAMA+eY3v5mHHnoo\n",
              "Dz30UH70ox/l2muvzSmnnJJnnnkmt9xyS9ra2jJ37tzsu+++2bZtW77xjW/kH//xH/Pqq6/mkksu\n",
              "yX777ZdvfvObO/zhwObNm/PlL385zzzzTGfIJ8nZZ5+9G58hAOxZxDwA7KV+FeFJcsUVV3S57/nn\n",
              "n89dd92VhQsXJknq6+vzwgsv5PDDD097e3u2bNmSD3/4w/m7v/u7932F/7nnnsu+++6bsWPH9tlz\n",
              "AYC9jc/MA8Be6oEHHsiqVauyatWqHHLIIV3uGzFiRCZOnNh5/eyzz84nP/nJzJs3L2vXrs2BBx64\n",
              "u8cFAH6NmAcAtvP/xvrixYtzxx13pL29Peeee27uv//+bj/W2LFj895772X16tW9PSYA7LXEPACw\n",
              "S1u3bs1LL72Uk046KTfeeGMuvvjirFixIkkyePDgtLW17fLvH3jggbnxxhszY8aMvPLKK523P/bY\n",
              "Y52PAwD0jM/MAwC7tG3btlx11VX5+c9/nkGDBmXIkCG59957kyTXXXddZsyYkf3333+nJ8BLki9+\n",
              "8Ys59NBDM2nSpGzbti2VSiXNzc350pe+tBufCQDsOSrVarVa6yEAAACA7vM2ewAAACiMt9kDAL3i\n",
              "i1/8YpYsWbLd7YsXL87IkSNrMBEA7Lm8zR4AAAAK4232AAAAUBgxDwAAAIUR8wAAAFAYMQ8AAACF\n",
              "EfMAAABQGDEPAAAAhRHzAAAAUJj/DyEve41zeF9RAAAAAElFTkSuQmCC\n",
              "\">\n",
              "      </div>\n",
              "      <script type=\"text/javascript\">\n",
              "        (() => {\n",
              "          const chartElement = document.getElementById(\"chart-60fcec4c-b3e5-4b52-b96a-460afe30d389\");\n",
              "          async function getCodeForChartHandler(event) {\n",
              "            const chartCodeResponse =  await google.colab.kernel.invokeFunction(\n",
              "                'getCodeForChart', [\"chart-60fcec4c-b3e5-4b52-b96a-460afe30d389\"], {});\n",
              "            const responseJson = chartCodeResponse.data['application/json'];\n",
              "            await google.colab.notebook.addCell(responseJson.code, 'code');\n",
              "          }\n",
              "          chartElement.onclick = getCodeForChartHandler;\n",
              "        })();\n",
              "      </script>\n",
              "      <style>\n",
              "        .colab-quickchart-chart-with-code  {\n",
              "            display: block;\n",
              "            float: left;\n",
              "            border: 1px solid transparent;\n",
              "        }\n",
              "\n",
              "        .colab-quickchart-chart-with-code:hover {\n",
              "            cursor: pointer;\n",
              "            border: 1px solid #aaa;\n",
              "        }\n",
              "      </style>"
            ]
          },
          "metadata": {}
        },
        {
          "output_type": "display_data",
          "data": {
            "text/plain": [
              "<google.colab._quickchart_helpers.SectionTitle at 0x7d435305c6d0>"
            ],
            "text/html": [
              "<h4 class=\"colab-quickchart-section-title\">Values</h4>\n",
              "<style>\n",
              "  .colab-quickchart-section-title {\n",
              "      clear: both;\n",
              "  }\n",
              "</style>"
            ]
          },
          "metadata": {}
        },
        {
          "output_type": "display_data",
          "data": {
            "text/plain": [
              "from matplotlib import pyplot as plt\n",
              "af['First_C'].plot(kind='line', figsize=(8, 4), title='First_C')\n",
              "plt.gca().spines[['top', 'right']].set_visible(False)"
            ],
            "text/html": [
              "      <div class=\"colab-quickchart-chart-with-code\" id=\"chart-ecbc3440-643b-444f-8e41-94a35499ca67\">\n",
              "        <img style=\"width: 180px;\" src=\"data:image/png;base64,iVBORw0KGgoAAAANSUhEUgAAApsAAAFuCAYAAADOJdNTAAAAOXRFWHRTb2Z0d2FyZQBNYXRwbG90\n",
              "bGliIHZlcnNpb24zLjcuMSwgaHR0cHM6Ly9tYXRwbG90bGliLm9yZy/bCgiHAAAACXBIWXMAAA9h\n",
              "AAAPYQGoP6dpAAA6r0lEQVR4nO3de1jUdf7//wcHxRMHRUEQAYFR84ynPIfg2mF3zQ5uVttppTQ1\n",
              "8KL99NmuVj/52d8n9/dd16+oqZkdrC07H632s4GiaKZupmWWznAUFVGRk8gAw/v7xyBGQgkyzgD3\n",
              "23XNH/OaFzPPeV9c0733DI6bYRiGAAAAAAdwd/YAAAAAaLuITQAAADgMsQkAAACHITYBAADgMMQm\n",
              "AAAAHIbYBAAAgMMQmwAAAHAYYhMAAAAOQ2wCAADAYYhNAAAAOAyxCQBXKDc3V926dVNmZqazRwGA\n",
              "VoPYBIAGxMTEqGPHjurWrVvd5fe//73KysoUERHR7PsNDw/Xxo0bm/Qz3377rWbPnq2goCB169ZN\n",
              "4eHhuvvuu7V///5mzwEA1wqxCQCNeOKJJ1RWVlZ32bFjx8/ur6ysbPEZ0tLSNHbsWAUGBmr37t0q\n",
              "LS3VgQMH9Ktf/Upvv/12iz8eALQ0YhMArlB2drbc3NxksVgkSS+//LJCQkL07LPPKjw8XP7+/pKk\n",
              "NWvWKDIyUt7e3goMDNSDDz4oSbr55puVm5urhQsXqlu3bho8ePAvPubcuXN15513Kjk5WeHh4XJz\n",
              "c5Ofn5/+8Ic/aNmyZQ57rgDQUjydPQAAtGb5+fk6ePCgDh06JHd3d5nNZj3xxBPau3evhgwZorKy\n",
              "srq3uz/77DOFh4frz3/+s+Lj43/xvs1ms44ePao1a9Y4+mkAgMNwZhMAGrF8+XL5+fnVXV599dUG\n",
              "961cuVLdunVTly5d5OnpKcMw9N1336mkpETdunXTlClTmvX4BQUFkqSQkJBmPwcAcDZiEwAa8cc/\n",
              "/lFFRUV1l/vuu++yPQEBAerSpUvd9X79+umNN97QSy+9pNDQUI0ZM0abN29u1uMHBARIkvLy8pr3\n",
              "BADABRCbAHAV3N0vfxm99dZb9c9//lNnzpzRf/zHf+jee+/V0aNHG93fGJPJpP79+zd6RhUAWgNi\n",
              "EwBa0JEjR/Tpp5+qrKxMnp6e8vX1lSR5eHhIknr37q0jR45c8f0999xzevvtt5WUlKScnBwZhqGS\n",
              "khK98soreuqppxzyHACgJRGbANCCKisr9T//8z/q06ePfHx89Pjjj+uVV15RZGSkJGnJkiX68MMP\n",
              "5efnp2HDhv3i/cXExGjPnj06fvy4xo4dK29vbw0bNkz//Oc/deeddzr66QDAVXMzDMNw9hAAAABo\n",
              "mzizCQAAAIfh39kEACcaPHiwcnJyGrzt+PHjdZ/5BIDWirfRAQAA4DC8jQ4AAACHITYBAADgMMQm\n",
              "AAAAHMYlYzM5OdnZIwAAAKAFuGRsNvaXmQAAAGhdXDI2AQAA0DYQmwAAAHAYYhMAAAAOQ2wCAADA\n",
              "YYhNAAAAOAyxCQAAAIchNgEAAOAwxCYAAAAcpsmxGR4ergEDBmjEiBEaMWKE3nzzzQb3vfDCCzKZ\n",
              "TIqMjNTDDz+sqqqqqx4WAAAArUuzzmy++eabOnDggA4cOKC77rrrstuzsrK0ePFipaeny2Kx6NSp\n",
              "U9qwYcNVDwsAAIDWxSFvo7/zzjuaMWOGevfuLTc3N82bN0+bN292xEMBAABAUpWtxtkjNKhZsXn/\n",
              "/fdr6NChmjNnjk6fPn3Z7bm5uQoLC6u7Hh4ertzc3Abvy2q1qqSkpN7FZrM1ZywAAIB2p/hClVam\n",
              "HNWEv27VqZIKZ49zmSbH5o4dO/TNN99o//796tmzpx544IGrGmDZsmXy9fWtd9m7d+9V3ScAAEBb\n",
              "V1xepf/7+VFN+v+3amWKWadLrXpr3zFnj3UZz6b+QGhoqCSpQ4cOWrRokfr379/gnoyMjLrr2dnZ\n",
              "dT/3U08++aSSkpLqrS1evLipYwEAALQLReWVenFnll7ala1Sa7UkqX9gNyXEmXTLkCAnT3e5JsXm\n",
              "+fPnVVVVJT8/P0nS5s2bFR0dfdm+O+64Q5MmTdLTTz+twMBArV+/XrNnz27wPr28vOTl5VVvzcPD\n",
              "oyljAQAAtHlF5ZXamJ6ll7/IVlltZA7s7a2EOJNuGtxb7u5uTp6wYU2KzVOnTumOO+6QzWaTYRiK\n",
              "iIjQK6+8IkmKj4/XjBkzNGPGDEVERGjp0qWaOHGiJCkmJkZz585t+ekBAADauHPnK7VxZ6Y2fZFT\n",
              "LzIXTTNp+iDXjcyL3AzDMJw9xE8lJSVpxYoVzh4DAADAaQrPV+r59Ey98kW2zlfa/3h6UJCPEuJM\n",
              "mj4o0OUj86Imf2YTAAAAjnO2zKoN6Zl6dXeOymsjc3CwjxLjTPrVoEC5ubWOyLyI2AQAAHABZ8qs\n",
              "en5Hpl7ZnaMLVfbIHNLHR4vi+ivuuoBWF5kXEZsAAABOdLrUqg07MvSPL3PrInNYiK8S40yKHdh6\n",
              "I/MiYhMAAMAJCkor9Nz2TL22J0cVVfZv/xne10+L4kyKGdCr1UfmRcQmAADANVRQUqH1tZFprbZH\n",
              "5oi+flo0zaQb+redyLyI2AQAALgGTpVUaF1ahjbvza2LzJGhfkqc1l9TTD3bXGReRGwCAAA4UH5x\n",
              "hdalWbR53zFV1kbm6LDuSpxm0qSothuZFxGbAAAADnCy+ILWpWXojb3HVGmzR+aY8O5aNK2/JkT6\n",
              "t/nIvIjYBAAAaEEnii5obZpFb+3Lq4vMsf16aFGcSePbUWReRGwCAAC0gONFF7R2m0Vv/fuYqmz2\n",
              "L2gcF9FDiXH9NT7S38nTOQ+xCQAAcBWOFZZrbVqG3vnqUmSOj/BX4jSTxkW038i8iNgEAABohmOF\n",
              "5Xp2m0XvfJWn6hp7ZE6M8ldiXH+N7dfDydO5DmITAACgCXLPlmvNNrPe23+8LjInRfVU4jSTxoQT\n",
              "mT9FbAIAAFyBnLPntWarRe99fVy22sicbOqpRdNMGhVGZDaG2AQAAPgZ2WfOa/VWiz44cCkyb+jf\n",
              "SwlxJo0K6+7k6VwfsQkAANCAzNNlWlMbmbWNqZgBvZQYZ1J0KJF5pYhNAACAH8mojcwPfxSZsQMD\n",
              "lBBn0oi+fk6drTUiNgEAACRZCsq0eqtZHx88UReZ066zR+awED+nztaaEZsAAKBdM58q1aqtFm35\n",
              "5oSMusgMVGKcSUNDfJ07XBtAbAIAgHbp6KlSrUo165NvT9ZF5vRBgUqIM2lIHyKzpRCbAACgXTmS\n",
              "b4/MTw9disybBvfWY3FRGhxMZLY0YhMAALQL358s0apUsz47lF+3dvOQ3kqIM+m6IB8nTta2EZsA\n",
              "AKBNO3zCHpn//M4emW5u0i1DgvRYXJQG9iYyHY3YBAAAbdKh48ValWrWvw6fkmSPzF8PDVJCnEn9\n",
              "A72dPF37QWwCAIA25dDxYq1MMSvl+0uR+ZthwUqIjZKJyLzmiE0AANAmfJtXrOTUo0r5vkCS5O4m\n",
              "/XZ4sB6LjVJUAJHpLO7N/cGXXnpJbm5u+uCDDy67LTs7Wx4eHhoxYkTdJSMj42rmBAAAaNDBY0X6\n",
              "w8v79Ns1O5XyfYHc3aTbovvo86QblDw7mtB0smad2czOztbzzz+vcePGNbrH29tbBw4caO5cAAAA\n",
              "P+vr3HNKTjUr7chpSfYzmTNH9NHC2ChF9Orm5OlwUZNjs6amRvHx8Vq9erUef/xxR8wEAADQqP25\n",
              "55ScYtb2o/bI9HB3q4vMfj27Onk6/FSTY3PFihWaOHGiRo0a9bP7zp8/rzFjxshms2nmzJl66qmn\n",
              "5OHhcdk+q9Uqq9Vab81mszV1LAAA0MZ9lVOolSlmpZvPSLJH5u3RfbRgapTCiUyX1aTYPHTokN59\n",
              "913t2LHjZ/cFBQXp+PHjCggIUGFhoe666y79/e9/1xNPPHHZ3mXLlmnp0qX11n7u7XkAANC+7Msu\n",
              "VHKKWTst9sj0dHfT7SPtkRnmT2S6OjfDuPhFTb9s3bp1+u///m95eXlJkvLz8+Xj46OlS5fq0Ucf\n",
              "bfTnNm/erNdff10ff/zxZbc1dGZz8eLFSk5OvtKxAABAG7Q3q1DJqUe1y3JWkj0y7xwVogVTo9S3\n",
              "RxcnT4cr1aQzm48++mi9qIyJidGiRYs0c+bMevsKCgrUvXt3dejQQVarVe+9956io6MbvE8vL6+6\n",
              "eL2oobfbAQBA+/Bl5lklp5i1O/NSZM4a3VfzYyKJzFaoxf6dzSVLlig4OFjz5s3Tzp07tWTJEnl4\n",
              "eKi6ulqxsbF66qmnWuqhAABAG7Q746xWphzVnqxCSVIHj0uRGdKdyGytmvQ2+rWSlJSkFStWOHsM\n",
              "AADgYIZh2CMz1ay9tZHZ0cNdvxsTokdjotTHr7OTJ8TV4huEAADANWcYhnZZzio59aj2ZZ+TZI/M\n",
              "u8b01aMxkQomMtsMYhMAAFwzhmFop+WMVqaY9VVObWR6uuvuMX01LyZSQb5EZltDbAIAAIczDEM7\n",
              "zGeUnHJU+3OLJNkj856xoZp3Q6R6+3Zy7oBwGGITAAA4jGEYSjt6WskpZh04ViRJ8vJ01z3X2yMz\n",
              "0IfIbOuITQAA0OIMw1DakdNamWrWwdrI7NTBXfdeH6a5UyIUQGS2G8QmAABoMYZhaOsPBUpONeub\n",
              "vGJJ9si8b1yYHp4SoQBvIrO9ITYBAMBVMwxDKd8XaFWqWd8et0dm5w4eum98mB6eHKFe3l6/cA9o\n",
              "q4hNAADQbIZh6PPDp5ScatZ3J0okSV06XorMnt2IzPaO2AQAAE1WU2PoX4dPaVWqWYdP2iOza0cP\n",
              "3T8hXPGT+smfyEQtYhMAAFyxmhpD//tdvpJTzfohv1SSPTIfmBCu+MkR6tG1o5MnhKshNgEAwC+q\n",
              "qTH0z+/ytepHkdnNy1MPTgjXnEn91J3IRCOITQAA0KiaGkOfHjqp1akWHTllj0xvL089NDFcf5jU\n",
              "T35diEz8PGITAABcxlZj6JNvT2p1qlnmgjJJkncnTz00sZ/mTOwn3y4dnDwhWgtiEwAA1LHVGNry\n",
              "zQmt3mqR5UeROWdSPz00sZ98OxOZaBpiEwAAyFZj6OODJ7R6q1kZp89Lknw6eWrOpAg9ODGcyESz\n",
              "EZsAALRj1bYafXTwhNZstSjzjD0yfTt3UPykfnpgYrh8OhGZuDrEJgAA7VC1rUYfHjihNdssyqqN\n",
              "TL8uHfTw5AjdPz5M3kQmWgixCQBAO1Jtq9H7Xx/Xs9ssyj5bLknq3qWD4idH6IEJ4ermRRqgZfEb\n",
              "BQBAO1Blq9H7+49rzTaLcgvtkdmja8e6M5ldiUw4CL9ZAAC0YVW2Gr23P09rtll0rPCCJMm/a0c9\n",
              "MiVCvx9HZMLx+A0DAKANqqyu0bv78/TsNovyztkjs2e3S5HZpSMJgGuD3zQAANqQyuoavf3VMa3d\n",
              "lqHjRRcj00vzbojQvdeHqXNHDydPiPaG2AQAoA2wVtv09r/ztHabRSeKKyRJvby9NO+GSN0zNpTI\n",
              "hNMQmwAAtGLWapve2ndMa9MydLI2MgMuRub1oerUgciEcxGbAAC0QhVVNr2575jWpWUov8QemYE+\n",
              "Xnr0hkjNHktkwnUQmwAAtCIVVTa9sTdX67Zn6FSJVZLU26eT5k+N1O9G9yUy4XLcm/uDL730ktzc\n",
              "3PTBBx80ePuWLVs0cOBAmUwm3X777SopKWnuQwEA0O5VVNn04s4sTfk/2/T0x4d1qsSqIN9O+sut\n",
              "g7X9iRjdPz6c0IRLataZzezsbD3//PMaN25cg7eXlZVpzpw52r59uwYOHKiFCxfqL3/5i/72t79d\n",
              "1bAAALQ3Fyptem1Pjp7bkanTpfYzmcG+nTR/apRmjQ6RlyeBCdfW5DObNTU1io+P1+rVq+Xl5dXg\n",
              "ns8++0zR0dEaOHCgJGn+/PnavHnz1U0KAEA7cqHSpo3pmZr8f7bp//vke50utaqPX2c9c9tQpf3H\n",
              "VP1+XBihiVahyWc2V6xYoYkTJ2rUqFGN7snNzVVYWFjd9fDwcJ08eVLV1dXy9Kz/kFarVVartd6a\n",
              "zWZr6lgAALQJ5ZXV+seXOdqwI1NnyiolSSHdO2vB1CjdMTJEHT2b/Qk4wCmaFJuHDh3Su+++qx07\n",
              "drTYAMuWLdPSpUvrrTX29jwAAG3VeWu1Xv0yR8/vyNTZ8/bI7NujsxZOjdLtI0PUwYPIROvUpNhM\n",
              "T09Xdna2TCaTJCk/P1+PPPKITp48qUcffbRuX2hoqD7//PO669nZ2QoKCrrsrKYkPfnkk0pKSqq3\n",
              "tnjx4iY9CQAAWqvz1mq9sjtHz6dnqrA2MkN7dNHCqVG6bWQfIhOtnpthGEZzfzgmJkaLFi3SzJkz\n",
              "662XlpYqMjJSO3bsqPsDoU6dOmn58uVXdL9JSUlasWJFc8cCAMDllVmrtemLbG1Mz9S58ipJUpi/\n",
              "PTJnRhOZaDta7N/ZXLJkiYKDgzVv3jx5e3tr48aNmjlzpqqrqzVkyBBt2rSppR4KAIBWq7Siyh6Z\n",
              "O7NUVBuZ/Xp21cKpUbp1RLA8iUy0MVd1ZtNROLMJAGhrSiqqtGmXPTKLL9gjM6JnVz0WF6XfDiMy\n",
              "0XbxDUIAADhQ8YUqvbwrWy/szFRJRbUkKaJXVyXEmvTb4cHycHdz8oSAYxGbAAA4QPGFKr24M0sv\n",
              "7spSaW1kRgV002OxUfrNMCIT7QexCQBACyour9ILu7L00o8i0xTQTQlxJt0yNIjIRLtDbAIA0AKK\n",
              "yiv1ws4svbwrW6VWe2T2D6yNzCFBcicy0U4RmwAAXIVz5yu1cWemNn2Ro7LayBzY21sJcSbdNLg3\n",
              "kYl2j9gEAKAZCs9XamN6pjZ9ka3zlfavWR7Y21uLppk0fRCRCVxEbAIA0ARny6x6Pj1Lr+zOVnlt\n",
              "ZA4K8lFCnEnTBwUSmcBPEJsAAFyBM2VWPb8jU69+mVMXmYODfZQYZ9KvBgXKzY3IBBpCbAIA8DPO\n",
              "lFm1YUemXt2dowtV9sgc0sdHi+L6K+66ACIT+AXEJgAADSgordCG7Zn6x54cVVTVSJKGhfgqMc6k\n",
              "2IFEJnCliE0AAH6koKRC67dn6rU9ObJW2yNzeF8/LYozKWZALyITaCJiEwAA2SNz3fYMvb4nty4y\n",
              "R/T106JpJt3Qn8gEmovYBAC0a/nFFVq/PUOv781VZW1kjgz1U+K0/ppi6klkAleJ2AQAtEsniy9o\n",
              "XVqG3th3rC4yR4V116JpJk2KIjKBlkJsAgDalRNF9sh8c98xVdrskTkmvLsS4/prYpQ/kQm0MGIT\n",
              "ANAuHC+6oLXbLHr733l1kTm2Xw8tijNpfCSRCTgKsQkAaNPyzpVrbVqG3v73MVXZDEnS9f16aNG0\n",
              "/hof6e/k6YC2j9gEALRJxwrLtTbNone+yquLzPER/kqcZtK4CCITuFaITQBAm5J7tlzPbrPo3f15\n",
              "qq6xR+bEKH8lxvXX2H49nDwd0P4QmwCANiH3bLnWbDPr3f3HZauNzElRPZU4zaQx4UQm4CzEJgCg\n",
              "Vcs+c15rtln0/teXInOyqacWTTNpVBiRCTgbsQkAaJWyzpzX6q1mfXjgRF1k3tC/lxLiTBoV1t3J\n",
              "0wG4iNgEALQqmafLtGarRR8cOK7axlTMgF5KjDMpOpTIBFwNsQkAaBUsBWVas9Wsjw6eqIvM2IEB\n",
              "SogzaURfP6fOBqBxxCYAwKVZCkq1KtWij785IaM2MqddZ4/MYSF+Tp0NwC8jNgEALsl8qlSrtlq0\n",
              "pV5kBioxzqShIb7OHQ7AFWtybE6fPl35+flyd3eXt7e3Vq1apejo6Hp70tLSdPPNN2vAgAF1a7t3\n",
              "71bnzp2vfmIAQJt2JL9Uq7aa9em3J+sic/qgQCXEmTSkD5EJtDZNjs233npLfn5+kqT3339fDz74\n",
              "oA4ePHjZvgEDBujAgQNXOx8AoJ34Ib9Eq1LN+vTb/Lq1mwb31mNxURocTGQCrVWTY/NiaEpScXGx\n",
              "3NzcWnIeAEA78/1Je2R+duhSZN48pLcS4ky6LsjHiZMBaAnN+szm/fffr23btkmSPv300wb3ZGRk\n",
              "aOTIkfLw8NBDDz2k+fPnN7jParXKarXWW7PZbM0ZCwDQinx3olirUs363+9O1a39emiQHouL0sDe\n",
              "RCbQVrgZxsVPxDTdpk2b9Oabb14WnCUlJTIMQ76+vsrLy9Mtt9yiP//5z/rd73532X08/fTTWrp0\n",
              "ab21cePGaffu3c0dCwDgwg4dL1ZyqlmfH7ZHppubdMvQICXEmjSgt7eTpwPQ0q4qNiWpc+fOysvL\n",
              "k7+/f6N7li1bphMnTmj16tWX3dbQmc3FixcrOTn5asYCALiYb/PskZny/aXI/M2wYCXERskUSGQC\n",
              "bVWT3kYvKipSeXm5goODJUkffPCB/P391aNH/e+ePXnypAIDA+Xu7q7S0lJt2bJFc+bMafA+vby8\n",
              "5OXlVW/Nw8OjKWMBAFzYN3lFSk4xK/WHAkn2yJwxPFiPxUYpKoDIBNq6JsVmcXGxZs2apQsXLsjd\n",
              "3V29evXSli1b5Obmpvj4eM2YMUMzZszQu+++q3Xr1snT01PV1dWaNWuWHnroIUc9BwCACzp4rEjJ\n",
              "qWZtrY1M99rIXBhrUlRANydPB+Baueq30R0hKSlJK1ascPYYAIBm+Dr3nJJTzUo7clqSPTJnjuij\n",
              "hbFRiuhFZALtDd8gBABoEV/l2CNzx1F7ZHq4u9VFZr+eXZ08HQBnITYBAFflq5xCrUwxK918RpI9\n",
              "Mm+L7qOFU6MUTmQC7R6xCQBoln3ZhUpOMWun5VJk3jGyjxZMjVKYP5EJwI7YBAA0yZ7Ms0pONeuL\n",
              "jLOSJE93N905KkQLpkapb48uTp4OgKshNgEAV+TLzLNKTjFrd+alyJw1OkTzY4hMAI0jNgEAjTIM\n",
              "Q7trI3NPVqEkqYOHm2aN7qv5MZEK6U5kAvh5xCYA4DKGYWh3xlmtTDFrb/alyLxrTF89GhOlPn6d\n",
              "nTwhgNaC2AQA1DEMQ7ssZ5WcelT7ss9Jkjp6uNdGZqSCiUwATURsAgBkGIbSzWeUnGrWVzm1kenp\n",
              "rrvH9NW8mEgF+RKZAJqH2ASAdswwDO0wn9HKlKP6OrdIkj0y7xkbqnk3RKq3byfnDgig1SM2AaAd\n",
              "MgxDaUdPKznFrAPHiiRJXp7uuud6e2QG+hCZAFoGsQkA7YhhGNp2pEDJqRYdrI3MTh3cde/1YZo7\n",
              "JUIBRCaAFkZsAkA7YBiGtv5QoORUs77JK5Zkj8zfXx+mR26IUIA3kQnAMYhNAGjDDMNQyvcFWpVq\n",
              "1rfH7ZHZuYOH7hsfpocnR6iXt5eTJwTQ1hGbANAGGYahfx0+pVWpZn13okSS1KXjpcjs2Y3IBHBt\n",
              "EJsA0IbU1NgjMznVrO9PXorM+8eH6+HJ/eRPZAK4xohNAGgDamoM/e93+UpONeuH/FJJUteOHnpg\n",
              "QrjiJ0eoR9eOTp4QQHtFbAJAK1ZTY+izQ/lavfVSZHbz8tSDE8I1Z1I/dScyATgZsQkArVBNjaFP\n",
              "D53UqlSzjp4qkyR5e3nqwYn2yPTrQmQCcA3EJgC0IrYaQ598e1KrU80yF1yKzIcm9dOcif3k26WD\n",
              "kycEgPqITQBoBWw1hrZ8c0Krt1pkuRiZnTz1h4n99AciE4ALIzYBwIXZagx9fPCEVm01K/P0eUmS\n",
              "TydPzZkUoQcnhsu3M5EJwLURmwDggqptNfro4Amt2WpR5hl7ZPp27qD4Sf30wMRw+XQiMgG0DsQm\n",
              "ALiQaluNPjhwQs9usyirNjL9utRG5oRweROZAFoZYhMAXEC1rUbvf31ca7ZZlHO2XJLUvUsHxU+O\n",
              "0AMTwtXNi5drAK0Tr14A4ERVthq9v98embmF9sjs0bWjHp4cofvGhxGZAFq9Jr+KTZ8+Xfn5+XJ3\n",
              "d5e3t7dWrVql6Ojoy/a98MIL+utf/6qamhrFxsZq7dq16tCBt38AQLJH5rtf5enZNIuOFV6QJPl3\n",
              "7aiHp0TovnFh6kpkAmgjmvxq9tZbb8nPz0+S9P777+vBBx/UwYMH6+3JysrS4sWLtX//fgUGBurW\n",
              "W2/Vhg0btGDBghYZGgBaq8rqGr27P09rtlp0vMgemT27ddQjUyL0+3Fh6tKRyATQtjT5Ve1iaEpS\n",
              "cXGx3NzcLtvzzjvvaMaMGerdu7ckad68eXrmmWeITQDtVmV1jd7+6pjWbsv4UWR6ad4NEbr3+jB1\n",
              "7ujh5AkBwDGa9b/Q999/v7Zt2yZJ+vTTTy+7PTc3V2FhYXXXw8PDlZub2+B9Wa1WWa3Wems2m605\n",
              "YwGAy7FW2/TWv/O0Pu1SZPby9tLcKUQmgPahWbH5yiuvSJI2bdqk//zP/2wwOK/UsmXLtHTp0npr\n",
              "48aNa/b9AYArsFbb9Na+Y1qblqGTxRWSpABvL827IVL3XB+qTh2ITADtw1V9OOiBBx7QvHnzdPbs\n",
              "Wfn7+9eth4aGKiMjo+56dna2QkNDG7yPJ598UklJSfXWFi9efDVjAYDTVFTZ9Oa+Y1qXlqH8Entk\n",
              "BvrYI/PusUQmgPanSbFZVFSk8vJyBQcHS5I++OAD+fv7q0ePHvX23XHHHZo0aZKefvppBQYGav36\n",
              "9Zo9e3aD9+nl5SUvL696ax4evBgDaF0qqmzavDdX67dn6FSJ/aNBvX066dGYSN01pi+RCaDdalJs\n",
              "FhcXa9asWbpw4YLc3d3Vq1cvbdmyRW5uboqPj9eMGTM0Y8YMRUREaOnSpZo4caIkKSYmRnPnznXI\n",
              "EwAAZ6qosun1PfbILCi1R2aQbyfNj4nUrNFEJgC4GYZhOHuIn0pKStKKFSucPQYANOpCpU2v7cnR\n",
              "czsydbo2MoN9O2n+1CjNGh0iL08iEwAkvkEIAJqkvLJar32Zq+d2ZOpMmT0y+/h11vypkbpzFJEJ\n",
              "AD9FbALAFSivrNY/vszRhh2ZOlNWKUkK6d5ZC6ZG6Y6RIero6e7kCQHANRGbAPAzzlur9eqXOXp+\n",
              "R6bOnr8UmY/FRun2kSHq4EFkAsDPITYBoAFl1mq9sjtbG9OzVFgbmaE9umjh1CjdNrIPkQkAV4jY\n",
              "BIAfKbNWa9MX2dqYnqlz5VWSpDB/e2TOjCYyAaCpiE0AkFRaUWWPzJ1ZKqqNzHD/Lnos1qRbRwTL\n",
              "k8gEgGYhNgG0ayUVVdq0yx6ZxRfskRnRs6sWxkZpxnAiEwCuFrEJoF0qvlCll3dl64WdmSqpqJYk\n",
              "RfTqqoRYk347PFge7m5OnhAA2gZiE0C7UnyhSi/uzNKLu7JUWhuZkb26KiHOpN8MIzIBoKURmwDa\n",
              "heLyKr2wK0sv/SgyTQHd9FicSb8eGkRkAoCDEJsA2rSi8kq9sDNLL+/KVqnVHpn9A7spIc6kW4YE\n",
              "yZ3IBACHIjYBtEnnzldq485MbfoiR2W1kTkg0FuJ00y6aXBvIhMArhFiE0CbUni+UhvTM7Xpi2yd\n",
              "r7RJkgb29lZinEk3EpkAcM0RmwDahLNlVj2fnqVXdmervDYyBwX5KCHOpOmDAolMAHASYhNAq3am\n",
              "zKrnd2Tq1S9z6iJzcLCPEuNM+tWgQLm5EZkA4EzEJoBW6UyZVRt2ZOrV3Tm6UGWPzCF9fJQY11/T\n",
              "rgsgMgHARRCbAFqVgtIKbdieqX/syVFFVY0kaViIrxLjTIodSGQCgKshNgG0CgUlFVq/PVOv7cmR\n",
              "tdoemcNDfLVoWn/FDOhFZAKAiyI2Abi0gpIKrdueodf35NZF5oi+fkqcZlJMfyITAFwdsQnAJeUX\n",
              "V2j99gy9vjdXlbWROTLUT4nT+muKqSeRCQCtBLEJwKWcLL6gdWkZemPfsbrIHBXWXYummTQpisgE\n",
              "gNaG2ATgEk4U2SPzzX3HVGmzR+aY8O5KjOuviVH+RCYAtFLEJgCnOl50QevSLHprX15dZI7t10OL\n",
              "4kwaH0lkAkBrR2wCcIq8c+Vam5aht/99TFU2Q5J0fb8eWjStv8ZH+jt5OgBASyE2AVxTxwrLtTbN\n",
              "one+yquLzPER/kqcZtK4CCITANoaYhPANXGssFzPbrNHZnWNPTInRPorMc6k64lMAGizmhSbFRUV\n",
              "mj17tg4fPqzOnTsrICBA69atU1RUVL192dnZioyM1NChQ+vW3n33XUVGRrbM1ABajdyz5Vqzzaz3\n",
              "9h+vi8xJUT2VOM2kMeE9nDwdAMDRmnxm85FHHtHNN98sNzc3rVmzRvHx8UpLS7tsn7e3tw4cONAC\n",
              "IwJojbLPnNeabRa9//Vx2Wojc7KppxZNM2lUGJEJAO1Fk2KzU6dOuuWWW+qujxs3TsuXL2/xoQC0\n",
              "XllnzmvNVos+OHApMqf076XEOJNGhXV38nQAgGvtqj6zmZycrFtvvbXB286fP68xY8bIZrNp5syZ\n",
              "euqpp+Th4XHZPqvVKqvVWm/NZrNdzVgAnCDzdFldZNY2pmIG2CMzOpTIBID2qtmx+cwzz8hisSg1\n",
              "NfWy24KCgnT8+HEFBASosLBQd911l/7+97/riSeeuGzvsmXLtHTp0npr48aNa+5YAK4xS0GZ1mw1\n",
              "66ODJ+oiM3ZggBLiTBrR18+pswEAnM/NMAyjqT+0fPlyvfHGG0pJSZGfn98v7t+8ebNef/11ffzx\n",
              "x5fd1tCZzcWLFys5ObmpYwG4hiwFpVq91aKPDp7QxVeRuNrIHE5kAgBqNfnM5ooVK7R58+afDc2C\n",
              "ggJ1795dHTp0kNVq1Xvvvafo6OgG93p5ecnLy6veWkNvtwNwDeZTpVq11aIt31yKzGnXBSoxzqSh\n",
              "Ib7OHQ4A4HKaFJt5eXl6/PHHFRERoalTp0qyx+KePXu0ZMkSBQcHa968edq5c6eWLFkiDw8PVVdX\n",
              "KzY2Vk899ZRDngCAa+NIfqlWbTXr029P1kXm9EGBSogzaUgfIhMA0LBmvY3uaElJSVqxYoWzxwAg\n",
              "6Yf8Eq1OteiTb0/Wrd042B6Zg4OJTADAz+MbhAA06PuTJVqVatZnh/Lr1m4e0lsJcSZdF+TjxMkA\n",
              "AK0JsQmgnu9OFGtVqln/+92purVfDw3SY3FRGtibyAQANA2xCUCSdOi4PTL/ddgemW5u0i1Dg5QQ\n",
              "a9KA3t5Ong4A0FoRm0A7921esZJTzUr5/lJk/mZYsBJio2QKJDIBAFeH2ATaqW/yipScYlbqDwWS\n",
              "7JE5Y3iwHouNUlQAkQkAaBnEJtDOHDxWpORUs7bWRqZ7bWQujDUpKqCbk6cDALQ1xCbQTnyde07J\n",
              "qWalHTktyR6ZM0f00cLYKEX0IjIBAI5BbAJt3Fc59sjccdQemR7ubnWR2a9nVydPBwBo64hNoI36\n",
              "KqdQK1PMSjefkWSPzNui+2jh1CiFE5kAgGuE2ATamH3ZhUpOMWun5VJk3jGyjxZMjVKYP5EJALi2\n",
              "iE2gjdiTeVbJqWZ9kXFWkuTp7qY7R4VowdQo9e3RxcnTAQDaK2ITaOW+zDyr5BSzdmdeisxZo0M0\n",
              "P4bIBAA4H7EJtFK7M85qZcpR7ckqlCR18HDTrNF9NT8mUiHdiUwAgGsgNoFWxDAMe2SmmrX3R5F5\n",
              "15i+ejQmSn38Ojt5QgAA6iM2gVbAMAztspxVcupR7cs+J0nq6OFeG5mRCiYyAQAuitgEXJhhGNpp\n",
              "OaOVKWZ9lVMbmZ7uuntMX82LiVSQL5EJAHBtxCbgggzD0A7zGSWnHNX+3CJJ9si8Z2yo5t0Qqd6+\n",
              "nZw7IAAAV4jYBFyIYRhKO3paySlmHThWJEny8nTXPdfbIzPQh8gEALQuxCbgAgzDUNqR01qZatbB\n",
              "2sjs1MFd914fprlTIhRAZAIAWiliE3AiwzC09YcCJaea9U1esSR7ZP7++jA9ckOEAryJTABA60Zs\n",
              "Ak5gGIZSvi/QqlSzvj1uj8zOHTx03/gwPTw5Qr28vZw8IQAALYPYBK4hwzD0+eFTSk4167sTJZKk\n",
              "Lh0vRWbPbkQmAKBtITaBa6CmxtC/Dp/SqlSzDp+8FJn3jw/Xw5P7yZ/IBAC0UcQm4EA1NYb+97t8\n",
              "Jaea9UN+qSSpa0cPPTAhXPGTI9Sja0cnTwgAgGMRm4AD1NQY+ud3+Vr1o8js5uWpByeEa86kfupO\n",
              "ZAIA2gliE2hBNTWGPj10UqtTLTpyyh6Z3l6eenCiPTL9uhCZAID2pUmxWVFRodmzZ+vw4cPq3Lmz\n",
              "AgICtG7dOkVFRV22d8uWLfrjH/8om82moUOH6uWXX5aPj0+LDQ64EluNoU++PanVqWaZC8ok2SPz\n",
              "oUn9NGdiP/l26eDkCQEAcA73pv7AI488oiNHjujgwYO69dZbFR8ff9mesrIyzZkzRx988IHMZrOC\n",
              "g4P1l7/8pUUGBlyJrcbQhweO68aVO5Sw+WuZC8rk3clTiXEm7fzPWCX9qj+hCQBo15p0ZrNTp066\n",
              "5ZZb6q6PGzdOy5cvv2zfZ599pujoaA0cOFCSNH/+fE2fPl1/+9vfrnJcwDXYagx9fPCEVm81K+P0\n",
              "eUmSTydPzZkUoQcnhsu3M4EJAIB0lZ/ZTE5O1q233nrZem5ursLCwuquh4eH6+TJk6qurpanZ/2H\n",
              "tFqtslqt9dZsNtvVjAU4TLWtRh8dPKE1Wy3KPGOPTN/OHRQ/qZ8emBgun05EJgAAP9bs2HzmmWdk\n",
              "sViUmpp6VQMsW7ZMS5curbc2bty4q7pPoKVV22r04YETWrPNoqzayPTrUhuZE8LlTWQCANCgZsXm\n",
              "8uXL9d577yklJUVdunS57PbQ0FB9/vnnddezs7MVFBR02VlNSXryySeVlJRUb23x4sXNGQtocdW2\n",
              "Gr3/9XE9u82i7LPlkqTuXToofnKEHpgQrm5e/IMOAAD8nCb/l3LFihXavHmzUlJS5Ofn1+Cem266\n",
              "SQsWLNAPP/yggQMHau3atZo9e3aDe728vOTlVf/bUzw8PJo6FtCiqmw1en//ca3ZZlFuoT0ye3Tt\n",
              "qIcnR+i+8WFEJgAAV6hJ/8XMy8vT448/roiICE2dOlWSPRb37NmjJUuWKDg4WPPmzZO3t7c2btyo\n",
              "mTNnqrq6WkOGDNGmTZsc8gSAllRlq9F7+/O0ZptFxwovSJL8u3bUw1MidN+4MHUlMgEAaBI3wzAM\n",
              "Zw/xU0lJSVqxYoWzx0A7Ulldo3f35+nZbRblnbNHZs9uHfXIlAj9flyYunQkMgEAaA7+C4p2rbK6\n",
              "Rm9/dUxrt2XoeNHFyPTSvBsidO/1YerckY90AABwNYhNtEvWapve/nee1m6z6ERxhSSpl7eX5k4h\n",
              "MgEAaEnEJtoVa7VNb+07prVpGTpZG5kB3l6ad0Ok7rk+VJ06EJkAALQkYhPtQkWVTW/uO6Z1aRnK\n",
              "L7FHZqCPlx69IVKzxxKZAAA4CrGJNq2iyqY39uZq3fYMnSqxf1NVb59OejQmUneN6UtkAgDgYMQm\n",
              "2qSKKpte35Or9dszVFBqj8wg306aHxOp343pKy9PIhMAgGuB2ESbcqHSptf25Oi5HZk6XRuZwb6d\n",
              "NH9qlGaNDiEyAQC4xohNtAkXI3P99kydKbNHZh+/zpo/NVJ3jiIyAQBwFmITrVp5ZbX+8WWONuzI\n",
              "1JmySklSSPfOWjA1SneMDFFHT3cnTwgAQPtGbKJVKq+s1qu77ZF59vylyHwsNkq3jwxRBw8iEwAA\n",
              "V0BsolU5b63WK7tz9Hx6pgprIzO0RxctnBql20b2ITIBAHAxxCZahTJrtTZ9ka2N6Zk6V14lSQrz\n",
              "t0fmzGgiEwAAV0VswqWVVlTVncksqo3McP8ueizWpFtHBMuTyAQAwKURm3BJJRVV2rQrWxt3Zqn4\n",
              "gj0yI3p21cLYKM0YTmQCANBaEJtwKSUVVXppZ7Ze2JmpkopqSVJEr65KiDXpt8OD5eHu5uQJAQBA\n",
              "UxCbcAnFF6r00q4svbgzqy4yI3t1VUKcSb8ZRmQCANBaEZtwquLyKr2wK0sv7cpSaW1kmgK66bE4\n",
              "k349NIjIBACglSM24RRF5ZV6YWeWXt6VrVKrPTL7B3ZTQpxJtwwJkjuRCQBAm0Bs4po6d742Mr/I\n",
              "VlltZA4I9FbiNJNuGtybyAQAoI0hNnFNFJ6v1Mb0TG36IlvnK22SpIG9vZUYZ9KNRCYAAG0WsQmH\n",
              "Oltm1fPpWXpld7bKayNzUJCPEuJMmj4okMgEAKCNIzbhEGfLrNqQnqlXd+fURebgYB8lxpn0q0GB\n",
              "cnMjMgEAaA+ITbSoM2VWbdhhj8wLVfbIHNLHR4lx/TXtugAiEwCAdobYRIsoKK3Qhu2Z+seeHFVU\n",
              "1UiShoX4KjHOpNiBRCYAAO0VsYmrUlBaoee2Z+q1H0Xm8BBfLZrWXzEDehGZAAC0c8QmmqWgpELr\n",
              "tmfo9T25slbbI3NEXz8lTjMppj+RCQAA7JoUmwkJCfroo4+Uk5Ojr7/+WiNGjLhsT1pamm6++WYN\n",
              "GDCgbm337t3q3LnzVQ8L58svrtD67Rl6fW+uKmsjc2SonxKn9dcUU08iEwAA1NOk2Lzzzjv1xBNP\n",
              "aNKkST+7b8CAATpw4MDVzAUXk19coXVpFm3ed6wuMkeFddeiaSZNiiIyAQBAw5oUm1OmTHHUHHBR\n",
              "J4ouaF1aht7cd0yVNntkjgnvrsS4/poY5U9kAgCAn+WQz2xmZGRo5MiR8vDw0EMPPaT58+c3utdq\n",
              "tcpqtdZbs9lsjhgLTXC86ILWpVn01r68usgc26+HFsWZND6SyAQAAFemxWNz5MiRysvLk6+vr/Ly\n",
              "8nTLLbeoZ8+e+t3vftfg/mXLlmnp0qX11saNG9fSY+EK5Z0r19q0DL3972OqshmSpOv79dCiaf01\n",
              "PtLfydMBAIDWxr2l79DHx0e+vr6SpJCQEN19991KT09vdP+TTz6p4uLiepexY8e29Fj4BccKy/Xk\n",
              "e99o6vI0vb4nV1U2Q+Mj/PXGI+P05tzxhCYAAGiWFj+zefLkSQUGBsrd3V2lpaXasmWL5syZ0+h+\n",
              "Ly8veXl51Vvz8PBo6bHQiGOF5Xp2m0XvfJWn6hr7mcwJkf5KjDPp+ggCEwAAXJ0mxebcuXP1ySef\n",
              "KD8/XzfeeKO8vb1lsVgUHx+vGTNmaMaMGXr33Xe1bt06eXp6qrq6WrNmzdJDDz3kqPnRTLlny7Vm\n",
              "m1nv7T9eF5mTonoqcZpJY8J7OHk6AADQVrgZhmE4e4ifSkpK0ooVK5w9RpuUfea81myz6P2vj8tW\n",
              "G5mTTT21aJpJo8KITAAA0LL4BqF2IuvMea3ZatEHBy5F5pT+vZQYZ9KosO5Ong4AALRVxGYbl3m6\n",
              "rC4yaxtTMQPskRkdSmQCAADHIjbbqIzayPzwR5EZOzBACXEmjejr59TZAABA+0FstjGWglKt3mrR\n",
              "xwdP1EVmXG1kDicyAQDANUZsthHmU6VatdWiLd+c0MU/+Zp2XaAS40waGuLr3OEAAEC7RWy2ckdP\n",
              "lWpVqlmffHuyLjKnDwpUQpxJQ/oQmQAAwLmIzVbqh/wSrU616NNDlyLzxsH2yBwcTGQCAADXQGy2\n",
              "Mt+fLNGqVLM+O5Rft3bzkN5KiDPpuiAfJ04GAABwOWKzlTh8wh6Z//zuUmT+emiQHouL0sDeRCYA\n",
              "AHBNxKaLO3S8WKtSzfrX4VOSJDc36ZahQUqINWlAb28nTwcAAPDziE0Xdeh4sVammJXy/aXI/M2w\n",
              "YCXERskUSGQCAIDWgdh0Md/mFSs59ahSvi+QZI/MGcOD9VhslKICiEwAANC6EJsu4uCxIiWnmrX1\n",
              "B3tkutdG5sJYk6ICujl5OgAAgOYhNp3s69xzSk41K+3IaUn2yJw5oo8WxEYpsheRCQAAWjdi00n2\n",
              "555TcopZ24/aI9PD3U0zR/TRwtgo9evZ1cnTAQAAtAxi8xr7KqdQK1PMSjefkWSPzNui+2jh1CiF\n",
              "E5kAAKCNITavkX3ZhUpOMWun5VJk3jGyjxZMjVKYP5EJAADaJmLTwfZmFSo59ah2Wc5Kkjzd3XTn\n",
              "qBAtmBqlvj26OHk6AAAAxyI2HeTLzLNKTjFrd+alyJw1OkTzY4hMAADQfhCbLWx3xlmtTDmqPVmF\n",
              "kqQOHm6aNbqv5sdEKqQ7kQkAANoXYrMFGIZhj8xUs/b+KDLvGtNXj8ZEqY9fZydPCAAA4BzE5lUw\n",
              "DEO7LGeVnHpU+7LPSZI6erjXRmakgolMAADQzhGbzWAYhnZazmhlillf5dRGpqe77h7TV/NiIhXk\n",
              "S2QCAABIxGaTGIahHeYzSk45qv25RZLskXnP2FDNuyFSvX07OXdAAAAAF0NsXgHDMJR29LSSU8w6\n",
              "cKxIkuTl6a57rrdHZqAPkQkAANAQYvNnGIahtCOntTLVrIO1kdmpg7vuvT5Mc6dEKIDIBAAA+Fnu\n",
              "TdmckJCg8PBwubm56cCBA43ue+GFF2QymRQZGamHH35YVVVVVzvnNWUYhlK/P6Vbn92lh17ep4PH\n",
              "itSpg7viJ/XTjiemavFvBhGaAAAAV6BJsXnnnXdq586dCgsLa3RPVlaWFi9erPT0dFksFp06dUob\n",
              "Nmy46kGvBcMwlHL4lGas2aU5m/6tb/KK1bmDhx6ZEqH0J2L1598MUoA3kQkAAHClmvQ2+pQpU35x\n",
              "zzvvvKMZM2aod+/ekqR58+bpmWee0YIFC5o34TVgGIY+P3xKq7aadeh4iSSpS0cP3Tc+TA9PjlDP\n",
              "bl5OnhAAAKB1avHPbObm5tY78xkeHq7c3NxG91utVlmt1nprNputpcdq1I6jp/XXz37Q4ZOXIvP+\n",
              "8eF6eHI/+ROZAAAAV8XpfyC0bNkyLV26tN7auHHjrtnjHztXrsMnS9S1o4cemBCu+MkR6tG14zV7\n",
              "fAAAgLasxWMzNDRUGRkZddezs7MVGhra6P4nn3xSSUlJ9dYWL17c0mM1ataovioqr9I9Y0PVncgE\n",
              "AABoUU36A6Ercccdd+ijjz5Sfn6+DMPQ+vXrNXv27Eb3e3l5ycfHp97Fw8OjpcdqVEdPdy2YGkVo\n",
              "AgAAOECTYnPu3LkKCQlRXl6ebrzxRkVFRUmS4uPj9dFHH0mSIiIitHTpUk2cOFFRUVHq1auX5s6d\n",
              "2/KTAwAAwOW5GYZhOHuIn0pKStKKFSucPQYAAACuUou/jQ4AAABcRGwCAADAYYhNAAAAOAyxCQAA\n",
              "AIchNgEAAOAwxCYAAAAchtgEAACAwxCbAAAAcBhiEwAAAA7jkt8gdPvttys8PPyaPZ7NZtPevXs1\n",
              "duzYa/q97K6O49I4jk3DOC4N47g0jmPTMI5L4zg2DXPGcQkLC1NiYuIv7nPJ2LzWSkpK5Ovrq+Li\n",
              "Yvn4+Dh7HJfBcWkcx6ZhHJeGcVwax7FpGMelcRybhrnyceFtdAAAADgMsQkAAACHITYBAADgMMSm\n",
              "JC8vL/3Xf/2XvLy8nD2KS+G4NI5j0zCOS8M4Lo3j2DSM49I4jk3DXPm48AdCAAAAcBjObAIAAMBh\n",
              "iE0AAAA4DLEJAAAAhyE2gSZwc3NTUVGRs8cA0I707NlT2dnZzh4DaDZiEwAAAA7T7mPz3nvv1ejR\n",
              "ozVs2DD9+te/Vn5+vrNHgotbvny5oqOj1b9/f7322mvOHgetwO7duzVp0iQNHz5cw4YN04cffujs\n",
              "keDCPvroI1133XUaNmyYnnjiCWePg1Zg3759io2N1ejRoxUdHa23337b2SPV4+nsAZxt5cqV6tWr\n",
              "lyTpr3/9q55++mmtX7/eyVPBlbm5uenrr79WZmamRo8erYkTJyo8PNzZY8FFFRYWaubMmXrnnXc0\n",
              "efJk1dTU8FEMNKqgoEAPPfSQ0tPTNWjQIG3YsEFnz5519lhwYUVFRXrkkUf06aefKigoSGfOnNHI\n",
              "kSM1YcIE9enTx9njSSI29frrr+vVV19VRUWFKioq1LNnT2ePBBcXHx8vSYqIiNCUKVO0Y8cOYhON\n",
              "2r17twYMGKDJkydLktzd3dWjRw8nTwVX9eWXX2rYsGEaNGiQJGnOnDl67LHHnDwVXNkXX3yhzMxM\n",
              "3XzzzfXWjxw5Qmy6gp07d2rVqlXavXu3AgIC9NFHH2nJkiXOHgutjJubm7NHANBG8fqCX2IYhgYP\n",
              "HqwvvvjC2aM0ql1/ZvPcuXPy9vaWv7+/Kisr9dxzzzl7JLQCL730kiQpOztb6enpdWesgIZMmDBB\n",
              "ZrNZ6enpkqSamhoVFhY6eSq4qvHjx+ubb77RDz/8IEl68cUXVVlZ6eSp4MomTJigrKwspaSk1K0d\n",
              "OHDApX5v2nVs3nTTTRowYEDdW1wjRoxw9khoBWw2m6KjozV9+nStWrWKt9Dxs7p37673339ff/rT\n",
              "nzRs2DCNHDlSu3btcvZYcFG9evXSiy++qNtuu03Dhw+X2WyWv7+/s8eCC+vevbs++eQTPfPMMxo+\n",
              "fLgGDRqkP/3pT6qpqXH2aHX4bnQAAAA4TLs+swkAAADHIjYBAADgMMQmAAAAHIbYBAAAgMMQmwAA\n",
              "AHAYYhMAAAAOQ2wCAADAYYhNAAAAOAyxCQAAAIchNgEAAOAwxCYAAAAc5v8B7I5UJdf5vGoAAAAA\n",
              "SUVORK5CYII=\n",
              "\">\n",
              "      </div>\n",
              "      <script type=\"text/javascript\">\n",
              "        (() => {\n",
              "          const chartElement = document.getElementById(\"chart-ecbc3440-643b-444f-8e41-94a35499ca67\");\n",
              "          async function getCodeForChartHandler(event) {\n",
              "            const chartCodeResponse =  await google.colab.kernel.invokeFunction(\n",
              "                'getCodeForChart', [\"chart-ecbc3440-643b-444f-8e41-94a35499ca67\"], {});\n",
              "            const responseJson = chartCodeResponse.data['application/json'];\n",
              "            await google.colab.notebook.addCell(responseJson.code, 'code');\n",
              "          }\n",
              "          chartElement.onclick = getCodeForChartHandler;\n",
              "        })();\n",
              "      </script>\n",
              "      <style>\n",
              "        .colab-quickchart-chart-with-code  {\n",
              "            display: block;\n",
              "            float: left;\n",
              "            border: 1px solid transparent;\n",
              "        }\n",
              "\n",
              "        .colab-quickchart-chart-with-code:hover {\n",
              "            cursor: pointer;\n",
              "            border: 1px solid #aaa;\n",
              "        }\n",
              "      </style>"
            ]
          },
          "metadata": {}
        },
        {
          "output_type": "display_data",
          "data": {
            "text/plain": [
              "from matplotlib import pyplot as plt\n",
              "af['Second_C'].plot(kind='line', figsize=(8, 4), title='Second_C')\n",
              "plt.gca().spines[['top', 'right']].set_visible(False)"
            ],
            "text/html": [
              "      <div class=\"colab-quickchart-chart-with-code\" id=\"chart-149cff97-21fe-4cc2-871e-2713e16e105c\">\n",
              "        <img style=\"width: 180px;\" src=\"data:image/png;base64,iVBORw0KGgoAAAANSUhEUgAAApsAAAFuCAYAAADOJdNTAAAAOXRFWHRTb2Z0d2FyZQBNYXRwbG90\n",
              "bGliIHZlcnNpb24zLjcuMSwgaHR0cHM6Ly9tYXRwbG90bGliLm9yZy/bCgiHAAAACXBIWXMAAA9h\n",
              "AAAPYQGoP6dpAAA5b0lEQVR4nO3de1iUBcL//w8HwROggiCIgDCDZp5T85wC65Zb5m5ZVlvqimma\n",
              "4tf2qe23P3vWffbK3edpfUQtDx2stnK31bbttPtNDiqaeUhNzdQZzngABUE8MMBwf/8YxFitFWUY\n",
              "YN6v6/K64uZm+Mxchm/vYcTDMAxDAAAAgBN4unoAAAAAWi9iEwAAAE5DbAIAAMBpiE0AAAA4DbEJ\n",
              "AAAApyE2AQAA4DTEJgAAAJyG2AQAAIDTEJsAAABwGmITAAAATkNsAkAzZrVa5eHhoZycHFdPAYCb\n",
              "QmwCcCvZ2dl65JFHFBYWpo4dOyosLEwTJ07UqVOnXD2tUeTk5CgxMVERERHq0KGDevTooUmTJikt\n",
              "Lc3V0wC4KWITgFuZOHGi/Pz8dPjwYV24cEH79+/Xww8/LA8PD1dPu2XffvutBg8erIsXL2rz5s06\n",
              "f/68jh49qscff1x/+ctfXD0PgJsiNgG4jeLiYh09elRz5sxRly5dJEkhISGaNm2aunXrJknatWuX\n",
              "xo0bp8DAQEVGRmrx4sWqrq6uu42CggI99thjCg8Pl7+/vwYOHKh9+/ZJkioqKvTcc8+pZ8+e6ty5\n",
              "s8aMGaNdu3bVfeybb76p8PBwrV27VlFRUQoICNCUKVN0/vz5unMyMzMVHx8vf39/3XbbbUpPT7/h\n",
              "+5eUlKS+fftqw4YN6tWrl7y8vNShQwdNmTJFa9euvaXHDgBuFrEJwG0EBgaqX79+mj17ttavX6+D\n",
              "Bw+qpqam7v3Hjh1TfHy85syZo8LCQm3btk0fffSR/vCHP0iSLl++rLi4OPn4+OjAgQMqLS3Ve++9\n",
              "p8DAQEnSf/zHf+izzz7T5s2bVVhYqMmTJyshIUEFBQV1n+P06dM6evSovv32Wx09elQHDhzQH//4\n",
              "R0mS3W7Xfffdp4iICJ06dUqbN2/Wq6++ekP37fLly0pLS9Pjjz/eWA8XADQKYhOAW0lPT9c999yj\n",
              "1atXa9iwYQoKCtIvf/lL2Ww2vfzyy7rvvvs0depUeXt7KzIyUs8++6zWr18vSfr0009VXFysNWvW\n",
              "KCgoSJ6enurTp48iIyNVU1Oj119/Xb/73e9kMpnk4+OjZ555RtHR0XrnnXfqPr+3t7f++7//W+3a\n",
              "tVNoaKgmT56s3bt3S5K+/PJLHTt2TMuXL1eHDh0UHh6uxYsX39D9Kikpkd1uV3h4eOM/aABwC7xd\n",
              "PQAAmlJgYKB++9vf6re//a1sNpv+8Y9/aNq0aerYsaMsFovS09PVqVOnuvNramrqrn5mZ2crKipK\n",
              "vr6+19zu2bNndfnyZcXExNQ7bjKZlJeXV/d2UFCQ2rRpU/d2hw4dVF5eLsnxFH3nzp0VEBBQ9/6e\n",
              "PXve0P3q0qWLvLy86l1FBYDmgCubANyWr69v3VPd+/btU7du3fToo4+qtLS07tf58+d14cIFSVJU\n",
              "VJRycnJUWVl5zW0FBQWpbdu2yszMrHc8MzNTERERN7QnPDxc586dU1lZWd2xG/0nj9q1a6e4uLh6\n",
              "V1EBoDkgNgG4jXPnzulXv/qVDh48KJvNJrvdrtTUVKWnp2vs2LGaO3euNm7cqL/+9a+qrKyU3W6X\n",
              "1WrVP//5T0nSvffeq86dO2vu3Lk6e/asDMPQkSNHlJubK09PT/3iF7/QCy+8oKysLFVWVup///d/\n",
              "ZbVa9dhjj93QvjvvvFNms1mLFi3SxYsXdeLECf3ud7+74fu3fPlyHTp0SD//+c91/Phx2e12Xb58\n",
              "WX/72980Z86cm3rMAOBWEZsA3IaPj4/Onj2rKVOmKCgoSIGBgUpKStJzzz2nZ555RkOHDq17UU73\n",
              "7t0VGBioBx98ULm5uZIcVw/T0tJ04cIF9evXTwEBAXrsscdUUlIiSXrppZc0YcIEjR8/XsHBwdq0\n",
              "aZM2b96sHj163NA+b29vffzxx8rOzlZoaKgSEhI0c+bMG75/ffr00b59++Tr66u4uDj5+/srNjZW\n",
              "b775ph555JGGP2AA0Ag8DMMwXD0CAAAArRNXNgEAAOA0xCYAtBD33HOPOnbseN1fhw4dcvU8ALgu\n",
              "nkYHAACA03BlEwAAAE5DbAIAAMBpiE0AAAA4TbOMzeTkZFdPAAAAQCNolrF55R9QBgAAQMvWLGMT\n",
              "AAAArQOxCQAAAKchNgEAAOA0xCYAAACchtgEAACA0xCbAAAAcBpiEwAAAE5DbAIAAMBpGhybEyZM\n",
              "UP/+/TVw4ECNGTNG+/fvv+55r7/+usxms2JiYjRr1ixVVVXd8lgAAAC0LA2Ozffff18HDx7UgQMH\n",
              "tGjRIk2fPv2ac7Kzs7V48WJlZGTIarWqsLBQ69ata4y9AAAAaEEaHJudOnWq+++ysjJ5eHhcc87G\n",
              "jRs1adIkdevWTR4eHpozZ442bNhwS0MBAADw/arsNa6ecF3eN/NBTzzxhNLT0yVJn3322TXvz8vL\n",
              "U2RkZN3bUVFRysvLu+5t2Ww22Wy2esfsdvvNzAIAAHA7ZZertH5Htt7dladP5o9WiH9bV0+q56Ze\n",
              "IPT2228rPz9fv/vd7/Tcc8/d0oClS5cqICCg3q/du3ff0m0CAAC0dmWXqvS/m49r9B/StDzFojPl\n",
              "Nr2/J9/Vs65xS69GnzZtmtLT01VcXFzveEREhHJzc+vezsnJUURExHVv4/nnn1dZWVm9X8OGDbuV\n",
              "WQAAAK1W6aVKLfv8mEb/IU3JqRaVV1QrNqSjVj06SPPGm1w97xoNehq9tLRUly5dUlhYmCTpww8/\n",
              "VGBgoLp06VLvvAceeECjR4/Wb37zG4WEhGjNmjWaOnXqdW/T19dXvr6+9Y55eXk1ZBYAAECrV3qp\n",
              "Uq9lZOvNL3J0wVYtSerdzU8L4s26+/Zu8vS89nU0zUGDYrOsrExTpkzR5cuX5enpqa5du+qTTz6R\n",
              "h4eHEhMTNWnSJE2aNEnR0dFasmSJRo0aJUkaN26cZs+e7ZQ7AAAA0Jqdu1ip17Zn6a0vcutF5sIE\n",
              "syb0ab6ReYWHYRiGq0f8q0WLFmnZsmWungEAAOAyJRcr9WpGlt7+IkcXKx0vnu4T6q8F8WZN6BPS\n",
              "7CPzipt6NToAAACco/iCTesysvSnnbm6VBuZt4f5KynerB/1CbnuPzvZnBGbAAAAzcDZCza9ui1L\n",
              "b+/M1eUqR2T27e6vhfGxir8tuMVF5hXEJgAAgAudKbdp3bZMvfNlXl1k9g8PUFK8WXG9W25kXkFs\n",
              "AgAAuEBReYXWbs3Su7tyVVHl+Ok/A3p00sJ4s8b16triI/MKYhMAAKAJFZ2v0JrayLRVOyJzYI9O\n",
              "Wphg1l2xrScyryA2AQAAmkDh+Qqt3pKpDbvz6iJzcEQnJSXEaqw5qNVF5hXEJgAAgBOdLqvQ6i1W\n",
              "bdiTr8rayBwS2VlJCWaNNrXeyLyC2AQAAHCCU2WXtXpLpv68O1+VdkdkDo3qrIUJsRoZE9jqI/MK\n",
              "YhMAAKARnSy9rFe2WPX+noK6yBzWs4sWxps1wo0i8wpiEwAAoBGcKL2sV9Kten9vvqrsjh/QODy6\n",
              "i5LiYzUiJtDF61yH2AQAALgFBecu6eX0TG386mpkjogOVFKCWcOj3TcyryA2AQAAbkJ+ySW9nG7V\n",
              "xq8KVF3jiMxRpkAlxcdqWM8uLl7XfBCbAAAADZBX7IjMTfuuRuYYc5CS4s0aEkVk/itiEwAA4Abk\n",
              "Fl/UqjSrPth/QvbvRObCBLPuiCQyvw+xCQAA8ANyzl7UyjSrPjxwNTLviu2qBfFm3RHZ2cXrmj9i\n",
              "EwAA4Dqyz17UyjSLPtx/QrWNqfG9HJE5KILIvFHEJgAAwHdknrmgVWlW/f3A1ciM6x2sBfFmDezR\n",
              "yaXbWiJiEwAAQJK16IJWpln08dcn6yIz4TZHZPYP7+TSbS0ZsQkAANyatahcK1Kt+vjgSRm1kfmj\n",
              "PiFKijerb/cA145rBYhNAADglo4XlmtFqkWfHjpVF5kT+oRoAZHZqIhNAADgVo6ddkTmZ4evRubd\n",
              "t3fT/HiTbg8jMhsbsQkAANzC0dPnHZF56HTdsYn9uml+nFm3hfq7cFnrRmwCAIBW7chJR2T+8xtH\n",
              "ZHp4SBP7hmp+vEm9uxGZzkZsAgCAVunwiTKtSLXo8yOFkhyR+ZN+oVoQb1ZsiJ+L17kPYhMAALQq\n",
              "h0+UKTnVos3ficx7+4dpQZxJZiKzyRGbAACgVThUUKbk1ONK+bZIkuTpId03IEzz40wyBROZrkJs\n",
              "AgCAFu3r/FIlp1qUdvRqZN4/sLuejjMppmtHF68DsQkAAFqkA/mlSk45rvRjZyQ5InNybWRGE5nN\n",
              "BrEJAABalH1555ScYtHW447I9PL0qIvMnkEdXLwO/4rYBAAALcJXuSVanmJRhuWsJEdk/mxQd80b\n",
              "b1IUkdlsEZsAAKBZ25tTouTUq5Hp7emhnw12RGZkIJHZ3BGbAACgWdqdXaLk1OPaYS2W5IjMB+8I\n",
              "17zxJvXo0t7F63CjiE0AANCsfJlVrOQUi3ZmXY3MKUN6aO64GCKzBSI2AQBAs7Azs1jJqcf1ZVaJ\n",
              "JKmN19XIDO9MZLZUxCYAAHAZwzC0M6tYy1Ms2p3tiEwfL089NDRcT40zqXundi5eiFtFbAIAgCZn\n",
              "GIa+yHQ8Xb4752pkPjy0h54aF6MwIrPVIDYBAECTMQxD261nlZxi0d7cc5IkH29PPTK0h+aMi1Fo\n",
              "AJHZ2hCbAADA6QzDUIblrJanHNe+vFJJjsh8dFiEnhoXoxD/tq4dCKdpUGxWVFRo6tSpOnLkiNq1\n",
              "a6fg4GCtXr1aJpOp3nk5OTmKiYlRv3796o5t2rRJMTExjbMaAAC0CIZhaOvxM0pOtWh/bWT6envq\n",
              "0TsjNOcuItMdNPjK5pNPPql77rlHHh4eWrVqlRITE7Vly5ZrzvPz89OBAwcaYSIAAGhpDMPQlmNn\n",
              "tDzVoq/zSyVJbdt46rE7IzV7bLSCiUy30aDYbNu2rSZOnFj39vDhw/XSSy81+igAANAyGYah9GNF\n",
              "Sk6x6OuCMkmOyHx8eKSeHBujrn6+Ll6IpnZL37OZnJys+++//7rvu3jxooYOHSq73a7Jkyfr17/+\n",
              "tby8vK45z2azyWaz1Ttmt9tvZRYAAGhihmEo9dsirUiz6GBtZLZr46XHR0Rq1phoItON3XRsvvji\n",
              "i7JarUpNTb3mfaGhoTpx4oSCg4NVUlKihx9+WH/84x/17LPPXnPu0qVLtWTJknrHhg8ffrOzAABA\n",
              "EzIMQ5uPFGpFmkWHT5yXJLX3uRqZQR2JTHfnYRiG0dAPeumll/TnP/9ZKSkp6tSp0789f8OGDXrv\n",
              "vff08ccfX/O+613ZXLx4sZKTkxs6CwAANBHDMPT5kUIlp1h05JQjMjv4eOmJkVGaNSZaXTr4uHgh\n",
              "mosGX9lctmyZNmzY8IOhWVRUpM6dO6tNmzay2Wz64IMPNGjQoOue6+vrK1/f+n/rud7T7QAAwPVq\n",
              "agx9fuS0klOt+vY7kTltZJQSiUxcR4Nis6CgQM8884yio6M1fvx4SY5Y3LVrl1544QWFhYVpzpw5\n",
              "2r59u1544QV5eXmpurpacXFx+vWvf+2UOwAAAJyvpsbQP785rRWpFh09XS5J6ujrrekjozRzdE91\n",
              "JjLxPW7qaXRnW7RokZYtW+bqGQAAuL2aGkP/OOyIzGOFjsj08/XWjFFR+sXonurUnsjED+MnCAEA\n",
              "gGvYawx9duiUVqZZdLzwgiTJr623ZozqqZmjeiqgfRsXL0RLQWwCAIA69hpDnxw8qZVpVlmLHJHp\n",
              "39ZbvxjdUzNG9VRAOyITDUNsAgCAushckWpR5pmLkhyRmTgmWtNHRcm/LZGJm0NsAgDgxqrtNfq4\n",
              "9kpmVm1kBrRro8TRPTWNyEQjIDYBAHBD1fYa/f3ASa1Ktyr7rCMyO7Vvo1ljovXEiEj5EZloJMQm\n",
              "AABupNpeow8PnNSqNItyii9Jkjq3b6NZY6P1xIgodfQlDdC4+B0FAIAbqLLX6G/7T+jldKtyayOz\n",
              "SwefuiuZHYhMOAm/swAAaMWq7DX6YF+BXk7PVF6JIzIDO/joybHR+vlwIhPOx+8wAABaocpqR2Su\n",
              "Sreq4NxlSVJQRx/NHhujx4ZHqL0PCYCmwe80AABakcrqGm38qkAvp1t1ovRKZPpqzl3ReuzOSLXz\n",
              "8XLxQrgbYhMAgFbAVm3XX/cWaPWWzLrI7Ornqzl3xejRYRFEJlyG2AQAoAWzVdv1/t4CrU636mRZ\n",
              "hSQp2M9XT42L0SPDItS2DZEJ1yI2AQBogSqq7Hp/b75Wb8nUqdrIDPH31VN3xWgqkYlmhNgEAKAF\n",
              "qaiy68+787Rma5ZOn3dEZjf/tpo7PkYPDelBZKLZITYBAGgBKqrs2rA7T2u2ZqrwvE2SFBrQVnPH\n",
              "m/TQkHD5ehOZaJ6ITQAAmrGKKrve3eWIzDPljsgMq43MKUQmWgBiEwCAZuhypV3v7srVmq1ZOnvB\n",
              "EZndO7XTvPEmPXhHuHy8PV28ELgxxCYAAM3IpcpqvftlntZuy9TZC5WSpPDO7fT0eJN+NpjIRMtD\n",
              "bAIA0AxcqqzWn3bmat22LBVfdERmjy5XI7ONF5GJlonYBADAhS7aqvX2zly9mpGlktrIjAxsr3nj\n",
              "TfrpoO5EJlo8YhMAABe4YKvW2ztz9Oq2LJ27VCXJEZnz48yaPDBM3kQmWgliEwCAJlReUVV3JbO0\n",
              "NjJ7BnXQ0+NNup/IRCtEbAIA0ATKK6r05o4cvb4juy4yo4M6aH68Sff1JzLRehGbAAA40fkrkbk9\n",
              "W2WXayOzawctiDPrvgFh8vL0cPFCwLmITQAAnKDscpXW78jWG9uzdb6iWpJkCu6o+XEm3dufyIT7\n",
              "IDYBAGhEZZeq9MaObL2xI1vltZFpDu6oBfFmTewXSmTC7RCbAAA0gtJLlXpje7bW78hRuc0RmbEh\n",
              "tZHZN1SeRCbcFLEJAMAtKL1UqdcysvXmFzm6UBuZvbv5aUG8WXff3o3IhNsjNgEAuAnnLlbqte1Z\n",
              "euuL3HqRuTDBrAl9iEzgCmITAIAGKLlYqVczsvT2Fzm6WGmXJPUJ9deCeLMm9AkhMoF/QWwCAHAD\n",
              "ii/YtC4jS3/amatLtZF5e5i/kuLN+lGfEHl4EJnA9RCbAAD8gLMXbHp1W5be3pmry1WOyOzb3V8L\n",
              "42MVf1swkQn8G8QmAADXcabcpnXbMvXOl3l1kdk/PEBJ8WbF9SYygRtFbAIA8B1F5RVauzVL7+7K\n",
              "VUVVjSRpQI9OWhhv1rheXYlMoIGITQAAJBWdr9Ca2si0VTsic2CPTlqYYNZdsUQmcLOITQCAWys8\n",
              "X6HVWzK1YXdeXWQOjuikpIRYjTUHEZnALSI2AQBu6XRZhVZvsWrDnnxV1kbmkMjOSkowa7SJyAQa\n",
              "C7EJAHArp8oua/WWTP15d74q7Y7IHBrVWQsTYjUyJpDIBBpZg2KzoqJCU6dO1ZEjR9SuXTsFBwdr\n",
              "9erVMplM15z7ySef6Je//KXsdrv69eunN998U/7+/o02HACAhjhZelmvbLHq/T0FdZE5rGcXLYw3\n",
              "awSRCTiNZ0M/4Mknn9SxY8f09ddf6/7771diYuI151y4cEEzZ87Uhx9+KIvForCwMP3Xf/1XowwG\n",
              "AKAhTpRe1q//dkh3/U+63vkyT5X2Gg2P7qINs4br/dkjNJKnzAGnatCVzbZt22rixIl1bw8fPlwv\n",
              "vfTSNef94x//0KBBg9S7d29J0ty5czVhwgT9z//8zy3OBQDgxhScu6SX0zO18at8VdkNSdKI6EAl\n",
              "JZg1PDrQxesA93FL37OZnJys+++//5rjeXl5ioyMrHs7KipKp06dUnV1tby9639Km80mm81W75jd\n",
              "br+VWQAAN5Zfckkvp1u18asCVdc4InOUKVBJ8bEa1rOLi9cB7uemY/PFF1+U1WpVamrqLQ1YunSp\n",
              "lixZUu/Y8OHDb+k2AQDuJ6/YEZmb9l2NzNGmICUlmDU0isgEXOWmYvOll17SBx98oJSUFLVv3/6a\n",
              "90dERGjz5s11b+fk5Cg0NPSaq5qS9Pzzz2vRokX1ji1evPhmZgEA3FBu8UWtSrPqg/0nZK+NzDHm\n",
              "IC1MMOuOSCITcLUGx+ayZcu0YcMGpaSkqFOnTtc95+6779a8efN09OhR9e7dW6+88oqmTp163XN9\n",
              "fX3l6+tb75iXl1dDZwEA3EzO2YtamWbVhweuRuZdsV21IN6sOyI7u3gdgCsaFJsFBQV65plnFB0d\n",
              "rfHjx0tyxOKuXbv0wgsvKCwsTHPmzJGfn59ee+01TZ48WdXV1erbt6/eeustp9wBAIB7yT57USvT\n",
              "LPpw/wnVNqbG93JE5qAIIhNobjwMwzBcPeJfLVq0SMuWLXP1DABAM5J55oJWpVn19wNXIzOud7AW\n",
              "xJs1sEcnl24D8P34CUIAgGbNWnRBK9Ms+vjrk3WRmXCbIzL7h3dy6TYA/x6xCQBolqxF5VqRatXH\n",
              "B0/qynNwP+oToqR4s/p2D3DtOAA3jNgEADQrxwvLtSLVok8PnaqLzAl9QrSAyARaJGITANAsHDvt\n",
              "iMzPDl+NzLtv76b58SbdHkZkAi0VsQkAcKmjp887IvPQ6bpj9/TtpgXxZt0W6u/CZQAaA7EJAHCJ\n",
              "IycdkfnPbxyR6eEhTewbqvnxJvXuRmQCrQWxCQBoUodPlGlFqkWfHymU5IjMn/QL1YJ4s2JD/Fy8\n",
              "DkBjIzYBAE3i8IkyJadatPk7kXlv/zAtiDPJTGQCrRaxCQBwqkMFZUpOPa6Ub4skSZ4e0n0DwjQ/\n",
              "ziRTMJEJtHbEJgDAKb7OL1VyqkVpR69G5v0Du+vpOJNiunZ08ToATYXYBAA0qgP5pUpOOa70Y2ck\n",
              "OSJzcm1kRhOZgNshNgEAjWJf3jklp1i09bgjMr08Peois2dQBxevA+AqxCYA4JZ8lVui5SkWZVjO\n",
              "SnJE5s8Gdde88SZFEZmA2yM2AQA3ZW9OiZJTr0amt6eHfjbYEZmRgUQmAAdiEwDQILuzS5Scelw7\n",
              "rMWSHJH54B3hmjfepB5d2rt4HYDmhtgEANyQL7OKlZxi0c6sq5E5ZUgPzR0XQ2QC+F7EJgDgB+3M\n",
              "LFZy6nF9mVUiSWrjdTUywzsTmQB+GLEJALiGYRjamVms5akW7c52RKaPl6ceGhqup8aZ1L1TOxcv\n",
              "BNBSEJsAgDqGYeiLzGItTzmuPTnnJDki8+GhPfTUuBiFEZkAGojYBADIMAxtt55VcopFe3NrI9Pb\n",
              "U48M7aE542IUGkBkArg5xCYAuDHDMLTNclbJKce1L69UkiMyHx0WoTl3xahbQFvXDgTQ4hGbAOCG\n",
              "DMPQ1uNntDzFogP5pZIkX29PPXqnIzJD/IlMAI2D2AQAN2IYhrYcO6PlqRZ9XRuZbdt46rE7IzV7\n",
              "bLSCiUwAjYzYBAA3YBiG0o4WaUWqRV8XlElyRObjwyM1a2y0gv2ITADOQWwCQCtmGIZSvy1ScqpF\n",
              "h044IrNdGy89PiJSs8ZEq6ufr4sXAmjtiE0AaIUMw9DmI4VakWbR4RPnJUntfa5GZlBHIhNA0yA2\n",
              "AaAVqakx9PmRQq1ItejIKUdkdvDx0hMjo5Q4uqcCiUwATYzYBIBWwBGZp7U8xaKjp8slOSJz2sgo\n",
              "JY6JVpcOPi5eCMBdEZsA0ILV1Bj65zentSL1amR29PXW9JFRmjm6pzoTmQBcjNgEgBaopsbQZ4dP\n",
              "aWWqVccKHZHp5+utGaOi9IvRPdWpPZEJoHkgNgGgBbHXGPrs0CmtSLXIUnRBkuTX1lszRvXUzFE9\n",
              "FdC+jYsXAkB9xCYAtAD2GkOfHDyplWlWWb8TmTNH99SMUT0V0I7IBNA8EZsA0IzZawx9/PVJrUyz\n",
              "KPPMRUmSf1tvzRwdremjoohMAM0esQkAzVC1vUYfHzyplalWZZ11RGZAuzZKHN1T00ZFyb8tkQmg\n",
              "ZSA2AaAZqbbX6O8HTmpVulXZtZHZqX0bzRoTrSdGRMqPyATQwhCbANAMVNtr9Lf9J/RyulU5xZck\n",
              "SZ3bt1HimGhNGxmljr58uQbQMvHVCwBcqKo2MlelWZVX4ojMLh18NGtMtB4fEUlkAmjxGvRVbMGC\n",
              "Bfroo4+Um5ur/fv3a+DAgdecs2XLFt1zzz3q1atX3bGdO3eqXbt2tzwWAFqLKnuNPthXoFXpVuWX\n",
              "XJYkBXbw0ZNjo/Xz4ZHqQGQCaCUa9NXswQcf1LPPPqvRo0f/4Hm9evXSgQMHbmUXALRKldU12rSv\n",
              "QC+nW1VwzhGZQR2vRmZ7HyITQOvSoK9qY8eOddYOAGjVKqtrtPErR2SeKL0Smb6ac1e0HrszUu18\n",
              "vFy8EACcwyl/hc7MzNTgwYPl5eWlGTNmaO7cud97rs1mk81mq3fMbrc7YxYANDlbtV1/3Vug1Vsy\n",
              "6yKzq5+v5twVo0eHRRCZAFq9Ro/NwYMHq6CgQAEBASooKNDEiRMVFBSkhx566LrnL126VEuWLKl3\n",
              "bPjw4Y09CwCalK3arvf35Gv1lkydLKuQJAVficw7I9S2DZEJwD00emz6+/vX/Xd4eLgeeeQRZWRk\n",
              "fG9sPv/881q0aFG9Y4sXL27sWQDQJCqq7Hp/b75eSc/U6fOOyAzx99VTd8Vo6jAiE4D7afTYPHXq\n",
              "lEJCQuTp6any8nJ98sknmjlz5vee7+vrK19f33rHvLz4YgygZamosuvPu/O0emumCs87vjWom39b\n",
              "zR0fo4eG9CAyAbitBsXm7Nmz9emnn+r06dP68Y9/LD8/P1mtViUmJmrSpEmaNGmSNm3apNWrV8vb\n",
              "21vV1dWaMmWKZsyY4az9AOBSFVV2vbcrT2u2Zqqo3BGZoQFtNXdcjB4a2kO+3kQmAPfmYRiG4eoR\n",
              "/2rRokVatmyZq2cAwPeqqLLr3drIPFMbmWEBbTV3vElThoQTmQBQi3/QDQAa4HKlXe/uytWarVk6\n",
              "e8ERmd07tdO88SY9eEe4fLw9XbwQAJoXYhMAbsClymq982Wu1m3L0tkLlZKk8M6OyHxgMJEJAN+H\n",
              "2ASAH3Cpslp/2umIzOKLVyNzfpxJPxscrjZeRCYA/BBiEwCu46KtWm/vzNWrGVkqqY3MiC7t9fR4\n",
              "k346uDuRCQA3iNgEgO+4YKvWW1/k6LWMLJ27VCVJigx0RObkQUQmADQUsQkAksorququZJbWRmZU\n",
              "YHvNjzPr/oFh8iYyAeCmEJsA3Fp5RZXe3JGj17Znq+yyIzKjgzro6TiTJg0gMgHgVhGbANzS+drI\n",
              "fP27kdm1gxbEmXXfgDB5eXq4eCEAtA7EJgC3Una5Sut3ZOuN7dk6X1EtSYrp2kEL4s26tz+RCQCN\n",
              "jdgE4BbKLlXp9R3ZWr8jW+W1kWkO7qj58Wb9pF8okQkATkJsAmjVSi9V6o3t2Vq/I0flNkdkxoZ0\n",
              "1IJ4syb2DZUnkQkATkVsAmiVzl2s1Ovbs/XmFzm6UBuZvUL8lJRg1t23dyMyAaCJEJsAWpWSi5V6\n",
              "LSNLb32Ro4uVdklS725+Soo368dEJgA0OWITQKtQcrFSr2Zk6e3vRGafUH8tiDdrQp8QIhMAXITY\n",
              "BNCiFV+waV1Glv60M1eXaiPz9jB/JcWb9aM+IfLwIDIBwJWITQAt0tkLNq3b5ojMy1WOyOzb3V9J\n",
              "8bFKuC2YyASAZoLYBNCinCm3ad22TL3zZV5dZPYPD1BSvFlxvYlMAGhuiE0ALUJReYXWbs3Su7ty\n",
              "VVFVI0kaEB6ghQmxGterK5EJAM0UsQmgWSs6X6HVWzP13q482aodkTmwRyclJZg1LpbIBIDmjtgE\n",
              "0CwVnq/Q6i2Z2rD7amQOjuikpIRYjTUHEZkA0EIQmwCaldNlFVq9xaoNe/JVWRuZd0R21sIEs0ab\n",
              "iEwAaGmITQDNwsnSy1q9JVN/2ZOvSrsjModGdVZSfKxGmQKJTABooYhNAC51svSyXtli1ft7Cuoi\n",
              "c1jPLloYb9aIGCITAFo6YhOASxScu6RXtmTqr3vzVWU3JEl39uyihQmxGhET6OJ1AIDGQmwCaFL5\n",
              "JY7I3PjV1cgcER2opASzhkcTmQDQ2hCbAJpEfsklvZxu1cavClRd44jMkTGBSoo3604iEwBaLWIT\n",
              "gFPlFV/SqnSLPth3oi4yR5uClJRg1tCoLi5eBwBwNmITgFPkFl/UqjSrPth/QvbayBxjDtLCBLPu\n",
              "iCQyAcBdEJsAGlXO2YtamWbVhweuRubY2K5KijfrjsjOLl4HAGhqxCaARpF15oJW1UZmbWNqXC9H\n",
              "ZA6KIDIBwF0RmwBuSWZtZP79O5EZ1ztYC+LNGtijk0u3AQBcj9gEcFOsRRe0Ms2ij78+WReZ8bWR\n",
              "OYDIBADUIjYBNIilsFwr0qz65OBJGbWRmXBbiJLizeoXHuDacQCAZofYBHBDjheWa0WqRZ8eOlUX\n",
              "mRP6hGhBvFl9uxOZAIDrIzYB/KBjpx2R+dnhq5H549sdkXl7GJEJAPhhxCaA6/r21HmtSLXoH4dP\n",
              "1x27p283zY8zq0+YvwuXAQBaEmITQD1HTjoi85/fXI3Mn/QL1fx4k3p3IzIBAA1DbAKQJB0+UaYV\n",
              "qRZ9fqRQkuThIU3sF6oFcWb16ubn4nUAgJbKsyEnL1iwQFFRUfLw8NCBAwe+97zXX39dZrNZMTEx\n",
              "mjVrlqqqqm51JwAnOXyiTIlv7dW9K7fr8yOF8vCQ7hsQpv+7cKxefnQwoQkAuCUNis0HH3xQ27dv\n",
              "V2Rk5Peek52drcWLFysjI0NWq1WFhYVat27dLQ8F0LgOFZQp8a09unfldqV864jM+weGafP/GauV\n",
              "jwxSbAiRCQC4dQ16Gn3s2LH/9pyNGzdq0qRJ6tatmyRpzpw5evHFFzVv3rybWwigUX2dX6rkVIvS\n",
              "jhZJkjw9pEkDwvR0nFmm4I4uXgcAaG0a/Xs28/Ly6l35jIqKUl5e3veeb7PZZLPZ6h2z2+2NPQtw\n",
              "e/vzzik51aItx85IckTm5IHdNS/OpJiuRCYAwDlc/gKhpUuXasmSJfWODR8+3EVrgNZnX945JadY\n",
              "tPX4dyJzUHfNjzOrZ1AHF68DALR2jR6bERERyszMrHs7JydHERER33v+888/r0WLFtU7tnjx4sae\n",
              "Bbidr3JLtDzFogzLWUmSl6eHfjqou54eb1IUkQkAaCKNHpsPPPCARo8erd/85jcKCQnRmjVrNHXq\n",
              "1O8939fXV76+vvWOeXl5NfYswG3sySlRcopF261XI/OBwd01b7xJkYFEJgCgaTUoNmfPnq1PP/1U\n",
              "p0+f1o9//GP5+fnJarUqMTFRkyZN0qRJkxQdHa0lS5Zo1KhRkqRx48Zp9uzZThkP4Krd2SVKTj2u\n",
              "HdZiSZK3p4cevCNc88ab1KNLexevAwC4Kw/DuPLTjpuPRYsWadmyZa6eAbQIX2YVKznFop1ZVyNz\n",
              "ypBwzR1HZAIAXM/lLxACcHN2ZhZrecpx7coukSS18fLQlCE9NHdcjMI7E5kAgOaB2ARaEMMwHJGZ\n",
              "atHu70Tmw0N76KlxJnXv1M7FCwEAqI/YBFoAwzD0Re2VzD055yRJPl6etZEZozAiEwDQTBGbQDNm\n",
              "GIa2W88qOcWivbm1kentqUeG9tCccTEKDSAyAQDNG7EJNEOGYWib5aySU45rX16pJEdkPjosQnPu\n",
              "ilG3gLauHQgAwA0iNoFmxDAMbT1+RstTLDqQXypJ8vX21KN3OiIzxJ/IBAC0LMQm0AwYhqEtx85o\n",
              "eapFX38nMh+7M1Jz7opWMJEJAGihiE3AhQzDUNrRIiWnWnSwoEyS1LaNp35+Z6SevCtawX5EJgCg\n",
              "ZSM2ARcwDEOp3zoi89AJR2S2a+Olx0dEataYaHX18/03twAAQMtAbAJNyDAMbT5SqBVpFh0+cV6S\n",
              "IzKfGBGpWWOjFdSRyAQAtC7EJtAEamoMfX6kUCtSLTpyyhGZ7X289MSIKM0a01OBRCYAoJUiNgEn\n",
              "ckTmaS1Psejo6XJJUgcfL00bGaXEMdHq0sHHxQsBAHAuYhNwgpoaQ//85rRWpF6NzI6+3po2MlKJ\n",
              "o6PVmcgEALgJYhNoRDU1hj47fEorU606VuiITD9fb00fFaWZo3uqU3siEwDgXohNoBHYawx9duiU\n",
              "VqRaZCm6IMkRmTNG99TMUT0V0L6NixcCAOAaxCZwC+w1hj45eFIr06yyXonMtt76xaie+gWRCQAA\n",
              "sQncDHuNoY+/PqmVaRZlnrkoSfJv662Zo6M1fVSUAtoRmQAASMQm0CDV9hp9fPCkVqZalXXWEZkB\n",
              "7doocXRPTRsVJf+2RCYAAN9FbAI3oNpeo78fOKlV6VZl10Zmp/a1kTkySn5EJgAA10VsAj+g2l6j\n",
              "v+0/oZfTrcopviRJ6ty+jRLHRGvayCh19OV/IQAAfgh/UgLXUVUbmavSrMorcURmlw4+mjUmWo+P\n",
              "iCQyAQC4QfyJCXxHlb1GH+wr0Kp0q/JLLktyROaTY6P1+PBIdSAyAQBoEP7kBCRVVtdo074CvZxu\n",
              "VcE5R2QGdXRE5s+HR6q9D/+rAABwM/gTFG6tsrpGG79yROaJ0iuR6as5d0XrsTsj1c7Hy8ULAQBo\n",
              "2YhNuCVbtV1/3Vug1Vsy6yKzq5+vZo8lMgEAaEzEJtyKrdqu9/fk65UtmTpVViFJCvbz1Zy7YvTo\n",
              "nRFq24bIBACgMRGbcAsVVXa9vzdfr6Rn6vR5R2SG+PvqqbtiNHUYkQkAgLMQm2jVKqrs+vPuPK3e\n",
              "mqnC8zZJUjf/tnpqXIweHtqDyAQAwMmITbRKFVV2vbcrT2u2Zqqo3BGZoQFtNXdcjKYMITIBAGgq\n",
              "xCZalYoqu96tjcwztZEZFtBWc8ebNGVIuHy9iUwAAJoSsYlW4XKlXe/uytWarVk6e8ERmd07tdPc\n",
              "8TF68A4iEwAAVyE20aJdqqzWO1/mat22LJ29UClJCu/cTvPGm/TA4HD5eHu6eCEAAO6N2ESLdKmy\n",
              "Wn/a6YjM4otXI3N+nEk/GxyuNl5EJgAAzQGxiRbloq1ab+/M1asZWSqpjcyILu319HiTfjq4O5EJ\n",
              "AEAzQ2yiRbhgq9ZbX+TotYwsnbtUJUmKDHRE5uRBRCYAAM0VsYlmrbyiqu5KZmltZEYFttf8OLPu\n",
              "HxgmbyITAIBmjdhEs1ReUaU3d+Tote3ZKrvsiMzooA56Os6kSQOITAAAWgpiE83K+Yoqrd+eo9e3\n",
              "Z+l8RbUkKbprBy2IM+u+AWHy8vRw8UIAANAQDY5Ni8WiadOm6ezZswoICNCbb76p22+/vd45W7Zs\n",
              "0T333KNevXrVHdu5c6fatWt364vRKpVdrtL6Hdl6Y3t2XWTGdO2gBfFm3dufyAQAoKVqcGzOnj1b\n",
              "Tz75pKZPn66NGzdq+vTp2rNnzzXn9erVSwcOHGiMjWjFyi5V6fUd2Vq/I1vltZFpDu6o+fFm/aRf\n",
              "KJEJAEAL16DYLCoq0t69e/X5559Lkh544AE9/fTTslqtMplMThmI1qn0UqXe2J6t9TtyVG5zRGZs\n",
              "SEctiDdrYt9QeRKZAAC0Cg2Kzfz8fIWGhsrb2/FhHh4eioiIUF5e3jWxmZmZqcGDB8vLy0szZszQ\n",
              "3Llzr3ubNptNNput3jG73d6QWWhBzl2s1Ovbs/XmFzm6UBuZvUL8lJRg1t23dyMyAQBoZZzyAqHB\n",
              "gweroKBAAQEBKigo0MSJExUUFKSHHnromnOXLl2qJUuW1Ds2fPhwZ8yCC5VcrNRrGVl664scXax0\n",
              "/GWidzc/JcWb9WMiEwCAVsvDMAzjRk8uKiqSyWRSSUmJvL29ZRiGQkNDtX379h98Gn3p0qU6efKk\n",
              "Vq5cec37rndlc/HixUpOTm7A3UBzVXKxUq9mZOnt70Rmn1B/LYg3a0KfECITAIBWrkFXNoODgzV4\n",
              "8GC98847mj59ujZt2qTw8PBrQvPUqVMKCQmRp6enysvL9cknn2jmzJnXvU1fX1/5+vrWO+bl5dXA\n",
              "u4HmpviCTesysvSnnbm6VBuZt4f5KynerB/1CZGHB5EJAIA7aPDT6GvXrtX06dP14osvyt/fX+vX\n",
              "r5ckJSYmatKkSZo0aZI2bdqk1atXy9vbW9XV1ZoyZYpmzJjR6OPR/Jy9YNO6bY7IvFzliMy+3f2V\n",
              "FB+rhNuCiUwAANxMg55GbyqLFi3SsmXLXD0DDXCm3KZ12zL1zpd5dZHZPzxASfFmxfUmMgEAcFf8\n",
              "BCHckqLyCq3dmqV3d+WqoqpGkjQgPEALE2I1rldXIhMAADdHbOKmFJ2v0OqtmXpvV55s1Y7IHNij\n",
              "k5ISzBoXS2QCAAAHYhMNUni+Qqu3ZGrD7quROTiik5ISYjXWHERkAgCAeohN3JDTZRVavcWqDXvy\n",
              "VVkbmXdEdtbCBLNGm4hMAABwfcQmftDJ0stavSVTf9mTr0q7IzKHRnVWUnysRpkCiUwAAPCDiE1c\n",
              "14nSy1q9xar39xTUReawnl20MN6sETFEJgAAuDHEJuopOHdJr2zJ1F/35qvK7vhXse7s2UULE2I1\n",
              "IibQxesAAEBLQ2xCkpRf4ojMjV9djcwR0YFKSjBreDSRCQAAbg6x6ebySy7p5XSrNn5VoOoaR2SO\n",
              "jAlUUrxZdxKZAADgFhGbbiqv+JJWpVv0wb4TdZE52hSkpASzhkZ1cfE6AADQWhCbbia3+KJWpVn1\n",
              "wf4TstdG5hhzkBYmmHVHJJEJAAAaF7HpJrLPOiLzwwNXI3NsbFclxZt1R2RnF68DAACtFbHZymWd\n",
              "uVAXmbWNqXG9umpBvFmDI4hMAADgXMRmK5VZG5l//05kxvUO1oJ4swb26OTSbQAAwH0Qm62Mtahc\n",
              "K9Os+vjrk3WRGV8bmQOITAAA0MSIzVbCUliuFWlWfXLwpIzayEy4LURJ8Wb1Cw9w7TgAAOC2iM0W\n",
              "7nhhuVakWvTpoVN1kTmhT4gWxJvVtzuRCQAAXIvYbKGOnj6vlalWfXb4amT++HZHZN4eRmQCAIDm\n",
              "gdhsYb49dV4rUi36x+HTdcfu6dtN8+PM6hPm78JlAAAA1yI2W4gjJx2R+c9vrkbmT/qFan68Sb27\n",
              "EZkAAKB5IjabucMnyrQi1aLPjxRKkjw8pIn9QrUgzqxe3fxcvA4AAOCHEZvN1OETZVqeYlHKt1cj\n",
              "897+YZofZ1JsCJEJAABaBmKzmTlUUKbk1ONK+bZIkiMyJw1wRKYpmMgEAAAtC7HZTHydX6rkVIvS\n",
              "jjoi07M2Mp+OM8sU3NHF6wAAAG4Oseli+/POKTnVoi3HzkhyRObkgd01L86kmK5EJgAAaNmITRfZ\n",
              "l3dOySkWbT3uiEwvTw9NHthdT8eZ1DOog4vXAQAANA5is4l9lVui5SkWZVjOSnJE5k8HddfT402K\n",
              "IjIBAEArQ2w2kT05JUpOsWi79WpkPjC4u+aNNykykMgEAACtE7HpZLuzS5Scelw7rMWSJG9PDz14\n",
              "R7jmjTepR5f2Ll4HAADgXMSmk3yZVazkFIt2Zl2NzClDwjV3HJEJAADcB7HZyHZmFmt5ynHtyi6R\n",
              "JLXx8tCUIT00d1yMwjsTmQAAwL0Qm43AMAxHZKZatPs7kfnw0B56apxJ3Tu1c/FCAAAA1yA2b4Fh\n",
              "GNphLVZy6nHtyTknSfLx8qyNzBiFEZkAAMDNEZs3wTAMbbee1fIUi77KrY1Mb089MrSH5oyLUWgA\n",
              "kQkAACARmw1iGIa2Wc4qOeW49uWVSnJE5qPDIjTnrhh1C2jr2oEAAADNDLF5AwzD0JbjZ5ScYtGB\n",
              "/FJJkq+3px690xGZIf5EJgAAwPUQmz/AMAxtOXZGy1Mt+ro2Mtu28dRjd0Zq9thoBROZAAAAP8iz\n",
              "oR9gsVg0cuRIxcbGaujQofrmm2+ue97rr78us9msmJgYzZo1S1VVVbc8tqkYhqHUbwt1/8s7NOPN\n",
              "Pfo6v1Rt23gqcXRPbXt2vBbf24fQBAAAuAENjs3Zs2frySef1PHjx/Xcc89p+vTp15yTnZ2txYsX\n",
              "KyMjQ1arVYWFhVq3bl1j7HUqwzCUcqRQk1bt0My39upgQZnatfHSk2OjlfFsnP7/e/so2I/IBAAA\n",
              "uFENis2ioiLt3btXP//5zyVJDzzwgPLz82W1Wuudt3HjRk2aNEndunWTh4eH5syZow0bNjTe6kZm\n",
              "GIY+/+a07lu1XYlv79WhE2Vq7+Ol2XdFK+O58fr/Jt6mrn6+rp4JAADQ4jToezbz8/MVGhoqb2/H\n",
              "h3l4eCgiIkJ5eXkymUx15+Xl5SkyMrLu7aioKOXl5V33Nm02m2w2W71jdru9IbNuybbjZ/T7fxzV\n",
              "kVPnJUntfbz0xIgozRrTU4EdCUwAAIBb4fIXCC1dulRLliypd2z48OFN9vnzz13SkVPn1cHHS9NG\n",
              "RilxTLS6dPBpss8PAADQmjUoNnv06KFTp06purpa3t7eMgxDeXl5ioiIqHdeRESEMjMz697Oycm5\n",
              "5pwrnn/+eS1atKjescWLFzdk1i2ZckcPlV6q0qPDItSZyAQAAGhUDfqezeDgYA0ePFjvvPOOJGnT\n",
              "pk0KDw+v9xS65Phezo8++kinT5+WYRhas2aNpk6det3b9PX1lb+/f71fXl5eN3l3Gs7H21PzxpsI\n",
              "TQAAACdo8KvR165dq7Vr1yo2Nla///3vtX79eklSYmKiPvroI0lSdHS0lixZolGjRslkMqlr166a\n",
              "PXt24y4HAABAs+dhGIbh6hH/atGiRVq2bJmrZwAAAOAWNfjKJgAAAHCjiE0AAAA4DbEJAAAApyE2\n",
              "AQAA4DTEJgAAAJyG2AQAAIDTEJsAAABwGmITAAAATkNsAgAAwGma5U8Q+tnPfqaoqKgm+3x2u127\n",
              "d+/WsGHDmvTnsrs7HnfX4HFvejzmrsHj7ho87q7hisc9MjJSSUlJ//a8ZhmbTe38+fMKCAhQWVmZ\n",
              "/P39XT3HbfC4uwaPe9PjMXcNHnfX4HF3jeb8uPM0OgAAAJyG2AQAAIDTEJsAAABwGmJTkq+vr/7z\n",
              "P/9Tvr6+rp7iVnjcXYPHvenxmLsGj7tr8Li7RnN+3HmBEAAAAJyGK5sAAABwGmITAAAATkNsAgAA\n",
              "wGmITcBNeHh4qLS01NUzAABOFhQUpJycHFfPqENsAgAAwGncPjYfe+wxDRkyRP3799dPfvITnT59\n",
              "2tWTAKd56aWXNGjQIMXGxurdd9919RzAqXbu3KnRo0drwIAB6t+/v/7+97+7ehLgFB999JFuu+02\n",
              "9e/fX88++6yr51zD29UDXG358uXq2rWrJOn3v/+9fvOb32jNmjUuXgU4h4eHh/bv36+srCwNGTJE\n",
              "o0aNUlRUlKtnAY2upKREkydP1saNGzVmzBjV1NTwbSRolYqKijRjxgxlZGSoT58+WrdunYqLi109\n",
              "qx63v7L53nvvaciQIerbt69ee+01HThwwNWTAKdJTEyUJEVHR2vs2LHatm2bixcBzrFz50716tVL\n",
              "Y8aMkSR5enqqS5cuLl4FNL4vv/xS/fv3V58+fSRJM2fOlI+Pj4tX1efWsbl9+3atWLFCn332mQ4f\n",
              "Pqxly5apoqLC1bOAJuPh4eHqCQCARtQcv667dWyeO3dOfn5+CgwMVGVlpdauXevqSYBTrV+/XpKU\n",
              "k5OjjIyMuqs+QGszcuRIWSwWZWRkSJJqampUUlLi4lVA4xsxYoQOHjyoo0ePSpLeeOMNVVZWunhV\n",
              "fW4dm3fffbd69epV91TLwIEDXT0JcCq73a5BgwZpwoQJWrFiBd+viVarc+fO+tvf/qZf/epX6t+/\n",
              "vwYPHqwdO3a4ehbQ6Lp27ao33nhDP/3pTzVgwABZLBYFBga6elY9/Gx0AAAAOI1bX9kEAACAcxGb\n",
              "AAAAcBpiEwAAAE5DbAIAAMBpiE0AAAA4DbEJAAAApyE2AQAA4DTEJgAAAJyG2AQAAIDTEJsAAABw\n",
              "GmITAAAATvP/AAc4/Yem+aZoAAAAAElFTkSuQmCC\n",
              "\">\n",
              "      </div>\n",
              "      <script type=\"text/javascript\">\n",
              "        (() => {\n",
              "          const chartElement = document.getElementById(\"chart-149cff97-21fe-4cc2-871e-2713e16e105c\");\n",
              "          async function getCodeForChartHandler(event) {\n",
              "            const chartCodeResponse =  await google.colab.kernel.invokeFunction(\n",
              "                'getCodeForChart', [\"chart-149cff97-21fe-4cc2-871e-2713e16e105c\"], {});\n",
              "            const responseJson = chartCodeResponse.data['application/json'];\n",
              "            await google.colab.notebook.addCell(responseJson.code, 'code');\n",
              "          }\n",
              "          chartElement.onclick = getCodeForChartHandler;\n",
              "        })();\n",
              "      </script>\n",
              "      <style>\n",
              "        .colab-quickchart-chart-with-code  {\n",
              "            display: block;\n",
              "            float: left;\n",
              "            border: 1px solid transparent;\n",
              "        }\n",
              "\n",
              "        .colab-quickchart-chart-with-code:hover {\n",
              "            cursor: pointer;\n",
              "            border: 1px solid #aaa;\n",
              "        }\n",
              "      </style>"
            ]
          },
          "metadata": {}
        }
      ],
      "source": [
        "# Create a dictionary of series\n",
        "d = {'one': pd.Series([1,2,3], index = ['a', 'b', 'c']),\n",
        "'two': pd.Series(list(range(4)), index = ['a','b', 'c', 'd'])}\n",
        "# Columns are dictionary keys, indices and values obtained from series\n",
        "df = pd.DataFrame(d)\n",
        "# Notice how it fills the column one with NaN for d\n",
        "print(df)\n",
        "\n",
        "# Create a dictionary of series\n",
        "a = {'First_C': pd.Series([1,2,3,4,5], index = ['a', 'b', 'c','d','e']),\n",
        "'Second_C': pd.Series(list(range(4)), index = ['a','b', 'c', 'd'])}\n",
        "# Columns are dictionary keys, indices and values obtained from series\n",
        "af = pd.DataFrame(a)\n",
        "# Notice how it fills the column one with NaN for d\n",
        "af"
      ]
    },
    {
      "cell_type": "code",
      "execution_count": 110,
      "metadata": {
        "id": "TUxXLngayOl-",
        "outputId": "6553178d-b2dd-435b-b771-0a4d56d98521",
        "colab": {
          "base_uri": "https://localhost:8080/",
          "height": 125
        }
      },
      "outputs": [
        {
          "output_type": "execute_result",
          "data": {
            "text/plain": [
              "   col1  col2\n",
              "0     1     3\n",
              "1     2     4"
            ],
            "text/html": [
              "\n",
              "  <div id=\"df-6b82b62c-0b4a-4689-b45e-959ac0bcfb16\" class=\"colab-df-container\">\n",
              "    <div>\n",
              "<style scoped>\n",
              "    .dataframe tbody tr th:only-of-type {\n",
              "        vertical-align: middle;\n",
              "    }\n",
              "\n",
              "    .dataframe tbody tr th {\n",
              "        vertical-align: top;\n",
              "    }\n",
              "\n",
              "    .dataframe thead th {\n",
              "        text-align: right;\n",
              "    }\n",
              "</style>\n",
              "<table border=\"1\" class=\"dataframe\">\n",
              "  <thead>\n",
              "    <tr style=\"text-align: right;\">\n",
              "      <th></th>\n",
              "      <th>col1</th>\n",
              "      <th>col2</th>\n",
              "    </tr>\n",
              "  </thead>\n",
              "  <tbody>\n",
              "    <tr>\n",
              "      <th>0</th>\n",
              "      <td>1</td>\n",
              "      <td>3</td>\n",
              "    </tr>\n",
              "    <tr>\n",
              "      <th>1</th>\n",
              "      <td>2</td>\n",
              "      <td>4</td>\n",
              "    </tr>\n",
              "  </tbody>\n",
              "</table>\n",
              "</div>\n",
              "    <div class=\"colab-df-buttons\">\n",
              "\n",
              "  <div class=\"colab-df-container\">\n",
              "    <button class=\"colab-df-convert\" onclick=\"convertToInteractive('df-6b82b62c-0b4a-4689-b45e-959ac0bcfb16')\"\n",
              "            title=\"Convert this dataframe to an interactive table.\"\n",
              "            style=\"display:none;\">\n",
              "\n",
              "  <svg xmlns=\"http://www.w3.org/2000/svg\" height=\"24px\" viewBox=\"0 -960 960 960\">\n",
              "    <path d=\"M120-120v-720h720v720H120Zm60-500h600v-160H180v160Zm220 220h160v-160H400v160Zm0 220h160v-160H400v160ZM180-400h160v-160H180v160Zm440 0h160v-160H620v160ZM180-180h160v-160H180v160Zm440 0h160v-160H620v160Z\"/>\n",
              "  </svg>\n",
              "    </button>\n",
              "\n",
              "  <style>\n",
              "    .colab-df-container {\n",
              "      display:flex;\n",
              "      gap: 12px;\n",
              "    }\n",
              "\n",
              "    .colab-df-convert {\n",
              "      background-color: #E8F0FE;\n",
              "      border: none;\n",
              "      border-radius: 50%;\n",
              "      cursor: pointer;\n",
              "      display: none;\n",
              "      fill: #1967D2;\n",
              "      height: 32px;\n",
              "      padding: 0 0 0 0;\n",
              "      width: 32px;\n",
              "    }\n",
              "\n",
              "    .colab-df-convert:hover {\n",
              "      background-color: #E2EBFA;\n",
              "      box-shadow: 0px 1px 2px rgba(60, 64, 67, 0.3), 0px 1px 3px 1px rgba(60, 64, 67, 0.15);\n",
              "      fill: #174EA6;\n",
              "    }\n",
              "\n",
              "    .colab-df-buttons div {\n",
              "      margin-bottom: 4px;\n",
              "    }\n",
              "\n",
              "    [theme=dark] .colab-df-convert {\n",
              "      background-color: #3B4455;\n",
              "      fill: #D2E3FC;\n",
              "    }\n",
              "\n",
              "    [theme=dark] .colab-df-convert:hover {\n",
              "      background-color: #434B5C;\n",
              "      box-shadow: 0px 1px 3px 1px rgba(0, 0, 0, 0.15);\n",
              "      filter: drop-shadow(0px 1px 2px rgba(0, 0, 0, 0.3));\n",
              "      fill: #FFFFFF;\n",
              "    }\n",
              "  </style>\n",
              "\n",
              "    <script>\n",
              "      const buttonEl =\n",
              "        document.querySelector('#df-6b82b62c-0b4a-4689-b45e-959ac0bcfb16 button.colab-df-convert');\n",
              "      buttonEl.style.display =\n",
              "        google.colab.kernel.accessAllowed ? 'block' : 'none';\n",
              "\n",
              "      async function convertToInteractive(key) {\n",
              "        const element = document.querySelector('#df-6b82b62c-0b4a-4689-b45e-959ac0bcfb16');\n",
              "        const dataTable =\n",
              "          await google.colab.kernel.invokeFunction('convertToInteractive',\n",
              "                                                    [key], {});\n",
              "        if (!dataTable) return;\n",
              "\n",
              "        const docLinkHtml = 'Like what you see? Visit the ' +\n",
              "          '<a target=\"_blank\" href=https://colab.research.google.com/notebooks/data_table.ipynb>data table notebook</a>'\n",
              "          + ' to learn more about interactive tables.';\n",
              "        element.innerHTML = '';\n",
              "        dataTable['output_type'] = 'display_data';\n",
              "        await google.colab.output.renderOutput(dataTable, element);\n",
              "        const docLink = document.createElement('div');\n",
              "        docLink.innerHTML = docLinkHtml;\n",
              "        element.appendChild(docLink);\n",
              "      }\n",
              "    </script>\n",
              "  </div>\n",
              "\n",
              "\n",
              "<div id=\"df-405df238-3035-45da-9fd8-f5122d66d1f1\">\n",
              "  <button class=\"colab-df-quickchart\" onclick=\"quickchart('df-405df238-3035-45da-9fd8-f5122d66d1f1')\"\n",
              "            title=\"Suggest charts\"\n",
              "            style=\"display:none;\">\n",
              "\n",
              "<svg xmlns=\"http://www.w3.org/2000/svg\" height=\"24px\"viewBox=\"0 0 24 24\"\n",
              "     width=\"24px\">\n",
              "    <g>\n",
              "        <path d=\"M19 3H5c-1.1 0-2 .9-2 2v14c0 1.1.9 2 2 2h14c1.1 0 2-.9 2-2V5c0-1.1-.9-2-2-2zM9 17H7v-7h2v7zm4 0h-2V7h2v10zm4 0h-2v-4h2v4z\"/>\n",
              "    </g>\n",
              "</svg>\n",
              "  </button>\n",
              "\n",
              "<style>\n",
              "  .colab-df-quickchart {\n",
              "      --bg-color: #E8F0FE;\n",
              "      --fill-color: #1967D2;\n",
              "      --hover-bg-color: #E2EBFA;\n",
              "      --hover-fill-color: #174EA6;\n",
              "      --disabled-fill-color: #AAA;\n",
              "      --disabled-bg-color: #DDD;\n",
              "  }\n",
              "\n",
              "  [theme=dark] .colab-df-quickchart {\n",
              "      --bg-color: #3B4455;\n",
              "      --fill-color: #D2E3FC;\n",
              "      --hover-bg-color: #434B5C;\n",
              "      --hover-fill-color: #FFFFFF;\n",
              "      --disabled-bg-color: #3B4455;\n",
              "      --disabled-fill-color: #666;\n",
              "  }\n",
              "\n",
              "  .colab-df-quickchart {\n",
              "    background-color: var(--bg-color);\n",
              "    border: none;\n",
              "    border-radius: 50%;\n",
              "    cursor: pointer;\n",
              "    display: none;\n",
              "    fill: var(--fill-color);\n",
              "    height: 32px;\n",
              "    padding: 0;\n",
              "    width: 32px;\n",
              "  }\n",
              "\n",
              "  .colab-df-quickchart:hover {\n",
              "    background-color: var(--hover-bg-color);\n",
              "    box-shadow: 0 1px 2px rgba(60, 64, 67, 0.3), 0 1px 3px 1px rgba(60, 64, 67, 0.15);\n",
              "    fill: var(--button-hover-fill-color);\n",
              "  }\n",
              "\n",
              "  .colab-df-quickchart-complete:disabled,\n",
              "  .colab-df-quickchart-complete:disabled:hover {\n",
              "    background-color: var(--disabled-bg-color);\n",
              "    fill: var(--disabled-fill-color);\n",
              "    box-shadow: none;\n",
              "  }\n",
              "\n",
              "  .colab-df-spinner {\n",
              "    border: 2px solid var(--fill-color);\n",
              "    border-color: transparent;\n",
              "    border-bottom-color: var(--fill-color);\n",
              "    animation:\n",
              "      spin 1s steps(1) infinite;\n",
              "  }\n",
              "\n",
              "  @keyframes spin {\n",
              "    0% {\n",
              "      border-color: transparent;\n",
              "      border-bottom-color: var(--fill-color);\n",
              "      border-left-color: var(--fill-color);\n",
              "    }\n",
              "    20% {\n",
              "      border-color: transparent;\n",
              "      border-left-color: var(--fill-color);\n",
              "      border-top-color: var(--fill-color);\n",
              "    }\n",
              "    30% {\n",
              "      border-color: transparent;\n",
              "      border-left-color: var(--fill-color);\n",
              "      border-top-color: var(--fill-color);\n",
              "      border-right-color: var(--fill-color);\n",
              "    }\n",
              "    40% {\n",
              "      border-color: transparent;\n",
              "      border-right-color: var(--fill-color);\n",
              "      border-top-color: var(--fill-color);\n",
              "    }\n",
              "    60% {\n",
              "      border-color: transparent;\n",
              "      border-right-color: var(--fill-color);\n",
              "    }\n",
              "    80% {\n",
              "      border-color: transparent;\n",
              "      border-right-color: var(--fill-color);\n",
              "      border-bottom-color: var(--fill-color);\n",
              "    }\n",
              "    90% {\n",
              "      border-color: transparent;\n",
              "      border-bottom-color: var(--fill-color);\n",
              "    }\n",
              "  }\n",
              "</style>\n",
              "\n",
              "  <script>\n",
              "    async function quickchart(key) {\n",
              "      const quickchartButtonEl =\n",
              "        document.querySelector('#' + key + ' button');\n",
              "      quickchartButtonEl.disabled = true;  // To prevent multiple clicks.\n",
              "      quickchartButtonEl.classList.add('colab-df-spinner');\n",
              "      try {\n",
              "        const charts = await google.colab.kernel.invokeFunction(\n",
              "            'suggestCharts', [key], {});\n",
              "      } catch (error) {\n",
              "        console.error('Error during call to suggestCharts:', error);\n",
              "      }\n",
              "      quickchartButtonEl.classList.remove('colab-df-spinner');\n",
              "      quickchartButtonEl.classList.add('colab-df-quickchart-complete');\n",
              "    }\n",
              "    (() => {\n",
              "      let quickchartButtonEl =\n",
              "        document.querySelector('#df-405df238-3035-45da-9fd8-f5122d66d1f1 button');\n",
              "      quickchartButtonEl.style.display =\n",
              "        google.colab.kernel.accessAllowed ? 'block' : 'none';\n",
              "    })();\n",
              "  </script>\n",
              "</div>\n",
              "\n",
              "  <div id=\"id_876967eb-2d47-44ff-a284-349aca706799\">\n",
              "    <style>\n",
              "      .colab-df-generate {\n",
              "        background-color: #E8F0FE;\n",
              "        border: none;\n",
              "        border-radius: 50%;\n",
              "        cursor: pointer;\n",
              "        display: none;\n",
              "        fill: #1967D2;\n",
              "        height: 32px;\n",
              "        padding: 0 0 0 0;\n",
              "        width: 32px;\n",
              "      }\n",
              "\n",
              "      .colab-df-generate:hover {\n",
              "        background-color: #E2EBFA;\n",
              "        box-shadow: 0px 1px 2px rgba(60, 64, 67, 0.3), 0px 1px 3px 1px rgba(60, 64, 67, 0.15);\n",
              "        fill: #174EA6;\n",
              "      }\n",
              "\n",
              "      [theme=dark] .colab-df-generate {\n",
              "        background-color: #3B4455;\n",
              "        fill: #D2E3FC;\n",
              "      }\n",
              "\n",
              "      [theme=dark] .colab-df-generate:hover {\n",
              "        background-color: #434B5C;\n",
              "        box-shadow: 0px 1px 3px 1px rgba(0, 0, 0, 0.15);\n",
              "        filter: drop-shadow(0px 1px 2px rgba(0, 0, 0, 0.3));\n",
              "        fill: #FFFFFF;\n",
              "      }\n",
              "    </style>\n",
              "    <button class=\"colab-df-generate\" onclick=\"generateWithVariable('df')\"\n",
              "            title=\"Generate code using this dataframe.\"\n",
              "            style=\"display:none;\">\n",
              "\n",
              "  <svg xmlns=\"http://www.w3.org/2000/svg\" height=\"24px\"viewBox=\"0 0 24 24\"\n",
              "       width=\"24px\">\n",
              "    <path d=\"M7,19H8.4L18.45,9,17,7.55,7,17.6ZM5,21V16.75L18.45,3.32a2,2,0,0,1,2.83,0l1.4,1.43a1.91,1.91,0,0,1,.58,1.4,1.91,1.91,0,0,1-.58,1.4L9.25,21ZM18.45,9,17,7.55Zm-12,3A5.31,5.31,0,0,0,4.9,8.1,5.31,5.31,0,0,0,1,6.5,5.31,5.31,0,0,0,4.9,4.9,5.31,5.31,0,0,0,6.5,1,5.31,5.31,0,0,0,8.1,4.9,5.31,5.31,0,0,0,12,6.5,5.46,5.46,0,0,0,6.5,12Z\"/>\n",
              "  </svg>\n",
              "    </button>\n",
              "    <script>\n",
              "      (() => {\n",
              "      const buttonEl =\n",
              "        document.querySelector('#id_876967eb-2d47-44ff-a284-349aca706799 button.colab-df-generate');\n",
              "      buttonEl.style.display =\n",
              "        google.colab.kernel.accessAllowed ? 'block' : 'none';\n",
              "\n",
              "      buttonEl.onclick = () => {\n",
              "        google.colab.notebook.generateWithVariable('df');\n",
              "      }\n",
              "      })();\n",
              "    </script>\n",
              "  </div>\n",
              "\n",
              "    </div>\n",
              "  </div>\n"
            ],
            "application/vnd.google.colaboratory.intrinsic+json": {
              "type": "dataframe",
              "variable_name": "df",
              "summary": "{\n  \"name\": \"df\",\n  \"rows\": 2,\n  \"fields\": [\n    {\n      \"column\": \"col1\",\n      \"properties\": {\n        \"dtype\": \"number\",\n        \"std\": 0,\n        \"min\": 1,\n        \"max\": 2,\n        \"num_unique_values\": 2,\n        \"samples\": [\n          2,\n          1\n        ],\n        \"semantic_type\": \"\",\n        \"description\": \"\"\n      }\n    },\n    {\n      \"column\": \"col2\",\n      \"properties\": {\n        \"dtype\": \"number\",\n        \"std\": 0,\n        \"min\": 3,\n        \"max\": 4,\n        \"num_unique_values\": 2,\n        \"samples\": [\n          4,\n          3\n        ],\n        \"semantic_type\": \"\",\n        \"description\": \"\"\n      }\n    }\n  ]\n}"
            }
          },
          "metadata": {},
          "execution_count": 110
        }
      ],
      "source": [
        " d = {'col1': [1, 2], 'col2': [3, 4]}\n",
        " df = pd.DataFrame(data=d)\n",
        " df"
      ]
    },
    {
      "cell_type": "markdown",
      "metadata": {
        "id": "mvK2GFyByOl-"
      },
      "source": [
        "## 11.2  Dataframe creation from dict of ndarrays/lists"
      ]
    },
    {
      "cell_type": "markdown",
      "metadata": {
        "id": "UGb600_WyOl-"
      },
      "source": [
        " - The ndarrays must all be the same length.\n",
        " - If an index is passed, it must clearly also be the same length as the arrays. If no index is passed, the result will be range(n), where n is the array length."
      ]
    },
    {
      "cell_type": "code",
      "execution_count": 112,
      "metadata": {
        "id": "6bNw6BszyOl-",
        "outputId": "06e5c491-8974-427d-fe95-4b795a2c937e",
        "colab": {
          "base_uri": "https://localhost:8080/",
          "height": 175
        }
      },
      "outputs": [
        {
          "output_type": "execute_result",
          "data": {
            "text/plain": [
              "   one  two\n",
              "0  1.0    4\n",
              "1  2.0    3\n",
              "2  3.0    2\n",
              "3  4.0    1"
            ],
            "text/html": [
              "\n",
              "  <div id=\"df-ecaf586c-a1df-424e-924f-e679e44accbc\" class=\"colab-df-container\">\n",
              "    <div>\n",
              "<style scoped>\n",
              "    .dataframe tbody tr th:only-of-type {\n",
              "        vertical-align: middle;\n",
              "    }\n",
              "\n",
              "    .dataframe tbody tr th {\n",
              "        vertical-align: top;\n",
              "    }\n",
              "\n",
              "    .dataframe thead th {\n",
              "        text-align: right;\n",
              "    }\n",
              "</style>\n",
              "<table border=\"1\" class=\"dataframe\">\n",
              "  <thead>\n",
              "    <tr style=\"text-align: right;\">\n",
              "      <th></th>\n",
              "      <th>one</th>\n",
              "      <th>two</th>\n",
              "    </tr>\n",
              "  </thead>\n",
              "  <tbody>\n",
              "    <tr>\n",
              "      <th>0</th>\n",
              "      <td>1.0</td>\n",
              "      <td>4</td>\n",
              "    </tr>\n",
              "    <tr>\n",
              "      <th>1</th>\n",
              "      <td>2.0</td>\n",
              "      <td>3</td>\n",
              "    </tr>\n",
              "    <tr>\n",
              "      <th>2</th>\n",
              "      <td>3.0</td>\n",
              "      <td>2</td>\n",
              "    </tr>\n",
              "    <tr>\n",
              "      <th>3</th>\n",
              "      <td>4.0</td>\n",
              "      <td>1</td>\n",
              "    </tr>\n",
              "  </tbody>\n",
              "</table>\n",
              "</div>\n",
              "    <div class=\"colab-df-buttons\">\n",
              "\n",
              "  <div class=\"colab-df-container\">\n",
              "    <button class=\"colab-df-convert\" onclick=\"convertToInteractive('df-ecaf586c-a1df-424e-924f-e679e44accbc')\"\n",
              "            title=\"Convert this dataframe to an interactive table.\"\n",
              "            style=\"display:none;\">\n",
              "\n",
              "  <svg xmlns=\"http://www.w3.org/2000/svg\" height=\"24px\" viewBox=\"0 -960 960 960\">\n",
              "    <path d=\"M120-120v-720h720v720H120Zm60-500h600v-160H180v160Zm220 220h160v-160H400v160Zm0 220h160v-160H400v160ZM180-400h160v-160H180v160Zm440 0h160v-160H620v160ZM180-180h160v-160H180v160Zm440 0h160v-160H620v160Z\"/>\n",
              "  </svg>\n",
              "    </button>\n",
              "\n",
              "  <style>\n",
              "    .colab-df-container {\n",
              "      display:flex;\n",
              "      gap: 12px;\n",
              "    }\n",
              "\n",
              "    .colab-df-convert {\n",
              "      background-color: #E8F0FE;\n",
              "      border: none;\n",
              "      border-radius: 50%;\n",
              "      cursor: pointer;\n",
              "      display: none;\n",
              "      fill: #1967D2;\n",
              "      height: 32px;\n",
              "      padding: 0 0 0 0;\n",
              "      width: 32px;\n",
              "    }\n",
              "\n",
              "    .colab-df-convert:hover {\n",
              "      background-color: #E2EBFA;\n",
              "      box-shadow: 0px 1px 2px rgba(60, 64, 67, 0.3), 0px 1px 3px 1px rgba(60, 64, 67, 0.15);\n",
              "      fill: #174EA6;\n",
              "    }\n",
              "\n",
              "    .colab-df-buttons div {\n",
              "      margin-bottom: 4px;\n",
              "    }\n",
              "\n",
              "    [theme=dark] .colab-df-convert {\n",
              "      background-color: #3B4455;\n",
              "      fill: #D2E3FC;\n",
              "    }\n",
              "\n",
              "    [theme=dark] .colab-df-convert:hover {\n",
              "      background-color: #434B5C;\n",
              "      box-shadow: 0px 1px 3px 1px rgba(0, 0, 0, 0.15);\n",
              "      filter: drop-shadow(0px 1px 2px rgba(0, 0, 0, 0.3));\n",
              "      fill: #FFFFFF;\n",
              "    }\n",
              "  </style>\n",
              "\n",
              "    <script>\n",
              "      const buttonEl =\n",
              "        document.querySelector('#df-ecaf586c-a1df-424e-924f-e679e44accbc button.colab-df-convert');\n",
              "      buttonEl.style.display =\n",
              "        google.colab.kernel.accessAllowed ? 'block' : 'none';\n",
              "\n",
              "      async function convertToInteractive(key) {\n",
              "        const element = document.querySelector('#df-ecaf586c-a1df-424e-924f-e679e44accbc');\n",
              "        const dataTable =\n",
              "          await google.colab.kernel.invokeFunction('convertToInteractive',\n",
              "                                                    [key], {});\n",
              "        if (!dataTable) return;\n",
              "\n",
              "        const docLinkHtml = 'Like what you see? Visit the ' +\n",
              "          '<a target=\"_blank\" href=https://colab.research.google.com/notebooks/data_table.ipynb>data table notebook</a>'\n",
              "          + ' to learn more about interactive tables.';\n",
              "        element.innerHTML = '';\n",
              "        dataTable['output_type'] = 'display_data';\n",
              "        await google.colab.output.renderOutput(dataTable, element);\n",
              "        const docLink = document.createElement('div');\n",
              "        docLink.innerHTML = docLinkHtml;\n",
              "        element.appendChild(docLink);\n",
              "      }\n",
              "    </script>\n",
              "  </div>\n",
              "\n",
              "\n",
              "<div id=\"df-b60b201f-2100-4cc6-9d4b-2bce1266f2c8\">\n",
              "  <button class=\"colab-df-quickchart\" onclick=\"quickchart('df-b60b201f-2100-4cc6-9d4b-2bce1266f2c8')\"\n",
              "            title=\"Suggest charts\"\n",
              "            style=\"display:none;\">\n",
              "\n",
              "<svg xmlns=\"http://www.w3.org/2000/svg\" height=\"24px\"viewBox=\"0 0 24 24\"\n",
              "     width=\"24px\">\n",
              "    <g>\n",
              "        <path d=\"M19 3H5c-1.1 0-2 .9-2 2v14c0 1.1.9 2 2 2h14c1.1 0 2-.9 2-2V5c0-1.1-.9-2-2-2zM9 17H7v-7h2v7zm4 0h-2V7h2v10zm4 0h-2v-4h2v4z\"/>\n",
              "    </g>\n",
              "</svg>\n",
              "  </button>\n",
              "\n",
              "<style>\n",
              "  .colab-df-quickchart {\n",
              "      --bg-color: #E8F0FE;\n",
              "      --fill-color: #1967D2;\n",
              "      --hover-bg-color: #E2EBFA;\n",
              "      --hover-fill-color: #174EA6;\n",
              "      --disabled-fill-color: #AAA;\n",
              "      --disabled-bg-color: #DDD;\n",
              "  }\n",
              "\n",
              "  [theme=dark] .colab-df-quickchart {\n",
              "      --bg-color: #3B4455;\n",
              "      --fill-color: #D2E3FC;\n",
              "      --hover-bg-color: #434B5C;\n",
              "      --hover-fill-color: #FFFFFF;\n",
              "      --disabled-bg-color: #3B4455;\n",
              "      --disabled-fill-color: #666;\n",
              "  }\n",
              "\n",
              "  .colab-df-quickchart {\n",
              "    background-color: var(--bg-color);\n",
              "    border: none;\n",
              "    border-radius: 50%;\n",
              "    cursor: pointer;\n",
              "    display: none;\n",
              "    fill: var(--fill-color);\n",
              "    height: 32px;\n",
              "    padding: 0;\n",
              "    width: 32px;\n",
              "  }\n",
              "\n",
              "  .colab-df-quickchart:hover {\n",
              "    background-color: var(--hover-bg-color);\n",
              "    box-shadow: 0 1px 2px rgba(60, 64, 67, 0.3), 0 1px 3px 1px rgba(60, 64, 67, 0.15);\n",
              "    fill: var(--button-hover-fill-color);\n",
              "  }\n",
              "\n",
              "  .colab-df-quickchart-complete:disabled,\n",
              "  .colab-df-quickchart-complete:disabled:hover {\n",
              "    background-color: var(--disabled-bg-color);\n",
              "    fill: var(--disabled-fill-color);\n",
              "    box-shadow: none;\n",
              "  }\n",
              "\n",
              "  .colab-df-spinner {\n",
              "    border: 2px solid var(--fill-color);\n",
              "    border-color: transparent;\n",
              "    border-bottom-color: var(--fill-color);\n",
              "    animation:\n",
              "      spin 1s steps(1) infinite;\n",
              "  }\n",
              "\n",
              "  @keyframes spin {\n",
              "    0% {\n",
              "      border-color: transparent;\n",
              "      border-bottom-color: var(--fill-color);\n",
              "      border-left-color: var(--fill-color);\n",
              "    }\n",
              "    20% {\n",
              "      border-color: transparent;\n",
              "      border-left-color: var(--fill-color);\n",
              "      border-top-color: var(--fill-color);\n",
              "    }\n",
              "    30% {\n",
              "      border-color: transparent;\n",
              "      border-left-color: var(--fill-color);\n",
              "      border-top-color: var(--fill-color);\n",
              "      border-right-color: var(--fill-color);\n",
              "    }\n",
              "    40% {\n",
              "      border-color: transparent;\n",
              "      border-right-color: var(--fill-color);\n",
              "      border-top-color: var(--fill-color);\n",
              "    }\n",
              "    60% {\n",
              "      border-color: transparent;\n",
              "      border-right-color: var(--fill-color);\n",
              "    }\n",
              "    80% {\n",
              "      border-color: transparent;\n",
              "      border-right-color: var(--fill-color);\n",
              "      border-bottom-color: var(--fill-color);\n",
              "    }\n",
              "    90% {\n",
              "      border-color: transparent;\n",
              "      border-bottom-color: var(--fill-color);\n",
              "    }\n",
              "  }\n",
              "</style>\n",
              "\n",
              "  <script>\n",
              "    async function quickchart(key) {\n",
              "      const quickchartButtonEl =\n",
              "        document.querySelector('#' + key + ' button');\n",
              "      quickchartButtonEl.disabled = true;  // To prevent multiple clicks.\n",
              "      quickchartButtonEl.classList.add('colab-df-spinner');\n",
              "      try {\n",
              "        const charts = await google.colab.kernel.invokeFunction(\n",
              "            'suggestCharts', [key], {});\n",
              "      } catch (error) {\n",
              "        console.error('Error during call to suggestCharts:', error);\n",
              "      }\n",
              "      quickchartButtonEl.classList.remove('colab-df-spinner');\n",
              "      quickchartButtonEl.classList.add('colab-df-quickchart-complete');\n",
              "    }\n",
              "    (() => {\n",
              "      let quickchartButtonEl =\n",
              "        document.querySelector('#df-b60b201f-2100-4cc6-9d4b-2bce1266f2c8 button');\n",
              "      quickchartButtonEl.style.display =\n",
              "        google.colab.kernel.accessAllowed ? 'block' : 'none';\n",
              "    })();\n",
              "  </script>\n",
              "</div>\n",
              "\n",
              "    </div>\n",
              "  </div>\n"
            ],
            "application/vnd.google.colaboratory.intrinsic+json": {
              "type": "dataframe",
              "summary": "{\n  \"name\": \"pd\",\n  \"rows\": 4,\n  \"fields\": [\n    {\n      \"column\": \"one\",\n      \"properties\": {\n        \"dtype\": \"number\",\n        \"std\": 1.2909944487358056,\n        \"min\": 1.0,\n        \"max\": 4.0,\n        \"num_unique_values\": 4,\n        \"samples\": [\n          2.0,\n          4.0,\n          1.0\n        ],\n        \"semantic_type\": \"\",\n        \"description\": \"\"\n      }\n    },\n    {\n      \"column\": \"two\",\n      \"properties\": {\n        \"dtype\": \"number\",\n        \"std\": 1,\n        \"min\": 1,\n        \"max\": 4,\n        \"num_unique_values\": 4,\n        \"samples\": [\n          3,\n          1,\n          4\n        ],\n        \"semantic_type\": \"\",\n        \"description\": \"\"\n      }\n    }\n  ]\n}"
            }
          },
          "metadata": {},
          "execution_count": 112
        }
      ],
      "source": [
        "d = {'one' : [1., 2., 3., 4.], 'two' : [4, 3, 2, 1]}\n",
        "pd.DataFrame(d)"
      ]
    },
    {
      "cell_type": "code",
      "execution_count": 117,
      "metadata": {
        "id": "40LfkQw_yOl-",
        "outputId": "52f90b80-b58d-41a0-e6ac-828f303ab385",
        "colab": {
          "base_uri": "https://localhost:8080/",
          "height": 175
        }
      },
      "outputs": [
        {
          "output_type": "execute_result",
          "data": {
            "text/plain": [
              "    a   b   c\n",
              "0  19  11  13\n",
              "1   9  15  15\n",
              "2  16  17   2\n",
              "3  11  17  10"
            ],
            "text/html": [
              "\n",
              "  <div id=\"df-1cb08767-77f7-47e7-bb2c-abd1610575ff\" class=\"colab-df-container\">\n",
              "    <div>\n",
              "<style scoped>\n",
              "    .dataframe tbody tr th:only-of-type {\n",
              "        vertical-align: middle;\n",
              "    }\n",
              "\n",
              "    .dataframe tbody tr th {\n",
              "        vertical-align: top;\n",
              "    }\n",
              "\n",
              "    .dataframe thead th {\n",
              "        text-align: right;\n",
              "    }\n",
              "</style>\n",
              "<table border=\"1\" class=\"dataframe\">\n",
              "  <thead>\n",
              "    <tr style=\"text-align: right;\">\n",
              "      <th></th>\n",
              "      <th>a</th>\n",
              "      <th>b</th>\n",
              "      <th>c</th>\n",
              "    </tr>\n",
              "  </thead>\n",
              "  <tbody>\n",
              "    <tr>\n",
              "      <th>0</th>\n",
              "      <td>19</td>\n",
              "      <td>11</td>\n",
              "      <td>13</td>\n",
              "    </tr>\n",
              "    <tr>\n",
              "      <th>1</th>\n",
              "      <td>9</td>\n",
              "      <td>15</td>\n",
              "      <td>15</td>\n",
              "    </tr>\n",
              "    <tr>\n",
              "      <th>2</th>\n",
              "      <td>16</td>\n",
              "      <td>17</td>\n",
              "      <td>2</td>\n",
              "    </tr>\n",
              "    <tr>\n",
              "      <th>3</th>\n",
              "      <td>11</td>\n",
              "      <td>17</td>\n",
              "      <td>10</td>\n",
              "    </tr>\n",
              "  </tbody>\n",
              "</table>\n",
              "</div>\n",
              "    <div class=\"colab-df-buttons\">\n",
              "\n",
              "  <div class=\"colab-df-container\">\n",
              "    <button class=\"colab-df-convert\" onclick=\"convertToInteractive('df-1cb08767-77f7-47e7-bb2c-abd1610575ff')\"\n",
              "            title=\"Convert this dataframe to an interactive table.\"\n",
              "            style=\"display:none;\">\n",
              "\n",
              "  <svg xmlns=\"http://www.w3.org/2000/svg\" height=\"24px\" viewBox=\"0 -960 960 960\">\n",
              "    <path d=\"M120-120v-720h720v720H120Zm60-500h600v-160H180v160Zm220 220h160v-160H400v160Zm0 220h160v-160H400v160ZM180-400h160v-160H180v160Zm440 0h160v-160H620v160ZM180-180h160v-160H180v160Zm440 0h160v-160H620v160Z\"/>\n",
              "  </svg>\n",
              "    </button>\n",
              "\n",
              "  <style>\n",
              "    .colab-df-container {\n",
              "      display:flex;\n",
              "      gap: 12px;\n",
              "    }\n",
              "\n",
              "    .colab-df-convert {\n",
              "      background-color: #E8F0FE;\n",
              "      border: none;\n",
              "      border-radius: 50%;\n",
              "      cursor: pointer;\n",
              "      display: none;\n",
              "      fill: #1967D2;\n",
              "      height: 32px;\n",
              "      padding: 0 0 0 0;\n",
              "      width: 32px;\n",
              "    }\n",
              "\n",
              "    .colab-df-convert:hover {\n",
              "      background-color: #E2EBFA;\n",
              "      box-shadow: 0px 1px 2px rgba(60, 64, 67, 0.3), 0px 1px 3px 1px rgba(60, 64, 67, 0.15);\n",
              "      fill: #174EA6;\n",
              "    }\n",
              "\n",
              "    .colab-df-buttons div {\n",
              "      margin-bottom: 4px;\n",
              "    }\n",
              "\n",
              "    [theme=dark] .colab-df-convert {\n",
              "      background-color: #3B4455;\n",
              "      fill: #D2E3FC;\n",
              "    }\n",
              "\n",
              "    [theme=dark] .colab-df-convert:hover {\n",
              "      background-color: #434B5C;\n",
              "      box-shadow: 0px 1px 3px 1px rgba(0, 0, 0, 0.15);\n",
              "      filter: drop-shadow(0px 1px 2px rgba(0, 0, 0, 0.3));\n",
              "      fill: #FFFFFF;\n",
              "    }\n",
              "  </style>\n",
              "\n",
              "    <script>\n",
              "      const buttonEl =\n",
              "        document.querySelector('#df-1cb08767-77f7-47e7-bb2c-abd1610575ff button.colab-df-convert');\n",
              "      buttonEl.style.display =\n",
              "        google.colab.kernel.accessAllowed ? 'block' : 'none';\n",
              "\n",
              "      async function convertToInteractive(key) {\n",
              "        const element = document.querySelector('#df-1cb08767-77f7-47e7-bb2c-abd1610575ff');\n",
              "        const dataTable =\n",
              "          await google.colab.kernel.invokeFunction('convertToInteractive',\n",
              "                                                    [key], {});\n",
              "        if (!dataTable) return;\n",
              "\n",
              "        const docLinkHtml = 'Like what you see? Visit the ' +\n",
              "          '<a target=\"_blank\" href=https://colab.research.google.com/notebooks/data_table.ipynb>data table notebook</a>'\n",
              "          + ' to learn more about interactive tables.';\n",
              "        element.innerHTML = '';\n",
              "        dataTable['output_type'] = 'display_data';\n",
              "        await google.colab.output.renderOutput(dataTable, element);\n",
              "        const docLink = document.createElement('div');\n",
              "        docLink.innerHTML = docLinkHtml;\n",
              "        element.appendChild(docLink);\n",
              "      }\n",
              "    </script>\n",
              "  </div>\n",
              "\n",
              "\n",
              "<div id=\"df-66409842-6656-4130-aba0-768db3d4f5ad\">\n",
              "  <button class=\"colab-df-quickchart\" onclick=\"quickchart('df-66409842-6656-4130-aba0-768db3d4f5ad')\"\n",
              "            title=\"Suggest charts\"\n",
              "            style=\"display:none;\">\n",
              "\n",
              "<svg xmlns=\"http://www.w3.org/2000/svg\" height=\"24px\"viewBox=\"0 0 24 24\"\n",
              "     width=\"24px\">\n",
              "    <g>\n",
              "        <path d=\"M19 3H5c-1.1 0-2 .9-2 2v14c0 1.1.9 2 2 2h14c1.1 0 2-.9 2-2V5c0-1.1-.9-2-2-2zM9 17H7v-7h2v7zm4 0h-2V7h2v10zm4 0h-2v-4h2v4z\"/>\n",
              "    </g>\n",
              "</svg>\n",
              "  </button>\n",
              "\n",
              "<style>\n",
              "  .colab-df-quickchart {\n",
              "      --bg-color: #E8F0FE;\n",
              "      --fill-color: #1967D2;\n",
              "      --hover-bg-color: #E2EBFA;\n",
              "      --hover-fill-color: #174EA6;\n",
              "      --disabled-fill-color: #AAA;\n",
              "      --disabled-bg-color: #DDD;\n",
              "  }\n",
              "\n",
              "  [theme=dark] .colab-df-quickchart {\n",
              "      --bg-color: #3B4455;\n",
              "      --fill-color: #D2E3FC;\n",
              "      --hover-bg-color: #434B5C;\n",
              "      --hover-fill-color: #FFFFFF;\n",
              "      --disabled-bg-color: #3B4455;\n",
              "      --disabled-fill-color: #666;\n",
              "  }\n",
              "\n",
              "  .colab-df-quickchart {\n",
              "    background-color: var(--bg-color);\n",
              "    border: none;\n",
              "    border-radius: 50%;\n",
              "    cursor: pointer;\n",
              "    display: none;\n",
              "    fill: var(--fill-color);\n",
              "    height: 32px;\n",
              "    padding: 0;\n",
              "    width: 32px;\n",
              "  }\n",
              "\n",
              "  .colab-df-quickchart:hover {\n",
              "    background-color: var(--hover-bg-color);\n",
              "    box-shadow: 0 1px 2px rgba(60, 64, 67, 0.3), 0 1px 3px 1px rgba(60, 64, 67, 0.15);\n",
              "    fill: var(--button-hover-fill-color);\n",
              "  }\n",
              "\n",
              "  .colab-df-quickchart-complete:disabled,\n",
              "  .colab-df-quickchart-complete:disabled:hover {\n",
              "    background-color: var(--disabled-bg-color);\n",
              "    fill: var(--disabled-fill-color);\n",
              "    box-shadow: none;\n",
              "  }\n",
              "\n",
              "  .colab-df-spinner {\n",
              "    border: 2px solid var(--fill-color);\n",
              "    border-color: transparent;\n",
              "    border-bottom-color: var(--fill-color);\n",
              "    animation:\n",
              "      spin 1s steps(1) infinite;\n",
              "  }\n",
              "\n",
              "  @keyframes spin {\n",
              "    0% {\n",
              "      border-color: transparent;\n",
              "      border-bottom-color: var(--fill-color);\n",
              "      border-left-color: var(--fill-color);\n",
              "    }\n",
              "    20% {\n",
              "      border-color: transparent;\n",
              "      border-left-color: var(--fill-color);\n",
              "      border-top-color: var(--fill-color);\n",
              "    }\n",
              "    30% {\n",
              "      border-color: transparent;\n",
              "      border-left-color: var(--fill-color);\n",
              "      border-top-color: var(--fill-color);\n",
              "      border-right-color: var(--fill-color);\n",
              "    }\n",
              "    40% {\n",
              "      border-color: transparent;\n",
              "      border-right-color: var(--fill-color);\n",
              "      border-top-color: var(--fill-color);\n",
              "    }\n",
              "    60% {\n",
              "      border-color: transparent;\n",
              "      border-right-color: var(--fill-color);\n",
              "    }\n",
              "    80% {\n",
              "      border-color: transparent;\n",
              "      border-right-color: var(--fill-color);\n",
              "      border-bottom-color: var(--fill-color);\n",
              "    }\n",
              "    90% {\n",
              "      border-color: transparent;\n",
              "      border-bottom-color: var(--fill-color);\n",
              "    }\n",
              "  }\n",
              "</style>\n",
              "\n",
              "  <script>\n",
              "    async function quickchart(key) {\n",
              "      const quickchartButtonEl =\n",
              "        document.querySelector('#' + key + ' button');\n",
              "      quickchartButtonEl.disabled = true;  // To prevent multiple clicks.\n",
              "      quickchartButtonEl.classList.add('colab-df-spinner');\n",
              "      try {\n",
              "        const charts = await google.colab.kernel.invokeFunction(\n",
              "            'suggestCharts', [key], {});\n",
              "      } catch (error) {\n",
              "        console.error('Error during call to suggestCharts:', error);\n",
              "      }\n",
              "      quickchartButtonEl.classList.remove('colab-df-spinner');\n",
              "      quickchartButtonEl.classList.add('colab-df-quickchart-complete');\n",
              "    }\n",
              "    (() => {\n",
              "      let quickchartButtonEl =\n",
              "        document.querySelector('#df-66409842-6656-4130-aba0-768db3d4f5ad button');\n",
              "      quickchartButtonEl.style.display =\n",
              "        google.colab.kernel.accessAllowed ? 'block' : 'none';\n",
              "    })();\n",
              "  </script>\n",
              "</div>\n",
              "\n",
              "  <div id=\"id_245e3476-9094-4ad7-a095-2a66e181515e\">\n",
              "    <style>\n",
              "      .colab-df-generate {\n",
              "        background-color: #E8F0FE;\n",
              "        border: none;\n",
              "        border-radius: 50%;\n",
              "        cursor: pointer;\n",
              "        display: none;\n",
              "        fill: #1967D2;\n",
              "        height: 32px;\n",
              "        padding: 0 0 0 0;\n",
              "        width: 32px;\n",
              "      }\n",
              "\n",
              "      .colab-df-generate:hover {\n",
              "        background-color: #E2EBFA;\n",
              "        box-shadow: 0px 1px 2px rgba(60, 64, 67, 0.3), 0px 1px 3px 1px rgba(60, 64, 67, 0.15);\n",
              "        fill: #174EA6;\n",
              "      }\n",
              "\n",
              "      [theme=dark] .colab-df-generate {\n",
              "        background-color: #3B4455;\n",
              "        fill: #D2E3FC;\n",
              "      }\n",
              "\n",
              "      [theme=dark] .colab-df-generate:hover {\n",
              "        background-color: #434B5C;\n",
              "        box-shadow: 0px 1px 3px 1px rgba(0, 0, 0, 0.15);\n",
              "        filter: drop-shadow(0px 1px 2px rgba(0, 0, 0, 0.3));\n",
              "        fill: #FFFFFF;\n",
              "      }\n",
              "    </style>\n",
              "    <button class=\"colab-df-generate\" onclick=\"generateWithVariable('df2')\"\n",
              "            title=\"Generate code using this dataframe.\"\n",
              "            style=\"display:none;\">\n",
              "\n",
              "  <svg xmlns=\"http://www.w3.org/2000/svg\" height=\"24px\"viewBox=\"0 0 24 24\"\n",
              "       width=\"24px\">\n",
              "    <path d=\"M7,19H8.4L18.45,9,17,7.55,7,17.6ZM5,21V16.75L18.45,3.32a2,2,0,0,1,2.83,0l1.4,1.43a1.91,1.91,0,0,1,.58,1.4,1.91,1.91,0,0,1-.58,1.4L9.25,21ZM18.45,9,17,7.55Zm-12,3A5.31,5.31,0,0,0,4.9,8.1,5.31,5.31,0,0,0,1,6.5,5.31,5.31,0,0,0,4.9,4.9,5.31,5.31,0,0,0,6.5,1,5.31,5.31,0,0,0,8.1,4.9,5.31,5.31,0,0,0,12,6.5,5.46,5.46,0,0,0,6.5,12Z\"/>\n",
              "  </svg>\n",
              "    </button>\n",
              "    <script>\n",
              "      (() => {\n",
              "      const buttonEl =\n",
              "        document.querySelector('#id_245e3476-9094-4ad7-a095-2a66e181515e button.colab-df-generate');\n",
              "      buttonEl.style.display =\n",
              "        google.colab.kernel.accessAllowed ? 'block' : 'none';\n",
              "\n",
              "      buttonEl.onclick = () => {\n",
              "        google.colab.notebook.generateWithVariable('df2');\n",
              "      }\n",
              "      })();\n",
              "    </script>\n",
              "  </div>\n",
              "\n",
              "    </div>\n",
              "  </div>\n"
            ],
            "application/vnd.google.colaboratory.intrinsic+json": {
              "type": "dataframe",
              "variable_name": "df2",
              "summary": "{\n  \"name\": \"df2\",\n  \"rows\": 4,\n  \"fields\": [\n    {\n      \"column\": \"a\",\n      \"properties\": {\n        \"dtype\": \"number\",\n        \"std\": 4,\n        \"min\": 9,\n        \"max\": 19,\n        \"num_unique_values\": 4,\n        \"samples\": [\n          9,\n          11,\n          19\n        ],\n        \"semantic_type\": \"\",\n        \"description\": \"\"\n      }\n    },\n    {\n      \"column\": \"b\",\n      \"properties\": {\n        \"dtype\": \"number\",\n        \"std\": 2,\n        \"min\": 11,\n        \"max\": 17,\n        \"num_unique_values\": 3,\n        \"samples\": [\n          11,\n          15,\n          17\n        ],\n        \"semantic_type\": \"\",\n        \"description\": \"\"\n      }\n    },\n    {\n      \"column\": \"c\",\n      \"properties\": {\n        \"dtype\": \"number\",\n        \"std\": 5,\n        \"min\": 2,\n        \"max\": 15,\n        \"num_unique_values\": 4,\n        \"samples\": [\n          15,\n          10,\n          13\n        ],\n        \"semantic_type\": \"\",\n        \"description\": \"\"\n      }\n    }\n  ]\n}"
            }
          },
          "metadata": {},
          "execution_count": 117
        }
      ],
      "source": [
        "df2 = pd.DataFrame(np.random.randint(low=0, high=20, size=(4, 3)), columns=['a', 'b', 'c'])\n",
        "df2"
      ]
    },
    {
      "cell_type": "markdown",
      "metadata": {
        "id": "BZQPX4VQyOl-"
      },
      "source": [
        "## 11.3 Dataframe creation from a list of dicts"
      ]
    },
    {
      "cell_type": "code",
      "execution_count": 120,
      "metadata": {
        "id": "wRmFQs8IyOl_",
        "outputId": "321ea2b7-4699-4087-9776-f7cc6fc0d344",
        "colab": {
          "base_uri": "https://localhost:8080/",
          "height": 112
        }
      },
      "outputs": [
        {
          "output_type": "execute_result",
          "data": {
            "text/plain": [
              "    a     b\n",
              "0  10  20.0\n",
              "1   5   NaN"
            ],
            "text/html": [
              "\n",
              "  <div id=\"df-134602d3-76cc-4e65-aa7d-5a94adb67757\" class=\"colab-df-container\">\n",
              "    <div>\n",
              "<style scoped>\n",
              "    .dataframe tbody tr th:only-of-type {\n",
              "        vertical-align: middle;\n",
              "    }\n",
              "\n",
              "    .dataframe tbody tr th {\n",
              "        vertical-align: top;\n",
              "    }\n",
              "\n",
              "    .dataframe thead th {\n",
              "        text-align: right;\n",
              "    }\n",
              "</style>\n",
              "<table border=\"1\" class=\"dataframe\">\n",
              "  <thead>\n",
              "    <tr style=\"text-align: right;\">\n",
              "      <th></th>\n",
              "      <th>a</th>\n",
              "      <th>b</th>\n",
              "    </tr>\n",
              "  </thead>\n",
              "  <tbody>\n",
              "    <tr>\n",
              "      <th>0</th>\n",
              "      <td>10</td>\n",
              "      <td>20.0</td>\n",
              "    </tr>\n",
              "    <tr>\n",
              "      <th>1</th>\n",
              "      <td>5</td>\n",
              "      <td>NaN</td>\n",
              "    </tr>\n",
              "  </tbody>\n",
              "</table>\n",
              "</div>\n",
              "    <div class=\"colab-df-buttons\">\n",
              "\n",
              "  <div class=\"colab-df-container\">\n",
              "    <button class=\"colab-df-convert\" onclick=\"convertToInteractive('df-134602d3-76cc-4e65-aa7d-5a94adb67757')\"\n",
              "            title=\"Convert this dataframe to an interactive table.\"\n",
              "            style=\"display:none;\">\n",
              "\n",
              "  <svg xmlns=\"http://www.w3.org/2000/svg\" height=\"24px\" viewBox=\"0 -960 960 960\">\n",
              "    <path d=\"M120-120v-720h720v720H120Zm60-500h600v-160H180v160Zm220 220h160v-160H400v160Zm0 220h160v-160H400v160ZM180-400h160v-160H180v160Zm440 0h160v-160H620v160ZM180-180h160v-160H180v160Zm440 0h160v-160H620v160Z\"/>\n",
              "  </svg>\n",
              "    </button>\n",
              "\n",
              "  <style>\n",
              "    .colab-df-container {\n",
              "      display:flex;\n",
              "      gap: 12px;\n",
              "    }\n",
              "\n",
              "    .colab-df-convert {\n",
              "      background-color: #E8F0FE;\n",
              "      border: none;\n",
              "      border-radius: 50%;\n",
              "      cursor: pointer;\n",
              "      display: none;\n",
              "      fill: #1967D2;\n",
              "      height: 32px;\n",
              "      padding: 0 0 0 0;\n",
              "      width: 32px;\n",
              "    }\n",
              "\n",
              "    .colab-df-convert:hover {\n",
              "      background-color: #E2EBFA;\n",
              "      box-shadow: 0px 1px 2px rgba(60, 64, 67, 0.3), 0px 1px 3px 1px rgba(60, 64, 67, 0.15);\n",
              "      fill: #174EA6;\n",
              "    }\n",
              "\n",
              "    .colab-df-buttons div {\n",
              "      margin-bottom: 4px;\n",
              "    }\n",
              "\n",
              "    [theme=dark] .colab-df-convert {\n",
              "      background-color: #3B4455;\n",
              "      fill: #D2E3FC;\n",
              "    }\n",
              "\n",
              "    [theme=dark] .colab-df-convert:hover {\n",
              "      background-color: #434B5C;\n",
              "      box-shadow: 0px 1px 3px 1px rgba(0, 0, 0, 0.15);\n",
              "      filter: drop-shadow(0px 1px 2px rgba(0, 0, 0, 0.3));\n",
              "      fill: #FFFFFF;\n",
              "    }\n",
              "  </style>\n",
              "\n",
              "    <script>\n",
              "      const buttonEl =\n",
              "        document.querySelector('#df-134602d3-76cc-4e65-aa7d-5a94adb67757 button.colab-df-convert');\n",
              "      buttonEl.style.display =\n",
              "        google.colab.kernel.accessAllowed ? 'block' : 'none';\n",
              "\n",
              "      async function convertToInteractive(key) {\n",
              "        const element = document.querySelector('#df-134602d3-76cc-4e65-aa7d-5a94adb67757');\n",
              "        const dataTable =\n",
              "          await google.colab.kernel.invokeFunction('convertToInteractive',\n",
              "                                                    [key], {});\n",
              "        if (!dataTable) return;\n",
              "\n",
              "        const docLinkHtml = 'Like what you see? Visit the ' +\n",
              "          '<a target=\"_blank\" href=https://colab.research.google.com/notebooks/data_table.ipynb>data table notebook</a>'\n",
              "          + ' to learn more about interactive tables.';\n",
              "        element.innerHTML = '';\n",
              "        dataTable['output_type'] = 'display_data';\n",
              "        await google.colab.output.renderOutput(dataTable, element);\n",
              "        const docLink = document.createElement('div');\n",
              "        docLink.innerHTML = docLinkHtml;\n",
              "        element.appendChild(docLink);\n",
              "      }\n",
              "    </script>\n",
              "  </div>\n",
              "\n",
              "\n",
              "<div id=\"df-d1dd747f-34df-4c6a-b7f2-123f4d5f422f\">\n",
              "  <button class=\"colab-df-quickchart\" onclick=\"quickchart('df-d1dd747f-34df-4c6a-b7f2-123f4d5f422f')\"\n",
              "            title=\"Suggest charts\"\n",
              "            style=\"display:none;\">\n",
              "\n",
              "<svg xmlns=\"http://www.w3.org/2000/svg\" height=\"24px\"viewBox=\"0 0 24 24\"\n",
              "     width=\"24px\">\n",
              "    <g>\n",
              "        <path d=\"M19 3H5c-1.1 0-2 .9-2 2v14c0 1.1.9 2 2 2h14c1.1 0 2-.9 2-2V5c0-1.1-.9-2-2-2zM9 17H7v-7h2v7zm4 0h-2V7h2v10zm4 0h-2v-4h2v4z\"/>\n",
              "    </g>\n",
              "</svg>\n",
              "  </button>\n",
              "\n",
              "<style>\n",
              "  .colab-df-quickchart {\n",
              "      --bg-color: #E8F0FE;\n",
              "      --fill-color: #1967D2;\n",
              "      --hover-bg-color: #E2EBFA;\n",
              "      --hover-fill-color: #174EA6;\n",
              "      --disabled-fill-color: #AAA;\n",
              "      --disabled-bg-color: #DDD;\n",
              "  }\n",
              "\n",
              "  [theme=dark] .colab-df-quickchart {\n",
              "      --bg-color: #3B4455;\n",
              "      --fill-color: #D2E3FC;\n",
              "      --hover-bg-color: #434B5C;\n",
              "      --hover-fill-color: #FFFFFF;\n",
              "      --disabled-bg-color: #3B4455;\n",
              "      --disabled-fill-color: #666;\n",
              "  }\n",
              "\n",
              "  .colab-df-quickchart {\n",
              "    background-color: var(--bg-color);\n",
              "    border: none;\n",
              "    border-radius: 50%;\n",
              "    cursor: pointer;\n",
              "    display: none;\n",
              "    fill: var(--fill-color);\n",
              "    height: 32px;\n",
              "    padding: 0;\n",
              "    width: 32px;\n",
              "  }\n",
              "\n",
              "  .colab-df-quickchart:hover {\n",
              "    background-color: var(--hover-bg-color);\n",
              "    box-shadow: 0 1px 2px rgba(60, 64, 67, 0.3), 0 1px 3px 1px rgba(60, 64, 67, 0.15);\n",
              "    fill: var(--button-hover-fill-color);\n",
              "  }\n",
              "\n",
              "  .colab-df-quickchart-complete:disabled,\n",
              "  .colab-df-quickchart-complete:disabled:hover {\n",
              "    background-color: var(--disabled-bg-color);\n",
              "    fill: var(--disabled-fill-color);\n",
              "    box-shadow: none;\n",
              "  }\n",
              "\n",
              "  .colab-df-spinner {\n",
              "    border: 2px solid var(--fill-color);\n",
              "    border-color: transparent;\n",
              "    border-bottom-color: var(--fill-color);\n",
              "    animation:\n",
              "      spin 1s steps(1) infinite;\n",
              "  }\n",
              "\n",
              "  @keyframes spin {\n",
              "    0% {\n",
              "      border-color: transparent;\n",
              "      border-bottom-color: var(--fill-color);\n",
              "      border-left-color: var(--fill-color);\n",
              "    }\n",
              "    20% {\n",
              "      border-color: transparent;\n",
              "      border-left-color: var(--fill-color);\n",
              "      border-top-color: var(--fill-color);\n",
              "    }\n",
              "    30% {\n",
              "      border-color: transparent;\n",
              "      border-left-color: var(--fill-color);\n",
              "      border-top-color: var(--fill-color);\n",
              "      border-right-color: var(--fill-color);\n",
              "    }\n",
              "    40% {\n",
              "      border-color: transparent;\n",
              "      border-right-color: var(--fill-color);\n",
              "      border-top-color: var(--fill-color);\n",
              "    }\n",
              "    60% {\n",
              "      border-color: transparent;\n",
              "      border-right-color: var(--fill-color);\n",
              "    }\n",
              "    80% {\n",
              "      border-color: transparent;\n",
              "      border-right-color: var(--fill-color);\n",
              "      border-bottom-color: var(--fill-color);\n",
              "    }\n",
              "    90% {\n",
              "      border-color: transparent;\n",
              "      border-bottom-color: var(--fill-color);\n",
              "    }\n",
              "  }\n",
              "</style>\n",
              "\n",
              "  <script>\n",
              "    async function quickchart(key) {\n",
              "      const quickchartButtonEl =\n",
              "        document.querySelector('#' + key + ' button');\n",
              "      quickchartButtonEl.disabled = true;  // To prevent multiple clicks.\n",
              "      quickchartButtonEl.classList.add('colab-df-spinner');\n",
              "      try {\n",
              "        const charts = await google.colab.kernel.invokeFunction(\n",
              "            'suggestCharts', [key], {});\n",
              "      } catch (error) {\n",
              "        console.error('Error during call to suggestCharts:', error);\n",
              "      }\n",
              "      quickchartButtonEl.classList.remove('colab-df-spinner');\n",
              "      quickchartButtonEl.classList.add('colab-df-quickchart-complete');\n",
              "    }\n",
              "    (() => {\n",
              "      let quickchartButtonEl =\n",
              "        document.querySelector('#df-d1dd747f-34df-4c6a-b7f2-123f4d5f422f button');\n",
              "      quickchartButtonEl.style.display =\n",
              "        google.colab.kernel.accessAllowed ? 'block' : 'none';\n",
              "    })();\n",
              "  </script>\n",
              "</div>\n",
              "\n",
              "    </div>\n",
              "  </div>\n"
            ],
            "application/vnd.google.colaboratory.intrinsic+json": {
              "type": "dataframe",
              "summary": "{\n  \"name\": \"pd\",\n  \"rows\": 2,\n  \"fields\": [\n    {\n      \"column\": \"a\",\n      \"properties\": {\n        \"dtype\": \"number\",\n        \"std\": 3,\n        \"min\": 5,\n        \"max\": 10,\n        \"num_unique_values\": 2,\n        \"samples\": [\n          5,\n          10\n        ],\n        \"semantic_type\": \"\",\n        \"description\": \"\"\n      }\n    },\n    {\n      \"column\": \"b\",\n      \"properties\": {\n        \"dtype\": \"number\",\n        \"std\": null,\n        \"min\": 20.0,\n        \"max\": 20.0,\n        \"num_unique_values\": 1,\n        \"samples\": [\n          20.0\n        ],\n        \"semantic_type\": \"\",\n        \"description\": \"\"\n      }\n    }\n  ]\n}"
            }
          },
          "metadata": {},
          "execution_count": 120
        }
      ],
      "source": [
        "data = [{'a':10,\"b\":20},{'a':5}]\n",
        "pd.DataFrame(data)"
      ]
    },
    {
      "cell_type": "code",
      "execution_count": 121,
      "metadata": {
        "id": "7lflySriyOl_",
        "outputId": "63b4e4cf-94bf-4d49-f3f4-0d007863e66e",
        "colab": {
          "base_uri": "https://localhost:8080/",
          "height": 112
        }
      },
      "outputs": [
        {
          "output_type": "execute_result",
          "data": {
            "text/plain": [
              "    a   b   c\n",
              "0  10  20  30\n",
              "1   5  10  20"
            ],
            "text/html": [
              "\n",
              "  <div id=\"df-6ede5dd8-ee94-48ac-b261-63ea0eb8a586\" class=\"colab-df-container\">\n",
              "    <div>\n",
              "<style scoped>\n",
              "    .dataframe tbody tr th:only-of-type {\n",
              "        vertical-align: middle;\n",
              "    }\n",
              "\n",
              "    .dataframe tbody tr th {\n",
              "        vertical-align: top;\n",
              "    }\n",
              "\n",
              "    .dataframe thead th {\n",
              "        text-align: right;\n",
              "    }\n",
              "</style>\n",
              "<table border=\"1\" class=\"dataframe\">\n",
              "  <thead>\n",
              "    <tr style=\"text-align: right;\">\n",
              "      <th></th>\n",
              "      <th>a</th>\n",
              "      <th>b</th>\n",
              "      <th>c</th>\n",
              "    </tr>\n",
              "  </thead>\n",
              "  <tbody>\n",
              "    <tr>\n",
              "      <th>0</th>\n",
              "      <td>10</td>\n",
              "      <td>20</td>\n",
              "      <td>30</td>\n",
              "    </tr>\n",
              "    <tr>\n",
              "      <th>1</th>\n",
              "      <td>5</td>\n",
              "      <td>10</td>\n",
              "      <td>20</td>\n",
              "    </tr>\n",
              "  </tbody>\n",
              "</table>\n",
              "</div>\n",
              "    <div class=\"colab-df-buttons\">\n",
              "\n",
              "  <div class=\"colab-df-container\">\n",
              "    <button class=\"colab-df-convert\" onclick=\"convertToInteractive('df-6ede5dd8-ee94-48ac-b261-63ea0eb8a586')\"\n",
              "            title=\"Convert this dataframe to an interactive table.\"\n",
              "            style=\"display:none;\">\n",
              "\n",
              "  <svg xmlns=\"http://www.w3.org/2000/svg\" height=\"24px\" viewBox=\"0 -960 960 960\">\n",
              "    <path d=\"M120-120v-720h720v720H120Zm60-500h600v-160H180v160Zm220 220h160v-160H400v160Zm0 220h160v-160H400v160ZM180-400h160v-160H180v160Zm440 0h160v-160H620v160ZM180-180h160v-160H180v160Zm440 0h160v-160H620v160Z\"/>\n",
              "  </svg>\n",
              "    </button>\n",
              "\n",
              "  <style>\n",
              "    .colab-df-container {\n",
              "      display:flex;\n",
              "      gap: 12px;\n",
              "    }\n",
              "\n",
              "    .colab-df-convert {\n",
              "      background-color: #E8F0FE;\n",
              "      border: none;\n",
              "      border-radius: 50%;\n",
              "      cursor: pointer;\n",
              "      display: none;\n",
              "      fill: #1967D2;\n",
              "      height: 32px;\n",
              "      padding: 0 0 0 0;\n",
              "      width: 32px;\n",
              "    }\n",
              "\n",
              "    .colab-df-convert:hover {\n",
              "      background-color: #E2EBFA;\n",
              "      box-shadow: 0px 1px 2px rgba(60, 64, 67, 0.3), 0px 1px 3px 1px rgba(60, 64, 67, 0.15);\n",
              "      fill: #174EA6;\n",
              "    }\n",
              "\n",
              "    .colab-df-buttons div {\n",
              "      margin-bottom: 4px;\n",
              "    }\n",
              "\n",
              "    [theme=dark] .colab-df-convert {\n",
              "      background-color: #3B4455;\n",
              "      fill: #D2E3FC;\n",
              "    }\n",
              "\n",
              "    [theme=dark] .colab-df-convert:hover {\n",
              "      background-color: #434B5C;\n",
              "      box-shadow: 0px 1px 3px 1px rgba(0, 0, 0, 0.15);\n",
              "      filter: drop-shadow(0px 1px 2px rgba(0, 0, 0, 0.3));\n",
              "      fill: #FFFFFF;\n",
              "    }\n",
              "  </style>\n",
              "\n",
              "    <script>\n",
              "      const buttonEl =\n",
              "        document.querySelector('#df-6ede5dd8-ee94-48ac-b261-63ea0eb8a586 button.colab-df-convert');\n",
              "      buttonEl.style.display =\n",
              "        google.colab.kernel.accessAllowed ? 'block' : 'none';\n",
              "\n",
              "      async function convertToInteractive(key) {\n",
              "        const element = document.querySelector('#df-6ede5dd8-ee94-48ac-b261-63ea0eb8a586');\n",
              "        const dataTable =\n",
              "          await google.colab.kernel.invokeFunction('convertToInteractive',\n",
              "                                                    [key], {});\n",
              "        if (!dataTable) return;\n",
              "\n",
              "        const docLinkHtml = 'Like what you see? Visit the ' +\n",
              "          '<a target=\"_blank\" href=https://colab.research.google.com/notebooks/data_table.ipynb>data table notebook</a>'\n",
              "          + ' to learn more about interactive tables.';\n",
              "        element.innerHTML = '';\n",
              "        dataTable['output_type'] = 'display_data';\n",
              "        await google.colab.output.renderOutput(dataTable, element);\n",
              "        const docLink = document.createElement('div');\n",
              "        docLink.innerHTML = docLinkHtml;\n",
              "        element.appendChild(docLink);\n",
              "      }\n",
              "    </script>\n",
              "  </div>\n",
              "\n",
              "\n",
              "<div id=\"df-ff63dcfa-743b-4f11-9eb8-40ab74b9f492\">\n",
              "  <button class=\"colab-df-quickchart\" onclick=\"quickchart('df-ff63dcfa-743b-4f11-9eb8-40ab74b9f492')\"\n",
              "            title=\"Suggest charts\"\n",
              "            style=\"display:none;\">\n",
              "\n",
              "<svg xmlns=\"http://www.w3.org/2000/svg\" height=\"24px\"viewBox=\"0 0 24 24\"\n",
              "     width=\"24px\">\n",
              "    <g>\n",
              "        <path d=\"M19 3H5c-1.1 0-2 .9-2 2v14c0 1.1.9 2 2 2h14c1.1 0 2-.9 2-2V5c0-1.1-.9-2-2-2zM9 17H7v-7h2v7zm4 0h-2V7h2v10zm4 0h-2v-4h2v4z\"/>\n",
              "    </g>\n",
              "</svg>\n",
              "  </button>\n",
              "\n",
              "<style>\n",
              "  .colab-df-quickchart {\n",
              "      --bg-color: #E8F0FE;\n",
              "      --fill-color: #1967D2;\n",
              "      --hover-bg-color: #E2EBFA;\n",
              "      --hover-fill-color: #174EA6;\n",
              "      --disabled-fill-color: #AAA;\n",
              "      --disabled-bg-color: #DDD;\n",
              "  }\n",
              "\n",
              "  [theme=dark] .colab-df-quickchart {\n",
              "      --bg-color: #3B4455;\n",
              "      --fill-color: #D2E3FC;\n",
              "      --hover-bg-color: #434B5C;\n",
              "      --hover-fill-color: #FFFFFF;\n",
              "      --disabled-bg-color: #3B4455;\n",
              "      --disabled-fill-color: #666;\n",
              "  }\n",
              "\n",
              "  .colab-df-quickchart {\n",
              "    background-color: var(--bg-color);\n",
              "    border: none;\n",
              "    border-radius: 50%;\n",
              "    cursor: pointer;\n",
              "    display: none;\n",
              "    fill: var(--fill-color);\n",
              "    height: 32px;\n",
              "    padding: 0;\n",
              "    width: 32px;\n",
              "  }\n",
              "\n",
              "  .colab-df-quickchart:hover {\n",
              "    background-color: var(--hover-bg-color);\n",
              "    box-shadow: 0 1px 2px rgba(60, 64, 67, 0.3), 0 1px 3px 1px rgba(60, 64, 67, 0.15);\n",
              "    fill: var(--button-hover-fill-color);\n",
              "  }\n",
              "\n",
              "  .colab-df-quickchart-complete:disabled,\n",
              "  .colab-df-quickchart-complete:disabled:hover {\n",
              "    background-color: var(--disabled-bg-color);\n",
              "    fill: var(--disabled-fill-color);\n",
              "    box-shadow: none;\n",
              "  }\n",
              "\n",
              "  .colab-df-spinner {\n",
              "    border: 2px solid var(--fill-color);\n",
              "    border-color: transparent;\n",
              "    border-bottom-color: var(--fill-color);\n",
              "    animation:\n",
              "      spin 1s steps(1) infinite;\n",
              "  }\n",
              "\n",
              "  @keyframes spin {\n",
              "    0% {\n",
              "      border-color: transparent;\n",
              "      border-bottom-color: var(--fill-color);\n",
              "      border-left-color: var(--fill-color);\n",
              "    }\n",
              "    20% {\n",
              "      border-color: transparent;\n",
              "      border-left-color: var(--fill-color);\n",
              "      border-top-color: var(--fill-color);\n",
              "    }\n",
              "    30% {\n",
              "      border-color: transparent;\n",
              "      border-left-color: var(--fill-color);\n",
              "      border-top-color: var(--fill-color);\n",
              "      border-right-color: var(--fill-color);\n",
              "    }\n",
              "    40% {\n",
              "      border-color: transparent;\n",
              "      border-right-color: var(--fill-color);\n",
              "      border-top-color: var(--fill-color);\n",
              "    }\n",
              "    60% {\n",
              "      border-color: transparent;\n",
              "      border-right-color: var(--fill-color);\n",
              "    }\n",
              "    80% {\n",
              "      border-color: transparent;\n",
              "      border-right-color: var(--fill-color);\n",
              "      border-bottom-color: var(--fill-color);\n",
              "    }\n",
              "    90% {\n",
              "      border-color: transparent;\n",
              "      border-bottom-color: var(--fill-color);\n",
              "    }\n",
              "  }\n",
              "</style>\n",
              "\n",
              "  <script>\n",
              "    async function quickchart(key) {\n",
              "      const quickchartButtonEl =\n",
              "        document.querySelector('#' + key + ' button');\n",
              "      quickchartButtonEl.disabled = true;  // To prevent multiple clicks.\n",
              "      quickchartButtonEl.classList.add('colab-df-spinner');\n",
              "      try {\n",
              "        const charts = await google.colab.kernel.invokeFunction(\n",
              "            'suggestCharts', [key], {});\n",
              "      } catch (error) {\n",
              "        console.error('Error during call to suggestCharts:', error);\n",
              "      }\n",
              "      quickchartButtonEl.classList.remove('colab-df-spinner');\n",
              "      quickchartButtonEl.classList.add('colab-df-quickchart-complete');\n",
              "    }\n",
              "    (() => {\n",
              "      let quickchartButtonEl =\n",
              "        document.querySelector('#df-ff63dcfa-743b-4f11-9eb8-40ab74b9f492 button');\n",
              "      quickchartButtonEl.style.display =\n",
              "        google.colab.kernel.accessAllowed ? 'block' : 'none';\n",
              "    })();\n",
              "  </script>\n",
              "</div>\n",
              "\n",
              "    </div>\n",
              "  </div>\n"
            ],
            "application/vnd.google.colaboratory.intrinsic+json": {
              "type": "dataframe",
              "summary": "{\n  \"name\": \"pd\",\n  \"rows\": 2,\n  \"fields\": [\n    {\n      \"column\": \"a\",\n      \"properties\": {\n        \"dtype\": \"number\",\n        \"std\": 3,\n        \"min\": 5,\n        \"max\": 10,\n        \"num_unique_values\": 2,\n        \"samples\": [\n          5,\n          10\n        ],\n        \"semantic_type\": \"\",\n        \"description\": \"\"\n      }\n    },\n    {\n      \"column\": \"b\",\n      \"properties\": {\n        \"dtype\": \"number\",\n        \"std\": 7,\n        \"min\": 10,\n        \"max\": 20,\n        \"num_unique_values\": 2,\n        \"samples\": [\n          10,\n          20\n        ],\n        \"semantic_type\": \"\",\n        \"description\": \"\"\n      }\n    },\n    {\n      \"column\": \"c\",\n      \"properties\": {\n        \"dtype\": \"number\",\n        \"std\": 7,\n        \"min\": 20,\n        \"max\": 30,\n        \"num_unique_values\": 2,\n        \"samples\": [\n          20,\n          30\n        ],\n        \"semantic_type\": \"\",\n        \"description\": \"\"\n      }\n    }\n  ]\n}"
            }
          },
          "metadata": {},
          "execution_count": 121
        }
      ],
      "source": [
        "data = [{'a':10,\"b\":20,\"c\":30},{'a':5,'b':10,'c':20}]\n",
        "pd.DataFrame(data)"
      ]
    },
    {
      "cell_type": "markdown",
      "metadata": {
        "id": "VrGbOC0eyOl_"
      },
      "source": [
        "## 11.4 Dataframe creation from a dict of tuples"
      ]
    },
    {
      "cell_type": "markdown",
      "metadata": {
        "id": "U2cukZnYyOl_"
      },
      "source": [
        " - You can automatically create a multi indexed by passing a tuple dictionary."
      ]
    },
    {
      "cell_type": "code",
      "execution_count": 122,
      "metadata": {
        "id": "WD98AEpOyOl_",
        "outputId": "ffa578fc-dad9-4e86-c48c-77736592ad93",
        "colab": {
          "base_uri": "https://localhost:8080/",
          "height": 143
        }
      },
      "outputs": [
        {
          "output_type": "execute_result",
          "data": {
            "text/plain": [
              "  Initial Sex  Age\n",
              "0       C   M   49\n",
              "1       A   F   39\n",
              "2       M   F   19"
            ],
            "text/html": [
              "\n",
              "  <div id=\"df-0b913472-45a9-4ffe-933c-6924cdf639cf\" class=\"colab-df-container\">\n",
              "    <div>\n",
              "<style scoped>\n",
              "    .dataframe tbody tr th:only-of-type {\n",
              "        vertical-align: middle;\n",
              "    }\n",
              "\n",
              "    .dataframe tbody tr th {\n",
              "        vertical-align: top;\n",
              "    }\n",
              "\n",
              "    .dataframe thead th {\n",
              "        text-align: right;\n",
              "    }\n",
              "</style>\n",
              "<table border=\"1\" class=\"dataframe\">\n",
              "  <thead>\n",
              "    <tr style=\"text-align: right;\">\n",
              "      <th></th>\n",
              "      <th>Initial</th>\n",
              "      <th>Sex</th>\n",
              "      <th>Age</th>\n",
              "    </tr>\n",
              "  </thead>\n",
              "  <tbody>\n",
              "    <tr>\n",
              "      <th>0</th>\n",
              "      <td>C</td>\n",
              "      <td>M</td>\n",
              "      <td>49</td>\n",
              "    </tr>\n",
              "    <tr>\n",
              "      <th>1</th>\n",
              "      <td>A</td>\n",
              "      <td>F</td>\n",
              "      <td>39</td>\n",
              "    </tr>\n",
              "    <tr>\n",
              "      <th>2</th>\n",
              "      <td>M</td>\n",
              "      <td>F</td>\n",
              "      <td>19</td>\n",
              "    </tr>\n",
              "  </tbody>\n",
              "</table>\n",
              "</div>\n",
              "    <div class=\"colab-df-buttons\">\n",
              "\n",
              "  <div class=\"colab-df-container\">\n",
              "    <button class=\"colab-df-convert\" onclick=\"convertToInteractive('df-0b913472-45a9-4ffe-933c-6924cdf639cf')\"\n",
              "            title=\"Convert this dataframe to an interactive table.\"\n",
              "            style=\"display:none;\">\n",
              "\n",
              "  <svg xmlns=\"http://www.w3.org/2000/svg\" height=\"24px\" viewBox=\"0 -960 960 960\">\n",
              "    <path d=\"M120-120v-720h720v720H120Zm60-500h600v-160H180v160Zm220 220h160v-160H400v160Zm0 220h160v-160H400v160ZM180-400h160v-160H180v160Zm440 0h160v-160H620v160ZM180-180h160v-160H180v160Zm440 0h160v-160H620v160Z\"/>\n",
              "  </svg>\n",
              "    </button>\n",
              "\n",
              "  <style>\n",
              "    .colab-df-container {\n",
              "      display:flex;\n",
              "      gap: 12px;\n",
              "    }\n",
              "\n",
              "    .colab-df-convert {\n",
              "      background-color: #E8F0FE;\n",
              "      border: none;\n",
              "      border-radius: 50%;\n",
              "      cursor: pointer;\n",
              "      display: none;\n",
              "      fill: #1967D2;\n",
              "      height: 32px;\n",
              "      padding: 0 0 0 0;\n",
              "      width: 32px;\n",
              "    }\n",
              "\n",
              "    .colab-df-convert:hover {\n",
              "      background-color: #E2EBFA;\n",
              "      box-shadow: 0px 1px 2px rgba(60, 64, 67, 0.3), 0px 1px 3px 1px rgba(60, 64, 67, 0.15);\n",
              "      fill: #174EA6;\n",
              "    }\n",
              "\n",
              "    .colab-df-buttons div {\n",
              "      margin-bottom: 4px;\n",
              "    }\n",
              "\n",
              "    [theme=dark] .colab-df-convert {\n",
              "      background-color: #3B4455;\n",
              "      fill: #D2E3FC;\n",
              "    }\n",
              "\n",
              "    [theme=dark] .colab-df-convert:hover {\n",
              "      background-color: #434B5C;\n",
              "      box-shadow: 0px 1px 3px 1px rgba(0, 0, 0, 0.15);\n",
              "      filter: drop-shadow(0px 1px 2px rgba(0, 0, 0, 0.3));\n",
              "      fill: #FFFFFF;\n",
              "    }\n",
              "  </style>\n",
              "\n",
              "    <script>\n",
              "      const buttonEl =\n",
              "        document.querySelector('#df-0b913472-45a9-4ffe-933c-6924cdf639cf button.colab-df-convert');\n",
              "      buttonEl.style.display =\n",
              "        google.colab.kernel.accessAllowed ? 'block' : 'none';\n",
              "\n",
              "      async function convertToInteractive(key) {\n",
              "        const element = document.querySelector('#df-0b913472-45a9-4ffe-933c-6924cdf639cf');\n",
              "        const dataTable =\n",
              "          await google.colab.kernel.invokeFunction('convertToInteractive',\n",
              "                                                    [key], {});\n",
              "        if (!dataTable) return;\n",
              "\n",
              "        const docLinkHtml = 'Like what you see? Visit the ' +\n",
              "          '<a target=\"_blank\" href=https://colab.research.google.com/notebooks/data_table.ipynb>data table notebook</a>'\n",
              "          + ' to learn more about interactive tables.';\n",
              "        element.innerHTML = '';\n",
              "        dataTable['output_type'] = 'display_data';\n",
              "        await google.colab.output.renderOutput(dataTable, element);\n",
              "        const docLink = document.createElement('div');\n",
              "        docLink.innerHTML = docLinkHtml;\n",
              "        element.appendChild(docLink);\n",
              "      }\n",
              "    </script>\n",
              "  </div>\n",
              "\n",
              "\n",
              "<div id=\"df-4bc4aaac-5333-4064-a8bb-08137641504f\">\n",
              "  <button class=\"colab-df-quickchart\" onclick=\"quickchart('df-4bc4aaac-5333-4064-a8bb-08137641504f')\"\n",
              "            title=\"Suggest charts\"\n",
              "            style=\"display:none;\">\n",
              "\n",
              "<svg xmlns=\"http://www.w3.org/2000/svg\" height=\"24px\"viewBox=\"0 0 24 24\"\n",
              "     width=\"24px\">\n",
              "    <g>\n",
              "        <path d=\"M19 3H5c-1.1 0-2 .9-2 2v14c0 1.1.9 2 2 2h14c1.1 0 2-.9 2-2V5c0-1.1-.9-2-2-2zM9 17H7v-7h2v7zm4 0h-2V7h2v10zm4 0h-2v-4h2v4z\"/>\n",
              "    </g>\n",
              "</svg>\n",
              "  </button>\n",
              "\n",
              "<style>\n",
              "  .colab-df-quickchart {\n",
              "      --bg-color: #E8F0FE;\n",
              "      --fill-color: #1967D2;\n",
              "      --hover-bg-color: #E2EBFA;\n",
              "      --hover-fill-color: #174EA6;\n",
              "      --disabled-fill-color: #AAA;\n",
              "      --disabled-bg-color: #DDD;\n",
              "  }\n",
              "\n",
              "  [theme=dark] .colab-df-quickchart {\n",
              "      --bg-color: #3B4455;\n",
              "      --fill-color: #D2E3FC;\n",
              "      --hover-bg-color: #434B5C;\n",
              "      --hover-fill-color: #FFFFFF;\n",
              "      --disabled-bg-color: #3B4455;\n",
              "      --disabled-fill-color: #666;\n",
              "  }\n",
              "\n",
              "  .colab-df-quickchart {\n",
              "    background-color: var(--bg-color);\n",
              "    border: none;\n",
              "    border-radius: 50%;\n",
              "    cursor: pointer;\n",
              "    display: none;\n",
              "    fill: var(--fill-color);\n",
              "    height: 32px;\n",
              "    padding: 0;\n",
              "    width: 32px;\n",
              "  }\n",
              "\n",
              "  .colab-df-quickchart:hover {\n",
              "    background-color: var(--hover-bg-color);\n",
              "    box-shadow: 0 1px 2px rgba(60, 64, 67, 0.3), 0 1px 3px 1px rgba(60, 64, 67, 0.15);\n",
              "    fill: var(--button-hover-fill-color);\n",
              "  }\n",
              "\n",
              "  .colab-df-quickchart-complete:disabled,\n",
              "  .colab-df-quickchart-complete:disabled:hover {\n",
              "    background-color: var(--disabled-bg-color);\n",
              "    fill: var(--disabled-fill-color);\n",
              "    box-shadow: none;\n",
              "  }\n",
              "\n",
              "  .colab-df-spinner {\n",
              "    border: 2px solid var(--fill-color);\n",
              "    border-color: transparent;\n",
              "    border-bottom-color: var(--fill-color);\n",
              "    animation:\n",
              "      spin 1s steps(1) infinite;\n",
              "  }\n",
              "\n",
              "  @keyframes spin {\n",
              "    0% {\n",
              "      border-color: transparent;\n",
              "      border-bottom-color: var(--fill-color);\n",
              "      border-left-color: var(--fill-color);\n",
              "    }\n",
              "    20% {\n",
              "      border-color: transparent;\n",
              "      border-left-color: var(--fill-color);\n",
              "      border-top-color: var(--fill-color);\n",
              "    }\n",
              "    30% {\n",
              "      border-color: transparent;\n",
              "      border-left-color: var(--fill-color);\n",
              "      border-top-color: var(--fill-color);\n",
              "      border-right-color: var(--fill-color);\n",
              "    }\n",
              "    40% {\n",
              "      border-color: transparent;\n",
              "      border-right-color: var(--fill-color);\n",
              "      border-top-color: var(--fill-color);\n",
              "    }\n",
              "    60% {\n",
              "      border-color: transparent;\n",
              "      border-right-color: var(--fill-color);\n",
              "    }\n",
              "    80% {\n",
              "      border-color: transparent;\n",
              "      border-right-color: var(--fill-color);\n",
              "      border-bottom-color: var(--fill-color);\n",
              "    }\n",
              "    90% {\n",
              "      border-color: transparent;\n",
              "      border-bottom-color: var(--fill-color);\n",
              "    }\n",
              "  }\n",
              "</style>\n",
              "\n",
              "  <script>\n",
              "    async function quickchart(key) {\n",
              "      const quickchartButtonEl =\n",
              "        document.querySelector('#' + key + ' button');\n",
              "      quickchartButtonEl.disabled = true;  // To prevent multiple clicks.\n",
              "      quickchartButtonEl.classList.add('colab-df-spinner');\n",
              "      try {\n",
              "        const charts = await google.colab.kernel.invokeFunction(\n",
              "            'suggestCharts', [key], {});\n",
              "      } catch (error) {\n",
              "        console.error('Error during call to suggestCharts:', error);\n",
              "      }\n",
              "      quickchartButtonEl.classList.remove('colab-df-spinner');\n",
              "      quickchartButtonEl.classList.add('colab-df-quickchart-complete');\n",
              "    }\n",
              "    (() => {\n",
              "      let quickchartButtonEl =\n",
              "        document.querySelector('#df-4bc4aaac-5333-4064-a8bb-08137641504f button');\n",
              "      quickchartButtonEl.style.display =\n",
              "        google.colab.kernel.accessAllowed ? 'block' : 'none';\n",
              "    })();\n",
              "  </script>\n",
              "</div>\n",
              "\n",
              "  <div id=\"id_1053102e-8fa3-4314-9446-fc46485ac1d7\">\n",
              "    <style>\n",
              "      .colab-df-generate {\n",
              "        background-color: #E8F0FE;\n",
              "        border: none;\n",
              "        border-radius: 50%;\n",
              "        cursor: pointer;\n",
              "        display: none;\n",
              "        fill: #1967D2;\n",
              "        height: 32px;\n",
              "        padding: 0 0 0 0;\n",
              "        width: 32px;\n",
              "      }\n",
              "\n",
              "      .colab-df-generate:hover {\n",
              "        background-color: #E2EBFA;\n",
              "        box-shadow: 0px 1px 2px rgba(60, 64, 67, 0.3), 0px 1px 3px 1px rgba(60, 64, 67, 0.15);\n",
              "        fill: #174EA6;\n",
              "      }\n",
              "\n",
              "      [theme=dark] .colab-df-generate {\n",
              "        background-color: #3B4455;\n",
              "        fill: #D2E3FC;\n",
              "      }\n",
              "\n",
              "      [theme=dark] .colab-df-generate:hover {\n",
              "        background-color: #434B5C;\n",
              "        box-shadow: 0px 1px 3px 1px rgba(0, 0, 0, 0.15);\n",
              "        filter: drop-shadow(0px 1px 2px rgba(0, 0, 0, 0.3));\n",
              "        fill: #FFFFFF;\n",
              "      }\n",
              "    </style>\n",
              "    <button class=\"colab-df-generate\" onclick=\"generateWithVariable('df')\"\n",
              "            title=\"Generate code using this dataframe.\"\n",
              "            style=\"display:none;\">\n",
              "\n",
              "  <svg xmlns=\"http://www.w3.org/2000/svg\" height=\"24px\"viewBox=\"0 0 24 24\"\n",
              "       width=\"24px\">\n",
              "    <path d=\"M7,19H8.4L18.45,9,17,7.55,7,17.6ZM5,21V16.75L18.45,3.32a2,2,0,0,1,2.83,0l1.4,1.43a1.91,1.91,0,0,1,.58,1.4,1.91,1.91,0,0,1-.58,1.4L9.25,21ZM18.45,9,17,7.55Zm-12,3A5.31,5.31,0,0,0,4.9,8.1,5.31,5.31,0,0,0,1,6.5,5.31,5.31,0,0,0,4.9,4.9,5.31,5.31,0,0,0,6.5,1,5.31,5.31,0,0,0,8.1,4.9,5.31,5.31,0,0,0,12,6.5,5.46,5.46,0,0,0,6.5,12Z\"/>\n",
              "  </svg>\n",
              "    </button>\n",
              "    <script>\n",
              "      (() => {\n",
              "      const buttonEl =\n",
              "        document.querySelector('#id_1053102e-8fa3-4314-9446-fc46485ac1d7 button.colab-df-generate');\n",
              "      buttonEl.style.display =\n",
              "        google.colab.kernel.accessAllowed ? 'block' : 'none';\n",
              "\n",
              "      buttonEl.onclick = () => {\n",
              "        google.colab.notebook.generateWithVariable('df');\n",
              "      }\n",
              "      })();\n",
              "    </script>\n",
              "  </div>\n",
              "\n",
              "    </div>\n",
              "  </div>\n"
            ],
            "application/vnd.google.colaboratory.intrinsic+json": {
              "type": "dataframe",
              "variable_name": "df",
              "summary": "{\n  \"name\": \"df\",\n  \"rows\": 3,\n  \"fields\": [\n    {\n      \"column\": \"Initial\",\n      \"properties\": {\n        \"dtype\": \"string\",\n        \"num_unique_values\": 3,\n        \"samples\": [\n          \"C\",\n          \"A\",\n          \"M\"\n        ],\n        \"semantic_type\": \"\",\n        \"description\": \"\"\n      }\n    },\n    {\n      \"column\": \"Sex\",\n      \"properties\": {\n        \"dtype\": \"string\",\n        \"num_unique_values\": 2,\n        \"samples\": [\n          \"F\",\n          \"M\"\n        ],\n        \"semantic_type\": \"\",\n        \"description\": \"\"\n      }\n    },\n    {\n      \"column\": \"Age\",\n      \"properties\": {\n        \"dtype\": \"number\",\n        \"std\": 15,\n        \"min\": 19,\n        \"max\": 49,\n        \"num_unique_values\": 3,\n        \"samples\": [\n          49,\n          39\n        ],\n        \"semantic_type\": \"\",\n        \"description\": \"\"\n      }\n    }\n  ]\n}"
            }
          },
          "metadata": {},
          "execution_count": 122
        }
      ],
      "source": [
        "\n",
        "df = pd.DataFrame({'Initial': ['C','A','M'], 'Sex': ['M', 'F', 'F'], 'Age': [49, 39, 19]})\n",
        "df = df[['Initial', 'Sex', 'Age']]\n",
        "df"
      ]
    },
    {
      "cell_type": "code",
      "execution_count": null,
      "metadata": {
        "id": "Q2xIJhQeyOl_",
        "outputId": "9cb8fb17-3d1a-4b4e-e075-a07e8e657978"
      },
      "outputs": [
        {
          "data": {
            "text/html": [
              "<div>\n",
              "<style scoped>\n",
              "    .dataframe tbody tr th:only-of-type {\n",
              "        vertical-align: middle;\n",
              "    }\n",
              "\n",
              "    .dataframe tbody tr th {\n",
              "        vertical-align: top;\n",
              "    }\n",
              "\n",
              "    .dataframe thead th {\n",
              "        text-align: right;\n",
              "    }\n",
              "</style>\n",
              "<table border=\"1\" class=\"dataframe\">\n",
              "  <thead>\n",
              "    <tr style=\"text-align: right;\">\n",
              "      <th></th>\n",
              "      <th>0</th>\n",
              "      <th>1</th>\n",
              "      <th>2</th>\n",
              "      <th>3</th>\n",
              "    </tr>\n",
              "  </thead>\n",
              "  <tbody>\n",
              "    <tr>\n",
              "      <th>0</th>\n",
              "      <td>p1</td>\n",
              "      <td>t1</td>\n",
              "      <td>1</td>\n",
              "      <td>2</td>\n",
              "    </tr>\n",
              "    <tr>\n",
              "      <th>1</th>\n",
              "      <td>p1</td>\n",
              "      <td>t2</td>\n",
              "      <td>3</td>\n",
              "      <td>4</td>\n",
              "    </tr>\n",
              "    <tr>\n",
              "      <th>2</th>\n",
              "      <td>p2</td>\n",
              "      <td>t1</td>\n",
              "      <td>5</td>\n",
              "      <td>6</td>\n",
              "    </tr>\n",
              "    <tr>\n",
              "      <th>3</th>\n",
              "      <td>p2</td>\n",
              "      <td>t2</td>\n",
              "      <td>7</td>\n",
              "      <td>8</td>\n",
              "    </tr>\n",
              "    <tr>\n",
              "      <th>4</th>\n",
              "      <td>p2</td>\n",
              "      <td>t3</td>\n",
              "      <td>2</td>\n",
              "      <td>8</td>\n",
              "    </tr>\n",
              "  </tbody>\n",
              "</table>\n",
              "</div>"
            ],
            "text/plain": [
              "    0   1  2  3\n",
              "0  p1  t1  1  2\n",
              "1  p1  t2  3  4\n",
              "2  p2  t1  5  6\n",
              "3  p2  t2  7  8\n",
              "4  p2  t3  2  8"
            ]
          },
          "execution_count": 26,
          "metadata": {},
          "output_type": "execute_result"
        }
      ],
      "source": [
        "data = [('p1', 't1', 1, 2),('p1', 't2', 3, 4),('p2', 't1', 5, 6),('p2', 't2', 7, 8),('p2', 't3', 2, 8)]\n",
        "\n",
        "df = pd.DataFrame(data)\n",
        "df"
      ]
    },
    {
      "cell_type": "markdown",
      "metadata": {
        "id": "COgV8LakyOmA"
      },
      "source": [
        "## 11.5 Alternate constructors"
      ]
    },
    {
      "cell_type": "markdown",
      "metadata": {
        "id": "CkubtOVuyOmA"
      },
      "source": [
        "### Dataframe.from_dict"
      ]
    },
    {
      "cell_type": "markdown",
      "metadata": {
        "id": "AL5jdDp5yOmA"
      },
      "source": [
        " - Dataframe.from_dict takes a dict of dictsor a dict of array like sequences and returns a Dataframe.\n",
        " - It operates like the dataframe constructor except for the orient parameter which is coulmn by default,but which can be set to index in order to use the dict keys as row labels."
      ]
    },
    {
      "cell_type": "code",
      "execution_count": 124,
      "metadata": {
        "id": "DVFbuvKTyOmA",
        "outputId": "95ac23d0-3aac-4e03-a541-745c2a2f47ae",
        "colab": {
          "base_uri": "https://localhost:8080/",
          "height": 143
        }
      },
      "outputs": [
        {
          "output_type": "execute_result",
          "data": {
            "text/plain": [
              "   a  b  c  d  e  f  g  h  i\n",
              "X  1  2  3  4  0  0  0  0  0\n",
              "Y  0  0  0  4  5  6  7  0  0\n",
              "Z  0  0  0  0  0  0  7  8  9"
            ],
            "text/html": [
              "\n",
              "  <div id=\"df-3fc96d01-c481-42b5-be9f-2327d6c8d338\" class=\"colab-df-container\">\n",
              "    <div>\n",
              "<style scoped>\n",
              "    .dataframe tbody tr th:only-of-type {\n",
              "        vertical-align: middle;\n",
              "    }\n",
              "\n",
              "    .dataframe tbody tr th {\n",
              "        vertical-align: top;\n",
              "    }\n",
              "\n",
              "    .dataframe thead th {\n",
              "        text-align: right;\n",
              "    }\n",
              "</style>\n",
              "<table border=\"1\" class=\"dataframe\">\n",
              "  <thead>\n",
              "    <tr style=\"text-align: right;\">\n",
              "      <th></th>\n",
              "      <th>a</th>\n",
              "      <th>b</th>\n",
              "      <th>c</th>\n",
              "      <th>d</th>\n",
              "      <th>e</th>\n",
              "      <th>f</th>\n",
              "      <th>g</th>\n",
              "      <th>h</th>\n",
              "      <th>i</th>\n",
              "    </tr>\n",
              "  </thead>\n",
              "  <tbody>\n",
              "    <tr>\n",
              "      <th>X</th>\n",
              "      <td>1</td>\n",
              "      <td>2</td>\n",
              "      <td>3</td>\n",
              "      <td>4</td>\n",
              "      <td>0</td>\n",
              "      <td>0</td>\n",
              "      <td>0</td>\n",
              "      <td>0</td>\n",
              "      <td>0</td>\n",
              "    </tr>\n",
              "    <tr>\n",
              "      <th>Y</th>\n",
              "      <td>0</td>\n",
              "      <td>0</td>\n",
              "      <td>0</td>\n",
              "      <td>4</td>\n",
              "      <td>5</td>\n",
              "      <td>6</td>\n",
              "      <td>7</td>\n",
              "      <td>0</td>\n",
              "      <td>0</td>\n",
              "    </tr>\n",
              "    <tr>\n",
              "      <th>Z</th>\n",
              "      <td>0</td>\n",
              "      <td>0</td>\n",
              "      <td>0</td>\n",
              "      <td>0</td>\n",
              "      <td>0</td>\n",
              "      <td>0</td>\n",
              "      <td>7</td>\n",
              "      <td>8</td>\n",
              "      <td>9</td>\n",
              "    </tr>\n",
              "  </tbody>\n",
              "</table>\n",
              "</div>\n",
              "    <div class=\"colab-df-buttons\">\n",
              "\n",
              "  <div class=\"colab-df-container\">\n",
              "    <button class=\"colab-df-convert\" onclick=\"convertToInteractive('df-3fc96d01-c481-42b5-be9f-2327d6c8d338')\"\n",
              "            title=\"Convert this dataframe to an interactive table.\"\n",
              "            style=\"display:none;\">\n",
              "\n",
              "  <svg xmlns=\"http://www.w3.org/2000/svg\" height=\"24px\" viewBox=\"0 -960 960 960\">\n",
              "    <path d=\"M120-120v-720h720v720H120Zm60-500h600v-160H180v160Zm220 220h160v-160H400v160Zm0 220h160v-160H400v160ZM180-400h160v-160H180v160Zm440 0h160v-160H620v160ZM180-180h160v-160H180v160Zm440 0h160v-160H620v160Z\"/>\n",
              "  </svg>\n",
              "    </button>\n",
              "\n",
              "  <style>\n",
              "    .colab-df-container {\n",
              "      display:flex;\n",
              "      gap: 12px;\n",
              "    }\n",
              "\n",
              "    .colab-df-convert {\n",
              "      background-color: #E8F0FE;\n",
              "      border: none;\n",
              "      border-radius: 50%;\n",
              "      cursor: pointer;\n",
              "      display: none;\n",
              "      fill: #1967D2;\n",
              "      height: 32px;\n",
              "      padding: 0 0 0 0;\n",
              "      width: 32px;\n",
              "    }\n",
              "\n",
              "    .colab-df-convert:hover {\n",
              "      background-color: #E2EBFA;\n",
              "      box-shadow: 0px 1px 2px rgba(60, 64, 67, 0.3), 0px 1px 3px 1px rgba(60, 64, 67, 0.15);\n",
              "      fill: #174EA6;\n",
              "    }\n",
              "\n",
              "    .colab-df-buttons div {\n",
              "      margin-bottom: 4px;\n",
              "    }\n",
              "\n",
              "    [theme=dark] .colab-df-convert {\n",
              "      background-color: #3B4455;\n",
              "      fill: #D2E3FC;\n",
              "    }\n",
              "\n",
              "    [theme=dark] .colab-df-convert:hover {\n",
              "      background-color: #434B5C;\n",
              "      box-shadow: 0px 1px 3px 1px rgba(0, 0, 0, 0.15);\n",
              "      filter: drop-shadow(0px 1px 2px rgba(0, 0, 0, 0.3));\n",
              "      fill: #FFFFFF;\n",
              "    }\n",
              "  </style>\n",
              "\n",
              "    <script>\n",
              "      const buttonEl =\n",
              "        document.querySelector('#df-3fc96d01-c481-42b5-be9f-2327d6c8d338 button.colab-df-convert');\n",
              "      buttonEl.style.display =\n",
              "        google.colab.kernel.accessAllowed ? 'block' : 'none';\n",
              "\n",
              "      async function convertToInteractive(key) {\n",
              "        const element = document.querySelector('#df-3fc96d01-c481-42b5-be9f-2327d6c8d338');\n",
              "        const dataTable =\n",
              "          await google.colab.kernel.invokeFunction('convertToInteractive',\n",
              "                                                    [key], {});\n",
              "        if (!dataTable) return;\n",
              "\n",
              "        const docLinkHtml = 'Like what you see? Visit the ' +\n",
              "          '<a target=\"_blank\" href=https://colab.research.google.com/notebooks/data_table.ipynb>data table notebook</a>'\n",
              "          + ' to learn more about interactive tables.';\n",
              "        element.innerHTML = '';\n",
              "        dataTable['output_type'] = 'display_data';\n",
              "        await google.colab.output.renderOutput(dataTable, element);\n",
              "        const docLink = document.createElement('div');\n",
              "        docLink.innerHTML = docLinkHtml;\n",
              "        element.appendChild(docLink);\n",
              "      }\n",
              "    </script>\n",
              "  </div>\n",
              "\n",
              "\n",
              "<div id=\"df-2bae6a48-2e5b-405c-b07a-9c5f6c31e3de\">\n",
              "  <button class=\"colab-df-quickchart\" onclick=\"quickchart('df-2bae6a48-2e5b-405c-b07a-9c5f6c31e3de')\"\n",
              "            title=\"Suggest charts\"\n",
              "            style=\"display:none;\">\n",
              "\n",
              "<svg xmlns=\"http://www.w3.org/2000/svg\" height=\"24px\"viewBox=\"0 0 24 24\"\n",
              "     width=\"24px\">\n",
              "    <g>\n",
              "        <path d=\"M19 3H5c-1.1 0-2 .9-2 2v14c0 1.1.9 2 2 2h14c1.1 0 2-.9 2-2V5c0-1.1-.9-2-2-2zM9 17H7v-7h2v7zm4 0h-2V7h2v10zm4 0h-2v-4h2v4z\"/>\n",
              "    </g>\n",
              "</svg>\n",
              "  </button>\n",
              "\n",
              "<style>\n",
              "  .colab-df-quickchart {\n",
              "      --bg-color: #E8F0FE;\n",
              "      --fill-color: #1967D2;\n",
              "      --hover-bg-color: #E2EBFA;\n",
              "      --hover-fill-color: #174EA6;\n",
              "      --disabled-fill-color: #AAA;\n",
              "      --disabled-bg-color: #DDD;\n",
              "  }\n",
              "\n",
              "  [theme=dark] .colab-df-quickchart {\n",
              "      --bg-color: #3B4455;\n",
              "      --fill-color: #D2E3FC;\n",
              "      --hover-bg-color: #434B5C;\n",
              "      --hover-fill-color: #FFFFFF;\n",
              "      --disabled-bg-color: #3B4455;\n",
              "      --disabled-fill-color: #666;\n",
              "  }\n",
              "\n",
              "  .colab-df-quickchart {\n",
              "    background-color: var(--bg-color);\n",
              "    border: none;\n",
              "    border-radius: 50%;\n",
              "    cursor: pointer;\n",
              "    display: none;\n",
              "    fill: var(--fill-color);\n",
              "    height: 32px;\n",
              "    padding: 0;\n",
              "    width: 32px;\n",
              "  }\n",
              "\n",
              "  .colab-df-quickchart:hover {\n",
              "    background-color: var(--hover-bg-color);\n",
              "    box-shadow: 0 1px 2px rgba(60, 64, 67, 0.3), 0 1px 3px 1px rgba(60, 64, 67, 0.15);\n",
              "    fill: var(--button-hover-fill-color);\n",
              "  }\n",
              "\n",
              "  .colab-df-quickchart-complete:disabled,\n",
              "  .colab-df-quickchart-complete:disabled:hover {\n",
              "    background-color: var(--disabled-bg-color);\n",
              "    fill: var(--disabled-fill-color);\n",
              "    box-shadow: none;\n",
              "  }\n",
              "\n",
              "  .colab-df-spinner {\n",
              "    border: 2px solid var(--fill-color);\n",
              "    border-color: transparent;\n",
              "    border-bottom-color: var(--fill-color);\n",
              "    animation:\n",
              "      spin 1s steps(1) infinite;\n",
              "  }\n",
              "\n",
              "  @keyframes spin {\n",
              "    0% {\n",
              "      border-color: transparent;\n",
              "      border-bottom-color: var(--fill-color);\n",
              "      border-left-color: var(--fill-color);\n",
              "    }\n",
              "    20% {\n",
              "      border-color: transparent;\n",
              "      border-left-color: var(--fill-color);\n",
              "      border-top-color: var(--fill-color);\n",
              "    }\n",
              "    30% {\n",
              "      border-color: transparent;\n",
              "      border-left-color: var(--fill-color);\n",
              "      border-top-color: var(--fill-color);\n",
              "      border-right-color: var(--fill-color);\n",
              "    }\n",
              "    40% {\n",
              "      border-color: transparent;\n",
              "      border-right-color: var(--fill-color);\n",
              "      border-top-color: var(--fill-color);\n",
              "    }\n",
              "    60% {\n",
              "      border-color: transparent;\n",
              "      border-right-color: var(--fill-color);\n",
              "    }\n",
              "    80% {\n",
              "      border-color: transparent;\n",
              "      border-right-color: var(--fill-color);\n",
              "      border-bottom-color: var(--fill-color);\n",
              "    }\n",
              "    90% {\n",
              "      border-color: transparent;\n",
              "      border-bottom-color: var(--fill-color);\n",
              "    }\n",
              "  }\n",
              "</style>\n",
              "\n",
              "  <script>\n",
              "    async function quickchart(key) {\n",
              "      const quickchartButtonEl =\n",
              "        document.querySelector('#' + key + ' button');\n",
              "      quickchartButtonEl.disabled = true;  // To prevent multiple clicks.\n",
              "      quickchartButtonEl.classList.add('colab-df-spinner');\n",
              "      try {\n",
              "        const charts = await google.colab.kernel.invokeFunction(\n",
              "            'suggestCharts', [key], {});\n",
              "      } catch (error) {\n",
              "        console.error('Error during call to suggestCharts:', error);\n",
              "      }\n",
              "      quickchartButtonEl.classList.remove('colab-df-spinner');\n",
              "      quickchartButtonEl.classList.add('colab-df-quickchart-complete');\n",
              "    }\n",
              "    (() => {\n",
              "      let quickchartButtonEl =\n",
              "        document.querySelector('#df-2bae6a48-2e5b-405c-b07a-9c5f6c31e3de button');\n",
              "      quickchartButtonEl.style.display =\n",
              "        google.colab.kernel.accessAllowed ? 'block' : 'none';\n",
              "    })();\n",
              "  </script>\n",
              "</div>\n",
              "\n",
              "  <div id=\"id_75cf8f53-0c2c-4b62-81c1-0bdf695568b8\">\n",
              "    <style>\n",
              "      .colab-df-generate {\n",
              "        background-color: #E8F0FE;\n",
              "        border: none;\n",
              "        border-radius: 50%;\n",
              "        cursor: pointer;\n",
              "        display: none;\n",
              "        fill: #1967D2;\n",
              "        height: 32px;\n",
              "        padding: 0 0 0 0;\n",
              "        width: 32px;\n",
              "      }\n",
              "\n",
              "      .colab-df-generate:hover {\n",
              "        background-color: #E2EBFA;\n",
              "        box-shadow: 0px 1px 2px rgba(60, 64, 67, 0.3), 0px 1px 3px 1px rgba(60, 64, 67, 0.15);\n",
              "        fill: #174EA6;\n",
              "      }\n",
              "\n",
              "      [theme=dark] .colab-df-generate {\n",
              "        background-color: #3B4455;\n",
              "        fill: #D2E3FC;\n",
              "      }\n",
              "\n",
              "      [theme=dark] .colab-df-generate:hover {\n",
              "        background-color: #434B5C;\n",
              "        box-shadow: 0px 1px 3px 1px rgba(0, 0, 0, 0.15);\n",
              "        filter: drop-shadow(0px 1px 2px rgba(0, 0, 0, 0.3));\n",
              "        fill: #FFFFFF;\n",
              "      }\n",
              "    </style>\n",
              "    <button class=\"colab-df-generate\" onclick=\"generateWithVariable('df')\"\n",
              "            title=\"Generate code using this dataframe.\"\n",
              "            style=\"display:none;\">\n",
              "\n",
              "  <svg xmlns=\"http://www.w3.org/2000/svg\" height=\"24px\"viewBox=\"0 0 24 24\"\n",
              "       width=\"24px\">\n",
              "    <path d=\"M7,19H8.4L18.45,9,17,7.55,7,17.6ZM5,21V16.75L18.45,3.32a2,2,0,0,1,2.83,0l1.4,1.43a1.91,1.91,0,0,1,.58,1.4,1.91,1.91,0,0,1-.58,1.4L9.25,21ZM18.45,9,17,7.55Zm-12,3A5.31,5.31,0,0,0,4.9,8.1,5.31,5.31,0,0,0,1,6.5,5.31,5.31,0,0,0,4.9,4.9,5.31,5.31,0,0,0,6.5,1,5.31,5.31,0,0,0,8.1,4.9,5.31,5.31,0,0,0,12,6.5,5.46,5.46,0,0,0,6.5,12Z\"/>\n",
              "  </svg>\n",
              "    </button>\n",
              "    <script>\n",
              "      (() => {\n",
              "      const buttonEl =\n",
              "        document.querySelector('#id_75cf8f53-0c2c-4b62-81c1-0bdf695568b8 button.colab-df-generate');\n",
              "      buttonEl.style.display =\n",
              "        google.colab.kernel.accessAllowed ? 'block' : 'none';\n",
              "\n",
              "      buttonEl.onclick = () => {\n",
              "        google.colab.notebook.generateWithVariable('df');\n",
              "      }\n",
              "      })();\n",
              "    </script>\n",
              "  </div>\n",
              "\n",
              "    </div>\n",
              "  </div>\n"
            ],
            "application/vnd.google.colaboratory.intrinsic+json": {
              "type": "dataframe",
              "variable_name": "df",
              "summary": "{\n  \"name\": \"df\",\n  \"rows\": 3,\n  \"fields\": [\n    {\n      \"column\": \"a\",\n      \"properties\": {\n        \"dtype\": \"number\",\n        \"std\": 0,\n        \"min\": 0,\n        \"max\": 1,\n        \"num_unique_values\": 2,\n        \"samples\": [\n          0,\n          1\n        ],\n        \"semantic_type\": \"\",\n        \"description\": \"\"\n      }\n    },\n    {\n      \"column\": \"b\",\n      \"properties\": {\n        \"dtype\": \"number\",\n        \"std\": 1,\n        \"min\": 0,\n        \"max\": 2,\n        \"num_unique_values\": 2,\n        \"samples\": [\n          0,\n          2\n        ],\n        \"semantic_type\": \"\",\n        \"description\": \"\"\n      }\n    },\n    {\n      \"column\": \"c\",\n      \"properties\": {\n        \"dtype\": \"number\",\n        \"std\": 1,\n        \"min\": 0,\n        \"max\": 3,\n        \"num_unique_values\": 2,\n        \"samples\": [\n          0,\n          3\n        ],\n        \"semantic_type\": \"\",\n        \"description\": \"\"\n      }\n    },\n    {\n      \"column\": \"d\",\n      \"properties\": {\n        \"dtype\": \"number\",\n        \"std\": 2,\n        \"min\": 0,\n        \"max\": 4,\n        \"num_unique_values\": 2,\n        \"samples\": [\n          0,\n          4\n        ],\n        \"semantic_type\": \"\",\n        \"description\": \"\"\n      }\n    },\n    {\n      \"column\": \"e\",\n      \"properties\": {\n        \"dtype\": \"number\",\n        \"std\": 2,\n        \"min\": 0,\n        \"max\": 5,\n        \"num_unique_values\": 2,\n        \"samples\": [\n          5,\n          0\n        ],\n        \"semantic_type\": \"\",\n        \"description\": \"\"\n      }\n    },\n    {\n      \"column\": \"f\",\n      \"properties\": {\n        \"dtype\": \"number\",\n        \"std\": 3,\n        \"min\": 0,\n        \"max\": 6,\n        \"num_unique_values\": 2,\n        \"samples\": [\n          6,\n          0\n        ],\n        \"semantic_type\": \"\",\n        \"description\": \"\"\n      }\n    },\n    {\n      \"column\": \"g\",\n      \"properties\": {\n        \"dtype\": \"number\",\n        \"std\": 4,\n        \"min\": 0,\n        \"max\": 7,\n        \"num_unique_values\": 2,\n        \"samples\": [\n          7,\n          0\n        ],\n        \"semantic_type\": \"\",\n        \"description\": \"\"\n      }\n    },\n    {\n      \"column\": \"h\",\n      \"properties\": {\n        \"dtype\": \"number\",\n        \"std\": 4,\n        \"min\": 0,\n        \"max\": 8,\n        \"num_unique_values\": 2,\n        \"samples\": [\n          8,\n          0\n        ],\n        \"semantic_type\": \"\",\n        \"description\": \"\"\n      }\n    },\n    {\n      \"column\": \"i\",\n      \"properties\": {\n        \"dtype\": \"number\",\n        \"std\": 5,\n        \"min\": 0,\n        \"max\": 9,\n        \"num_unique_values\": 2,\n        \"samples\": [\n          9,\n          0\n        ],\n        \"semantic_type\": \"\",\n        \"description\": \"\"\n      }\n    }\n  ]\n}"
            }
          },
          "metadata": {},
          "execution_count": 124
        }
      ],
      "source": [
        "data = {\"X\": {'a': 1, 'b': 2, 'c': 3,'d': 4}, \"Y\": {'d': 4, 'e': 5, 'f': 6,'g': 7}, \"Z\": {'g': 7, 'h': 8, 'i': 9}}\n",
        "\n",
        "df = pd.DataFrame.from_dict(data, orient=\"index\").fillna(0).astype(int)\n",
        "df"
      ]
    },
    {
      "cell_type": "markdown",
      "metadata": {
        "id": "29O-e8MAyOmA"
      },
      "source": [
        "### Dataframe.from_records"
      ]
    },
    {
      "cell_type": "markdown",
      "metadata": {
        "id": "kuaLvfMeyOmA"
      },
      "source": [
        "- Dataframe.from_records take a list of tuples or an ndarray with structured dtype.\n",
        "- Works analogously to the normal dataframe constructor,except that index may be aspecific field of the structured dtype to use as the index.for example:"
      ]
    },
    {
      "cell_type": "code",
      "execution_count": null,
      "metadata": {
        "id": "eKq1iZcbyOmA",
        "outputId": "cb9f3f0c-2495-4399-b17a-929c8a332346"
      },
      "outputs": [
        {
          "data": {
            "text/html": [
              "<div>\n",
              "<style scoped>\n",
              "    .dataframe tbody tr th:only-of-type {\n",
              "        vertical-align: middle;\n",
              "    }\n",
              "\n",
              "    .dataframe tbody tr th {\n",
              "        vertical-align: top;\n",
              "    }\n",
              "\n",
              "    .dataframe thead th {\n",
              "        text-align: right;\n",
              "    }\n",
              "</style>\n",
              "<table border=\"1\" class=\"dataframe\">\n",
              "  <thead>\n",
              "    <tr style=\"text-align: right;\">\n",
              "      <th></th>\n",
              "      <th>account</th>\n",
              "      <th>Jan</th>\n",
              "      <th>Feb</th>\n",
              "      <th>Mar</th>\n",
              "    </tr>\n",
              "  </thead>\n",
              "  <tbody>\n",
              "    <tr>\n",
              "      <th>0</th>\n",
              "      <td>Jones LLC</td>\n",
              "      <td>150</td>\n",
              "      <td>200</td>\n",
              "      <td>50</td>\n",
              "    </tr>\n",
              "    <tr>\n",
              "      <th>1</th>\n",
              "      <td>Alpha Co</td>\n",
              "      <td>200</td>\n",
              "      <td>210</td>\n",
              "      <td>90</td>\n",
              "    </tr>\n",
              "    <tr>\n",
              "      <th>2</th>\n",
              "      <td>Blue Inc</td>\n",
              "      <td>140</td>\n",
              "      <td>215</td>\n",
              "      <td>95</td>\n",
              "    </tr>\n",
              "  </tbody>\n",
              "</table>\n",
              "</div>"
            ],
            "text/plain": [
              "     account  Jan  Feb  Mar\n",
              "0  Jones LLC  150  200   50\n",
              "1   Alpha Co  200  210   90\n",
              "2   Blue Inc  140  215   95"
            ]
          },
          "execution_count": 28,
          "metadata": {},
          "output_type": "execute_result"
        }
      ],
      "source": [
        "sales = [('Jones LLC', 150, 200, 50),\n",
        "     ('Alpha Co', 200, 210, 90),\n",
        "     ('Blue Inc', 140, 215, 95)]\n",
        "labels = ['account', 'Jan', 'Feb', 'Mar']\n",
        "df = pd.DataFrame.from_records(sales, columns=labels)\n",
        "df"
      ]
    },
    {
      "cell_type": "markdown",
      "metadata": {
        "id": "lR1PNWYxyOmA"
      },
      "source": [
        "### Dataframe.from_items"
      ]
    },
    {
      "cell_type": "markdown",
      "metadata": {
        "id": "2ms4-7WsyOmB"
      },
      "source": [
        "- Convert (key, value) pairs to DataFrame. The keys will be the axis index (usually the columns, but depends on the specified orientation). The values should be arrays or Series."
      ]
    },
    {
      "cell_type": "code",
      "execution_count": 128,
      "metadata": {
        "id": "jPhS9Q84yOmB",
        "outputId": "bd224fcb-1c0d-4d91-de75-4b5ecb3746f9",
        "colab": {
          "base_uri": "https://localhost:8080/",
          "height": 143
        }
      },
      "outputs": [
        {
          "output_type": "execute_result",
          "data": {
            "text/plain": [
              "   A  B\n",
              "0  1  4\n",
              "1  2  5\n",
              "2  3  6"
            ],
            "text/html": [
              "\n",
              "  <div id=\"df-be922fab-1676-4a77-b47e-87107e2f27de\" class=\"colab-df-container\">\n",
              "    <div>\n",
              "<style scoped>\n",
              "    .dataframe tbody tr th:only-of-type {\n",
              "        vertical-align: middle;\n",
              "    }\n",
              "\n",
              "    .dataframe tbody tr th {\n",
              "        vertical-align: top;\n",
              "    }\n",
              "\n",
              "    .dataframe thead th {\n",
              "        text-align: right;\n",
              "    }\n",
              "</style>\n",
              "<table border=\"1\" class=\"dataframe\">\n",
              "  <thead>\n",
              "    <tr style=\"text-align: right;\">\n",
              "      <th></th>\n",
              "      <th>A</th>\n",
              "      <th>B</th>\n",
              "    </tr>\n",
              "  </thead>\n",
              "  <tbody>\n",
              "    <tr>\n",
              "      <th>0</th>\n",
              "      <td>1</td>\n",
              "      <td>4</td>\n",
              "    </tr>\n",
              "    <tr>\n",
              "      <th>1</th>\n",
              "      <td>2</td>\n",
              "      <td>5</td>\n",
              "    </tr>\n",
              "    <tr>\n",
              "      <th>2</th>\n",
              "      <td>3</td>\n",
              "      <td>6</td>\n",
              "    </tr>\n",
              "  </tbody>\n",
              "</table>\n",
              "</div>\n",
              "    <div class=\"colab-df-buttons\">\n",
              "\n",
              "  <div class=\"colab-df-container\">\n",
              "    <button class=\"colab-df-convert\" onclick=\"convertToInteractive('df-be922fab-1676-4a77-b47e-87107e2f27de')\"\n",
              "            title=\"Convert this dataframe to an interactive table.\"\n",
              "            style=\"display:none;\">\n",
              "\n",
              "  <svg xmlns=\"http://www.w3.org/2000/svg\" height=\"24px\" viewBox=\"0 -960 960 960\">\n",
              "    <path d=\"M120-120v-720h720v720H120Zm60-500h600v-160H180v160Zm220 220h160v-160H400v160Zm0 220h160v-160H400v160ZM180-400h160v-160H180v160Zm440 0h160v-160H620v160ZM180-180h160v-160H180v160Zm440 0h160v-160H620v160Z\"/>\n",
              "  </svg>\n",
              "    </button>\n",
              "\n",
              "  <style>\n",
              "    .colab-df-container {\n",
              "      display:flex;\n",
              "      gap: 12px;\n",
              "    }\n",
              "\n",
              "    .colab-df-convert {\n",
              "      background-color: #E8F0FE;\n",
              "      border: none;\n",
              "      border-radius: 50%;\n",
              "      cursor: pointer;\n",
              "      display: none;\n",
              "      fill: #1967D2;\n",
              "      height: 32px;\n",
              "      padding: 0 0 0 0;\n",
              "      width: 32px;\n",
              "    }\n",
              "\n",
              "    .colab-df-convert:hover {\n",
              "      background-color: #E2EBFA;\n",
              "      box-shadow: 0px 1px 2px rgba(60, 64, 67, 0.3), 0px 1px 3px 1px rgba(60, 64, 67, 0.15);\n",
              "      fill: #174EA6;\n",
              "    }\n",
              "\n",
              "    .colab-df-buttons div {\n",
              "      margin-bottom: 4px;\n",
              "    }\n",
              "\n",
              "    [theme=dark] .colab-df-convert {\n",
              "      background-color: #3B4455;\n",
              "      fill: #D2E3FC;\n",
              "    }\n",
              "\n",
              "    [theme=dark] .colab-df-convert:hover {\n",
              "      background-color: #434B5C;\n",
              "      box-shadow: 0px 1px 3px 1px rgba(0, 0, 0, 0.15);\n",
              "      filter: drop-shadow(0px 1px 2px rgba(0, 0, 0, 0.3));\n",
              "      fill: #FFFFFF;\n",
              "    }\n",
              "  </style>\n",
              "\n",
              "    <script>\n",
              "      const buttonEl =\n",
              "        document.querySelector('#df-be922fab-1676-4a77-b47e-87107e2f27de button.colab-df-convert');\n",
              "      buttonEl.style.display =\n",
              "        google.colab.kernel.accessAllowed ? 'block' : 'none';\n",
              "\n",
              "      async function convertToInteractive(key) {\n",
              "        const element = document.querySelector('#df-be922fab-1676-4a77-b47e-87107e2f27de');\n",
              "        const dataTable =\n",
              "          await google.colab.kernel.invokeFunction('convertToInteractive',\n",
              "                                                    [key], {});\n",
              "        if (!dataTable) return;\n",
              "\n",
              "        const docLinkHtml = 'Like what you see? Visit the ' +\n",
              "          '<a target=\"_blank\" href=https://colab.research.google.com/notebooks/data_table.ipynb>data table notebook</a>'\n",
              "          + ' to learn more about interactive tables.';\n",
              "        element.innerHTML = '';\n",
              "        dataTable['output_type'] = 'display_data';\n",
              "        await google.colab.output.renderOutput(dataTable, element);\n",
              "        const docLink = document.createElement('div');\n",
              "        docLink.innerHTML = docLinkHtml;\n",
              "        element.appendChild(docLink);\n",
              "      }\n",
              "    </script>\n",
              "  </div>\n",
              "\n",
              "\n",
              "<div id=\"df-b69e4d97-4038-428e-844d-90a9c2769099\">\n",
              "  <button class=\"colab-df-quickchart\" onclick=\"quickchart('df-b69e4d97-4038-428e-844d-90a9c2769099')\"\n",
              "            title=\"Suggest charts\"\n",
              "            style=\"display:none;\">\n",
              "\n",
              "<svg xmlns=\"http://www.w3.org/2000/svg\" height=\"24px\"viewBox=\"0 0 24 24\"\n",
              "     width=\"24px\">\n",
              "    <g>\n",
              "        <path d=\"M19 3H5c-1.1 0-2 .9-2 2v14c0 1.1.9 2 2 2h14c1.1 0 2-.9 2-2V5c0-1.1-.9-2-2-2zM9 17H7v-7h2v7zm4 0h-2V7h2v10zm4 0h-2v-4h2v4z\"/>\n",
              "    </g>\n",
              "</svg>\n",
              "  </button>\n",
              "\n",
              "<style>\n",
              "  .colab-df-quickchart {\n",
              "      --bg-color: #E8F0FE;\n",
              "      --fill-color: #1967D2;\n",
              "      --hover-bg-color: #E2EBFA;\n",
              "      --hover-fill-color: #174EA6;\n",
              "      --disabled-fill-color: #AAA;\n",
              "      --disabled-bg-color: #DDD;\n",
              "  }\n",
              "\n",
              "  [theme=dark] .colab-df-quickchart {\n",
              "      --bg-color: #3B4455;\n",
              "      --fill-color: #D2E3FC;\n",
              "      --hover-bg-color: #434B5C;\n",
              "      --hover-fill-color: #FFFFFF;\n",
              "      --disabled-bg-color: #3B4455;\n",
              "      --disabled-fill-color: #666;\n",
              "  }\n",
              "\n",
              "  .colab-df-quickchart {\n",
              "    background-color: var(--bg-color);\n",
              "    border: none;\n",
              "    border-radius: 50%;\n",
              "    cursor: pointer;\n",
              "    display: none;\n",
              "    fill: var(--fill-color);\n",
              "    height: 32px;\n",
              "    padding: 0;\n",
              "    width: 32px;\n",
              "  }\n",
              "\n",
              "  .colab-df-quickchart:hover {\n",
              "    background-color: var(--hover-bg-color);\n",
              "    box-shadow: 0 1px 2px rgba(60, 64, 67, 0.3), 0 1px 3px 1px rgba(60, 64, 67, 0.15);\n",
              "    fill: var(--button-hover-fill-color);\n",
              "  }\n",
              "\n",
              "  .colab-df-quickchart-complete:disabled,\n",
              "  .colab-df-quickchart-complete:disabled:hover {\n",
              "    background-color: var(--disabled-bg-color);\n",
              "    fill: var(--disabled-fill-color);\n",
              "    box-shadow: none;\n",
              "  }\n",
              "\n",
              "  .colab-df-spinner {\n",
              "    border: 2px solid var(--fill-color);\n",
              "    border-color: transparent;\n",
              "    border-bottom-color: var(--fill-color);\n",
              "    animation:\n",
              "      spin 1s steps(1) infinite;\n",
              "  }\n",
              "\n",
              "  @keyframes spin {\n",
              "    0% {\n",
              "      border-color: transparent;\n",
              "      border-bottom-color: var(--fill-color);\n",
              "      border-left-color: var(--fill-color);\n",
              "    }\n",
              "    20% {\n",
              "      border-color: transparent;\n",
              "      border-left-color: var(--fill-color);\n",
              "      border-top-color: var(--fill-color);\n",
              "    }\n",
              "    30% {\n",
              "      border-color: transparent;\n",
              "      border-left-color: var(--fill-color);\n",
              "      border-top-color: var(--fill-color);\n",
              "      border-right-color: var(--fill-color);\n",
              "    }\n",
              "    40% {\n",
              "      border-color: transparent;\n",
              "      border-right-color: var(--fill-color);\n",
              "      border-top-color: var(--fill-color);\n",
              "    }\n",
              "    60% {\n",
              "      border-color: transparent;\n",
              "      border-right-color: var(--fill-color);\n",
              "    }\n",
              "    80% {\n",
              "      border-color: transparent;\n",
              "      border-right-color: var(--fill-color);\n",
              "      border-bottom-color: var(--fill-color);\n",
              "    }\n",
              "    90% {\n",
              "      border-color: transparent;\n",
              "      border-bottom-color: var(--fill-color);\n",
              "    }\n",
              "  }\n",
              "</style>\n",
              "\n",
              "  <script>\n",
              "    async function quickchart(key) {\n",
              "      const quickchartButtonEl =\n",
              "        document.querySelector('#' + key + ' button');\n",
              "      quickchartButtonEl.disabled = true;  // To prevent multiple clicks.\n",
              "      quickchartButtonEl.classList.add('colab-df-spinner');\n",
              "      try {\n",
              "        const charts = await google.colab.kernel.invokeFunction(\n",
              "            'suggestCharts', [key], {});\n",
              "      } catch (error) {\n",
              "        console.error('Error during call to suggestCharts:', error);\n",
              "      }\n",
              "      quickchartButtonEl.classList.remove('colab-df-spinner');\n",
              "      quickchartButtonEl.classList.add('colab-df-quickchart-complete');\n",
              "    }\n",
              "    (() => {\n",
              "      let quickchartButtonEl =\n",
              "        document.querySelector('#df-b69e4d97-4038-428e-844d-90a9c2769099 button');\n",
              "      quickchartButtonEl.style.display =\n",
              "        google.colab.kernel.accessAllowed ? 'block' : 'none';\n",
              "    })();\n",
              "  </script>\n",
              "</div>\n",
              "\n",
              "  <div id=\"id_9d128f08-72ee-4572-9702-33bf80e773ed\">\n",
              "    <style>\n",
              "      .colab-df-generate {\n",
              "        background-color: #E8F0FE;\n",
              "        border: none;\n",
              "        border-radius: 50%;\n",
              "        cursor: pointer;\n",
              "        display: none;\n",
              "        fill: #1967D2;\n",
              "        height: 32px;\n",
              "        padding: 0 0 0 0;\n",
              "        width: 32px;\n",
              "      }\n",
              "\n",
              "      .colab-df-generate:hover {\n",
              "        background-color: #E2EBFA;\n",
              "        box-shadow: 0px 1px 2px rgba(60, 64, 67, 0.3), 0px 1px 3px 1px rgba(60, 64, 67, 0.15);\n",
              "        fill: #174EA6;\n",
              "      }\n",
              "\n",
              "      [theme=dark] .colab-df-generate {\n",
              "        background-color: #3B4455;\n",
              "        fill: #D2E3FC;\n",
              "      }\n",
              "\n",
              "      [theme=dark] .colab-df-generate:hover {\n",
              "        background-color: #434B5C;\n",
              "        box-shadow: 0px 1px 3px 1px rgba(0, 0, 0, 0.15);\n",
              "        filter: drop-shadow(0px 1px 2px rgba(0, 0, 0, 0.3));\n",
              "        fill: #FFFFFF;\n",
              "      }\n",
              "    </style>\n",
              "    <button class=\"colab-df-generate\" onclick=\"generateWithVariable('df')\"\n",
              "            title=\"Generate code using this dataframe.\"\n",
              "            style=\"display:none;\">\n",
              "\n",
              "  <svg xmlns=\"http://www.w3.org/2000/svg\" height=\"24px\"viewBox=\"0 0 24 24\"\n",
              "       width=\"24px\">\n",
              "    <path d=\"M7,19H8.4L18.45,9,17,7.55,7,17.6ZM5,21V16.75L18.45,3.32a2,2,0,0,1,2.83,0l1.4,1.43a1.91,1.91,0,0,1,.58,1.4,1.91,1.91,0,0,1-.58,1.4L9.25,21ZM18.45,9,17,7.55Zm-12,3A5.31,5.31,0,0,0,4.9,8.1,5.31,5.31,0,0,0,1,6.5,5.31,5.31,0,0,0,4.9,4.9,5.31,5.31,0,0,0,6.5,1,5.31,5.31,0,0,0,8.1,4.9,5.31,5.31,0,0,0,12,6.5,5.46,5.46,0,0,0,6.5,12Z\"/>\n",
              "  </svg>\n",
              "    </button>\n",
              "    <script>\n",
              "      (() => {\n",
              "      const buttonEl =\n",
              "        document.querySelector('#id_9d128f08-72ee-4572-9702-33bf80e773ed button.colab-df-generate');\n",
              "      buttonEl.style.display =\n",
              "        google.colab.kernel.accessAllowed ? 'block' : 'none';\n",
              "\n",
              "      buttonEl.onclick = () => {\n",
              "        google.colab.notebook.generateWithVariable('df');\n",
              "      }\n",
              "      })();\n",
              "    </script>\n",
              "  </div>\n",
              "\n",
              "    </div>\n",
              "  </div>\n"
            ],
            "application/vnd.google.colaboratory.intrinsic+json": {
              "type": "dataframe",
              "variable_name": "df",
              "summary": "{\n  \"name\": \"df\",\n  \"rows\": 3,\n  \"fields\": [\n    {\n      \"column\": \"A\",\n      \"properties\": {\n        \"dtype\": \"number\",\n        \"std\": 1,\n        \"min\": 1,\n        \"max\": 3,\n        \"num_unique_values\": 3,\n        \"samples\": [\n          1,\n          2,\n          3\n        ],\n        \"semantic_type\": \"\",\n        \"description\": \"\"\n      }\n    },\n    {\n      \"column\": \"B\",\n      \"properties\": {\n        \"dtype\": \"number\",\n        \"std\": 1,\n        \"min\": 4,\n        \"max\": 6,\n        \"num_unique_values\": 3,\n        \"samples\": [\n          4,\n          5,\n          6\n        ],\n        \"semantic_type\": \"\",\n        \"description\": \"\"\n      }\n    }\n  ]\n}"
            }
          },
          "metadata": {},
          "execution_count": 128
        }
      ],
      "source": [
        "df = pd.DataFrame({'A': [1, 2, 3], 'B': [4, 5, 6]})\n",
        "df"
      ]
    },
    {
      "cell_type": "code",
      "execution_count": 129,
      "metadata": {
        "id": "5JxvAPgSyOmB",
        "outputId": "993977a1-38de-4538-8dfb-e8374aea5606",
        "colab": {
          "base_uri": "https://localhost:8080/",
          "height": 166
        }
      },
      "outputs": [
        {
          "output_type": "error",
          "ename": "AttributeError",
          "evalue": "type object 'DataFrame' has no attribute 'from_items'",
          "traceback": [
            "\u001b[0;31m---------------------------------------------------------------------------\u001b[0m",
            "\u001b[0;31mAttributeError\u001b[0m                            Traceback (most recent call last)",
            "\u001b[0;32m<ipython-input-129-467a0c9bbcda>\u001b[0m in \u001b[0;36m<cell line: 1>\u001b[0;34m()\u001b[0m\n\u001b[0;32m----> 1\u001b[0;31m \u001b[0mdf\u001b[0m\u001b[0;34m=\u001b[0m\u001b[0mpd\u001b[0m\u001b[0;34m.\u001b[0m\u001b[0mDataFrame\u001b[0m\u001b[0;34m.\u001b[0m\u001b[0mfrom_items\u001b[0m\u001b[0;34m(\u001b[0m\u001b[0;34m[\u001b[0m\u001b[0;34m(\u001b[0m\u001b[0;34m'A'\u001b[0m\u001b[0;34m,\u001b[0m\u001b[0;34m[\u001b[0m\u001b[0;36m1\u001b[0m\u001b[0;34m,\u001b[0m\u001b[0;36m2\u001b[0m\u001b[0;34m,\u001b[0m\u001b[0;36m3\u001b[0m\u001b[0;34m]\u001b[0m\u001b[0;34m)\u001b[0m\u001b[0;34m,\u001b[0m\u001b[0;34m(\u001b[0m\u001b[0;34m'B'\u001b[0m\u001b[0;34m,\u001b[0m\u001b[0;34m[\u001b[0m\u001b[0;36m4\u001b[0m\u001b[0;34m,\u001b[0m\u001b[0;36m5\u001b[0m\u001b[0;34m,\u001b[0m\u001b[0;36m6\u001b[0m\u001b[0;34m]\u001b[0m\u001b[0;34m)\u001b[0m\u001b[0;34m]\u001b[0m\u001b[0;34m)\u001b[0m\u001b[0;34m\u001b[0m\u001b[0;34m\u001b[0m\u001b[0m\n\u001b[0m\u001b[1;32m      2\u001b[0m \u001b[0mdf\u001b[0m\u001b[0;34m\u001b[0m\u001b[0;34m\u001b[0m\u001b[0m\n",
            "\u001b[0;31mAttributeError\u001b[0m: type object 'DataFrame' has no attribute 'from_items'"
          ]
        }
      ],
      "source": [
        "df=pd.DataFrame.from_items([('A',[1,2,3]),('B',[4,5,6])])\n",
        "df"
      ]
    },
    {
      "cell_type": "markdown",
      "metadata": {
        "id": "4kGxkCE9yOmB"
      },
      "source": [
        "## 11.6 Column selection,addition,deletion"
      ]
    },
    {
      "cell_type": "markdown",
      "metadata": {
        "id": "X34ojPsWyOmB"
      },
      "source": [
        " - You can treat a DataFrame semantically like a dict of like-indexed Series objects. Getting, setting, and deleting columns works with the same syntax as the analogous dict operations:"
      ]
    },
    {
      "cell_type": "code",
      "execution_count": 131,
      "metadata": {
        "id": "7nTCBksXyOmB",
        "outputId": "48de7efb-24bd-4e91-fce8-91820f339c20",
        "colab": {
          "base_uri": "https://localhost:8080/",
          "height": 143
        }
      },
      "outputs": [
        {
          "output_type": "execute_result",
          "data": {
            "text/plain": [
              "   a  a  c\n",
              "0  1  2  1\n",
              "1  3  4  1\n",
              "2  5  6  1"
            ],
            "text/html": [
              "\n",
              "  <div id=\"df-5e4e36cf-dbf3-4918-a46e-9f84e3caee0c\" class=\"colab-df-container\">\n",
              "    <div>\n",
              "<style scoped>\n",
              "    .dataframe tbody tr th:only-of-type {\n",
              "        vertical-align: middle;\n",
              "    }\n",
              "\n",
              "    .dataframe tbody tr th {\n",
              "        vertical-align: top;\n",
              "    }\n",
              "\n",
              "    .dataframe thead th {\n",
              "        text-align: right;\n",
              "    }\n",
              "</style>\n",
              "<table border=\"1\" class=\"dataframe\">\n",
              "  <thead>\n",
              "    <tr style=\"text-align: right;\">\n",
              "      <th></th>\n",
              "      <th>a</th>\n",
              "      <th>a</th>\n",
              "      <th>c</th>\n",
              "    </tr>\n",
              "  </thead>\n",
              "  <tbody>\n",
              "    <tr>\n",
              "      <th>0</th>\n",
              "      <td>1</td>\n",
              "      <td>2</td>\n",
              "      <td>1</td>\n",
              "    </tr>\n",
              "    <tr>\n",
              "      <th>1</th>\n",
              "      <td>3</td>\n",
              "      <td>4</td>\n",
              "      <td>1</td>\n",
              "    </tr>\n",
              "    <tr>\n",
              "      <th>2</th>\n",
              "      <td>5</td>\n",
              "      <td>6</td>\n",
              "      <td>1</td>\n",
              "    </tr>\n",
              "  </tbody>\n",
              "</table>\n",
              "</div>\n",
              "    <div class=\"colab-df-buttons\">\n",
              "\n",
              "  <div class=\"colab-df-container\">\n",
              "    <button class=\"colab-df-convert\" onclick=\"convertToInteractive('df-5e4e36cf-dbf3-4918-a46e-9f84e3caee0c')\"\n",
              "            title=\"Convert this dataframe to an interactive table.\"\n",
              "            style=\"display:none;\">\n",
              "\n",
              "  <svg xmlns=\"http://www.w3.org/2000/svg\" height=\"24px\" viewBox=\"0 -960 960 960\">\n",
              "    <path d=\"M120-120v-720h720v720H120Zm60-500h600v-160H180v160Zm220 220h160v-160H400v160Zm0 220h160v-160H400v160ZM180-400h160v-160H180v160Zm440 0h160v-160H620v160ZM180-180h160v-160H180v160Zm440 0h160v-160H620v160Z\"/>\n",
              "  </svg>\n",
              "    </button>\n",
              "\n",
              "  <style>\n",
              "    .colab-df-container {\n",
              "      display:flex;\n",
              "      gap: 12px;\n",
              "    }\n",
              "\n",
              "    .colab-df-convert {\n",
              "      background-color: #E8F0FE;\n",
              "      border: none;\n",
              "      border-radius: 50%;\n",
              "      cursor: pointer;\n",
              "      display: none;\n",
              "      fill: #1967D2;\n",
              "      height: 32px;\n",
              "      padding: 0 0 0 0;\n",
              "      width: 32px;\n",
              "    }\n",
              "\n",
              "    .colab-df-convert:hover {\n",
              "      background-color: #E2EBFA;\n",
              "      box-shadow: 0px 1px 2px rgba(60, 64, 67, 0.3), 0px 1px 3px 1px rgba(60, 64, 67, 0.15);\n",
              "      fill: #174EA6;\n",
              "    }\n",
              "\n",
              "    .colab-df-buttons div {\n",
              "      margin-bottom: 4px;\n",
              "    }\n",
              "\n",
              "    [theme=dark] .colab-df-convert {\n",
              "      background-color: #3B4455;\n",
              "      fill: #D2E3FC;\n",
              "    }\n",
              "\n",
              "    [theme=dark] .colab-df-convert:hover {\n",
              "      background-color: #434B5C;\n",
              "      box-shadow: 0px 1px 3px 1px rgba(0, 0, 0, 0.15);\n",
              "      filter: drop-shadow(0px 1px 2px rgba(0, 0, 0, 0.3));\n",
              "      fill: #FFFFFF;\n",
              "    }\n",
              "  </style>\n",
              "\n",
              "    <script>\n",
              "      const buttonEl =\n",
              "        document.querySelector('#df-5e4e36cf-dbf3-4918-a46e-9f84e3caee0c button.colab-df-convert');\n",
              "      buttonEl.style.display =\n",
              "        google.colab.kernel.accessAllowed ? 'block' : 'none';\n",
              "\n",
              "      async function convertToInteractive(key) {\n",
              "        const element = document.querySelector('#df-5e4e36cf-dbf3-4918-a46e-9f84e3caee0c');\n",
              "        const dataTable =\n",
              "          await google.colab.kernel.invokeFunction('convertToInteractive',\n",
              "                                                    [key], {});\n",
              "        if (!dataTable) return;\n",
              "\n",
              "        const docLinkHtml = 'Like what you see? Visit the ' +\n",
              "          '<a target=\"_blank\" href=https://colab.research.google.com/notebooks/data_table.ipynb>data table notebook</a>'\n",
              "          + ' to learn more about interactive tables.';\n",
              "        element.innerHTML = '';\n",
              "        dataTable['output_type'] = 'display_data';\n",
              "        await google.colab.output.renderOutput(dataTable, element);\n",
              "        const docLink = document.createElement('div');\n",
              "        docLink.innerHTML = docLinkHtml;\n",
              "        element.appendChild(docLink);\n",
              "      }\n",
              "    </script>\n",
              "  </div>\n",
              "\n",
              "\n",
              "<div id=\"df-994f1640-77b0-43c5-ab4f-fa54bc37ea70\">\n",
              "  <button class=\"colab-df-quickchart\" onclick=\"quickchart('df-994f1640-77b0-43c5-ab4f-fa54bc37ea70')\"\n",
              "            title=\"Suggest charts\"\n",
              "            style=\"display:none;\">\n",
              "\n",
              "<svg xmlns=\"http://www.w3.org/2000/svg\" height=\"24px\"viewBox=\"0 0 24 24\"\n",
              "     width=\"24px\">\n",
              "    <g>\n",
              "        <path d=\"M19 3H5c-1.1 0-2 .9-2 2v14c0 1.1.9 2 2 2h14c1.1 0 2-.9 2-2V5c0-1.1-.9-2-2-2zM9 17H7v-7h2v7zm4 0h-2V7h2v10zm4 0h-2v-4h2v4z\"/>\n",
              "    </g>\n",
              "</svg>\n",
              "  </button>\n",
              "\n",
              "<style>\n",
              "  .colab-df-quickchart {\n",
              "      --bg-color: #E8F0FE;\n",
              "      --fill-color: #1967D2;\n",
              "      --hover-bg-color: #E2EBFA;\n",
              "      --hover-fill-color: #174EA6;\n",
              "      --disabled-fill-color: #AAA;\n",
              "      --disabled-bg-color: #DDD;\n",
              "  }\n",
              "\n",
              "  [theme=dark] .colab-df-quickchart {\n",
              "      --bg-color: #3B4455;\n",
              "      --fill-color: #D2E3FC;\n",
              "      --hover-bg-color: #434B5C;\n",
              "      --hover-fill-color: #FFFFFF;\n",
              "      --disabled-bg-color: #3B4455;\n",
              "      --disabled-fill-color: #666;\n",
              "  }\n",
              "\n",
              "  .colab-df-quickchart {\n",
              "    background-color: var(--bg-color);\n",
              "    border: none;\n",
              "    border-radius: 50%;\n",
              "    cursor: pointer;\n",
              "    display: none;\n",
              "    fill: var(--fill-color);\n",
              "    height: 32px;\n",
              "    padding: 0;\n",
              "    width: 32px;\n",
              "  }\n",
              "\n",
              "  .colab-df-quickchart:hover {\n",
              "    background-color: var(--hover-bg-color);\n",
              "    box-shadow: 0 1px 2px rgba(60, 64, 67, 0.3), 0 1px 3px 1px rgba(60, 64, 67, 0.15);\n",
              "    fill: var(--button-hover-fill-color);\n",
              "  }\n",
              "\n",
              "  .colab-df-quickchart-complete:disabled,\n",
              "  .colab-df-quickchart-complete:disabled:hover {\n",
              "    background-color: var(--disabled-bg-color);\n",
              "    fill: var(--disabled-fill-color);\n",
              "    box-shadow: none;\n",
              "  }\n",
              "\n",
              "  .colab-df-spinner {\n",
              "    border: 2px solid var(--fill-color);\n",
              "    border-color: transparent;\n",
              "    border-bottom-color: var(--fill-color);\n",
              "    animation:\n",
              "      spin 1s steps(1) infinite;\n",
              "  }\n",
              "\n",
              "  @keyframes spin {\n",
              "    0% {\n",
              "      border-color: transparent;\n",
              "      border-bottom-color: var(--fill-color);\n",
              "      border-left-color: var(--fill-color);\n",
              "    }\n",
              "    20% {\n",
              "      border-color: transparent;\n",
              "      border-left-color: var(--fill-color);\n",
              "      border-top-color: var(--fill-color);\n",
              "    }\n",
              "    30% {\n",
              "      border-color: transparent;\n",
              "      border-left-color: var(--fill-color);\n",
              "      border-top-color: var(--fill-color);\n",
              "      border-right-color: var(--fill-color);\n",
              "    }\n",
              "    40% {\n",
              "      border-color: transparent;\n",
              "      border-right-color: var(--fill-color);\n",
              "      border-top-color: var(--fill-color);\n",
              "    }\n",
              "    60% {\n",
              "      border-color: transparent;\n",
              "      border-right-color: var(--fill-color);\n",
              "    }\n",
              "    80% {\n",
              "      border-color: transparent;\n",
              "      border-right-color: var(--fill-color);\n",
              "      border-bottom-color: var(--fill-color);\n",
              "    }\n",
              "    90% {\n",
              "      border-color: transparent;\n",
              "      border-bottom-color: var(--fill-color);\n",
              "    }\n",
              "  }\n",
              "</style>\n",
              "\n",
              "  <script>\n",
              "    async function quickchart(key) {\n",
              "      const quickchartButtonEl =\n",
              "        document.querySelector('#' + key + ' button');\n",
              "      quickchartButtonEl.disabled = true;  // To prevent multiple clicks.\n",
              "      quickchartButtonEl.classList.add('colab-df-spinner');\n",
              "      try {\n",
              "        const charts = await google.colab.kernel.invokeFunction(\n",
              "            'suggestCharts', [key], {});\n",
              "      } catch (error) {\n",
              "        console.error('Error during call to suggestCharts:', error);\n",
              "      }\n",
              "      quickchartButtonEl.classList.remove('colab-df-spinner');\n",
              "      quickchartButtonEl.classList.add('colab-df-quickchart-complete');\n",
              "    }\n",
              "    (() => {\n",
              "      let quickchartButtonEl =\n",
              "        document.querySelector('#df-994f1640-77b0-43c5-ab4f-fa54bc37ea70 button');\n",
              "      quickchartButtonEl.style.display =\n",
              "        google.colab.kernel.accessAllowed ? 'block' : 'none';\n",
              "    })();\n",
              "  </script>\n",
              "</div>\n",
              "\n",
              "  <div id=\"id_51ae0d23-0d33-4ab6-ae4e-8df0d9b628b9\">\n",
              "    <style>\n",
              "      .colab-df-generate {\n",
              "        background-color: #E8F0FE;\n",
              "        border: none;\n",
              "        border-radius: 50%;\n",
              "        cursor: pointer;\n",
              "        display: none;\n",
              "        fill: #1967D2;\n",
              "        height: 32px;\n",
              "        padding: 0 0 0 0;\n",
              "        width: 32px;\n",
              "      }\n",
              "\n",
              "      .colab-df-generate:hover {\n",
              "        background-color: #E2EBFA;\n",
              "        box-shadow: 0px 1px 2px rgba(60, 64, 67, 0.3), 0px 1px 3px 1px rgba(60, 64, 67, 0.15);\n",
              "        fill: #174EA6;\n",
              "      }\n",
              "\n",
              "      [theme=dark] .colab-df-generate {\n",
              "        background-color: #3B4455;\n",
              "        fill: #D2E3FC;\n",
              "      }\n",
              "\n",
              "      [theme=dark] .colab-df-generate:hover {\n",
              "        background-color: #434B5C;\n",
              "        box-shadow: 0px 1px 3px 1px rgba(0, 0, 0, 0.15);\n",
              "        filter: drop-shadow(0px 1px 2px rgba(0, 0, 0, 0.3));\n",
              "        fill: #FFFFFF;\n",
              "      }\n",
              "    </style>\n",
              "    <button class=\"colab-df-generate\" onclick=\"generateWithVariable('df')\"\n",
              "            title=\"Generate code using this dataframe.\"\n",
              "            style=\"display:none;\">\n",
              "\n",
              "  <svg xmlns=\"http://www.w3.org/2000/svg\" height=\"24px\"viewBox=\"0 0 24 24\"\n",
              "       width=\"24px\">\n",
              "    <path d=\"M7,19H8.4L18.45,9,17,7.55,7,17.6ZM5,21V16.75L18.45,3.32a2,2,0,0,1,2.83,0l1.4,1.43a1.91,1.91,0,0,1,.58,1.4,1.91,1.91,0,0,1-.58,1.4L9.25,21ZM18.45,9,17,7.55Zm-12,3A5.31,5.31,0,0,0,4.9,8.1,5.31,5.31,0,0,0,1,6.5,5.31,5.31,0,0,0,4.9,4.9,5.31,5.31,0,0,0,6.5,1,5.31,5.31,0,0,0,8.1,4.9,5.31,5.31,0,0,0,12,6.5,5.46,5.46,0,0,0,6.5,12Z\"/>\n",
              "  </svg>\n",
              "    </button>\n",
              "    <script>\n",
              "      (() => {\n",
              "      const buttonEl =\n",
              "        document.querySelector('#id_51ae0d23-0d33-4ab6-ae4e-8df0d9b628b9 button.colab-df-generate');\n",
              "      buttonEl.style.display =\n",
              "        google.colab.kernel.accessAllowed ? 'block' : 'none';\n",
              "\n",
              "      buttonEl.onclick = () => {\n",
              "        google.colab.notebook.generateWithVariable('df');\n",
              "      }\n",
              "      })();\n",
              "    </script>\n",
              "  </div>\n",
              "\n",
              "    </div>\n",
              "  </div>\n"
            ],
            "application/vnd.google.colaboratory.intrinsic+json": {
              "type": "dataframe",
              "variable_name": "df",
              "summary": "{\n  \"name\": \"df\",\n  \"rows\": 3,\n  \"fields\": [\n    {\n      \"column\": \"a\",\n      \"properties\": {\n        \"dtype\": \"number\",\n        \"std\": 2,\n        \"min\": 1,\n        \"max\": 5,\n        \"num_unique_values\": 3,\n        \"samples\": [\n          1,\n          3,\n          5\n        ],\n        \"semantic_type\": \"\",\n        \"description\": \"\"\n      }\n    },\n    {\n      \"column\": \"a\",\n      \"properties\": {\n        \"dtype\": \"number\",\n        \"std\": 2,\n        \"min\": 2,\n        \"max\": 6,\n        \"num_unique_values\": 3,\n        \"samples\": [\n          2,\n          4,\n          6\n        ],\n        \"semantic_type\": \"\",\n        \"description\": \"\"\n      }\n    },\n    {\n      \"column\": \"c\",\n      \"properties\": {\n        \"dtype\": \"number\",\n        \"std\": 0,\n        \"min\": 1,\n        \"max\": 1,\n        \"num_unique_values\": 1,\n        \"samples\": [\n          1\n        ],\n        \"semantic_type\": \"\",\n        \"description\": \"\"\n      }\n    }\n  ]\n}"
            }
          },
          "metadata": {},
          "execution_count": 131
        }
      ],
      "source": [
        "df = pd.DataFrame([[1,2,1],[3,4,1],[5,6,1]], columns=['a','a','c']) # you can adress column by index\n",
        "df"
      ]
    },
    {
      "cell_type": "code",
      "execution_count": null,
      "metadata": {
        "id": "tKXcdb4RyOmB",
        "outputId": "82983205-075c-4ae9-b038-68133f7ede7e"
      },
      "outputs": [
        {
          "data": {
            "text/html": [
              "<div>\n",
              "<style scoped>\n",
              "    .dataframe tbody tr th:only-of-type {\n",
              "        vertical-align: middle;\n",
              "    }\n",
              "\n",
              "    .dataframe tbody tr th {\n",
              "        vertical-align: top;\n",
              "    }\n",
              "\n",
              "    .dataframe thead th {\n",
              "        text-align: right;\n",
              "    }\n",
              "</style>\n",
              "<table border=\"1\" class=\"dataframe\">\n",
              "  <thead>\n",
              "    <tr style=\"text-align: right;\">\n",
              "      <th></th>\n",
              "      <th>a</th>\n",
              "      <th>b</th>\n",
              "    </tr>\n",
              "  </thead>\n",
              "  <tbody>\n",
              "    <tr>\n",
              "      <th>0</th>\n",
              "      <td>1</td>\n",
              "      <td>2</td>\n",
              "    </tr>\n",
              "    <tr>\n",
              "      <th>1</th>\n",
              "      <td>3</td>\n",
              "      <td>4</td>\n",
              "    </tr>\n",
              "    <tr>\n",
              "      <th>2</th>\n",
              "      <td>5</td>\n",
              "      <td>6</td>\n",
              "    </tr>\n",
              "  </tbody>\n",
              "</table>\n",
              "</div>"
            ],
            "text/plain": [
              "   a  b\n",
              "0  1  2\n",
              "1  3  4\n",
              "2  5  6"
            ]
          },
          "execution_count": 35,
          "metadata": {},
          "output_type": "execute_result"
        }
      ],
      "source": [
        "df = pd.DataFrame([[1,2],[3,4],[5,6]], columns=['a','a'])\n",
        "df.columns = ['a','b']  # rename column\n",
        "df"
      ]
    },
    {
      "cell_type": "code",
      "execution_count": 132,
      "metadata": {
        "id": "ZblCG1PByOmB",
        "outputId": "169660f3-5d6e-44d6-eb1e-f7a08bfa1494",
        "colab": {
          "base_uri": "https://localhost:8080/",
          "height": 143
        }
      },
      "outputs": [
        {
          "output_type": "execute_result",
          "data": {
            "text/plain": [
              "   b\n",
              "0  2\n",
              "1  4\n",
              "2  6"
            ],
            "text/html": [
              "\n",
              "  <div id=\"df-587d208e-f2ca-405a-b5f1-662b33685301\" class=\"colab-df-container\">\n",
              "    <div>\n",
              "<style scoped>\n",
              "    .dataframe tbody tr th:only-of-type {\n",
              "        vertical-align: middle;\n",
              "    }\n",
              "\n",
              "    .dataframe tbody tr th {\n",
              "        vertical-align: top;\n",
              "    }\n",
              "\n",
              "    .dataframe thead th {\n",
              "        text-align: right;\n",
              "    }\n",
              "</style>\n",
              "<table border=\"1\" class=\"dataframe\">\n",
              "  <thead>\n",
              "    <tr style=\"text-align: right;\">\n",
              "      <th></th>\n",
              "      <th>b</th>\n",
              "    </tr>\n",
              "  </thead>\n",
              "  <tbody>\n",
              "    <tr>\n",
              "      <th>0</th>\n",
              "      <td>2</td>\n",
              "    </tr>\n",
              "    <tr>\n",
              "      <th>1</th>\n",
              "      <td>4</td>\n",
              "    </tr>\n",
              "    <tr>\n",
              "      <th>2</th>\n",
              "      <td>6</td>\n",
              "    </tr>\n",
              "  </tbody>\n",
              "</table>\n",
              "</div>\n",
              "    <div class=\"colab-df-buttons\">\n",
              "\n",
              "  <div class=\"colab-df-container\">\n",
              "    <button class=\"colab-df-convert\" onclick=\"convertToInteractive('df-587d208e-f2ca-405a-b5f1-662b33685301')\"\n",
              "            title=\"Convert this dataframe to an interactive table.\"\n",
              "            style=\"display:none;\">\n",
              "\n",
              "  <svg xmlns=\"http://www.w3.org/2000/svg\" height=\"24px\" viewBox=\"0 -960 960 960\">\n",
              "    <path d=\"M120-120v-720h720v720H120Zm60-500h600v-160H180v160Zm220 220h160v-160H400v160Zm0 220h160v-160H400v160ZM180-400h160v-160H180v160Zm440 0h160v-160H620v160ZM180-180h160v-160H180v160Zm440 0h160v-160H620v160Z\"/>\n",
              "  </svg>\n",
              "    </button>\n",
              "\n",
              "  <style>\n",
              "    .colab-df-container {\n",
              "      display:flex;\n",
              "      gap: 12px;\n",
              "    }\n",
              "\n",
              "    .colab-df-convert {\n",
              "      background-color: #E8F0FE;\n",
              "      border: none;\n",
              "      border-radius: 50%;\n",
              "      cursor: pointer;\n",
              "      display: none;\n",
              "      fill: #1967D2;\n",
              "      height: 32px;\n",
              "      padding: 0 0 0 0;\n",
              "      width: 32px;\n",
              "    }\n",
              "\n",
              "    .colab-df-convert:hover {\n",
              "      background-color: #E2EBFA;\n",
              "      box-shadow: 0px 1px 2px rgba(60, 64, 67, 0.3), 0px 1px 3px 1px rgba(60, 64, 67, 0.15);\n",
              "      fill: #174EA6;\n",
              "    }\n",
              "\n",
              "    .colab-df-buttons div {\n",
              "      margin-bottom: 4px;\n",
              "    }\n",
              "\n",
              "    [theme=dark] .colab-df-convert {\n",
              "      background-color: #3B4455;\n",
              "      fill: #D2E3FC;\n",
              "    }\n",
              "\n",
              "    [theme=dark] .colab-df-convert:hover {\n",
              "      background-color: #434B5C;\n",
              "      box-shadow: 0px 1px 3px 1px rgba(0, 0, 0, 0.15);\n",
              "      filter: drop-shadow(0px 1px 2px rgba(0, 0, 0, 0.3));\n",
              "      fill: #FFFFFF;\n",
              "    }\n",
              "  </style>\n",
              "\n",
              "    <script>\n",
              "      const buttonEl =\n",
              "        document.querySelector('#df-587d208e-f2ca-405a-b5f1-662b33685301 button.colab-df-convert');\n",
              "      buttonEl.style.display =\n",
              "        google.colab.kernel.accessAllowed ? 'block' : 'none';\n",
              "\n",
              "      async function convertToInteractive(key) {\n",
              "        const element = document.querySelector('#df-587d208e-f2ca-405a-b5f1-662b33685301');\n",
              "        const dataTable =\n",
              "          await google.colab.kernel.invokeFunction('convertToInteractive',\n",
              "                                                    [key], {});\n",
              "        if (!dataTable) return;\n",
              "\n",
              "        const docLinkHtml = 'Like what you see? Visit the ' +\n",
              "          '<a target=\"_blank\" href=https://colab.research.google.com/notebooks/data_table.ipynb>data table notebook</a>'\n",
              "          + ' to learn more about interactive tables.';\n",
              "        element.innerHTML = '';\n",
              "        dataTable['output_type'] = 'display_data';\n",
              "        await google.colab.output.renderOutput(dataTable, element);\n",
              "        const docLink = document.createElement('div');\n",
              "        docLink.innerHTML = docLinkHtml;\n",
              "        element.appendChild(docLink);\n",
              "      }\n",
              "    </script>\n",
              "  </div>\n",
              "\n",
              "\n",
              "<div id=\"df-d51c8f0c-89aa-46b2-a991-6be67d8a5c3a\">\n",
              "  <button class=\"colab-df-quickchart\" onclick=\"quickchart('df-d51c8f0c-89aa-46b2-a991-6be67d8a5c3a')\"\n",
              "            title=\"Suggest charts\"\n",
              "            style=\"display:none;\">\n",
              "\n",
              "<svg xmlns=\"http://www.w3.org/2000/svg\" height=\"24px\"viewBox=\"0 0 24 24\"\n",
              "     width=\"24px\">\n",
              "    <g>\n",
              "        <path d=\"M19 3H5c-1.1 0-2 .9-2 2v14c0 1.1.9 2 2 2h14c1.1 0 2-.9 2-2V5c0-1.1-.9-2-2-2zM9 17H7v-7h2v7zm4 0h-2V7h2v10zm4 0h-2v-4h2v4z\"/>\n",
              "    </g>\n",
              "</svg>\n",
              "  </button>\n",
              "\n",
              "<style>\n",
              "  .colab-df-quickchart {\n",
              "      --bg-color: #E8F0FE;\n",
              "      --fill-color: #1967D2;\n",
              "      --hover-bg-color: #E2EBFA;\n",
              "      --hover-fill-color: #174EA6;\n",
              "      --disabled-fill-color: #AAA;\n",
              "      --disabled-bg-color: #DDD;\n",
              "  }\n",
              "\n",
              "  [theme=dark] .colab-df-quickchart {\n",
              "      --bg-color: #3B4455;\n",
              "      --fill-color: #D2E3FC;\n",
              "      --hover-bg-color: #434B5C;\n",
              "      --hover-fill-color: #FFFFFF;\n",
              "      --disabled-bg-color: #3B4455;\n",
              "      --disabled-fill-color: #666;\n",
              "  }\n",
              "\n",
              "  .colab-df-quickchart {\n",
              "    background-color: var(--bg-color);\n",
              "    border: none;\n",
              "    border-radius: 50%;\n",
              "    cursor: pointer;\n",
              "    display: none;\n",
              "    fill: var(--fill-color);\n",
              "    height: 32px;\n",
              "    padding: 0;\n",
              "    width: 32px;\n",
              "  }\n",
              "\n",
              "  .colab-df-quickchart:hover {\n",
              "    background-color: var(--hover-bg-color);\n",
              "    box-shadow: 0 1px 2px rgba(60, 64, 67, 0.3), 0 1px 3px 1px rgba(60, 64, 67, 0.15);\n",
              "    fill: var(--button-hover-fill-color);\n",
              "  }\n",
              "\n",
              "  .colab-df-quickchart-complete:disabled,\n",
              "  .colab-df-quickchart-complete:disabled:hover {\n",
              "    background-color: var(--disabled-bg-color);\n",
              "    fill: var(--disabled-fill-color);\n",
              "    box-shadow: none;\n",
              "  }\n",
              "\n",
              "  .colab-df-spinner {\n",
              "    border: 2px solid var(--fill-color);\n",
              "    border-color: transparent;\n",
              "    border-bottom-color: var(--fill-color);\n",
              "    animation:\n",
              "      spin 1s steps(1) infinite;\n",
              "  }\n",
              "\n",
              "  @keyframes spin {\n",
              "    0% {\n",
              "      border-color: transparent;\n",
              "      border-bottom-color: var(--fill-color);\n",
              "      border-left-color: var(--fill-color);\n",
              "    }\n",
              "    20% {\n",
              "      border-color: transparent;\n",
              "      border-left-color: var(--fill-color);\n",
              "      border-top-color: var(--fill-color);\n",
              "    }\n",
              "    30% {\n",
              "      border-color: transparent;\n",
              "      border-left-color: var(--fill-color);\n",
              "      border-top-color: var(--fill-color);\n",
              "      border-right-color: var(--fill-color);\n",
              "    }\n",
              "    40% {\n",
              "      border-color: transparent;\n",
              "      border-right-color: var(--fill-color);\n",
              "      border-top-color: var(--fill-color);\n",
              "    }\n",
              "    60% {\n",
              "      border-color: transparent;\n",
              "      border-right-color: var(--fill-color);\n",
              "    }\n",
              "    80% {\n",
              "      border-color: transparent;\n",
              "      border-right-color: var(--fill-color);\n",
              "      border-bottom-color: var(--fill-color);\n",
              "    }\n",
              "    90% {\n",
              "      border-color: transparent;\n",
              "      border-bottom-color: var(--fill-color);\n",
              "    }\n",
              "  }\n",
              "</style>\n",
              "\n",
              "  <script>\n",
              "    async function quickchart(key) {\n",
              "      const quickchartButtonEl =\n",
              "        document.querySelector('#' + key + ' button');\n",
              "      quickchartButtonEl.disabled = true;  // To prevent multiple clicks.\n",
              "      quickchartButtonEl.classList.add('colab-df-spinner');\n",
              "      try {\n",
              "        const charts = await google.colab.kernel.invokeFunction(\n",
              "            'suggestCharts', [key], {});\n",
              "      } catch (error) {\n",
              "        console.error('Error during call to suggestCharts:', error);\n",
              "      }\n",
              "      quickchartButtonEl.classList.remove('colab-df-spinner');\n",
              "      quickchartButtonEl.classList.add('colab-df-quickchart-complete');\n",
              "    }\n",
              "    (() => {\n",
              "      let quickchartButtonEl =\n",
              "        document.querySelector('#df-d51c8f0c-89aa-46b2-a991-6be67d8a5c3a button');\n",
              "      quickchartButtonEl.style.display =\n",
              "        google.colab.kernel.accessAllowed ? 'block' : 'none';\n",
              "    })();\n",
              "  </script>\n",
              "</div>\n",
              "\n",
              "  <div id=\"id_632b9984-5daa-4834-a85f-a5db720ce728\">\n",
              "    <style>\n",
              "      .colab-df-generate {\n",
              "        background-color: #E8F0FE;\n",
              "        border: none;\n",
              "        border-radius: 50%;\n",
              "        cursor: pointer;\n",
              "        display: none;\n",
              "        fill: #1967D2;\n",
              "        height: 32px;\n",
              "        padding: 0 0 0 0;\n",
              "        width: 32px;\n",
              "      }\n",
              "\n",
              "      .colab-df-generate:hover {\n",
              "        background-color: #E2EBFA;\n",
              "        box-shadow: 0px 1px 2px rgba(60, 64, 67, 0.3), 0px 1px 3px 1px rgba(60, 64, 67, 0.15);\n",
              "        fill: #174EA6;\n",
              "      }\n",
              "\n",
              "      [theme=dark] .colab-df-generate {\n",
              "        background-color: #3B4455;\n",
              "        fill: #D2E3FC;\n",
              "      }\n",
              "\n",
              "      [theme=dark] .colab-df-generate:hover {\n",
              "        background-color: #434B5C;\n",
              "        box-shadow: 0px 1px 3px 1px rgba(0, 0, 0, 0.15);\n",
              "        filter: drop-shadow(0px 1px 2px rgba(0, 0, 0, 0.3));\n",
              "        fill: #FFFFFF;\n",
              "      }\n",
              "    </style>\n",
              "    <button class=\"colab-df-generate\" onclick=\"generateWithVariable('df')\"\n",
              "            title=\"Generate code using this dataframe.\"\n",
              "            style=\"display:none;\">\n",
              "\n",
              "  <svg xmlns=\"http://www.w3.org/2000/svg\" height=\"24px\"viewBox=\"0 0 24 24\"\n",
              "       width=\"24px\">\n",
              "    <path d=\"M7,19H8.4L18.45,9,17,7.55,7,17.6ZM5,21V16.75L18.45,3.32a2,2,0,0,1,2.83,0l1.4,1.43a1.91,1.91,0,0,1,.58,1.4,1.91,1.91,0,0,1-.58,1.4L9.25,21ZM18.45,9,17,7.55Zm-12,3A5.31,5.31,0,0,0,4.9,8.1,5.31,5.31,0,0,0,1,6.5,5.31,5.31,0,0,0,4.9,4.9,5.31,5.31,0,0,0,6.5,1,5.31,5.31,0,0,0,8.1,4.9,5.31,5.31,0,0,0,12,6.5,5.46,5.46,0,0,0,6.5,12Z\"/>\n",
              "  </svg>\n",
              "    </button>\n",
              "    <script>\n",
              "      (() => {\n",
              "      const buttonEl =\n",
              "        document.querySelector('#id_632b9984-5daa-4834-a85f-a5db720ce728 button.colab-df-generate');\n",
              "      buttonEl.style.display =\n",
              "        google.colab.kernel.accessAllowed ? 'block' : 'none';\n",
              "\n",
              "      buttonEl.onclick = () => {\n",
              "        google.colab.notebook.generateWithVariable('df');\n",
              "      }\n",
              "      })();\n",
              "    </script>\n",
              "  </div>\n",
              "\n",
              "    </div>\n",
              "  </div>\n"
            ],
            "application/vnd.google.colaboratory.intrinsic+json": {
              "type": "dataframe",
              "variable_name": "df",
              "summary": "{\n  \"name\": \"df\",\n  \"rows\": 3,\n  \"fields\": [\n    {\n      \"column\": \"b\",\n      \"properties\": {\n        \"dtype\": \"number\",\n        \"std\": 2,\n        \"min\": 2,\n        \"max\": 6,\n        \"num_unique_values\": 3,\n        \"samples\": [\n          2,\n          4,\n          6\n        ],\n        \"semantic_type\": \"\",\n        \"description\": \"\"\n      }\n    }\n  ]\n}"
            }
          },
          "metadata": {},
          "execution_count": 132
        }
      ],
      "source": [
        "df = pd.DataFrame([[1,2],[3,4],[5,6]], columns=['a','b'])\n",
        "del df['a']   # delete column\n",
        "df"
      ]
    },
    {
      "cell_type": "code",
      "execution_count": null,
      "metadata": {
        "id": "t3hOjtIqyOmC",
        "outputId": "fc9f834d-e2b9-4b61-ea98-0c9e74c91a12"
      },
      "outputs": [
        {
          "data": {
            "text/html": [
              "<div>\n",
              "<style scoped>\n",
              "    .dataframe tbody tr th:only-of-type {\n",
              "        vertical-align: middle;\n",
              "    }\n",
              "\n",
              "    .dataframe tbody tr th {\n",
              "        vertical-align: top;\n",
              "    }\n",
              "\n",
              "    .dataframe thead th {\n",
              "        text-align: right;\n",
              "    }\n",
              "</style>\n",
              "<table border=\"1\" class=\"dataframe\">\n",
              "  <thead>\n",
              "    <tr style=\"text-align: right;\">\n",
              "      <th></th>\n",
              "      <th>a</th>\n",
              "      <th>b</th>\n",
              "      <th>c</th>\n",
              "    </tr>\n",
              "  </thead>\n",
              "  <tbody>\n",
              "    <tr>\n",
              "      <th>0</th>\n",
              "      <td>1</td>\n",
              "      <td>2</td>\n",
              "      <td>2</td>\n",
              "    </tr>\n",
              "    <tr>\n",
              "      <th>1</th>\n",
              "      <td>3</td>\n",
              "      <td>4</td>\n",
              "      <td>2</td>\n",
              "    </tr>\n",
              "    <tr>\n",
              "      <th>2</th>\n",
              "      <td>5</td>\n",
              "      <td>6</td>\n",
              "      <td>2</td>\n",
              "    </tr>\n",
              "  </tbody>\n",
              "</table>\n",
              "</div>"
            ],
            "text/plain": [
              "   a  b  c\n",
              "0  1  2  2\n",
              "1  3  4  2\n",
              "2  5  6  2"
            ]
          },
          "execution_count": 37,
          "metadata": {},
          "output_type": "execute_result"
        }
      ],
      "source": [
        "df = pd.DataFrame([[1,2],[3,4],[5,6]], columns=['a','b'])\n",
        "df['c']='2'   #add new column c and fill with 2\n",
        "df"
      ]
    },
    {
      "cell_type": "markdown",
      "metadata": {
        "id": "pk21yXydyOmC"
      },
      "source": [
        "### 11.7 Indexing / seletion"
      ]
    },
    {
      "cell_type": "markdown",
      "metadata": {
        "id": "aaVddQqFyOmC"
      },
      "source": [
        "- Row selection, for example, returns a Series whose index is the columns of the DataFrame:\n",
        "- Pandas now supports three types of Multi-axes indexing; the three types are:\n",
        "    - .loc()  (label based)\n",
        "    - .iloc()  (integer based)\n",
        "    - .ix()    (both label and integer based)\n",
        "- loc takes two single/list/range operator separated by ','. The first one indicates the row and the second one indicates columns.\n",
        "- iloc(): Pandas provide various methods in order to get purely integer based indexing. Like python and numpy, these are 0-based indexing.\n",
        "- ix(): Besides pure label based and integer based, Pandas provides a hybrid method for selections and subsetting the object using the .ix() operator."
      ]
    },
    {
      "cell_type": "markdown",
      "metadata": {
        "id": "ypNBeFFDyOmC"
      },
      "source": [
        "#### .loc()"
      ]
    },
    {
      "cell_type": "code",
      "execution_count": 140,
      "metadata": {
        "id": "qIGTGettyOmC",
        "outputId": "29c3c5ed-a170-46e2-fec6-a928a00ef5d7",
        "colab": {
          "base_uri": "https://localhost:8080/"
        }
      },
      "outputs": [
        {
          "output_type": "stream",
          "name": "stdout",
          "text": [
            "          A         C\n",
            "a -0.849927 -0.165385\n",
            "b -0.364644  0.692686\n",
            "c -0.749389 -0.324447\n",
            "d -0.274012 -0.177575\n",
            "e  0.091468  1.473371\n",
            "f  0.685323  0.901497\n",
            "g  1.477900  0.119441\n",
            "h  0.005252 -0.382686\n"
          ]
        }
      ],
      "source": [
        "df = pd.DataFrame(np.random.randn(8, 4),\n",
        "index = ['a','b','c','d','e','f','g','h'], columns = ['A', 'B', 'C', 'D'])\n",
        "\n",
        "#select all rows for a specific column\n",
        "print(df.loc[:,['A','C']])"
      ]
    },
    {
      "cell_type": "code",
      "execution_count": null,
      "metadata": {
        "id": "D7YYjRx2yOmD"
      },
      "outputs": [],
      "source": [
        "import pandas as pd\n",
        "import numpy as np"
      ]
    },
    {
      "cell_type": "code",
      "execution_count": 137,
      "metadata": {
        "id": "7fjCxkX8yOmD",
        "outputId": "18995f9e-c3c5-4f0e-c4d9-74f137fb84a9",
        "colab": {
          "base_uri": "https://localhost:8080/"
        }
      },
      "outputs": [
        {
          "output_type": "stream",
          "name": "stdout",
          "text": [
            "          A         C\n",
            "a  0.215951 -0.625450\n",
            "b  0.025237  1.508838\n",
            "c -0.711639 -0.287005\n",
            "d  0.599419  1.469137\n",
            "e -0.634159  1.156531\n",
            "f -0.194157 -1.196773\n",
            "g -0.916767 -0.376954\n",
            "h -0.007209 -1.272412\n"
          ]
        }
      ],
      "source": [
        "df = pd.DataFrame(np.random.randn(8, 4),\n",
        "index = ['a','b','c','d','e','f','g','h'], columns = ['A', 'B', 'C', 'D'])\n",
        "\n",
        "# Select all rows for multiple columns, say list[]\n",
        "print(df.loc[:,['A','C']])"
      ]
    },
    {
      "cell_type": "code",
      "execution_count": 139,
      "metadata": {
        "id": "UvYUW23dyOmD",
        "outputId": "a6b2be2b-8229-4caa-9ed7-97bccb1d1343",
        "colab": {
          "base_uri": "https://localhost:8080/"
        }
      },
      "outputs": [
        {
          "output_type": "stream",
          "name": "stdout",
          "text": [
            "          A         B         C         D\n",
            "a  1.459109 -1.479973 -0.050663 -0.373662\n",
            "b  0.032189  0.956935  1.743047 -0.001542\n",
            "c  1.752432 -1.390014  0.129160 -0.482827\n"
          ]
        }
      ],
      "source": [
        "df = pd.DataFrame(np.random.randn(8, 4),\n",
        "index = ['a','b','c','d','e','f','g','h'], columns = ['A', 'B', 'C', 'D'])\n",
        "\n",
        "# Select range of rows for all columns\n",
        "print(df.loc['a':'c'])"
      ]
    },
    {
      "cell_type": "markdown",
      "metadata": {
        "id": "BiEEkZpNyOmE"
      },
      "source": [
        "#### .iloc()"
      ]
    },
    {
      "cell_type": "code",
      "execution_count": 142,
      "metadata": {
        "id": "1cPhYOKcyOmE",
        "outputId": "d3f1f3f2-9b0d-478f-8f25-758962c9f891",
        "colab": {
          "base_uri": "https://localhost:8080/"
        }
      },
      "outputs": [
        {
          "output_type": "stream",
          "name": "stdout",
          "text": [
            "          A         B         C         D\n",
            "0  0.616671  0.246306 -0.706165 -1.311981\n",
            "1 -1.198917  0.855489 -0.967910  2.025707\n",
            "2 -0.800100  1.079258 -0.165498 -0.564781\n",
            "3  0.270254 -0.522920 -0.203764 -0.382308\n",
            "4 -1.571234 -1.205618  1.455888 -1.488962\n",
            "5  0.129312 -0.444573  0.442961 -1.449171\n",
            "6 -1.469208 -0.187660 -1.037503  0.018596\n",
            "7  0.134259  0.576035  0.470885 -2.012613\n"
          ]
        }
      ],
      "source": [
        "df = pd.DataFrame(np.random.randn(8, 4), columns = ['A', 'B', 'C', 'D'])\n",
        "\n",
        "# select all rows for a specific column\n",
        "print(df.iloc[:8])"
      ]
    },
    {
      "cell_type": "code",
      "execution_count": null,
      "metadata": {
        "id": "sZ_dtzidyOmE",
        "outputId": "f4c54946-2012-44b5-913f-dc542e211f36"
      },
      "outputs": [
        {
          "name": "stdout",
          "output_type": "stream",
          "text": [
            "          C         D\n",
            "1 -0.600980  2.148089\n",
            "2  0.622637  0.357187\n",
            "3 -0.038853 -0.265465\n",
            "4  0.049228 -0.269615\n"
          ]
        }
      ],
      "source": [
        "df = pd.DataFrame(np.random.randn(8, 4), columns = ['A', 'B', 'C', 'D'])\n",
        "\n",
        "# Integer slicing\n",
        "\n",
        "print(df.iloc[1:5, 2:4])"
      ]
    },
    {
      "cell_type": "markdown",
      "metadata": {
        "id": "O_UkGrVgyOmF"
      },
      "source": [
        "#### .ix()"
      ]
    },
    {
      "cell_type": "code",
      "execution_count": null,
      "metadata": {
        "id": "F5EjLeeKyOmF",
        "outputId": "44dc3214-de76-41e6-b9ae-c6c5536ec8c8"
      },
      "outputs": [
        {
          "name": "stdout",
          "output_type": "stream",
          "text": [
            "          A         B         C         D\n",
            "0 -1.518915 -0.496256 -1.905349  0.325399\n",
            "1 -1.321410 -0.853576  1.436926 -1.057146\n",
            "2  0.092644  1.201601 -0.994798 -2.017163\n",
            "3 -0.045991 -2.069596  0.011527  0.426753\n",
            "4 -1.180576 -0.290050  0.678418 -1.086825\n"
          ]
        },
        {
          "name": "stderr",
          "output_type": "stream",
          "text": [
            "D:\\python\\lib\\site-packages\\ipykernel_launcher.py:4: DeprecationWarning: \n",
            ".ix is deprecated. Please use\n",
            ".loc for label based indexing or\n",
            ".iloc for positional indexing\n",
            "\n",
            "See the documentation here:\n",
            "http://pandas.pydata.org/pandas-docs/stable/indexing.html#ix-indexer-is-deprecated\n",
            "  after removing the cwd from sys.path.\n"
          ]
        }
      ],
      "source": [
        "df = pd.DataFrame(np.random.randn(8, 4), columns = ['A', 'B', 'C', 'D'])\n",
        "\n",
        "# Integer slicing\n",
        "print(df.ix[:4])"
      ]
    },
    {
      "cell_type": "code",
      "execution_count": null,
      "metadata": {
        "id": "ZoczAWFWyOmF",
        "outputId": "18a37a9b-d6d4-47a6-fd3e-77b1616688ae"
      },
      "outputs": [
        {
          "name": "stdout",
          "output_type": "stream",
          "text": [
            "0   -0.470479\n",
            "1    0.185088\n",
            "2   -1.624392\n",
            "3   -0.549156\n",
            "4    0.494236\n",
            "5    0.147245\n",
            "6   -1.273751\n",
            "7   -0.981244\n",
            "Name: A, dtype: float64\n"
          ]
        },
        {
          "name": "stderr",
          "output_type": "stream",
          "text": [
            "D:\\python\\lib\\site-packages\\ipykernel_launcher.py:3: DeprecationWarning: \n",
            ".ix is deprecated. Please use\n",
            ".loc for label based indexing or\n",
            ".iloc for positional indexing\n",
            "\n",
            "See the documentation here:\n",
            "http://pandas.pydata.org/pandas-docs/stable/indexing.html#ix-indexer-is-deprecated\n",
            "  This is separate from the ipykernel package so we can avoid doing imports until\n"
          ]
        }
      ],
      "source": [
        "df = pd.DataFrame(np.random.randn(8, 4), columns = ['A', 'B', 'C', 'D'])\n",
        "# Index slicing\n",
        "print(df.ix[:,'A'])"
      ]
    },
    {
      "cell_type": "markdown",
      "metadata": {
        "id": "oC4sXKiYyOmG"
      },
      "source": [
        "## 11.8 Data alignment and arithmetic"
      ]
    },
    {
      "cell_type": "markdown",
      "metadata": {
        "id": "1TCrIVTDyOmG"
      },
      "source": [
        " - Data alignment between DataFrame objects automatically align on both the columns and the index (row labels).\n",
        " - Again, the resulting object will have the union of the column and row labels."
      ]
    },
    {
      "cell_type": "code",
      "execution_count": 143,
      "metadata": {
        "id": "8IAj1A0HyOmG",
        "outputId": "8897e25b-5bcf-4368-84aa-e720ae8b0671",
        "colab": {
          "base_uri": "https://localhost:8080/",
          "height": 363
        }
      },
      "outputs": [
        {
          "output_type": "execute_result",
          "data": {
            "text/plain": [
              "          A         B         C         D\n",
              "0  1.034890  0.170370  0.331482  2.960391\n",
              "1  0.123656 -1.062628 -1.469619 -0.802219\n",
              "2  1.401888 -0.238050 -1.234281  0.714497\n",
              "3 -0.002977 -0.127345  0.437358 -0.625279\n",
              "4 -0.438804 -0.883467  0.403377  0.887679\n",
              "5 -1.851443  0.301488 -0.664459 -0.194877\n",
              "6 -0.119371  0.246991  0.030196  0.388445\n",
              "7 -0.477713  1.241713 -0.155118  1.010158\n",
              "8 -0.052091  1.591968  1.258914 -0.076074\n",
              "9 -0.535696 -0.334948  2.228743 -0.219563"
            ],
            "text/html": [
              "\n",
              "  <div id=\"df-742a431d-4cd4-4c68-8c7c-67226b03f296\" class=\"colab-df-container\">\n",
              "    <div>\n",
              "<style scoped>\n",
              "    .dataframe tbody tr th:only-of-type {\n",
              "        vertical-align: middle;\n",
              "    }\n",
              "\n",
              "    .dataframe tbody tr th {\n",
              "        vertical-align: top;\n",
              "    }\n",
              "\n",
              "    .dataframe thead th {\n",
              "        text-align: right;\n",
              "    }\n",
              "</style>\n",
              "<table border=\"1\" class=\"dataframe\">\n",
              "  <thead>\n",
              "    <tr style=\"text-align: right;\">\n",
              "      <th></th>\n",
              "      <th>A</th>\n",
              "      <th>B</th>\n",
              "      <th>C</th>\n",
              "      <th>D</th>\n",
              "    </tr>\n",
              "  </thead>\n",
              "  <tbody>\n",
              "    <tr>\n",
              "      <th>0</th>\n",
              "      <td>1.034890</td>\n",
              "      <td>0.170370</td>\n",
              "      <td>0.331482</td>\n",
              "      <td>2.960391</td>\n",
              "    </tr>\n",
              "    <tr>\n",
              "      <th>1</th>\n",
              "      <td>0.123656</td>\n",
              "      <td>-1.062628</td>\n",
              "      <td>-1.469619</td>\n",
              "      <td>-0.802219</td>\n",
              "    </tr>\n",
              "    <tr>\n",
              "      <th>2</th>\n",
              "      <td>1.401888</td>\n",
              "      <td>-0.238050</td>\n",
              "      <td>-1.234281</td>\n",
              "      <td>0.714497</td>\n",
              "    </tr>\n",
              "    <tr>\n",
              "      <th>3</th>\n",
              "      <td>-0.002977</td>\n",
              "      <td>-0.127345</td>\n",
              "      <td>0.437358</td>\n",
              "      <td>-0.625279</td>\n",
              "    </tr>\n",
              "    <tr>\n",
              "      <th>4</th>\n",
              "      <td>-0.438804</td>\n",
              "      <td>-0.883467</td>\n",
              "      <td>0.403377</td>\n",
              "      <td>0.887679</td>\n",
              "    </tr>\n",
              "    <tr>\n",
              "      <th>5</th>\n",
              "      <td>-1.851443</td>\n",
              "      <td>0.301488</td>\n",
              "      <td>-0.664459</td>\n",
              "      <td>-0.194877</td>\n",
              "    </tr>\n",
              "    <tr>\n",
              "      <th>6</th>\n",
              "      <td>-0.119371</td>\n",
              "      <td>0.246991</td>\n",
              "      <td>0.030196</td>\n",
              "      <td>0.388445</td>\n",
              "    </tr>\n",
              "    <tr>\n",
              "      <th>7</th>\n",
              "      <td>-0.477713</td>\n",
              "      <td>1.241713</td>\n",
              "      <td>-0.155118</td>\n",
              "      <td>1.010158</td>\n",
              "    </tr>\n",
              "    <tr>\n",
              "      <th>8</th>\n",
              "      <td>-0.052091</td>\n",
              "      <td>1.591968</td>\n",
              "      <td>1.258914</td>\n",
              "      <td>-0.076074</td>\n",
              "    </tr>\n",
              "    <tr>\n",
              "      <th>9</th>\n",
              "      <td>-0.535696</td>\n",
              "      <td>-0.334948</td>\n",
              "      <td>2.228743</td>\n",
              "      <td>-0.219563</td>\n",
              "    </tr>\n",
              "  </tbody>\n",
              "</table>\n",
              "</div>\n",
              "    <div class=\"colab-df-buttons\">\n",
              "\n",
              "  <div class=\"colab-df-container\">\n",
              "    <button class=\"colab-df-convert\" onclick=\"convertToInteractive('df-742a431d-4cd4-4c68-8c7c-67226b03f296')\"\n",
              "            title=\"Convert this dataframe to an interactive table.\"\n",
              "            style=\"display:none;\">\n",
              "\n",
              "  <svg xmlns=\"http://www.w3.org/2000/svg\" height=\"24px\" viewBox=\"0 -960 960 960\">\n",
              "    <path d=\"M120-120v-720h720v720H120Zm60-500h600v-160H180v160Zm220 220h160v-160H400v160Zm0 220h160v-160H400v160ZM180-400h160v-160H180v160Zm440 0h160v-160H620v160ZM180-180h160v-160H180v160Zm440 0h160v-160H620v160Z\"/>\n",
              "  </svg>\n",
              "    </button>\n",
              "\n",
              "  <style>\n",
              "    .colab-df-container {\n",
              "      display:flex;\n",
              "      gap: 12px;\n",
              "    }\n",
              "\n",
              "    .colab-df-convert {\n",
              "      background-color: #E8F0FE;\n",
              "      border: none;\n",
              "      border-radius: 50%;\n",
              "      cursor: pointer;\n",
              "      display: none;\n",
              "      fill: #1967D2;\n",
              "      height: 32px;\n",
              "      padding: 0 0 0 0;\n",
              "      width: 32px;\n",
              "    }\n",
              "\n",
              "    .colab-df-convert:hover {\n",
              "      background-color: #E2EBFA;\n",
              "      box-shadow: 0px 1px 2px rgba(60, 64, 67, 0.3), 0px 1px 3px 1px rgba(60, 64, 67, 0.15);\n",
              "      fill: #174EA6;\n",
              "    }\n",
              "\n",
              "    .colab-df-buttons div {\n",
              "      margin-bottom: 4px;\n",
              "    }\n",
              "\n",
              "    [theme=dark] .colab-df-convert {\n",
              "      background-color: #3B4455;\n",
              "      fill: #D2E3FC;\n",
              "    }\n",
              "\n",
              "    [theme=dark] .colab-df-convert:hover {\n",
              "      background-color: #434B5C;\n",
              "      box-shadow: 0px 1px 3px 1px rgba(0, 0, 0, 0.15);\n",
              "      filter: drop-shadow(0px 1px 2px rgba(0, 0, 0, 0.3));\n",
              "      fill: #FFFFFF;\n",
              "    }\n",
              "  </style>\n",
              "\n",
              "    <script>\n",
              "      const buttonEl =\n",
              "        document.querySelector('#df-742a431d-4cd4-4c68-8c7c-67226b03f296 button.colab-df-convert');\n",
              "      buttonEl.style.display =\n",
              "        google.colab.kernel.accessAllowed ? 'block' : 'none';\n",
              "\n",
              "      async function convertToInteractive(key) {\n",
              "        const element = document.querySelector('#df-742a431d-4cd4-4c68-8c7c-67226b03f296');\n",
              "        const dataTable =\n",
              "          await google.colab.kernel.invokeFunction('convertToInteractive',\n",
              "                                                    [key], {});\n",
              "        if (!dataTable) return;\n",
              "\n",
              "        const docLinkHtml = 'Like what you see? Visit the ' +\n",
              "          '<a target=\"_blank\" href=https://colab.research.google.com/notebooks/data_table.ipynb>data table notebook</a>'\n",
              "          + ' to learn more about interactive tables.';\n",
              "        element.innerHTML = '';\n",
              "        dataTable['output_type'] = 'display_data';\n",
              "        await google.colab.output.renderOutput(dataTable, element);\n",
              "        const docLink = document.createElement('div');\n",
              "        docLink.innerHTML = docLinkHtml;\n",
              "        element.appendChild(docLink);\n",
              "      }\n",
              "    </script>\n",
              "  </div>\n",
              "\n",
              "\n",
              "<div id=\"df-82a405fd-cdb8-4608-b54a-e806e07b79ae\">\n",
              "  <button class=\"colab-df-quickchart\" onclick=\"quickchart('df-82a405fd-cdb8-4608-b54a-e806e07b79ae')\"\n",
              "            title=\"Suggest charts\"\n",
              "            style=\"display:none;\">\n",
              "\n",
              "<svg xmlns=\"http://www.w3.org/2000/svg\" height=\"24px\"viewBox=\"0 0 24 24\"\n",
              "     width=\"24px\">\n",
              "    <g>\n",
              "        <path d=\"M19 3H5c-1.1 0-2 .9-2 2v14c0 1.1.9 2 2 2h14c1.1 0 2-.9 2-2V5c0-1.1-.9-2-2-2zM9 17H7v-7h2v7zm4 0h-2V7h2v10zm4 0h-2v-4h2v4z\"/>\n",
              "    </g>\n",
              "</svg>\n",
              "  </button>\n",
              "\n",
              "<style>\n",
              "  .colab-df-quickchart {\n",
              "      --bg-color: #E8F0FE;\n",
              "      --fill-color: #1967D2;\n",
              "      --hover-bg-color: #E2EBFA;\n",
              "      --hover-fill-color: #174EA6;\n",
              "      --disabled-fill-color: #AAA;\n",
              "      --disabled-bg-color: #DDD;\n",
              "  }\n",
              "\n",
              "  [theme=dark] .colab-df-quickchart {\n",
              "      --bg-color: #3B4455;\n",
              "      --fill-color: #D2E3FC;\n",
              "      --hover-bg-color: #434B5C;\n",
              "      --hover-fill-color: #FFFFFF;\n",
              "      --disabled-bg-color: #3B4455;\n",
              "      --disabled-fill-color: #666;\n",
              "  }\n",
              "\n",
              "  .colab-df-quickchart {\n",
              "    background-color: var(--bg-color);\n",
              "    border: none;\n",
              "    border-radius: 50%;\n",
              "    cursor: pointer;\n",
              "    display: none;\n",
              "    fill: var(--fill-color);\n",
              "    height: 32px;\n",
              "    padding: 0;\n",
              "    width: 32px;\n",
              "  }\n",
              "\n",
              "  .colab-df-quickchart:hover {\n",
              "    background-color: var(--hover-bg-color);\n",
              "    box-shadow: 0 1px 2px rgba(60, 64, 67, 0.3), 0 1px 3px 1px rgba(60, 64, 67, 0.15);\n",
              "    fill: var(--button-hover-fill-color);\n",
              "  }\n",
              "\n",
              "  .colab-df-quickchart-complete:disabled,\n",
              "  .colab-df-quickchart-complete:disabled:hover {\n",
              "    background-color: var(--disabled-bg-color);\n",
              "    fill: var(--disabled-fill-color);\n",
              "    box-shadow: none;\n",
              "  }\n",
              "\n",
              "  .colab-df-spinner {\n",
              "    border: 2px solid var(--fill-color);\n",
              "    border-color: transparent;\n",
              "    border-bottom-color: var(--fill-color);\n",
              "    animation:\n",
              "      spin 1s steps(1) infinite;\n",
              "  }\n",
              "\n",
              "  @keyframes spin {\n",
              "    0% {\n",
              "      border-color: transparent;\n",
              "      border-bottom-color: var(--fill-color);\n",
              "      border-left-color: var(--fill-color);\n",
              "    }\n",
              "    20% {\n",
              "      border-color: transparent;\n",
              "      border-left-color: var(--fill-color);\n",
              "      border-top-color: var(--fill-color);\n",
              "    }\n",
              "    30% {\n",
              "      border-color: transparent;\n",
              "      border-left-color: var(--fill-color);\n",
              "      border-top-color: var(--fill-color);\n",
              "      border-right-color: var(--fill-color);\n",
              "    }\n",
              "    40% {\n",
              "      border-color: transparent;\n",
              "      border-right-color: var(--fill-color);\n",
              "      border-top-color: var(--fill-color);\n",
              "    }\n",
              "    60% {\n",
              "      border-color: transparent;\n",
              "      border-right-color: var(--fill-color);\n",
              "    }\n",
              "    80% {\n",
              "      border-color: transparent;\n",
              "      border-right-color: var(--fill-color);\n",
              "      border-bottom-color: var(--fill-color);\n",
              "    }\n",
              "    90% {\n",
              "      border-color: transparent;\n",
              "      border-bottom-color: var(--fill-color);\n",
              "    }\n",
              "  }\n",
              "</style>\n",
              "\n",
              "  <script>\n",
              "    async function quickchart(key) {\n",
              "      const quickchartButtonEl =\n",
              "        document.querySelector('#' + key + ' button');\n",
              "      quickchartButtonEl.disabled = true;  // To prevent multiple clicks.\n",
              "      quickchartButtonEl.classList.add('colab-df-spinner');\n",
              "      try {\n",
              "        const charts = await google.colab.kernel.invokeFunction(\n",
              "            'suggestCharts', [key], {});\n",
              "      } catch (error) {\n",
              "        console.error('Error during call to suggestCharts:', error);\n",
              "      }\n",
              "      quickchartButtonEl.classList.remove('colab-df-spinner');\n",
              "      quickchartButtonEl.classList.add('colab-df-quickchart-complete');\n",
              "    }\n",
              "    (() => {\n",
              "      let quickchartButtonEl =\n",
              "        document.querySelector('#df-82a405fd-cdb8-4608-b54a-e806e07b79ae button');\n",
              "      quickchartButtonEl.style.display =\n",
              "        google.colab.kernel.accessAllowed ? 'block' : 'none';\n",
              "    })();\n",
              "  </script>\n",
              "</div>\n",
              "\n",
              "  <div id=\"id_a7b45f24-cb58-47a0-9765-995d4b0c25c5\">\n",
              "    <style>\n",
              "      .colab-df-generate {\n",
              "        background-color: #E8F0FE;\n",
              "        border: none;\n",
              "        border-radius: 50%;\n",
              "        cursor: pointer;\n",
              "        display: none;\n",
              "        fill: #1967D2;\n",
              "        height: 32px;\n",
              "        padding: 0 0 0 0;\n",
              "        width: 32px;\n",
              "      }\n",
              "\n",
              "      .colab-df-generate:hover {\n",
              "        background-color: #E2EBFA;\n",
              "        box-shadow: 0px 1px 2px rgba(60, 64, 67, 0.3), 0px 1px 3px 1px rgba(60, 64, 67, 0.15);\n",
              "        fill: #174EA6;\n",
              "      }\n",
              "\n",
              "      [theme=dark] .colab-df-generate {\n",
              "        background-color: #3B4455;\n",
              "        fill: #D2E3FC;\n",
              "      }\n",
              "\n",
              "      [theme=dark] .colab-df-generate:hover {\n",
              "        background-color: #434B5C;\n",
              "        box-shadow: 0px 1px 3px 1px rgba(0, 0, 0, 0.15);\n",
              "        filter: drop-shadow(0px 1px 2px rgba(0, 0, 0, 0.3));\n",
              "        fill: #FFFFFF;\n",
              "      }\n",
              "    </style>\n",
              "    <button class=\"colab-df-generate\" onclick=\"generateWithVariable('df1')\"\n",
              "            title=\"Generate code using this dataframe.\"\n",
              "            style=\"display:none;\">\n",
              "\n",
              "  <svg xmlns=\"http://www.w3.org/2000/svg\" height=\"24px\"viewBox=\"0 0 24 24\"\n",
              "       width=\"24px\">\n",
              "    <path d=\"M7,19H8.4L18.45,9,17,7.55,7,17.6ZM5,21V16.75L18.45,3.32a2,2,0,0,1,2.83,0l1.4,1.43a1.91,1.91,0,0,1,.58,1.4,1.91,1.91,0,0,1-.58,1.4L9.25,21ZM18.45,9,17,7.55Zm-12,3A5.31,5.31,0,0,0,4.9,8.1,5.31,5.31,0,0,0,1,6.5,5.31,5.31,0,0,0,4.9,4.9,5.31,5.31,0,0,0,6.5,1,5.31,5.31,0,0,0,8.1,4.9,5.31,5.31,0,0,0,12,6.5,5.46,5.46,0,0,0,6.5,12Z\"/>\n",
              "  </svg>\n",
              "    </button>\n",
              "    <script>\n",
              "      (() => {\n",
              "      const buttonEl =\n",
              "        document.querySelector('#id_a7b45f24-cb58-47a0-9765-995d4b0c25c5 button.colab-df-generate');\n",
              "      buttonEl.style.display =\n",
              "        google.colab.kernel.accessAllowed ? 'block' : 'none';\n",
              "\n",
              "      buttonEl.onclick = () => {\n",
              "        google.colab.notebook.generateWithVariable('df1');\n",
              "      }\n",
              "      })();\n",
              "    </script>\n",
              "  </div>\n",
              "\n",
              "    </div>\n",
              "  </div>\n"
            ],
            "application/vnd.google.colaboratory.intrinsic+json": {
              "type": "dataframe",
              "variable_name": "df1",
              "summary": "{\n  \"name\": \"df1\",\n  \"rows\": 10,\n  \"fields\": [\n    {\n      \"column\": \"A\",\n      \"properties\": {\n        \"dtype\": \"number\",\n        \"std\": 0.8894385849341774,\n        \"min\": -1.8514432937676844,\n        \"max\": 1.4018875803399362,\n        \"num_unique_values\": 10,\n        \"samples\": [\n          -0.05209115201705356,\n          0.12365559867611808,\n          -1.8514432937676844\n        ],\n        \"semantic_type\": \"\",\n        \"description\": \"\"\n      }\n    },\n    {\n      \"column\": \"B\",\n      \"properties\": {\n        \"dtype\": \"number\",\n        \"std\": 0.8346526004186817,\n        \"min\": -1.0626275322752725,\n        \"max\": 1.5919681774951828,\n        \"num_unique_values\": 10,\n        \"samples\": [\n          1.5919681774951828,\n          -1.0626275322752725,\n          0.3014884681864552\n        ],\n        \"semantic_type\": \"\",\n        \"description\": \"\"\n      }\n    },\n    {\n      \"column\": \"C\",\n      \"properties\": {\n        \"dtype\": \"number\",\n        \"std\": 1.1070304576839383,\n        \"min\": -1.4696185578436678,\n        \"max\": 2.228743115448575,\n        \"num_unique_values\": 10,\n        \"samples\": [\n          1.258913561368845,\n          -1.4696185578436678,\n          -0.6644590192816363\n        ],\n        \"semantic_type\": \"\",\n        \"description\": \"\"\n      }\n    },\n    {\n      \"column\": \"D\",\n      \"properties\": {\n        \"dtype\": \"number\",\n        \"std\": 1.0916598432808742,\n        \"min\": -0.8022189555933589,\n        \"max\": 2.96039078398146,\n        \"num_unique_values\": 10,\n        \"samples\": [\n          -0.07607444807238299,\n          -0.8022189555933589,\n          -0.19487711709781305\n        ],\n        \"semantic_type\": \"\",\n        \"description\": \"\"\n      }\n    }\n  ]\n}"
            }
          },
          "metadata": {},
          "execution_count": 143
        }
      ],
      "source": [
        "df1 = pd.DataFrame(np.random.randn(10, 4), columns=['A', 'B', 'C', 'D'])\n",
        "df1"
      ]
    },
    {
      "cell_type": "code",
      "execution_count": 144,
      "metadata": {
        "id": "vJd4RFzFyOmG",
        "outputId": "e3370814-7480-484e-e16b-f8be79f65a94",
        "colab": {
          "base_uri": "https://localhost:8080/",
          "height": 269
        }
      },
      "outputs": [
        {
          "output_type": "execute_result",
          "data": {
            "text/plain": [
              "          A         B         C\n",
              "0  0.842256  0.024092  0.030783\n",
              "1  0.962633 -0.121690 -1.587446\n",
              "2  2.109470 -0.349586 -1.088437\n",
              "3  0.907165  0.010448 -1.144400\n",
              "4  0.648018  0.239700 -0.400919\n",
              "5  0.495203  0.898150  0.425819\n",
              "6 -0.656104 -0.314589  1.019227"
            ],
            "text/html": [
              "\n",
              "  <div id=\"df-9d13f8a3-dc90-4232-a1dd-80a78cc854eb\" class=\"colab-df-container\">\n",
              "    <div>\n",
              "<style scoped>\n",
              "    .dataframe tbody tr th:only-of-type {\n",
              "        vertical-align: middle;\n",
              "    }\n",
              "\n",
              "    .dataframe tbody tr th {\n",
              "        vertical-align: top;\n",
              "    }\n",
              "\n",
              "    .dataframe thead th {\n",
              "        text-align: right;\n",
              "    }\n",
              "</style>\n",
              "<table border=\"1\" class=\"dataframe\">\n",
              "  <thead>\n",
              "    <tr style=\"text-align: right;\">\n",
              "      <th></th>\n",
              "      <th>A</th>\n",
              "      <th>B</th>\n",
              "      <th>C</th>\n",
              "    </tr>\n",
              "  </thead>\n",
              "  <tbody>\n",
              "    <tr>\n",
              "      <th>0</th>\n",
              "      <td>0.842256</td>\n",
              "      <td>0.024092</td>\n",
              "      <td>0.030783</td>\n",
              "    </tr>\n",
              "    <tr>\n",
              "      <th>1</th>\n",
              "      <td>0.962633</td>\n",
              "      <td>-0.121690</td>\n",
              "      <td>-1.587446</td>\n",
              "    </tr>\n",
              "    <tr>\n",
              "      <th>2</th>\n",
              "      <td>2.109470</td>\n",
              "      <td>-0.349586</td>\n",
              "      <td>-1.088437</td>\n",
              "    </tr>\n",
              "    <tr>\n",
              "      <th>3</th>\n",
              "      <td>0.907165</td>\n",
              "      <td>0.010448</td>\n",
              "      <td>-1.144400</td>\n",
              "    </tr>\n",
              "    <tr>\n",
              "      <th>4</th>\n",
              "      <td>0.648018</td>\n",
              "      <td>0.239700</td>\n",
              "      <td>-0.400919</td>\n",
              "    </tr>\n",
              "    <tr>\n",
              "      <th>5</th>\n",
              "      <td>0.495203</td>\n",
              "      <td>0.898150</td>\n",
              "      <td>0.425819</td>\n",
              "    </tr>\n",
              "    <tr>\n",
              "      <th>6</th>\n",
              "      <td>-0.656104</td>\n",
              "      <td>-0.314589</td>\n",
              "      <td>1.019227</td>\n",
              "    </tr>\n",
              "  </tbody>\n",
              "</table>\n",
              "</div>\n",
              "    <div class=\"colab-df-buttons\">\n",
              "\n",
              "  <div class=\"colab-df-container\">\n",
              "    <button class=\"colab-df-convert\" onclick=\"convertToInteractive('df-9d13f8a3-dc90-4232-a1dd-80a78cc854eb')\"\n",
              "            title=\"Convert this dataframe to an interactive table.\"\n",
              "            style=\"display:none;\">\n",
              "\n",
              "  <svg xmlns=\"http://www.w3.org/2000/svg\" height=\"24px\" viewBox=\"0 -960 960 960\">\n",
              "    <path d=\"M120-120v-720h720v720H120Zm60-500h600v-160H180v160Zm220 220h160v-160H400v160Zm0 220h160v-160H400v160ZM180-400h160v-160H180v160Zm440 0h160v-160H620v160ZM180-180h160v-160H180v160Zm440 0h160v-160H620v160Z\"/>\n",
              "  </svg>\n",
              "    </button>\n",
              "\n",
              "  <style>\n",
              "    .colab-df-container {\n",
              "      display:flex;\n",
              "      gap: 12px;\n",
              "    }\n",
              "\n",
              "    .colab-df-convert {\n",
              "      background-color: #E8F0FE;\n",
              "      border: none;\n",
              "      border-radius: 50%;\n",
              "      cursor: pointer;\n",
              "      display: none;\n",
              "      fill: #1967D2;\n",
              "      height: 32px;\n",
              "      padding: 0 0 0 0;\n",
              "      width: 32px;\n",
              "    }\n",
              "\n",
              "    .colab-df-convert:hover {\n",
              "      background-color: #E2EBFA;\n",
              "      box-shadow: 0px 1px 2px rgba(60, 64, 67, 0.3), 0px 1px 3px 1px rgba(60, 64, 67, 0.15);\n",
              "      fill: #174EA6;\n",
              "    }\n",
              "\n",
              "    .colab-df-buttons div {\n",
              "      margin-bottom: 4px;\n",
              "    }\n",
              "\n",
              "    [theme=dark] .colab-df-convert {\n",
              "      background-color: #3B4455;\n",
              "      fill: #D2E3FC;\n",
              "    }\n",
              "\n",
              "    [theme=dark] .colab-df-convert:hover {\n",
              "      background-color: #434B5C;\n",
              "      box-shadow: 0px 1px 3px 1px rgba(0, 0, 0, 0.15);\n",
              "      filter: drop-shadow(0px 1px 2px rgba(0, 0, 0, 0.3));\n",
              "      fill: #FFFFFF;\n",
              "    }\n",
              "  </style>\n",
              "\n",
              "    <script>\n",
              "      const buttonEl =\n",
              "        document.querySelector('#df-9d13f8a3-dc90-4232-a1dd-80a78cc854eb button.colab-df-convert');\n",
              "      buttonEl.style.display =\n",
              "        google.colab.kernel.accessAllowed ? 'block' : 'none';\n",
              "\n",
              "      async function convertToInteractive(key) {\n",
              "        const element = document.querySelector('#df-9d13f8a3-dc90-4232-a1dd-80a78cc854eb');\n",
              "        const dataTable =\n",
              "          await google.colab.kernel.invokeFunction('convertToInteractive',\n",
              "                                                    [key], {});\n",
              "        if (!dataTable) return;\n",
              "\n",
              "        const docLinkHtml = 'Like what you see? Visit the ' +\n",
              "          '<a target=\"_blank\" href=https://colab.research.google.com/notebooks/data_table.ipynb>data table notebook</a>'\n",
              "          + ' to learn more about interactive tables.';\n",
              "        element.innerHTML = '';\n",
              "        dataTable['output_type'] = 'display_data';\n",
              "        await google.colab.output.renderOutput(dataTable, element);\n",
              "        const docLink = document.createElement('div');\n",
              "        docLink.innerHTML = docLinkHtml;\n",
              "        element.appendChild(docLink);\n",
              "      }\n",
              "    </script>\n",
              "  </div>\n",
              "\n",
              "\n",
              "<div id=\"df-986f16b5-d107-47e6-bf82-9f19b56c7666\">\n",
              "  <button class=\"colab-df-quickchart\" onclick=\"quickchart('df-986f16b5-d107-47e6-bf82-9f19b56c7666')\"\n",
              "            title=\"Suggest charts\"\n",
              "            style=\"display:none;\">\n",
              "\n",
              "<svg xmlns=\"http://www.w3.org/2000/svg\" height=\"24px\"viewBox=\"0 0 24 24\"\n",
              "     width=\"24px\">\n",
              "    <g>\n",
              "        <path d=\"M19 3H5c-1.1 0-2 .9-2 2v14c0 1.1.9 2 2 2h14c1.1 0 2-.9 2-2V5c0-1.1-.9-2-2-2zM9 17H7v-7h2v7zm4 0h-2V7h2v10zm4 0h-2v-4h2v4z\"/>\n",
              "    </g>\n",
              "</svg>\n",
              "  </button>\n",
              "\n",
              "<style>\n",
              "  .colab-df-quickchart {\n",
              "      --bg-color: #E8F0FE;\n",
              "      --fill-color: #1967D2;\n",
              "      --hover-bg-color: #E2EBFA;\n",
              "      --hover-fill-color: #174EA6;\n",
              "      --disabled-fill-color: #AAA;\n",
              "      --disabled-bg-color: #DDD;\n",
              "  }\n",
              "\n",
              "  [theme=dark] .colab-df-quickchart {\n",
              "      --bg-color: #3B4455;\n",
              "      --fill-color: #D2E3FC;\n",
              "      --hover-bg-color: #434B5C;\n",
              "      --hover-fill-color: #FFFFFF;\n",
              "      --disabled-bg-color: #3B4455;\n",
              "      --disabled-fill-color: #666;\n",
              "  }\n",
              "\n",
              "  .colab-df-quickchart {\n",
              "    background-color: var(--bg-color);\n",
              "    border: none;\n",
              "    border-radius: 50%;\n",
              "    cursor: pointer;\n",
              "    display: none;\n",
              "    fill: var(--fill-color);\n",
              "    height: 32px;\n",
              "    padding: 0;\n",
              "    width: 32px;\n",
              "  }\n",
              "\n",
              "  .colab-df-quickchart:hover {\n",
              "    background-color: var(--hover-bg-color);\n",
              "    box-shadow: 0 1px 2px rgba(60, 64, 67, 0.3), 0 1px 3px 1px rgba(60, 64, 67, 0.15);\n",
              "    fill: var(--button-hover-fill-color);\n",
              "  }\n",
              "\n",
              "  .colab-df-quickchart-complete:disabled,\n",
              "  .colab-df-quickchart-complete:disabled:hover {\n",
              "    background-color: var(--disabled-bg-color);\n",
              "    fill: var(--disabled-fill-color);\n",
              "    box-shadow: none;\n",
              "  }\n",
              "\n",
              "  .colab-df-spinner {\n",
              "    border: 2px solid var(--fill-color);\n",
              "    border-color: transparent;\n",
              "    border-bottom-color: var(--fill-color);\n",
              "    animation:\n",
              "      spin 1s steps(1) infinite;\n",
              "  }\n",
              "\n",
              "  @keyframes spin {\n",
              "    0% {\n",
              "      border-color: transparent;\n",
              "      border-bottom-color: var(--fill-color);\n",
              "      border-left-color: var(--fill-color);\n",
              "    }\n",
              "    20% {\n",
              "      border-color: transparent;\n",
              "      border-left-color: var(--fill-color);\n",
              "      border-top-color: var(--fill-color);\n",
              "    }\n",
              "    30% {\n",
              "      border-color: transparent;\n",
              "      border-left-color: var(--fill-color);\n",
              "      border-top-color: var(--fill-color);\n",
              "      border-right-color: var(--fill-color);\n",
              "    }\n",
              "    40% {\n",
              "      border-color: transparent;\n",
              "      border-right-color: var(--fill-color);\n",
              "      border-top-color: var(--fill-color);\n",
              "    }\n",
              "    60% {\n",
              "      border-color: transparent;\n",
              "      border-right-color: var(--fill-color);\n",
              "    }\n",
              "    80% {\n",
              "      border-color: transparent;\n",
              "      border-right-color: var(--fill-color);\n",
              "      border-bottom-color: var(--fill-color);\n",
              "    }\n",
              "    90% {\n",
              "      border-color: transparent;\n",
              "      border-bottom-color: var(--fill-color);\n",
              "    }\n",
              "  }\n",
              "</style>\n",
              "\n",
              "  <script>\n",
              "    async function quickchart(key) {\n",
              "      const quickchartButtonEl =\n",
              "        document.querySelector('#' + key + ' button');\n",
              "      quickchartButtonEl.disabled = true;  // To prevent multiple clicks.\n",
              "      quickchartButtonEl.classList.add('colab-df-spinner');\n",
              "      try {\n",
              "        const charts = await google.colab.kernel.invokeFunction(\n",
              "            'suggestCharts', [key], {});\n",
              "      } catch (error) {\n",
              "        console.error('Error during call to suggestCharts:', error);\n",
              "      }\n",
              "      quickchartButtonEl.classList.remove('colab-df-spinner');\n",
              "      quickchartButtonEl.classList.add('colab-df-quickchart-complete');\n",
              "    }\n",
              "    (() => {\n",
              "      let quickchartButtonEl =\n",
              "        document.querySelector('#df-986f16b5-d107-47e6-bf82-9f19b56c7666 button');\n",
              "      quickchartButtonEl.style.display =\n",
              "        google.colab.kernel.accessAllowed ? 'block' : 'none';\n",
              "    })();\n",
              "  </script>\n",
              "</div>\n",
              "\n",
              "  <div id=\"id_9834644b-e8be-42c4-acaf-47a2424c0a2d\">\n",
              "    <style>\n",
              "      .colab-df-generate {\n",
              "        background-color: #E8F0FE;\n",
              "        border: none;\n",
              "        border-radius: 50%;\n",
              "        cursor: pointer;\n",
              "        display: none;\n",
              "        fill: #1967D2;\n",
              "        height: 32px;\n",
              "        padding: 0 0 0 0;\n",
              "        width: 32px;\n",
              "      }\n",
              "\n",
              "      .colab-df-generate:hover {\n",
              "        background-color: #E2EBFA;\n",
              "        box-shadow: 0px 1px 2px rgba(60, 64, 67, 0.3), 0px 1px 3px 1px rgba(60, 64, 67, 0.15);\n",
              "        fill: #174EA6;\n",
              "      }\n",
              "\n",
              "      [theme=dark] .colab-df-generate {\n",
              "        background-color: #3B4455;\n",
              "        fill: #D2E3FC;\n",
              "      }\n",
              "\n",
              "      [theme=dark] .colab-df-generate:hover {\n",
              "        background-color: #434B5C;\n",
              "        box-shadow: 0px 1px 3px 1px rgba(0, 0, 0, 0.15);\n",
              "        filter: drop-shadow(0px 1px 2px rgba(0, 0, 0, 0.3));\n",
              "        fill: #FFFFFF;\n",
              "      }\n",
              "    </style>\n",
              "    <button class=\"colab-df-generate\" onclick=\"generateWithVariable('df2')\"\n",
              "            title=\"Generate code using this dataframe.\"\n",
              "            style=\"display:none;\">\n",
              "\n",
              "  <svg xmlns=\"http://www.w3.org/2000/svg\" height=\"24px\"viewBox=\"0 0 24 24\"\n",
              "       width=\"24px\">\n",
              "    <path d=\"M7,19H8.4L18.45,9,17,7.55,7,17.6ZM5,21V16.75L18.45,3.32a2,2,0,0,1,2.83,0l1.4,1.43a1.91,1.91,0,0,1,.58,1.4,1.91,1.91,0,0,1-.58,1.4L9.25,21ZM18.45,9,17,7.55Zm-12,3A5.31,5.31,0,0,0,4.9,8.1,5.31,5.31,0,0,0,1,6.5,5.31,5.31,0,0,0,4.9,4.9,5.31,5.31,0,0,0,6.5,1,5.31,5.31,0,0,0,8.1,4.9,5.31,5.31,0,0,0,12,6.5,5.46,5.46,0,0,0,6.5,12Z\"/>\n",
              "  </svg>\n",
              "    </button>\n",
              "    <script>\n",
              "      (() => {\n",
              "      const buttonEl =\n",
              "        document.querySelector('#id_9834644b-e8be-42c4-acaf-47a2424c0a2d button.colab-df-generate');\n",
              "      buttonEl.style.display =\n",
              "        google.colab.kernel.accessAllowed ? 'block' : 'none';\n",
              "\n",
              "      buttonEl.onclick = () => {\n",
              "        google.colab.notebook.generateWithVariable('df2');\n",
              "      }\n",
              "      })();\n",
              "    </script>\n",
              "  </div>\n",
              "\n",
              "    </div>\n",
              "  </div>\n"
            ],
            "application/vnd.google.colaboratory.intrinsic+json": {
              "type": "dataframe",
              "variable_name": "df2",
              "summary": "{\n  \"name\": \"df2\",\n  \"rows\": 7,\n  \"fields\": [\n    {\n      \"column\": \"A\",\n      \"properties\": {\n        \"dtype\": \"number\",\n        \"std\": 0.814303808625818,\n        \"min\": -0.6561043579992828,\n        \"max\": 2.109470132060497,\n        \"num_unique_values\": 7,\n        \"samples\": [\n          0.8422557422873427,\n          0.962632991385256,\n          0.4952025750014092\n        ],\n        \"semantic_type\": \"\",\n        \"description\": \"\"\n      }\n    },\n    {\n      \"column\": \"B\",\n      \"properties\": {\n        \"dtype\": \"number\",\n        \"std\": 0.42415828178101267,\n        \"min\": -0.34958598226466986,\n        \"max\": 0.898150244268551,\n        \"num_unique_values\": 7,\n        \"samples\": [\n          0.024091851257149043,\n          -0.12169015607960981,\n          0.898150244268551\n        ],\n        \"semantic_type\": \"\",\n        \"description\": \"\"\n      }\n    },\n    {\n      \"column\": \"C\",\n      \"properties\": {\n        \"dtype\": \"number\",\n        \"std\": 0.9415798057095662,\n        \"min\": -1.5874460494879776,\n        \"max\": 1.0192266023367245,\n        \"num_unique_values\": 7,\n        \"samples\": [\n          0.030783035401952683,\n          -1.5874460494879776,\n          0.42581924387421577\n        ],\n        \"semantic_type\": \"\",\n        \"description\": \"\"\n      }\n    }\n  ]\n}"
            }
          },
          "metadata": {},
          "execution_count": 144
        }
      ],
      "source": [
        "\n",
        "df2 = pd.DataFrame(np.random.randn(7, 3), columns=['A', 'B', 'C'])\n",
        "df2"
      ]
    },
    {
      "cell_type": "code",
      "execution_count": 145,
      "metadata": {
        "id": "H4AR1qdbyOmG",
        "outputId": "459665c0-1778-4f8a-e87e-5b9f47759892",
        "colab": {
          "base_uri": "https://localhost:8080/",
          "height": 363
        }
      },
      "outputs": [
        {
          "output_type": "execute_result",
          "data": {
            "text/plain": [
              "          A         B         C   D\n",
              "0  1.877146  0.194461  0.362265 NaN\n",
              "1  1.086289 -1.184318 -3.057065 NaN\n",
              "2  3.511358 -0.587636 -2.322718 NaN\n",
              "3  0.904188 -0.116897 -0.707042 NaN\n",
              "4  0.209214 -0.643766  0.002458 NaN\n",
              "5 -1.356241  1.199639 -0.238640 NaN\n",
              "6 -0.775475 -0.067597  1.049423 NaN\n",
              "7       NaN       NaN       NaN NaN\n",
              "8       NaN       NaN       NaN NaN\n",
              "9       NaN       NaN       NaN NaN"
            ],
            "text/html": [
              "\n",
              "  <div id=\"df-5802a3f7-e234-40f0-8b8b-72749ae5adc8\" class=\"colab-df-container\">\n",
              "    <div>\n",
              "<style scoped>\n",
              "    .dataframe tbody tr th:only-of-type {\n",
              "        vertical-align: middle;\n",
              "    }\n",
              "\n",
              "    .dataframe tbody tr th {\n",
              "        vertical-align: top;\n",
              "    }\n",
              "\n",
              "    .dataframe thead th {\n",
              "        text-align: right;\n",
              "    }\n",
              "</style>\n",
              "<table border=\"1\" class=\"dataframe\">\n",
              "  <thead>\n",
              "    <tr style=\"text-align: right;\">\n",
              "      <th></th>\n",
              "      <th>A</th>\n",
              "      <th>B</th>\n",
              "      <th>C</th>\n",
              "      <th>D</th>\n",
              "    </tr>\n",
              "  </thead>\n",
              "  <tbody>\n",
              "    <tr>\n",
              "      <th>0</th>\n",
              "      <td>1.877146</td>\n",
              "      <td>0.194461</td>\n",
              "      <td>0.362265</td>\n",
              "      <td>NaN</td>\n",
              "    </tr>\n",
              "    <tr>\n",
              "      <th>1</th>\n",
              "      <td>1.086289</td>\n",
              "      <td>-1.184318</td>\n",
              "      <td>-3.057065</td>\n",
              "      <td>NaN</td>\n",
              "    </tr>\n",
              "    <tr>\n",
              "      <th>2</th>\n",
              "      <td>3.511358</td>\n",
              "      <td>-0.587636</td>\n",
              "      <td>-2.322718</td>\n",
              "      <td>NaN</td>\n",
              "    </tr>\n",
              "    <tr>\n",
              "      <th>3</th>\n",
              "      <td>0.904188</td>\n",
              "      <td>-0.116897</td>\n",
              "      <td>-0.707042</td>\n",
              "      <td>NaN</td>\n",
              "    </tr>\n",
              "    <tr>\n",
              "      <th>4</th>\n",
              "      <td>0.209214</td>\n",
              "      <td>-0.643766</td>\n",
              "      <td>0.002458</td>\n",
              "      <td>NaN</td>\n",
              "    </tr>\n",
              "    <tr>\n",
              "      <th>5</th>\n",
              "      <td>-1.356241</td>\n",
              "      <td>1.199639</td>\n",
              "      <td>-0.238640</td>\n",
              "      <td>NaN</td>\n",
              "    </tr>\n",
              "    <tr>\n",
              "      <th>6</th>\n",
              "      <td>-0.775475</td>\n",
              "      <td>-0.067597</td>\n",
              "      <td>1.049423</td>\n",
              "      <td>NaN</td>\n",
              "    </tr>\n",
              "    <tr>\n",
              "      <th>7</th>\n",
              "      <td>NaN</td>\n",
              "      <td>NaN</td>\n",
              "      <td>NaN</td>\n",
              "      <td>NaN</td>\n",
              "    </tr>\n",
              "    <tr>\n",
              "      <th>8</th>\n",
              "      <td>NaN</td>\n",
              "      <td>NaN</td>\n",
              "      <td>NaN</td>\n",
              "      <td>NaN</td>\n",
              "    </tr>\n",
              "    <tr>\n",
              "      <th>9</th>\n",
              "      <td>NaN</td>\n",
              "      <td>NaN</td>\n",
              "      <td>NaN</td>\n",
              "      <td>NaN</td>\n",
              "    </tr>\n",
              "  </tbody>\n",
              "</table>\n",
              "</div>\n",
              "    <div class=\"colab-df-buttons\">\n",
              "\n",
              "  <div class=\"colab-df-container\">\n",
              "    <button class=\"colab-df-convert\" onclick=\"convertToInteractive('df-5802a3f7-e234-40f0-8b8b-72749ae5adc8')\"\n",
              "            title=\"Convert this dataframe to an interactive table.\"\n",
              "            style=\"display:none;\">\n",
              "\n",
              "  <svg xmlns=\"http://www.w3.org/2000/svg\" height=\"24px\" viewBox=\"0 -960 960 960\">\n",
              "    <path d=\"M120-120v-720h720v720H120Zm60-500h600v-160H180v160Zm220 220h160v-160H400v160Zm0 220h160v-160H400v160ZM180-400h160v-160H180v160Zm440 0h160v-160H620v160ZM180-180h160v-160H180v160Zm440 0h160v-160H620v160Z\"/>\n",
              "  </svg>\n",
              "    </button>\n",
              "\n",
              "  <style>\n",
              "    .colab-df-container {\n",
              "      display:flex;\n",
              "      gap: 12px;\n",
              "    }\n",
              "\n",
              "    .colab-df-convert {\n",
              "      background-color: #E8F0FE;\n",
              "      border: none;\n",
              "      border-radius: 50%;\n",
              "      cursor: pointer;\n",
              "      display: none;\n",
              "      fill: #1967D2;\n",
              "      height: 32px;\n",
              "      padding: 0 0 0 0;\n",
              "      width: 32px;\n",
              "    }\n",
              "\n",
              "    .colab-df-convert:hover {\n",
              "      background-color: #E2EBFA;\n",
              "      box-shadow: 0px 1px 2px rgba(60, 64, 67, 0.3), 0px 1px 3px 1px rgba(60, 64, 67, 0.15);\n",
              "      fill: #174EA6;\n",
              "    }\n",
              "\n",
              "    .colab-df-buttons div {\n",
              "      margin-bottom: 4px;\n",
              "    }\n",
              "\n",
              "    [theme=dark] .colab-df-convert {\n",
              "      background-color: #3B4455;\n",
              "      fill: #D2E3FC;\n",
              "    }\n",
              "\n",
              "    [theme=dark] .colab-df-convert:hover {\n",
              "      background-color: #434B5C;\n",
              "      box-shadow: 0px 1px 3px 1px rgba(0, 0, 0, 0.15);\n",
              "      filter: drop-shadow(0px 1px 2px rgba(0, 0, 0, 0.3));\n",
              "      fill: #FFFFFF;\n",
              "    }\n",
              "  </style>\n",
              "\n",
              "    <script>\n",
              "      const buttonEl =\n",
              "        document.querySelector('#df-5802a3f7-e234-40f0-8b8b-72749ae5adc8 button.colab-df-convert');\n",
              "      buttonEl.style.display =\n",
              "        google.colab.kernel.accessAllowed ? 'block' : 'none';\n",
              "\n",
              "      async function convertToInteractive(key) {\n",
              "        const element = document.querySelector('#df-5802a3f7-e234-40f0-8b8b-72749ae5adc8');\n",
              "        const dataTable =\n",
              "          await google.colab.kernel.invokeFunction('convertToInteractive',\n",
              "                                                    [key], {});\n",
              "        if (!dataTable) return;\n",
              "\n",
              "        const docLinkHtml = 'Like what you see? Visit the ' +\n",
              "          '<a target=\"_blank\" href=https://colab.research.google.com/notebooks/data_table.ipynb>data table notebook</a>'\n",
              "          + ' to learn more about interactive tables.';\n",
              "        element.innerHTML = '';\n",
              "        dataTable['output_type'] = 'display_data';\n",
              "        await google.colab.output.renderOutput(dataTable, element);\n",
              "        const docLink = document.createElement('div');\n",
              "        docLink.innerHTML = docLinkHtml;\n",
              "        element.appendChild(docLink);\n",
              "      }\n",
              "    </script>\n",
              "  </div>\n",
              "\n",
              "\n",
              "<div id=\"df-f821a168-8ff5-4b0e-affa-80f456214f8c\">\n",
              "  <button class=\"colab-df-quickchart\" onclick=\"quickchart('df-f821a168-8ff5-4b0e-affa-80f456214f8c')\"\n",
              "            title=\"Suggest charts\"\n",
              "            style=\"display:none;\">\n",
              "\n",
              "<svg xmlns=\"http://www.w3.org/2000/svg\" height=\"24px\"viewBox=\"0 0 24 24\"\n",
              "     width=\"24px\">\n",
              "    <g>\n",
              "        <path d=\"M19 3H5c-1.1 0-2 .9-2 2v14c0 1.1.9 2 2 2h14c1.1 0 2-.9 2-2V5c0-1.1-.9-2-2-2zM9 17H7v-7h2v7zm4 0h-2V7h2v10zm4 0h-2v-4h2v4z\"/>\n",
              "    </g>\n",
              "</svg>\n",
              "  </button>\n",
              "\n",
              "<style>\n",
              "  .colab-df-quickchart {\n",
              "      --bg-color: #E8F0FE;\n",
              "      --fill-color: #1967D2;\n",
              "      --hover-bg-color: #E2EBFA;\n",
              "      --hover-fill-color: #174EA6;\n",
              "      --disabled-fill-color: #AAA;\n",
              "      --disabled-bg-color: #DDD;\n",
              "  }\n",
              "\n",
              "  [theme=dark] .colab-df-quickchart {\n",
              "      --bg-color: #3B4455;\n",
              "      --fill-color: #D2E3FC;\n",
              "      --hover-bg-color: #434B5C;\n",
              "      --hover-fill-color: #FFFFFF;\n",
              "      --disabled-bg-color: #3B4455;\n",
              "      --disabled-fill-color: #666;\n",
              "  }\n",
              "\n",
              "  .colab-df-quickchart {\n",
              "    background-color: var(--bg-color);\n",
              "    border: none;\n",
              "    border-radius: 50%;\n",
              "    cursor: pointer;\n",
              "    display: none;\n",
              "    fill: var(--fill-color);\n",
              "    height: 32px;\n",
              "    padding: 0;\n",
              "    width: 32px;\n",
              "  }\n",
              "\n",
              "  .colab-df-quickchart:hover {\n",
              "    background-color: var(--hover-bg-color);\n",
              "    box-shadow: 0 1px 2px rgba(60, 64, 67, 0.3), 0 1px 3px 1px rgba(60, 64, 67, 0.15);\n",
              "    fill: var(--button-hover-fill-color);\n",
              "  }\n",
              "\n",
              "  .colab-df-quickchart-complete:disabled,\n",
              "  .colab-df-quickchart-complete:disabled:hover {\n",
              "    background-color: var(--disabled-bg-color);\n",
              "    fill: var(--disabled-fill-color);\n",
              "    box-shadow: none;\n",
              "  }\n",
              "\n",
              "  .colab-df-spinner {\n",
              "    border: 2px solid var(--fill-color);\n",
              "    border-color: transparent;\n",
              "    border-bottom-color: var(--fill-color);\n",
              "    animation:\n",
              "      spin 1s steps(1) infinite;\n",
              "  }\n",
              "\n",
              "  @keyframes spin {\n",
              "    0% {\n",
              "      border-color: transparent;\n",
              "      border-bottom-color: var(--fill-color);\n",
              "      border-left-color: var(--fill-color);\n",
              "    }\n",
              "    20% {\n",
              "      border-color: transparent;\n",
              "      border-left-color: var(--fill-color);\n",
              "      border-top-color: var(--fill-color);\n",
              "    }\n",
              "    30% {\n",
              "      border-color: transparent;\n",
              "      border-left-color: var(--fill-color);\n",
              "      border-top-color: var(--fill-color);\n",
              "      border-right-color: var(--fill-color);\n",
              "    }\n",
              "    40% {\n",
              "      border-color: transparent;\n",
              "      border-right-color: var(--fill-color);\n",
              "      border-top-color: var(--fill-color);\n",
              "    }\n",
              "    60% {\n",
              "      border-color: transparent;\n",
              "      border-right-color: var(--fill-color);\n",
              "    }\n",
              "    80% {\n",
              "      border-color: transparent;\n",
              "      border-right-color: var(--fill-color);\n",
              "      border-bottom-color: var(--fill-color);\n",
              "    }\n",
              "    90% {\n",
              "      border-color: transparent;\n",
              "      border-bottom-color: var(--fill-color);\n",
              "    }\n",
              "  }\n",
              "</style>\n",
              "\n",
              "  <script>\n",
              "    async function quickchart(key) {\n",
              "      const quickchartButtonEl =\n",
              "        document.querySelector('#' + key + ' button');\n",
              "      quickchartButtonEl.disabled = true;  // To prevent multiple clicks.\n",
              "      quickchartButtonEl.classList.add('colab-df-spinner');\n",
              "      try {\n",
              "        const charts = await google.colab.kernel.invokeFunction(\n",
              "            'suggestCharts', [key], {});\n",
              "      } catch (error) {\n",
              "        console.error('Error during call to suggestCharts:', error);\n",
              "      }\n",
              "      quickchartButtonEl.classList.remove('colab-df-spinner');\n",
              "      quickchartButtonEl.classList.add('colab-df-quickchart-complete');\n",
              "    }\n",
              "    (() => {\n",
              "      let quickchartButtonEl =\n",
              "        document.querySelector('#df-f821a168-8ff5-4b0e-affa-80f456214f8c button');\n",
              "      quickchartButtonEl.style.display =\n",
              "        google.colab.kernel.accessAllowed ? 'block' : 'none';\n",
              "    })();\n",
              "  </script>\n",
              "</div>\n",
              "\n",
              "    </div>\n",
              "  </div>\n"
            ],
            "application/vnd.google.colaboratory.intrinsic+json": {
              "type": "dataframe",
              "summary": "{\n  \"name\": \"df1+df2\",\n  \"rows\": 10,\n  \"fields\": [\n    {\n      \"column\": \"A\",\n      \"properties\": {\n        \"dtype\": \"number\",\n        \"std\": 1.6371774861662676,\n        \"min\": -1.356240718766275,\n        \"max\": 3.511357712400433,\n        \"num_unique_values\": 7,\n        \"samples\": [\n          1.8771455368438053,\n          1.0862885900613741,\n          -1.356240718766275\n        ],\n        \"semantic_type\": \"\",\n        \"description\": \"\"\n      }\n    },\n    {\n      \"column\": \"B\",\n      \"properties\": {\n        \"dtype\": \"number\",\n        \"std\": 0.7582574620353122,\n        \"min\": -1.1843176883548823,\n        \"max\": 1.199638712455006,\n        \"num_unique_values\": 7,\n        \"samples\": [\n          0.194461478291717,\n          -1.1843176883548823,\n          1.199638712455006\n        ],\n        \"semantic_type\": \"\",\n        \"description\": \"\"\n      }\n    },\n    {\n      \"column\": \"C\",\n      \"properties\": {\n        \"dtype\": \"number\",\n        \"std\": 1.4767186150454348,\n        \"min\": -3.0570646073316454,\n        \"max\": 1.0494230917746237,\n        \"num_unique_values\": 7,\n        \"samples\": [\n          0.36226549072508796,\n          -3.0570646073316454,\n          -0.23863977540742054\n        ],\n        \"semantic_type\": \"\",\n        \"description\": \"\"\n      }\n    },\n    {\n      \"column\": \"D\",\n      \"properties\": {\n        \"dtype\": \"number\",\n        \"std\": null,\n        \"min\": null,\n        \"max\": null,\n        \"num_unique_values\": 0,\n        \"samples\": [],\n        \"semantic_type\": \"\",\n        \"description\": \"\"\n      }\n    }\n  ]\n}"
            }
          },
          "metadata": {},
          "execution_count": 145
        }
      ],
      "source": [
        "df1+df2"
      ]
    },
    {
      "cell_type": "markdown",
      "metadata": {
        "id": "z84yEseoyOmH"
      },
      "source": [
        "- When doing an operation between DataFrame and Series, the default behavior is to align the Series index on the DataFrame columns, thus broadcasting row-wise. For example:"
      ]
    },
    {
      "cell_type": "code",
      "execution_count": null,
      "metadata": {
        "id": "YVUldOLDyOmH",
        "outputId": "007cfd70-ca72-4677-860c-df9423cc87fb"
      },
      "outputs": [
        {
          "data": {
            "text/html": [
              "<div>\n",
              "<style scoped>\n",
              "    .dataframe tbody tr th:only-of-type {\n",
              "        vertical-align: middle;\n",
              "    }\n",
              "\n",
              "    .dataframe tbody tr th {\n",
              "        vertical-align: top;\n",
              "    }\n",
              "\n",
              "    .dataframe thead th {\n",
              "        text-align: right;\n",
              "    }\n",
              "</style>\n",
              "<table border=\"1\" class=\"dataframe\">\n",
              "  <thead>\n",
              "    <tr style=\"text-align: right;\">\n",
              "      <th></th>\n",
              "      <th>A</th>\n",
              "      <th>B</th>\n",
              "      <th>C</th>\n",
              "      <th>D</th>\n",
              "    </tr>\n",
              "  </thead>\n",
              "  <tbody>\n",
              "    <tr>\n",
              "      <th>0</th>\n",
              "      <td>0.000000</td>\n",
              "      <td>0.000000</td>\n",
              "      <td>0.000000</td>\n",
              "      <td>0.000000</td>\n",
              "    </tr>\n",
              "    <tr>\n",
              "      <th>1</th>\n",
              "      <td>0.722153</td>\n",
              "      <td>-1.275955</td>\n",
              "      <td>0.579979</td>\n",
              "      <td>1.168068</td>\n",
              "    </tr>\n",
              "    <tr>\n",
              "      <th>2</th>\n",
              "      <td>-0.768817</td>\n",
              "      <td>-0.743200</td>\n",
              "      <td>-0.753129</td>\n",
              "      <td>3.333801</td>\n",
              "    </tr>\n",
              "    <tr>\n",
              "      <th>3</th>\n",
              "      <td>0.684915</td>\n",
              "      <td>0.114219</td>\n",
              "      <td>-0.641486</td>\n",
              "      <td>1.107699</td>\n",
              "    </tr>\n",
              "    <tr>\n",
              "      <th>4</th>\n",
              "      <td>-0.457204</td>\n",
              "      <td>-0.232595</td>\n",
              "      <td>-0.871622</td>\n",
              "      <td>1.034753</td>\n",
              "    </tr>\n",
              "    <tr>\n",
              "      <th>5</th>\n",
              "      <td>0.030502</td>\n",
              "      <td>-1.573633</td>\n",
              "      <td>-0.249461</td>\n",
              "      <td>1.452675</td>\n",
              "    </tr>\n",
              "    <tr>\n",
              "      <th>6</th>\n",
              "      <td>0.004839</td>\n",
              "      <td>0.332455</td>\n",
              "      <td>-1.710617</td>\n",
              "      <td>0.926712</td>\n",
              "    </tr>\n",
              "    <tr>\n",
              "      <th>7</th>\n",
              "      <td>0.454640</td>\n",
              "      <td>-0.679244</td>\n",
              "      <td>-1.072280</td>\n",
              "      <td>-1.831968</td>\n",
              "    </tr>\n",
              "    <tr>\n",
              "      <th>8</th>\n",
              "      <td>-1.914198</td>\n",
              "      <td>0.502551</td>\n",
              "      <td>0.236857</td>\n",
              "      <td>1.494064</td>\n",
              "    </tr>\n",
              "    <tr>\n",
              "      <th>9</th>\n",
              "      <td>0.096250</td>\n",
              "      <td>-3.020167</td>\n",
              "      <td>-2.132890</td>\n",
              "      <td>1.015062</td>\n",
              "    </tr>\n",
              "  </tbody>\n",
              "</table>\n",
              "</div>"
            ],
            "text/plain": [
              "          A         B         C         D\n",
              "0  0.000000  0.000000  0.000000  0.000000\n",
              "1  0.722153 -1.275955  0.579979  1.168068\n",
              "2 -0.768817 -0.743200 -0.753129  3.333801\n",
              "3  0.684915  0.114219 -0.641486  1.107699\n",
              "4 -0.457204 -0.232595 -0.871622  1.034753\n",
              "5  0.030502 -1.573633 -0.249461  1.452675\n",
              "6  0.004839  0.332455 -1.710617  0.926712\n",
              "7  0.454640 -0.679244 -1.072280 -1.831968\n",
              "8 -1.914198  0.502551  0.236857  1.494064\n",
              "9  0.096250 -3.020167 -2.132890  1.015062"
            ]
          },
          "execution_count": 47,
          "metadata": {},
          "output_type": "execute_result"
        }
      ],
      "source": [
        "df1 - df1.iloc[0] #every row - row1"
      ]
    },
    {
      "cell_type": "markdown",
      "metadata": {
        "id": "DZDx8VO6yOmH"
      },
      "source": [
        " - In the special case of working with time series data, and the DataFrame index also contains dates, the broadcasting will be column-wise:"
      ]
    },
    {
      "cell_type": "code",
      "execution_count": 146,
      "metadata": {
        "id": "nOgQMCdyyOmH",
        "outputId": "fb1133a7-9034-48c9-a125-1271c214a791",
        "colab": {
          "base_uri": "https://localhost:8080/",
          "height": 300
        }
      },
      "outputs": [
        {
          "output_type": "execute_result",
          "data": {
            "text/plain": [
              "                   A         B         C\n",
              "2024-09-14 -1.223155 -0.606353  0.635369\n",
              "2024-09-15 -0.510234 -0.124415 -0.988832\n",
              "2024-09-16 -0.086071 -1.482434 -0.727254\n",
              "2024-09-17 -0.143070  0.123932  1.369915\n",
              "2024-09-18  0.711746  1.951848  0.391118\n",
              "2024-09-19  0.190468  0.744381 -0.336872\n",
              "2024-09-20  0.381370  0.893776 -0.464068\n",
              "2024-09-21  0.099260  1.297903 -0.479395"
            ],
            "text/html": [
              "\n",
              "  <div id=\"df-5d38d146-ac68-4e0a-a6ae-e2b33586245b\" class=\"colab-df-container\">\n",
              "    <div>\n",
              "<style scoped>\n",
              "    .dataframe tbody tr th:only-of-type {\n",
              "        vertical-align: middle;\n",
              "    }\n",
              "\n",
              "    .dataframe tbody tr th {\n",
              "        vertical-align: top;\n",
              "    }\n",
              "\n",
              "    .dataframe thead th {\n",
              "        text-align: right;\n",
              "    }\n",
              "</style>\n",
              "<table border=\"1\" class=\"dataframe\">\n",
              "  <thead>\n",
              "    <tr style=\"text-align: right;\">\n",
              "      <th></th>\n",
              "      <th>A</th>\n",
              "      <th>B</th>\n",
              "      <th>C</th>\n",
              "    </tr>\n",
              "  </thead>\n",
              "  <tbody>\n",
              "    <tr>\n",
              "      <th>2024-09-14</th>\n",
              "      <td>-1.223155</td>\n",
              "      <td>-0.606353</td>\n",
              "      <td>0.635369</td>\n",
              "    </tr>\n",
              "    <tr>\n",
              "      <th>2024-09-15</th>\n",
              "      <td>-0.510234</td>\n",
              "      <td>-0.124415</td>\n",
              "      <td>-0.988832</td>\n",
              "    </tr>\n",
              "    <tr>\n",
              "      <th>2024-09-16</th>\n",
              "      <td>-0.086071</td>\n",
              "      <td>-1.482434</td>\n",
              "      <td>-0.727254</td>\n",
              "    </tr>\n",
              "    <tr>\n",
              "      <th>2024-09-17</th>\n",
              "      <td>-0.143070</td>\n",
              "      <td>0.123932</td>\n",
              "      <td>1.369915</td>\n",
              "    </tr>\n",
              "    <tr>\n",
              "      <th>2024-09-18</th>\n",
              "      <td>0.711746</td>\n",
              "      <td>1.951848</td>\n",
              "      <td>0.391118</td>\n",
              "    </tr>\n",
              "    <tr>\n",
              "      <th>2024-09-19</th>\n",
              "      <td>0.190468</td>\n",
              "      <td>0.744381</td>\n",
              "      <td>-0.336872</td>\n",
              "    </tr>\n",
              "    <tr>\n",
              "      <th>2024-09-20</th>\n",
              "      <td>0.381370</td>\n",
              "      <td>0.893776</td>\n",
              "      <td>-0.464068</td>\n",
              "    </tr>\n",
              "    <tr>\n",
              "      <th>2024-09-21</th>\n",
              "      <td>0.099260</td>\n",
              "      <td>1.297903</td>\n",
              "      <td>-0.479395</td>\n",
              "    </tr>\n",
              "  </tbody>\n",
              "</table>\n",
              "</div>\n",
              "    <div class=\"colab-df-buttons\">\n",
              "\n",
              "  <div class=\"colab-df-container\">\n",
              "    <button class=\"colab-df-convert\" onclick=\"convertToInteractive('df-5d38d146-ac68-4e0a-a6ae-e2b33586245b')\"\n",
              "            title=\"Convert this dataframe to an interactive table.\"\n",
              "            style=\"display:none;\">\n",
              "\n",
              "  <svg xmlns=\"http://www.w3.org/2000/svg\" height=\"24px\" viewBox=\"0 -960 960 960\">\n",
              "    <path d=\"M120-120v-720h720v720H120Zm60-500h600v-160H180v160Zm220 220h160v-160H400v160Zm0 220h160v-160H400v160ZM180-400h160v-160H180v160Zm440 0h160v-160H620v160ZM180-180h160v-160H180v160Zm440 0h160v-160H620v160Z\"/>\n",
              "  </svg>\n",
              "    </button>\n",
              "\n",
              "  <style>\n",
              "    .colab-df-container {\n",
              "      display:flex;\n",
              "      gap: 12px;\n",
              "    }\n",
              "\n",
              "    .colab-df-convert {\n",
              "      background-color: #E8F0FE;\n",
              "      border: none;\n",
              "      border-radius: 50%;\n",
              "      cursor: pointer;\n",
              "      display: none;\n",
              "      fill: #1967D2;\n",
              "      height: 32px;\n",
              "      padding: 0 0 0 0;\n",
              "      width: 32px;\n",
              "    }\n",
              "\n",
              "    .colab-df-convert:hover {\n",
              "      background-color: #E2EBFA;\n",
              "      box-shadow: 0px 1px 2px rgba(60, 64, 67, 0.3), 0px 1px 3px 1px rgba(60, 64, 67, 0.15);\n",
              "      fill: #174EA6;\n",
              "    }\n",
              "\n",
              "    .colab-df-buttons div {\n",
              "      margin-bottom: 4px;\n",
              "    }\n",
              "\n",
              "    [theme=dark] .colab-df-convert {\n",
              "      background-color: #3B4455;\n",
              "      fill: #D2E3FC;\n",
              "    }\n",
              "\n",
              "    [theme=dark] .colab-df-convert:hover {\n",
              "      background-color: #434B5C;\n",
              "      box-shadow: 0px 1px 3px 1px rgba(0, 0, 0, 0.15);\n",
              "      filter: drop-shadow(0px 1px 2px rgba(0, 0, 0, 0.3));\n",
              "      fill: #FFFFFF;\n",
              "    }\n",
              "  </style>\n",
              "\n",
              "    <script>\n",
              "      const buttonEl =\n",
              "        document.querySelector('#df-5d38d146-ac68-4e0a-a6ae-e2b33586245b button.colab-df-convert');\n",
              "      buttonEl.style.display =\n",
              "        google.colab.kernel.accessAllowed ? 'block' : 'none';\n",
              "\n",
              "      async function convertToInteractive(key) {\n",
              "        const element = document.querySelector('#df-5d38d146-ac68-4e0a-a6ae-e2b33586245b');\n",
              "        const dataTable =\n",
              "          await google.colab.kernel.invokeFunction('convertToInteractive',\n",
              "                                                    [key], {});\n",
              "        if (!dataTable) return;\n",
              "\n",
              "        const docLinkHtml = 'Like what you see? Visit the ' +\n",
              "          '<a target=\"_blank\" href=https://colab.research.google.com/notebooks/data_table.ipynb>data table notebook</a>'\n",
              "          + ' to learn more about interactive tables.';\n",
              "        element.innerHTML = '';\n",
              "        dataTable['output_type'] = 'display_data';\n",
              "        await google.colab.output.renderOutput(dataTable, element);\n",
              "        const docLink = document.createElement('div');\n",
              "        docLink.innerHTML = docLinkHtml;\n",
              "        element.appendChild(docLink);\n",
              "      }\n",
              "    </script>\n",
              "  </div>\n",
              "\n",
              "\n",
              "<div id=\"df-c42210ec-49a7-4118-91b3-451cc064ebbd\">\n",
              "  <button class=\"colab-df-quickchart\" onclick=\"quickchart('df-c42210ec-49a7-4118-91b3-451cc064ebbd')\"\n",
              "            title=\"Suggest charts\"\n",
              "            style=\"display:none;\">\n",
              "\n",
              "<svg xmlns=\"http://www.w3.org/2000/svg\" height=\"24px\"viewBox=\"0 0 24 24\"\n",
              "     width=\"24px\">\n",
              "    <g>\n",
              "        <path d=\"M19 3H5c-1.1 0-2 .9-2 2v14c0 1.1.9 2 2 2h14c1.1 0 2-.9 2-2V5c0-1.1-.9-2-2-2zM9 17H7v-7h2v7zm4 0h-2V7h2v10zm4 0h-2v-4h2v4z\"/>\n",
              "    </g>\n",
              "</svg>\n",
              "  </button>\n",
              "\n",
              "<style>\n",
              "  .colab-df-quickchart {\n",
              "      --bg-color: #E8F0FE;\n",
              "      --fill-color: #1967D2;\n",
              "      --hover-bg-color: #E2EBFA;\n",
              "      --hover-fill-color: #174EA6;\n",
              "      --disabled-fill-color: #AAA;\n",
              "      --disabled-bg-color: #DDD;\n",
              "  }\n",
              "\n",
              "  [theme=dark] .colab-df-quickchart {\n",
              "      --bg-color: #3B4455;\n",
              "      --fill-color: #D2E3FC;\n",
              "      --hover-bg-color: #434B5C;\n",
              "      --hover-fill-color: #FFFFFF;\n",
              "      --disabled-bg-color: #3B4455;\n",
              "      --disabled-fill-color: #666;\n",
              "  }\n",
              "\n",
              "  .colab-df-quickchart {\n",
              "    background-color: var(--bg-color);\n",
              "    border: none;\n",
              "    border-radius: 50%;\n",
              "    cursor: pointer;\n",
              "    display: none;\n",
              "    fill: var(--fill-color);\n",
              "    height: 32px;\n",
              "    padding: 0;\n",
              "    width: 32px;\n",
              "  }\n",
              "\n",
              "  .colab-df-quickchart:hover {\n",
              "    background-color: var(--hover-bg-color);\n",
              "    box-shadow: 0 1px 2px rgba(60, 64, 67, 0.3), 0 1px 3px 1px rgba(60, 64, 67, 0.15);\n",
              "    fill: var(--button-hover-fill-color);\n",
              "  }\n",
              "\n",
              "  .colab-df-quickchart-complete:disabled,\n",
              "  .colab-df-quickchart-complete:disabled:hover {\n",
              "    background-color: var(--disabled-bg-color);\n",
              "    fill: var(--disabled-fill-color);\n",
              "    box-shadow: none;\n",
              "  }\n",
              "\n",
              "  .colab-df-spinner {\n",
              "    border: 2px solid var(--fill-color);\n",
              "    border-color: transparent;\n",
              "    border-bottom-color: var(--fill-color);\n",
              "    animation:\n",
              "      spin 1s steps(1) infinite;\n",
              "  }\n",
              "\n",
              "  @keyframes spin {\n",
              "    0% {\n",
              "      border-color: transparent;\n",
              "      border-bottom-color: var(--fill-color);\n",
              "      border-left-color: var(--fill-color);\n",
              "    }\n",
              "    20% {\n",
              "      border-color: transparent;\n",
              "      border-left-color: var(--fill-color);\n",
              "      border-top-color: var(--fill-color);\n",
              "    }\n",
              "    30% {\n",
              "      border-color: transparent;\n",
              "      border-left-color: var(--fill-color);\n",
              "      border-top-color: var(--fill-color);\n",
              "      border-right-color: var(--fill-color);\n",
              "    }\n",
              "    40% {\n",
              "      border-color: transparent;\n",
              "      border-right-color: var(--fill-color);\n",
              "      border-top-color: var(--fill-color);\n",
              "    }\n",
              "    60% {\n",
              "      border-color: transparent;\n",
              "      border-right-color: var(--fill-color);\n",
              "    }\n",
              "    80% {\n",
              "      border-color: transparent;\n",
              "      border-right-color: var(--fill-color);\n",
              "      border-bottom-color: var(--fill-color);\n",
              "    }\n",
              "    90% {\n",
              "      border-color: transparent;\n",
              "      border-bottom-color: var(--fill-color);\n",
              "    }\n",
              "  }\n",
              "</style>\n",
              "\n",
              "  <script>\n",
              "    async function quickchart(key) {\n",
              "      const quickchartButtonEl =\n",
              "        document.querySelector('#' + key + ' button');\n",
              "      quickchartButtonEl.disabled = true;  // To prevent multiple clicks.\n",
              "      quickchartButtonEl.classList.add('colab-df-spinner');\n",
              "      try {\n",
              "        const charts = await google.colab.kernel.invokeFunction(\n",
              "            'suggestCharts', [key], {});\n",
              "      } catch (error) {\n",
              "        console.error('Error during call to suggestCharts:', error);\n",
              "      }\n",
              "      quickchartButtonEl.classList.remove('colab-df-spinner');\n",
              "      quickchartButtonEl.classList.add('colab-df-quickchart-complete');\n",
              "    }\n",
              "    (() => {\n",
              "      let quickchartButtonEl =\n",
              "        document.querySelector('#df-c42210ec-49a7-4118-91b3-451cc064ebbd button');\n",
              "      quickchartButtonEl.style.display =\n",
              "        google.colab.kernel.accessAllowed ? 'block' : 'none';\n",
              "    })();\n",
              "  </script>\n",
              "</div>\n",
              "\n",
              "  <div id=\"id_e1ae6a67-38fd-431c-975b-307530d49629\">\n",
              "    <style>\n",
              "      .colab-df-generate {\n",
              "        background-color: #E8F0FE;\n",
              "        border: none;\n",
              "        border-radius: 50%;\n",
              "        cursor: pointer;\n",
              "        display: none;\n",
              "        fill: #1967D2;\n",
              "        height: 32px;\n",
              "        padding: 0 0 0 0;\n",
              "        width: 32px;\n",
              "      }\n",
              "\n",
              "      .colab-df-generate:hover {\n",
              "        background-color: #E2EBFA;\n",
              "        box-shadow: 0px 1px 2px rgba(60, 64, 67, 0.3), 0px 1px 3px 1px rgba(60, 64, 67, 0.15);\n",
              "        fill: #174EA6;\n",
              "      }\n",
              "\n",
              "      [theme=dark] .colab-df-generate {\n",
              "        background-color: #3B4455;\n",
              "        fill: #D2E3FC;\n",
              "      }\n",
              "\n",
              "      [theme=dark] .colab-df-generate:hover {\n",
              "        background-color: #434B5C;\n",
              "        box-shadow: 0px 1px 3px 1px rgba(0, 0, 0, 0.15);\n",
              "        filter: drop-shadow(0px 1px 2px rgba(0, 0, 0, 0.3));\n",
              "        fill: #FFFFFF;\n",
              "      }\n",
              "    </style>\n",
              "    <button class=\"colab-df-generate\" onclick=\"generateWithVariable('df')\"\n",
              "            title=\"Generate code using this dataframe.\"\n",
              "            style=\"display:none;\">\n",
              "\n",
              "  <svg xmlns=\"http://www.w3.org/2000/svg\" height=\"24px\"viewBox=\"0 0 24 24\"\n",
              "       width=\"24px\">\n",
              "    <path d=\"M7,19H8.4L18.45,9,17,7.55,7,17.6ZM5,21V16.75L18.45,3.32a2,2,0,0,1,2.83,0l1.4,1.43a1.91,1.91,0,0,1,.58,1.4,1.91,1.91,0,0,1-.58,1.4L9.25,21ZM18.45,9,17,7.55Zm-12,3A5.31,5.31,0,0,0,4.9,8.1,5.31,5.31,0,0,0,1,6.5,5.31,5.31,0,0,0,4.9,4.9,5.31,5.31,0,0,0,6.5,1,5.31,5.31,0,0,0,8.1,4.9,5.31,5.31,0,0,0,12,6.5,5.46,5.46,0,0,0,6.5,12Z\"/>\n",
              "  </svg>\n",
              "    </button>\n",
              "    <script>\n",
              "      (() => {\n",
              "      const buttonEl =\n",
              "        document.querySelector('#id_e1ae6a67-38fd-431c-975b-307530d49629 button.colab-df-generate');\n",
              "      buttonEl.style.display =\n",
              "        google.colab.kernel.accessAllowed ? 'block' : 'none';\n",
              "\n",
              "      buttonEl.onclick = () => {\n",
              "        google.colab.notebook.generateWithVariable('df');\n",
              "      }\n",
              "      })();\n",
              "    </script>\n",
              "  </div>\n",
              "\n",
              "    </div>\n",
              "  </div>\n"
            ],
            "application/vnd.google.colaboratory.intrinsic+json": {
              "type": "dataframe",
              "variable_name": "df",
              "summary": "{\n  \"name\": \"df\",\n  \"rows\": 8,\n  \"fields\": [\n    {\n      \"column\": \"A\",\n      \"properties\": {\n        \"dtype\": \"number\",\n        \"std\": 0.5904570935141413,\n        \"min\": -1.2231553070520913,\n        \"max\": 0.7117459442375992,\n        \"num_unique_values\": 8,\n        \"samples\": [\n          -0.5102344838300443,\n          0.19046791954405162,\n          -1.2231553070520913\n        ],\n        \"semantic_type\": \"\",\n        \"description\": \"\"\n      }\n    },\n    {\n      \"column\": \"B\",\n      \"properties\": {\n        \"dtype\": \"number\",\n        \"std\": 1.0996277160696386,\n        \"min\": -1.4824342068856529,\n        \"max\": 1.9518477103604042,\n        \"num_unique_values\": 8,\n        \"samples\": [\n          -0.12441522872598164,\n          0.744381093168459,\n          -0.6063532696735052\n        ],\n        \"semantic_type\": \"\",\n        \"description\": \"\"\n      }\n    },\n    {\n      \"column\": \"C\",\n      \"properties\": {\n        \"dtype\": \"number\",\n        \"std\": 0.7976467004607579,\n        \"min\": -0.9888324888305456,\n        \"max\": 1.369915374793826,\n        \"num_unique_values\": 8,\n        \"samples\": [\n          -0.9888324888305456,\n          -0.3368722822578029,\n          0.635368860540096\n        ],\n        \"semantic_type\": \"\",\n        \"description\": \"\"\n      }\n    }\n  ]\n}"
            }
          },
          "metadata": {},
          "execution_count": 146
        }
      ],
      "source": [
        "index = pd.date_range('14/9/2024', periods=8)\n",
        "df = pd.DataFrame(np.random.randn(8, 3), index=index, columns=list('ABC'))\n",
        "df"
      ]
    },
    {
      "cell_type": "code",
      "execution_count": 147,
      "metadata": {
        "id": "kZCFFOz-yOmI",
        "outputId": "8ebd8961-a0d0-446e-fe27-42e15a5ee8f9",
        "colab": {
          "base_uri": "https://localhost:8080/",
          "height": 363
        }
      },
      "outputs": [
        {
          "output_type": "execute_result",
          "data": {
            "text/plain": [
              "           A          B          C          D\n",
              "0  12.348898   3.703696   5.314825  31.603908\n",
              "1   3.236556  -8.626275 -12.696186  -6.022190\n",
              "2  16.018876  -0.380499 -10.342809   9.144966\n",
              "3   1.970230   0.726548   6.373580  -4.252787\n",
              "4  -2.388038  -6.834669   6.033765  10.876790\n",
              "5 -16.514433   5.014885  -4.644590   0.051229\n",
              "6   0.806292   4.469912   2.301965   5.884455\n",
              "7  -2.777127  14.417130   0.448817  12.101579\n",
              "8   1.479088  17.919682  14.589136   1.239256\n",
              "9  -3.356965  -1.349477  24.287431  -0.195633"
            ],
            "text/html": [
              "\n",
              "  <div id=\"df-171b5012-edca-4285-b752-58607496774f\" class=\"colab-df-container\">\n",
              "    <div>\n",
              "<style scoped>\n",
              "    .dataframe tbody tr th:only-of-type {\n",
              "        vertical-align: middle;\n",
              "    }\n",
              "\n",
              "    .dataframe tbody tr th {\n",
              "        vertical-align: top;\n",
              "    }\n",
              "\n",
              "    .dataframe thead th {\n",
              "        text-align: right;\n",
              "    }\n",
              "</style>\n",
              "<table border=\"1\" class=\"dataframe\">\n",
              "  <thead>\n",
              "    <tr style=\"text-align: right;\">\n",
              "      <th></th>\n",
              "      <th>A</th>\n",
              "      <th>B</th>\n",
              "      <th>C</th>\n",
              "      <th>D</th>\n",
              "    </tr>\n",
              "  </thead>\n",
              "  <tbody>\n",
              "    <tr>\n",
              "      <th>0</th>\n",
              "      <td>12.348898</td>\n",
              "      <td>3.703696</td>\n",
              "      <td>5.314825</td>\n",
              "      <td>31.603908</td>\n",
              "    </tr>\n",
              "    <tr>\n",
              "      <th>1</th>\n",
              "      <td>3.236556</td>\n",
              "      <td>-8.626275</td>\n",
              "      <td>-12.696186</td>\n",
              "      <td>-6.022190</td>\n",
              "    </tr>\n",
              "    <tr>\n",
              "      <th>2</th>\n",
              "      <td>16.018876</td>\n",
              "      <td>-0.380499</td>\n",
              "      <td>-10.342809</td>\n",
              "      <td>9.144966</td>\n",
              "    </tr>\n",
              "    <tr>\n",
              "      <th>3</th>\n",
              "      <td>1.970230</td>\n",
              "      <td>0.726548</td>\n",
              "      <td>6.373580</td>\n",
              "      <td>-4.252787</td>\n",
              "    </tr>\n",
              "    <tr>\n",
              "      <th>4</th>\n",
              "      <td>-2.388038</td>\n",
              "      <td>-6.834669</td>\n",
              "      <td>6.033765</td>\n",
              "      <td>10.876790</td>\n",
              "    </tr>\n",
              "    <tr>\n",
              "      <th>5</th>\n",
              "      <td>-16.514433</td>\n",
              "      <td>5.014885</td>\n",
              "      <td>-4.644590</td>\n",
              "      <td>0.051229</td>\n",
              "    </tr>\n",
              "    <tr>\n",
              "      <th>6</th>\n",
              "      <td>0.806292</td>\n",
              "      <td>4.469912</td>\n",
              "      <td>2.301965</td>\n",
              "      <td>5.884455</td>\n",
              "    </tr>\n",
              "    <tr>\n",
              "      <th>7</th>\n",
              "      <td>-2.777127</td>\n",
              "      <td>14.417130</td>\n",
              "      <td>0.448817</td>\n",
              "      <td>12.101579</td>\n",
              "    </tr>\n",
              "    <tr>\n",
              "      <th>8</th>\n",
              "      <td>1.479088</td>\n",
              "      <td>17.919682</td>\n",
              "      <td>14.589136</td>\n",
              "      <td>1.239256</td>\n",
              "    </tr>\n",
              "    <tr>\n",
              "      <th>9</th>\n",
              "      <td>-3.356965</td>\n",
              "      <td>-1.349477</td>\n",
              "      <td>24.287431</td>\n",
              "      <td>-0.195633</td>\n",
              "    </tr>\n",
              "  </tbody>\n",
              "</table>\n",
              "</div>\n",
              "    <div class=\"colab-df-buttons\">\n",
              "\n",
              "  <div class=\"colab-df-container\">\n",
              "    <button class=\"colab-df-convert\" onclick=\"convertToInteractive('df-171b5012-edca-4285-b752-58607496774f')\"\n",
              "            title=\"Convert this dataframe to an interactive table.\"\n",
              "            style=\"display:none;\">\n",
              "\n",
              "  <svg xmlns=\"http://www.w3.org/2000/svg\" height=\"24px\" viewBox=\"0 -960 960 960\">\n",
              "    <path d=\"M120-120v-720h720v720H120Zm60-500h600v-160H180v160Zm220 220h160v-160H400v160Zm0 220h160v-160H400v160ZM180-400h160v-160H180v160Zm440 0h160v-160H620v160ZM180-180h160v-160H180v160Zm440 0h160v-160H620v160Z\"/>\n",
              "  </svg>\n",
              "    </button>\n",
              "\n",
              "  <style>\n",
              "    .colab-df-container {\n",
              "      display:flex;\n",
              "      gap: 12px;\n",
              "    }\n",
              "\n",
              "    .colab-df-convert {\n",
              "      background-color: #E8F0FE;\n",
              "      border: none;\n",
              "      border-radius: 50%;\n",
              "      cursor: pointer;\n",
              "      display: none;\n",
              "      fill: #1967D2;\n",
              "      height: 32px;\n",
              "      padding: 0 0 0 0;\n",
              "      width: 32px;\n",
              "    }\n",
              "\n",
              "    .colab-df-convert:hover {\n",
              "      background-color: #E2EBFA;\n",
              "      box-shadow: 0px 1px 2px rgba(60, 64, 67, 0.3), 0px 1px 3px 1px rgba(60, 64, 67, 0.15);\n",
              "      fill: #174EA6;\n",
              "    }\n",
              "\n",
              "    .colab-df-buttons div {\n",
              "      margin-bottom: 4px;\n",
              "    }\n",
              "\n",
              "    [theme=dark] .colab-df-convert {\n",
              "      background-color: #3B4455;\n",
              "      fill: #D2E3FC;\n",
              "    }\n",
              "\n",
              "    [theme=dark] .colab-df-convert:hover {\n",
              "      background-color: #434B5C;\n",
              "      box-shadow: 0px 1px 3px 1px rgba(0, 0, 0, 0.15);\n",
              "      filter: drop-shadow(0px 1px 2px rgba(0, 0, 0, 0.3));\n",
              "      fill: #FFFFFF;\n",
              "    }\n",
              "  </style>\n",
              "\n",
              "    <script>\n",
              "      const buttonEl =\n",
              "        document.querySelector('#df-171b5012-edca-4285-b752-58607496774f button.colab-df-convert');\n",
              "      buttonEl.style.display =\n",
              "        google.colab.kernel.accessAllowed ? 'block' : 'none';\n",
              "\n",
              "      async function convertToInteractive(key) {\n",
              "        const element = document.querySelector('#df-171b5012-edca-4285-b752-58607496774f');\n",
              "        const dataTable =\n",
              "          await google.colab.kernel.invokeFunction('convertToInteractive',\n",
              "                                                    [key], {});\n",
              "        if (!dataTable) return;\n",
              "\n",
              "        const docLinkHtml = 'Like what you see? Visit the ' +\n",
              "          '<a target=\"_blank\" href=https://colab.research.google.com/notebooks/data_table.ipynb>data table notebook</a>'\n",
              "          + ' to learn more about interactive tables.';\n",
              "        element.innerHTML = '';\n",
              "        dataTable['output_type'] = 'display_data';\n",
              "        await google.colab.output.renderOutput(dataTable, element);\n",
              "        const docLink = document.createElement('div');\n",
              "        docLink.innerHTML = docLinkHtml;\n",
              "        element.appendChild(docLink);\n",
              "      }\n",
              "    </script>\n",
              "  </div>\n",
              "\n",
              "\n",
              "<div id=\"df-901956af-f2f1-4029-8f57-ca3dad4f2388\">\n",
              "  <button class=\"colab-df-quickchart\" onclick=\"quickchart('df-901956af-f2f1-4029-8f57-ca3dad4f2388')\"\n",
              "            title=\"Suggest charts\"\n",
              "            style=\"display:none;\">\n",
              "\n",
              "<svg xmlns=\"http://www.w3.org/2000/svg\" height=\"24px\"viewBox=\"0 0 24 24\"\n",
              "     width=\"24px\">\n",
              "    <g>\n",
              "        <path d=\"M19 3H5c-1.1 0-2 .9-2 2v14c0 1.1.9 2 2 2h14c1.1 0 2-.9 2-2V5c0-1.1-.9-2-2-2zM9 17H7v-7h2v7zm4 0h-2V7h2v10zm4 0h-2v-4h2v4z\"/>\n",
              "    </g>\n",
              "</svg>\n",
              "  </button>\n",
              "\n",
              "<style>\n",
              "  .colab-df-quickchart {\n",
              "      --bg-color: #E8F0FE;\n",
              "      --fill-color: #1967D2;\n",
              "      --hover-bg-color: #E2EBFA;\n",
              "      --hover-fill-color: #174EA6;\n",
              "      --disabled-fill-color: #AAA;\n",
              "      --disabled-bg-color: #DDD;\n",
              "  }\n",
              "\n",
              "  [theme=dark] .colab-df-quickchart {\n",
              "      --bg-color: #3B4455;\n",
              "      --fill-color: #D2E3FC;\n",
              "      --hover-bg-color: #434B5C;\n",
              "      --hover-fill-color: #FFFFFF;\n",
              "      --disabled-bg-color: #3B4455;\n",
              "      --disabled-fill-color: #666;\n",
              "  }\n",
              "\n",
              "  .colab-df-quickchart {\n",
              "    background-color: var(--bg-color);\n",
              "    border: none;\n",
              "    border-radius: 50%;\n",
              "    cursor: pointer;\n",
              "    display: none;\n",
              "    fill: var(--fill-color);\n",
              "    height: 32px;\n",
              "    padding: 0;\n",
              "    width: 32px;\n",
              "  }\n",
              "\n",
              "  .colab-df-quickchart:hover {\n",
              "    background-color: var(--hover-bg-color);\n",
              "    box-shadow: 0 1px 2px rgba(60, 64, 67, 0.3), 0 1px 3px 1px rgba(60, 64, 67, 0.15);\n",
              "    fill: var(--button-hover-fill-color);\n",
              "  }\n",
              "\n",
              "  .colab-df-quickchart-complete:disabled,\n",
              "  .colab-df-quickchart-complete:disabled:hover {\n",
              "    background-color: var(--disabled-bg-color);\n",
              "    fill: var(--disabled-fill-color);\n",
              "    box-shadow: none;\n",
              "  }\n",
              "\n",
              "  .colab-df-spinner {\n",
              "    border: 2px solid var(--fill-color);\n",
              "    border-color: transparent;\n",
              "    border-bottom-color: var(--fill-color);\n",
              "    animation:\n",
              "      spin 1s steps(1) infinite;\n",
              "  }\n",
              "\n",
              "  @keyframes spin {\n",
              "    0% {\n",
              "      border-color: transparent;\n",
              "      border-bottom-color: var(--fill-color);\n",
              "      border-left-color: var(--fill-color);\n",
              "    }\n",
              "    20% {\n",
              "      border-color: transparent;\n",
              "      border-left-color: var(--fill-color);\n",
              "      border-top-color: var(--fill-color);\n",
              "    }\n",
              "    30% {\n",
              "      border-color: transparent;\n",
              "      border-left-color: var(--fill-color);\n",
              "      border-top-color: var(--fill-color);\n",
              "      border-right-color: var(--fill-color);\n",
              "    }\n",
              "    40% {\n",
              "      border-color: transparent;\n",
              "      border-right-color: var(--fill-color);\n",
              "      border-top-color: var(--fill-color);\n",
              "    }\n",
              "    60% {\n",
              "      border-color: transparent;\n",
              "      border-right-color: var(--fill-color);\n",
              "    }\n",
              "    80% {\n",
              "      border-color: transparent;\n",
              "      border-right-color: var(--fill-color);\n",
              "      border-bottom-color: var(--fill-color);\n",
              "    }\n",
              "    90% {\n",
              "      border-color: transparent;\n",
              "      border-bottom-color: var(--fill-color);\n",
              "    }\n",
              "  }\n",
              "</style>\n",
              "\n",
              "  <script>\n",
              "    async function quickchart(key) {\n",
              "      const quickchartButtonEl =\n",
              "        document.querySelector('#' + key + ' button');\n",
              "      quickchartButtonEl.disabled = true;  // To prevent multiple clicks.\n",
              "      quickchartButtonEl.classList.add('colab-df-spinner');\n",
              "      try {\n",
              "        const charts = await google.colab.kernel.invokeFunction(\n",
              "            'suggestCharts', [key], {});\n",
              "      } catch (error) {\n",
              "        console.error('Error during call to suggestCharts:', error);\n",
              "      }\n",
              "      quickchartButtonEl.classList.remove('colab-df-spinner');\n",
              "      quickchartButtonEl.classList.add('colab-df-quickchart-complete');\n",
              "    }\n",
              "    (() => {\n",
              "      let quickchartButtonEl =\n",
              "        document.querySelector('#df-901956af-f2f1-4029-8f57-ca3dad4f2388 button');\n",
              "      quickchartButtonEl.style.display =\n",
              "        google.colab.kernel.accessAllowed ? 'block' : 'none';\n",
              "    })();\n",
              "  </script>\n",
              "</div>\n",
              "\n",
              "    </div>\n",
              "  </div>\n"
            ],
            "application/vnd.google.colaboratory.intrinsic+json": {
              "type": "dataframe",
              "summary": "{\n  \"name\": \"df1* 10 + 2\",\n  \"rows\": 10,\n  \"fields\": [\n    {\n      \"column\": \"A\",\n      \"properties\": {\n        \"dtype\": \"number\",\n        \"std\": 8.894385849341775,\n        \"min\": -16.514432937676844,\n        \"max\": 16.01887580339936,\n        \"num_unique_values\": 10,\n        \"samples\": [\n          1.4790884798294643,\n          3.236555986761181,\n          -16.514432937676844\n        ],\n        \"semantic_type\": \"\",\n        \"description\": \"\"\n      }\n    },\n    {\n      \"column\": \"B\",\n      \"properties\": {\n        \"dtype\": \"number\",\n        \"std\": 8.346526004186817,\n        \"min\": -8.626275322752726,\n        \"max\": 17.919681774951826,\n        \"num_unique_values\": 10,\n        \"samples\": [\n          17.919681774951826,\n          -8.626275322752726,\n          5.014884681864552\n        ],\n        \"semantic_type\": \"\",\n        \"description\": \"\"\n      }\n    },\n    {\n      \"column\": \"C\",\n      \"properties\": {\n        \"dtype\": \"number\",\n        \"std\": 11.070304576839382,\n        \"min\": -12.696185578436678,\n        \"max\": 24.28743115448575,\n        \"num_unique_values\": 10,\n        \"samples\": [\n          14.589135613688448,\n          -12.696185578436678,\n          -4.644590192816363\n        ],\n        \"semantic_type\": \"\",\n        \"description\": \"\"\n      }\n    },\n    {\n      \"column\": \"D\",\n      \"properties\": {\n        \"dtype\": \"number\",\n        \"std\": 10.916598432808744,\n        \"min\": -6.022189555933588,\n        \"max\": 31.6039078398146,\n        \"num_unique_values\": 10,\n        \"samples\": [\n          1.23925551927617,\n          -6.022189555933588,\n          0.051228829021869426\n        ],\n        \"semantic_type\": \"\",\n        \"description\": \"\"\n      }\n    }\n  ]\n}"
            }
          },
          "metadata": {},
          "execution_count": 147
        }
      ],
      "source": [
        "df1* 10 + 2"
      ]
    },
    {
      "cell_type": "code",
      "execution_count": 148,
      "metadata": {
        "id": "C7pwByw1yOmI",
        "outputId": "e2bcaee0-b1f5-4a54-f1e9-84c9435123fb",
        "colab": {
          "base_uri": "https://localhost:8080/",
          "height": 363
        }
      },
      "outputs": [
        {
          "output_type": "execute_result",
          "data": {
            "text/plain": [
              "            A         B          C          D\n",
              "0    0.966286  5.869591   3.016751   0.337793\n",
              "1    8.086977 -0.941064  -0.680449  -1.246542\n",
              "2    0.713324 -4.200799  -0.810188   1.399587\n",
              "3 -335.910831 -7.852670   2.286457  -1.599287\n",
              "4   -2.278923 -1.131904   2.479073   1.126533\n",
              "5   -0.540119  3.316876  -1.504984  -5.131439\n",
              "6   -8.377258  4.048727  33.116432   2.574364\n",
              "7   -2.093308  0.805339  -6.446692   0.989944\n",
              "8  -19.197118  0.628153   0.794336 -13.145018\n",
              "9   -1.866729 -2.985540   0.448683  -4.554495"
            ],
            "text/html": [
              "\n",
              "  <div id=\"df-c591e5b3-5ac2-47f7-8e86-fbab668ca5a2\" class=\"colab-df-container\">\n",
              "    <div>\n",
              "<style scoped>\n",
              "    .dataframe tbody tr th:only-of-type {\n",
              "        vertical-align: middle;\n",
              "    }\n",
              "\n",
              "    .dataframe tbody tr th {\n",
              "        vertical-align: top;\n",
              "    }\n",
              "\n",
              "    .dataframe thead th {\n",
              "        text-align: right;\n",
              "    }\n",
              "</style>\n",
              "<table border=\"1\" class=\"dataframe\">\n",
              "  <thead>\n",
              "    <tr style=\"text-align: right;\">\n",
              "      <th></th>\n",
              "      <th>A</th>\n",
              "      <th>B</th>\n",
              "      <th>C</th>\n",
              "      <th>D</th>\n",
              "    </tr>\n",
              "  </thead>\n",
              "  <tbody>\n",
              "    <tr>\n",
              "      <th>0</th>\n",
              "      <td>0.966286</td>\n",
              "      <td>5.869591</td>\n",
              "      <td>3.016751</td>\n",
              "      <td>0.337793</td>\n",
              "    </tr>\n",
              "    <tr>\n",
              "      <th>1</th>\n",
              "      <td>8.086977</td>\n",
              "      <td>-0.941064</td>\n",
              "      <td>-0.680449</td>\n",
              "      <td>-1.246542</td>\n",
              "    </tr>\n",
              "    <tr>\n",
              "      <th>2</th>\n",
              "      <td>0.713324</td>\n",
              "      <td>-4.200799</td>\n",
              "      <td>-0.810188</td>\n",
              "      <td>1.399587</td>\n",
              "    </tr>\n",
              "    <tr>\n",
              "      <th>3</th>\n",
              "      <td>-335.910831</td>\n",
              "      <td>-7.852670</td>\n",
              "      <td>2.286457</td>\n",
              "      <td>-1.599287</td>\n",
              "    </tr>\n",
              "    <tr>\n",
              "      <th>4</th>\n",
              "      <td>-2.278923</td>\n",
              "      <td>-1.131904</td>\n",
              "      <td>2.479073</td>\n",
              "      <td>1.126533</td>\n",
              "    </tr>\n",
              "    <tr>\n",
              "      <th>5</th>\n",
              "      <td>-0.540119</td>\n",
              "      <td>3.316876</td>\n",
              "      <td>-1.504984</td>\n",
              "      <td>-5.131439</td>\n",
              "    </tr>\n",
              "    <tr>\n",
              "      <th>6</th>\n",
              "      <td>-8.377258</td>\n",
              "      <td>4.048727</td>\n",
              "      <td>33.116432</td>\n",
              "      <td>2.574364</td>\n",
              "    </tr>\n",
              "    <tr>\n",
              "      <th>7</th>\n",
              "      <td>-2.093308</td>\n",
              "      <td>0.805339</td>\n",
              "      <td>-6.446692</td>\n",
              "      <td>0.989944</td>\n",
              "    </tr>\n",
              "    <tr>\n",
              "      <th>8</th>\n",
              "      <td>-19.197118</td>\n",
              "      <td>0.628153</td>\n",
              "      <td>0.794336</td>\n",
              "      <td>-13.145018</td>\n",
              "    </tr>\n",
              "    <tr>\n",
              "      <th>9</th>\n",
              "      <td>-1.866729</td>\n",
              "      <td>-2.985540</td>\n",
              "      <td>0.448683</td>\n",
              "      <td>-4.554495</td>\n",
              "    </tr>\n",
              "  </tbody>\n",
              "</table>\n",
              "</div>\n",
              "    <div class=\"colab-df-buttons\">\n",
              "\n",
              "  <div class=\"colab-df-container\">\n",
              "    <button class=\"colab-df-convert\" onclick=\"convertToInteractive('df-c591e5b3-5ac2-47f7-8e86-fbab668ca5a2')\"\n",
              "            title=\"Convert this dataframe to an interactive table.\"\n",
              "            style=\"display:none;\">\n",
              "\n",
              "  <svg xmlns=\"http://www.w3.org/2000/svg\" height=\"24px\" viewBox=\"0 -960 960 960\">\n",
              "    <path d=\"M120-120v-720h720v720H120Zm60-500h600v-160H180v160Zm220 220h160v-160H400v160Zm0 220h160v-160H400v160ZM180-400h160v-160H180v160Zm440 0h160v-160H620v160ZM180-180h160v-160H180v160Zm440 0h160v-160H620v160Z\"/>\n",
              "  </svg>\n",
              "    </button>\n",
              "\n",
              "  <style>\n",
              "    .colab-df-container {\n",
              "      display:flex;\n",
              "      gap: 12px;\n",
              "    }\n",
              "\n",
              "    .colab-df-convert {\n",
              "      background-color: #E8F0FE;\n",
              "      border: none;\n",
              "      border-radius: 50%;\n",
              "      cursor: pointer;\n",
              "      display: none;\n",
              "      fill: #1967D2;\n",
              "      height: 32px;\n",
              "      padding: 0 0 0 0;\n",
              "      width: 32px;\n",
              "    }\n",
              "\n",
              "    .colab-df-convert:hover {\n",
              "      background-color: #E2EBFA;\n",
              "      box-shadow: 0px 1px 2px rgba(60, 64, 67, 0.3), 0px 1px 3px 1px rgba(60, 64, 67, 0.15);\n",
              "      fill: #174EA6;\n",
              "    }\n",
              "\n",
              "    .colab-df-buttons div {\n",
              "      margin-bottom: 4px;\n",
              "    }\n",
              "\n",
              "    [theme=dark] .colab-df-convert {\n",
              "      background-color: #3B4455;\n",
              "      fill: #D2E3FC;\n",
              "    }\n",
              "\n",
              "    [theme=dark] .colab-df-convert:hover {\n",
              "      background-color: #434B5C;\n",
              "      box-shadow: 0px 1px 3px 1px rgba(0, 0, 0, 0.15);\n",
              "      filter: drop-shadow(0px 1px 2px rgba(0, 0, 0, 0.3));\n",
              "      fill: #FFFFFF;\n",
              "    }\n",
              "  </style>\n",
              "\n",
              "    <script>\n",
              "      const buttonEl =\n",
              "        document.querySelector('#df-c591e5b3-5ac2-47f7-8e86-fbab668ca5a2 button.colab-df-convert');\n",
              "      buttonEl.style.display =\n",
              "        google.colab.kernel.accessAllowed ? 'block' : 'none';\n",
              "\n",
              "      async function convertToInteractive(key) {\n",
              "        const element = document.querySelector('#df-c591e5b3-5ac2-47f7-8e86-fbab668ca5a2');\n",
              "        const dataTable =\n",
              "          await google.colab.kernel.invokeFunction('convertToInteractive',\n",
              "                                                    [key], {});\n",
              "        if (!dataTable) return;\n",
              "\n",
              "        const docLinkHtml = 'Like what you see? Visit the ' +\n",
              "          '<a target=\"_blank\" href=https://colab.research.google.com/notebooks/data_table.ipynb>data table notebook</a>'\n",
              "          + ' to learn more about interactive tables.';\n",
              "        element.innerHTML = '';\n",
              "        dataTable['output_type'] = 'display_data';\n",
              "        await google.colab.output.renderOutput(dataTable, element);\n",
              "        const docLink = document.createElement('div');\n",
              "        docLink.innerHTML = docLinkHtml;\n",
              "        element.appendChild(docLink);\n",
              "      }\n",
              "    </script>\n",
              "  </div>\n",
              "\n",
              "\n",
              "<div id=\"df-b6beff5d-9f22-4958-a21a-8f9e4fbab14c\">\n",
              "  <button class=\"colab-df-quickchart\" onclick=\"quickchart('df-b6beff5d-9f22-4958-a21a-8f9e4fbab14c')\"\n",
              "            title=\"Suggest charts\"\n",
              "            style=\"display:none;\">\n",
              "\n",
              "<svg xmlns=\"http://www.w3.org/2000/svg\" height=\"24px\"viewBox=\"0 0 24 24\"\n",
              "     width=\"24px\">\n",
              "    <g>\n",
              "        <path d=\"M19 3H5c-1.1 0-2 .9-2 2v14c0 1.1.9 2 2 2h14c1.1 0 2-.9 2-2V5c0-1.1-.9-2-2-2zM9 17H7v-7h2v7zm4 0h-2V7h2v10zm4 0h-2v-4h2v4z\"/>\n",
              "    </g>\n",
              "</svg>\n",
              "  </button>\n",
              "\n",
              "<style>\n",
              "  .colab-df-quickchart {\n",
              "      --bg-color: #E8F0FE;\n",
              "      --fill-color: #1967D2;\n",
              "      --hover-bg-color: #E2EBFA;\n",
              "      --hover-fill-color: #174EA6;\n",
              "      --disabled-fill-color: #AAA;\n",
              "      --disabled-bg-color: #DDD;\n",
              "  }\n",
              "\n",
              "  [theme=dark] .colab-df-quickchart {\n",
              "      --bg-color: #3B4455;\n",
              "      --fill-color: #D2E3FC;\n",
              "      --hover-bg-color: #434B5C;\n",
              "      --hover-fill-color: #FFFFFF;\n",
              "      --disabled-bg-color: #3B4455;\n",
              "      --disabled-fill-color: #666;\n",
              "  }\n",
              "\n",
              "  .colab-df-quickchart {\n",
              "    background-color: var(--bg-color);\n",
              "    border: none;\n",
              "    border-radius: 50%;\n",
              "    cursor: pointer;\n",
              "    display: none;\n",
              "    fill: var(--fill-color);\n",
              "    height: 32px;\n",
              "    padding: 0;\n",
              "    width: 32px;\n",
              "  }\n",
              "\n",
              "  .colab-df-quickchart:hover {\n",
              "    background-color: var(--hover-bg-color);\n",
              "    box-shadow: 0 1px 2px rgba(60, 64, 67, 0.3), 0 1px 3px 1px rgba(60, 64, 67, 0.15);\n",
              "    fill: var(--button-hover-fill-color);\n",
              "  }\n",
              "\n",
              "  .colab-df-quickchart-complete:disabled,\n",
              "  .colab-df-quickchart-complete:disabled:hover {\n",
              "    background-color: var(--disabled-bg-color);\n",
              "    fill: var(--disabled-fill-color);\n",
              "    box-shadow: none;\n",
              "  }\n",
              "\n",
              "  .colab-df-spinner {\n",
              "    border: 2px solid var(--fill-color);\n",
              "    border-color: transparent;\n",
              "    border-bottom-color: var(--fill-color);\n",
              "    animation:\n",
              "      spin 1s steps(1) infinite;\n",
              "  }\n",
              "\n",
              "  @keyframes spin {\n",
              "    0% {\n",
              "      border-color: transparent;\n",
              "      border-bottom-color: var(--fill-color);\n",
              "      border-left-color: var(--fill-color);\n",
              "    }\n",
              "    20% {\n",
              "      border-color: transparent;\n",
              "      border-left-color: var(--fill-color);\n",
              "      border-top-color: var(--fill-color);\n",
              "    }\n",
              "    30% {\n",
              "      border-color: transparent;\n",
              "      border-left-color: var(--fill-color);\n",
              "      border-top-color: var(--fill-color);\n",
              "      border-right-color: var(--fill-color);\n",
              "    }\n",
              "    40% {\n",
              "      border-color: transparent;\n",
              "      border-right-color: var(--fill-color);\n",
              "      border-top-color: var(--fill-color);\n",
              "    }\n",
              "    60% {\n",
              "      border-color: transparent;\n",
              "      border-right-color: var(--fill-color);\n",
              "    }\n",
              "    80% {\n",
              "      border-color: transparent;\n",
              "      border-right-color: var(--fill-color);\n",
              "      border-bottom-color: var(--fill-color);\n",
              "    }\n",
              "    90% {\n",
              "      border-color: transparent;\n",
              "      border-bottom-color: var(--fill-color);\n",
              "    }\n",
              "  }\n",
              "</style>\n",
              "\n",
              "  <script>\n",
              "    async function quickchart(key) {\n",
              "      const quickchartButtonEl =\n",
              "        document.querySelector('#' + key + ' button');\n",
              "      quickchartButtonEl.disabled = true;  // To prevent multiple clicks.\n",
              "      quickchartButtonEl.classList.add('colab-df-spinner');\n",
              "      try {\n",
              "        const charts = await google.colab.kernel.invokeFunction(\n",
              "            'suggestCharts', [key], {});\n",
              "      } catch (error) {\n",
              "        console.error('Error during call to suggestCharts:', error);\n",
              "      }\n",
              "      quickchartButtonEl.classList.remove('colab-df-spinner');\n",
              "      quickchartButtonEl.classList.add('colab-df-quickchart-complete');\n",
              "    }\n",
              "    (() => {\n",
              "      let quickchartButtonEl =\n",
              "        document.querySelector('#df-b6beff5d-9f22-4958-a21a-8f9e4fbab14c button');\n",
              "      quickchartButtonEl.style.display =\n",
              "        google.colab.kernel.accessAllowed ? 'block' : 'none';\n",
              "    })();\n",
              "  </script>\n",
              "</div>\n",
              "\n",
              "    </div>\n",
              "  </div>\n"
            ],
            "application/vnd.google.colaboratory.intrinsic+json": {
              "type": "dataframe",
              "summary": "{\n  \"name\": \"1/df1\",\n  \"rows\": 10,\n  \"fields\": [\n    {\n      \"column\": \"A\",\n      \"properties\": {\n        \"dtype\": \"number\",\n        \"std\": 105.5983632052196,\n        \"min\": -335.91083119634266,\n        \"max\": 8.086977142209514,\n        \"num_unique_values\": 10,\n        \"samples\": [\n          -19.19711815305257,\n          8.086977142209514,\n          -0.5401191618269883\n        ],\n        \"semantic_type\": \"\",\n        \"description\": \"\"\n      }\n    },\n    {\n      \"column\": \"B\",\n      \"properties\": {\n        \"dtype\": \"number\",\n        \"std\": 4.118839294632838,\n        \"min\": -7.852669900035175,\n        \"max\": 5.869590826756346,\n        \"num_unique_values\": 10,\n        \"samples\": [\n          0.6281532596797312,\n          -0.9410635143800802,\n          3.3168764497537966\n        ],\n        \"semantic_type\": \"\",\n        \"description\": \"\"\n      }\n    },\n    {\n      \"column\": \"C\",\n      \"properties\": {\n        \"dtype\": \"number\",\n        \"std\": 10.832173669390546,\n        \"min\": -6.446692007489361,\n        \"max\": 33.11643236067423,\n        \"num_unique_values\": 10,\n        \"samples\": [\n          0.7943357119075575,\n          -0.680448674700511,\n          -1.5049837100279346\n        ],\n        \"semantic_type\": \"\",\n        \"description\": \"\"\n      }\n    },\n    {\n      \"column\": \"D\",\n      \"properties\": {\n        \"dtype\": \"number\",\n        \"std\": 4.688956722302677,\n        \"min\": -13.145018141288705,\n        \"max\": 2.574363729847383,\n        \"num_unique_values\": 10,\n        \"samples\": [\n          -13.145018141288705,\n          -1.2465424720117129,\n          -5.131438800472804\n        ],\n        \"semantic_type\": \"\",\n        \"description\": \"\"\n      }\n    }\n  ]\n}"
            }
          },
          "metadata": {},
          "execution_count": 148
        }
      ],
      "source": [
        "1/df1"
      ]
    },
    {
      "cell_type": "code",
      "execution_count": null,
      "metadata": {
        "id": "E2kKs3AWyOmI"
      },
      "outputs": [],
      "source": [
        "df1**5"
      ]
    },
    {
      "cell_type": "markdown",
      "metadata": {
        "id": "rEuTHoK_yOmI"
      },
      "source": [
        "- Boolean operators work as well:"
      ]
    },
    {
      "cell_type": "code",
      "execution_count": null,
      "metadata": {
        "id": "en_O5wR7yOmJ",
        "outputId": "723e02fb-a76d-4eed-d02f-2a774b56d562"
      },
      "outputs": [
        {
          "data": {
            "text/html": [
              "<div>\n",
              "<style scoped>\n",
              "    .dataframe tbody tr th:only-of-type {\n",
              "        vertical-align: middle;\n",
              "    }\n",
              "\n",
              "    .dataframe tbody tr th {\n",
              "        vertical-align: top;\n",
              "    }\n",
              "\n",
              "    .dataframe thead th {\n",
              "        text-align: right;\n",
              "    }\n",
              "</style>\n",
              "<table border=\"1\" class=\"dataframe\">\n",
              "  <thead>\n",
              "    <tr style=\"text-align: right;\">\n",
              "      <th></th>\n",
              "      <th>a</th>\n",
              "      <th>b</th>\n",
              "    </tr>\n",
              "  </thead>\n",
              "  <tbody>\n",
              "    <tr>\n",
              "      <th>0</th>\n",
              "      <td>True</td>\n",
              "      <td>False</td>\n",
              "    </tr>\n",
              "    <tr>\n",
              "      <th>1</th>\n",
              "      <td>False</td>\n",
              "      <td>True</td>\n",
              "    </tr>\n",
              "    <tr>\n",
              "      <th>2</th>\n",
              "      <td>True</td>\n",
              "      <td>True</td>\n",
              "    </tr>\n",
              "  </tbody>\n",
              "</table>\n",
              "</div>"
            ],
            "text/plain": [
              "       a      b\n",
              "0   True  False\n",
              "1  False   True\n",
              "2   True   True"
            ]
          },
          "execution_count": 50,
          "metadata": {},
          "output_type": "execute_result"
        }
      ],
      "source": [
        "df1 = pd.DataFrame({'a' : [1, 0, 1], 'b' : [0, 1, 1] }, dtype=bool) #dtype decided the type for the c\n",
        "df1"
      ]
    },
    {
      "cell_type": "code",
      "execution_count": null,
      "metadata": {
        "id": "IMPs8bQwyOmJ",
        "outputId": "73c59382-d61d-4769-e41f-7ee34dcf368d"
      },
      "outputs": [
        {
          "data": {
            "text/html": [
              "<div>\n",
              "<style scoped>\n",
              "    .dataframe tbody tr th:only-of-type {\n",
              "        vertical-align: middle;\n",
              "    }\n",
              "\n",
              "    .dataframe tbody tr th {\n",
              "        vertical-align: top;\n",
              "    }\n",
              "\n",
              "    .dataframe thead th {\n",
              "        text-align: right;\n",
              "    }\n",
              "</style>\n",
              "<table border=\"1\" class=\"dataframe\">\n",
              "  <thead>\n",
              "    <tr style=\"text-align: right;\">\n",
              "      <th></th>\n",
              "      <th>a</th>\n",
              "      <th>b</th>\n",
              "    </tr>\n",
              "  </thead>\n",
              "  <tbody>\n",
              "    <tr>\n",
              "      <th>0</th>\n",
              "      <td>False</td>\n",
              "      <td>True</td>\n",
              "    </tr>\n",
              "    <tr>\n",
              "      <th>1</th>\n",
              "      <td>True</td>\n",
              "      <td>True</td>\n",
              "    </tr>\n",
              "    <tr>\n",
              "      <th>2</th>\n",
              "      <td>True</td>\n",
              "      <td>False</td>\n",
              "    </tr>\n",
              "  </tbody>\n",
              "</table>\n",
              "</div>"
            ],
            "text/plain": [
              "       a      b\n",
              "0  False   True\n",
              "1   True   True\n",
              "2   True  False"
            ]
          },
          "execution_count": 51,
          "metadata": {},
          "output_type": "execute_result"
        }
      ],
      "source": [
        "df2 = pd.DataFrame({'a' : [0, 1, 1], 'b' : [1, 1, 0] }, dtype=bool)\n",
        "df2"
      ]
    },
    {
      "cell_type": "code",
      "execution_count": null,
      "metadata": {
        "id": "kx6CeG7LyOmJ",
        "outputId": "54b09edd-7bff-40ac-bdb0-67b28bce3472"
      },
      "outputs": [
        {
          "data": {
            "text/html": [
              "<div>\n",
              "<style scoped>\n",
              "    .dataframe tbody tr th:only-of-type {\n",
              "        vertical-align: middle;\n",
              "    }\n",
              "\n",
              "    .dataframe tbody tr th {\n",
              "        vertical-align: top;\n",
              "    }\n",
              "\n",
              "    .dataframe thead th {\n",
              "        text-align: right;\n",
              "    }\n",
              "</style>\n",
              "<table border=\"1\" class=\"dataframe\">\n",
              "  <thead>\n",
              "    <tr style=\"text-align: right;\">\n",
              "      <th></th>\n",
              "      <th>a</th>\n",
              "      <th>b</th>\n",
              "    </tr>\n",
              "  </thead>\n",
              "  <tbody>\n",
              "    <tr>\n",
              "      <th>0</th>\n",
              "      <td>False</td>\n",
              "      <td>False</td>\n",
              "    </tr>\n",
              "    <tr>\n",
              "      <th>1</th>\n",
              "      <td>False</td>\n",
              "      <td>True</td>\n",
              "    </tr>\n",
              "    <tr>\n",
              "      <th>2</th>\n",
              "      <td>True</td>\n",
              "      <td>False</td>\n",
              "    </tr>\n",
              "  </tbody>\n",
              "</table>\n",
              "</div>"
            ],
            "text/plain": [
              "       a      b\n",
              "0  False  False\n",
              "1  False   True\n",
              "2   True  False"
            ]
          },
          "execution_count": 52,
          "metadata": {},
          "output_type": "execute_result"
        }
      ],
      "source": [
        "df1&df2"
      ]
    },
    {
      "cell_type": "code",
      "execution_count": null,
      "metadata": {
        "id": "H4U31oCSyOmJ",
        "outputId": "c9578c09-0141-47f6-dd8d-1e1213eac388"
      },
      "outputs": [
        {
          "data": {
            "text/html": [
              "<div>\n",
              "<style scoped>\n",
              "    .dataframe tbody tr th:only-of-type {\n",
              "        vertical-align: middle;\n",
              "    }\n",
              "\n",
              "    .dataframe tbody tr th {\n",
              "        vertical-align: top;\n",
              "    }\n",
              "\n",
              "    .dataframe thead th {\n",
              "        text-align: right;\n",
              "    }\n",
              "</style>\n",
              "<table border=\"1\" class=\"dataframe\">\n",
              "  <thead>\n",
              "    <tr style=\"text-align: right;\">\n",
              "      <th></th>\n",
              "      <th>a</th>\n",
              "      <th>b</th>\n",
              "    </tr>\n",
              "  </thead>\n",
              "  <tbody>\n",
              "    <tr>\n",
              "      <th>0</th>\n",
              "      <td>True</td>\n",
              "      <td>True</td>\n",
              "    </tr>\n",
              "    <tr>\n",
              "      <th>1</th>\n",
              "      <td>True</td>\n",
              "      <td>True</td>\n",
              "    </tr>\n",
              "    <tr>\n",
              "      <th>2</th>\n",
              "      <td>True</td>\n",
              "      <td>True</td>\n",
              "    </tr>\n",
              "  </tbody>\n",
              "</table>\n",
              "</div>"
            ],
            "text/plain": [
              "      a     b\n",
              "0  True  True\n",
              "1  True  True\n",
              "2  True  True"
            ]
          },
          "execution_count": 53,
          "metadata": {},
          "output_type": "execute_result"
        }
      ],
      "source": [
        "df1 | df2 # or"
      ]
    },
    {
      "cell_type": "code",
      "execution_count": null,
      "metadata": {
        "id": "8pEhZA-byOmJ",
        "outputId": "39080d09-2543-4248-b564-9ca714a848ee"
      },
      "outputs": [
        {
          "data": {
            "text/html": [
              "<div>\n",
              "<style scoped>\n",
              "    .dataframe tbody tr th:only-of-type {\n",
              "        vertical-align: middle;\n",
              "    }\n",
              "\n",
              "    .dataframe tbody tr th {\n",
              "        vertical-align: top;\n",
              "    }\n",
              "\n",
              "    .dataframe thead th {\n",
              "        text-align: right;\n",
              "    }\n",
              "</style>\n",
              "<table border=\"1\" class=\"dataframe\">\n",
              "  <thead>\n",
              "    <tr style=\"text-align: right;\">\n",
              "      <th></th>\n",
              "      <th>a</th>\n",
              "      <th>b</th>\n",
              "    </tr>\n",
              "  </thead>\n",
              "  <tbody>\n",
              "    <tr>\n",
              "      <th>0</th>\n",
              "      <td>True</td>\n",
              "      <td>True</td>\n",
              "    </tr>\n",
              "    <tr>\n",
              "      <th>1</th>\n",
              "      <td>True</td>\n",
              "      <td>False</td>\n",
              "    </tr>\n",
              "    <tr>\n",
              "      <th>2</th>\n",
              "      <td>False</td>\n",
              "      <td>True</td>\n",
              "    </tr>\n",
              "  </tbody>\n",
              "</table>\n",
              "</div>"
            ],
            "text/plain": [
              "       a      b\n",
              "0   True   True\n",
              "1   True  False\n",
              "2  False   True"
            ]
          },
          "execution_count": 54,
          "metadata": {},
          "output_type": "execute_result"
        }
      ],
      "source": [
        "df1^df2 # if =="
      ]
    },
    {
      "cell_type": "code",
      "execution_count": null,
      "metadata": {
        "id": "Bx-strBXyOmK",
        "outputId": "d2ddf5f8-7091-4abf-8c19-202977559cf7"
      },
      "outputs": [
        {
          "data": {
            "text/html": [
              "<div>\n",
              "<style scoped>\n",
              "    .dataframe tbody tr th:only-of-type {\n",
              "        vertical-align: middle;\n",
              "    }\n",
              "\n",
              "    .dataframe tbody tr th {\n",
              "        vertical-align: top;\n",
              "    }\n",
              "\n",
              "    .dataframe thead th {\n",
              "        text-align: right;\n",
              "    }\n",
              "</style>\n",
              "<table border=\"1\" class=\"dataframe\">\n",
              "  <thead>\n",
              "    <tr style=\"text-align: right;\">\n",
              "      <th></th>\n",
              "      <th>a</th>\n",
              "      <th>b</th>\n",
              "    </tr>\n",
              "  </thead>\n",
              "  <tbody>\n",
              "    <tr>\n",
              "      <th>0</th>\n",
              "      <td>False</td>\n",
              "      <td>True</td>\n",
              "    </tr>\n",
              "    <tr>\n",
              "      <th>1</th>\n",
              "      <td>True</td>\n",
              "      <td>False</td>\n",
              "    </tr>\n",
              "    <tr>\n",
              "      <th>2</th>\n",
              "      <td>False</td>\n",
              "      <td>False</td>\n",
              "    </tr>\n",
              "  </tbody>\n",
              "</table>\n",
              "</div>"
            ],
            "text/plain": [
              "       a      b\n",
              "0  False   True\n",
              "1   True  False\n",
              "2  False  False"
            ]
          },
          "execution_count": 55,
          "metadata": {},
          "output_type": "execute_result"
        }
      ],
      "source": [
        "-df1"
      ]
    },
    {
      "cell_type": "markdown",
      "metadata": {
        "id": "btLO3wScyOmK"
      },
      "source": [
        "## 11.9 transposing"
      ]
    },
    {
      "cell_type": "markdown",
      "metadata": {
        "id": "z_d58lm0yOmK"
      },
      "source": [
        "- To transpose, access the T attribute (also the transpose function), similar to an ndarray:"
      ]
    },
    {
      "cell_type": "code",
      "execution_count": 149,
      "metadata": {
        "id": "JvDT_HYNyOmK",
        "outputId": "85cc512c-5718-490b-f751-50b25600265a",
        "colab": {
          "base_uri": "https://localhost:8080/",
          "height": 143
        }
      },
      "outputs": [
        {
          "output_type": "execute_result",
          "data": {
            "text/plain": [
              "   2024-09-14  2024-09-15  2024-09-16  2024-09-17\n",
              "A   -1.223155   -0.510234   -0.086071   -0.143070\n",
              "B   -0.606353   -0.124415   -1.482434    0.123932\n",
              "C    0.635369   -0.988832   -0.727254    1.369915"
            ],
            "text/html": [
              "\n",
              "  <div id=\"df-5e38d6ee-46c6-4aa9-b0e0-d533ff0b3f45\" class=\"colab-df-container\">\n",
              "    <div>\n",
              "<style scoped>\n",
              "    .dataframe tbody tr th:only-of-type {\n",
              "        vertical-align: middle;\n",
              "    }\n",
              "\n",
              "    .dataframe tbody tr th {\n",
              "        vertical-align: top;\n",
              "    }\n",
              "\n",
              "    .dataframe thead th {\n",
              "        text-align: right;\n",
              "    }\n",
              "</style>\n",
              "<table border=\"1\" class=\"dataframe\">\n",
              "  <thead>\n",
              "    <tr style=\"text-align: right;\">\n",
              "      <th></th>\n",
              "      <th>2024-09-14</th>\n",
              "      <th>2024-09-15</th>\n",
              "      <th>2024-09-16</th>\n",
              "      <th>2024-09-17</th>\n",
              "    </tr>\n",
              "  </thead>\n",
              "  <tbody>\n",
              "    <tr>\n",
              "      <th>A</th>\n",
              "      <td>-1.223155</td>\n",
              "      <td>-0.510234</td>\n",
              "      <td>-0.086071</td>\n",
              "      <td>-0.143070</td>\n",
              "    </tr>\n",
              "    <tr>\n",
              "      <th>B</th>\n",
              "      <td>-0.606353</td>\n",
              "      <td>-0.124415</td>\n",
              "      <td>-1.482434</td>\n",
              "      <td>0.123932</td>\n",
              "    </tr>\n",
              "    <tr>\n",
              "      <th>C</th>\n",
              "      <td>0.635369</td>\n",
              "      <td>-0.988832</td>\n",
              "      <td>-0.727254</td>\n",
              "      <td>1.369915</td>\n",
              "    </tr>\n",
              "  </tbody>\n",
              "</table>\n",
              "</div>\n",
              "    <div class=\"colab-df-buttons\">\n",
              "\n",
              "  <div class=\"colab-df-container\">\n",
              "    <button class=\"colab-df-convert\" onclick=\"convertToInteractive('df-5e38d6ee-46c6-4aa9-b0e0-d533ff0b3f45')\"\n",
              "            title=\"Convert this dataframe to an interactive table.\"\n",
              "            style=\"display:none;\">\n",
              "\n",
              "  <svg xmlns=\"http://www.w3.org/2000/svg\" height=\"24px\" viewBox=\"0 -960 960 960\">\n",
              "    <path d=\"M120-120v-720h720v720H120Zm60-500h600v-160H180v160Zm220 220h160v-160H400v160Zm0 220h160v-160H400v160ZM180-400h160v-160H180v160Zm440 0h160v-160H620v160ZM180-180h160v-160H180v160Zm440 0h160v-160H620v160Z\"/>\n",
              "  </svg>\n",
              "    </button>\n",
              "\n",
              "  <style>\n",
              "    .colab-df-container {\n",
              "      display:flex;\n",
              "      gap: 12px;\n",
              "    }\n",
              "\n",
              "    .colab-df-convert {\n",
              "      background-color: #E8F0FE;\n",
              "      border: none;\n",
              "      border-radius: 50%;\n",
              "      cursor: pointer;\n",
              "      display: none;\n",
              "      fill: #1967D2;\n",
              "      height: 32px;\n",
              "      padding: 0 0 0 0;\n",
              "      width: 32px;\n",
              "    }\n",
              "\n",
              "    .colab-df-convert:hover {\n",
              "      background-color: #E2EBFA;\n",
              "      box-shadow: 0px 1px 2px rgba(60, 64, 67, 0.3), 0px 1px 3px 1px rgba(60, 64, 67, 0.15);\n",
              "      fill: #174EA6;\n",
              "    }\n",
              "\n",
              "    .colab-df-buttons div {\n",
              "      margin-bottom: 4px;\n",
              "    }\n",
              "\n",
              "    [theme=dark] .colab-df-convert {\n",
              "      background-color: #3B4455;\n",
              "      fill: #D2E3FC;\n",
              "    }\n",
              "\n",
              "    [theme=dark] .colab-df-convert:hover {\n",
              "      background-color: #434B5C;\n",
              "      box-shadow: 0px 1px 3px 1px rgba(0, 0, 0, 0.15);\n",
              "      filter: drop-shadow(0px 1px 2px rgba(0, 0, 0, 0.3));\n",
              "      fill: #FFFFFF;\n",
              "    }\n",
              "  </style>\n",
              "\n",
              "    <script>\n",
              "      const buttonEl =\n",
              "        document.querySelector('#df-5e38d6ee-46c6-4aa9-b0e0-d533ff0b3f45 button.colab-df-convert');\n",
              "      buttonEl.style.display =\n",
              "        google.colab.kernel.accessAllowed ? 'block' : 'none';\n",
              "\n",
              "      async function convertToInteractive(key) {\n",
              "        const element = document.querySelector('#df-5e38d6ee-46c6-4aa9-b0e0-d533ff0b3f45');\n",
              "        const dataTable =\n",
              "          await google.colab.kernel.invokeFunction('convertToInteractive',\n",
              "                                                    [key], {});\n",
              "        if (!dataTable) return;\n",
              "\n",
              "        const docLinkHtml = 'Like what you see? Visit the ' +\n",
              "          '<a target=\"_blank\" href=https://colab.research.google.com/notebooks/data_table.ipynb>data table notebook</a>'\n",
              "          + ' to learn more about interactive tables.';\n",
              "        element.innerHTML = '';\n",
              "        dataTable['output_type'] = 'display_data';\n",
              "        await google.colab.output.renderOutput(dataTable, element);\n",
              "        const docLink = document.createElement('div');\n",
              "        docLink.innerHTML = docLinkHtml;\n",
              "        element.appendChild(docLink);\n",
              "      }\n",
              "    </script>\n",
              "  </div>\n",
              "\n",
              "\n",
              "<div id=\"df-c8051e08-b215-49f6-be68-10ffa29bfe89\">\n",
              "  <button class=\"colab-df-quickchart\" onclick=\"quickchart('df-c8051e08-b215-49f6-be68-10ffa29bfe89')\"\n",
              "            title=\"Suggest charts\"\n",
              "            style=\"display:none;\">\n",
              "\n",
              "<svg xmlns=\"http://www.w3.org/2000/svg\" height=\"24px\"viewBox=\"0 0 24 24\"\n",
              "     width=\"24px\">\n",
              "    <g>\n",
              "        <path d=\"M19 3H5c-1.1 0-2 .9-2 2v14c0 1.1.9 2 2 2h14c1.1 0 2-.9 2-2V5c0-1.1-.9-2-2-2zM9 17H7v-7h2v7zm4 0h-2V7h2v10zm4 0h-2v-4h2v4z\"/>\n",
              "    </g>\n",
              "</svg>\n",
              "  </button>\n",
              "\n",
              "<style>\n",
              "  .colab-df-quickchart {\n",
              "      --bg-color: #E8F0FE;\n",
              "      --fill-color: #1967D2;\n",
              "      --hover-bg-color: #E2EBFA;\n",
              "      --hover-fill-color: #174EA6;\n",
              "      --disabled-fill-color: #AAA;\n",
              "      --disabled-bg-color: #DDD;\n",
              "  }\n",
              "\n",
              "  [theme=dark] .colab-df-quickchart {\n",
              "      --bg-color: #3B4455;\n",
              "      --fill-color: #D2E3FC;\n",
              "      --hover-bg-color: #434B5C;\n",
              "      --hover-fill-color: #FFFFFF;\n",
              "      --disabled-bg-color: #3B4455;\n",
              "      --disabled-fill-color: #666;\n",
              "  }\n",
              "\n",
              "  .colab-df-quickchart {\n",
              "    background-color: var(--bg-color);\n",
              "    border: none;\n",
              "    border-radius: 50%;\n",
              "    cursor: pointer;\n",
              "    display: none;\n",
              "    fill: var(--fill-color);\n",
              "    height: 32px;\n",
              "    padding: 0;\n",
              "    width: 32px;\n",
              "  }\n",
              "\n",
              "  .colab-df-quickchart:hover {\n",
              "    background-color: var(--hover-bg-color);\n",
              "    box-shadow: 0 1px 2px rgba(60, 64, 67, 0.3), 0 1px 3px 1px rgba(60, 64, 67, 0.15);\n",
              "    fill: var(--button-hover-fill-color);\n",
              "  }\n",
              "\n",
              "  .colab-df-quickchart-complete:disabled,\n",
              "  .colab-df-quickchart-complete:disabled:hover {\n",
              "    background-color: var(--disabled-bg-color);\n",
              "    fill: var(--disabled-fill-color);\n",
              "    box-shadow: none;\n",
              "  }\n",
              "\n",
              "  .colab-df-spinner {\n",
              "    border: 2px solid var(--fill-color);\n",
              "    border-color: transparent;\n",
              "    border-bottom-color: var(--fill-color);\n",
              "    animation:\n",
              "      spin 1s steps(1) infinite;\n",
              "  }\n",
              "\n",
              "  @keyframes spin {\n",
              "    0% {\n",
              "      border-color: transparent;\n",
              "      border-bottom-color: var(--fill-color);\n",
              "      border-left-color: var(--fill-color);\n",
              "    }\n",
              "    20% {\n",
              "      border-color: transparent;\n",
              "      border-left-color: var(--fill-color);\n",
              "      border-top-color: var(--fill-color);\n",
              "    }\n",
              "    30% {\n",
              "      border-color: transparent;\n",
              "      border-left-color: var(--fill-color);\n",
              "      border-top-color: var(--fill-color);\n",
              "      border-right-color: var(--fill-color);\n",
              "    }\n",
              "    40% {\n",
              "      border-color: transparent;\n",
              "      border-right-color: var(--fill-color);\n",
              "      border-top-color: var(--fill-color);\n",
              "    }\n",
              "    60% {\n",
              "      border-color: transparent;\n",
              "      border-right-color: var(--fill-color);\n",
              "    }\n",
              "    80% {\n",
              "      border-color: transparent;\n",
              "      border-right-color: var(--fill-color);\n",
              "      border-bottom-color: var(--fill-color);\n",
              "    }\n",
              "    90% {\n",
              "      border-color: transparent;\n",
              "      border-bottom-color: var(--fill-color);\n",
              "    }\n",
              "  }\n",
              "</style>\n",
              "\n",
              "  <script>\n",
              "    async function quickchart(key) {\n",
              "      const quickchartButtonEl =\n",
              "        document.querySelector('#' + key + ' button');\n",
              "      quickchartButtonEl.disabled = true;  // To prevent multiple clicks.\n",
              "      quickchartButtonEl.classList.add('colab-df-spinner');\n",
              "      try {\n",
              "        const charts = await google.colab.kernel.invokeFunction(\n",
              "            'suggestCharts', [key], {});\n",
              "      } catch (error) {\n",
              "        console.error('Error during call to suggestCharts:', error);\n",
              "      }\n",
              "      quickchartButtonEl.classList.remove('colab-df-spinner');\n",
              "      quickchartButtonEl.classList.add('colab-df-quickchart-complete');\n",
              "    }\n",
              "    (() => {\n",
              "      let quickchartButtonEl =\n",
              "        document.querySelector('#df-c8051e08-b215-49f6-be68-10ffa29bfe89 button');\n",
              "      quickchartButtonEl.style.display =\n",
              "        google.colab.kernel.accessAllowed ? 'block' : 'none';\n",
              "    })();\n",
              "  </script>\n",
              "</div>\n",
              "\n",
              "    </div>\n",
              "  </div>\n"
            ],
            "application/vnd.google.colaboratory.intrinsic+json": {
              "type": "dataframe",
              "summary": "{\n  \"name\": \"df[:4]\",\n  \"rows\": 3,\n  \"fields\": [\n    {\n      \"column\": \"2024-09-14 00:00:00\",\n      \"properties\": {\n        \"dtype\": \"number\",\n        \"std\": 0.9466106805775374,\n        \"min\": -1.2231553070520913,\n        \"max\": 0.635368860540096,\n        \"num_unique_values\": 3,\n        \"samples\": [\n          -1.2231553070520913,\n          -0.6063532696735052,\n          0.635368860540096\n        ],\n        \"semantic_type\": \"\",\n        \"description\": \"\"\n      }\n    },\n    {\n      \"column\": \"2024-09-15 00:00:00\",\n      \"properties\": {\n        \"dtype\": \"number\",\n        \"std\": 0.43303767110306446,\n        \"min\": -0.9888324888305456,\n        \"max\": -0.12441522872598164,\n        \"num_unique_values\": 3,\n        \"samples\": [\n          -0.5102344838300443,\n          -0.12441522872598164,\n          -0.9888324888305456\n        ],\n        \"semantic_type\": \"\",\n        \"description\": \"\"\n      }\n    },\n    {\n      \"column\": \"2024-09-16 00:00:00\",\n      \"properties\": {\n        \"dtype\": \"number\",\n        \"std\": 0.6989565639991948,\n        \"min\": -1.4824342068856529,\n        \"max\": -0.08607131401761343,\n        \"num_unique_values\": 3,\n        \"samples\": [\n          -0.08607131401761343,\n          -1.4824342068856529,\n          -0.7272541759202462\n        ],\n        \"semantic_type\": \"\",\n        \"description\": \"\"\n      }\n    },\n    {\n      \"column\": \"2024-09-17 00:00:00\",\n      \"properties\": {\n        \"dtype\": \"number\",\n        \"std\": 0.8075568390576029,\n        \"min\": -0.1430699672306798,\n        \"max\": 1.369915374793826,\n        \"num_unique_values\": 3,\n        \"samples\": [\n          -0.1430699672306798,\n          0.12393249852679619,\n          1.369915374793826\n        ],\n        \"semantic_type\": \"\",\n        \"description\": \"\"\n      }\n    }\n  ]\n}"
            }
          },
          "metadata": {},
          "execution_count": 149
        }
      ],
      "source": [
        "# only show the first 4 rows\n",
        "df[:4].T #switch row and col"
      ]
    }
  ],
  "metadata": {
    "kernelspec": {
      "display_name": "Python 3",
      "language": "python",
      "name": "python3"
    },
    "language_info": {
      "codemirror_mode": {
        "name": "ipython",
        "version": 3
      },
      "file_extension": ".py",
      "mimetype": "text/x-python",
      "name": "python",
      "nbconvert_exporter": "python",
      "pygments_lexer": "ipython3",
      "version": "3.8.3"
    },
    "colab": {
      "provenance": [],
      "include_colab_link": true
    }
  },
  "nbformat": 4,
  "nbformat_minor": 0
}